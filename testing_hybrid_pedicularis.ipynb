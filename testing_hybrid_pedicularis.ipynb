{
 "cells": [
  {
   "cell_type": "markdown",
   "metadata": {},
   "source": [
    "## Imports"
   ]
  },
  {
   "cell_type": "code",
   "execution_count": 2,
   "metadata": {
    "collapsed": true
   },
   "outputs": [],
   "source": [
    "import h5py\n",
    "import math\n",
    "import numpy as np\n",
    "from operator import itemgetter\n",
    "import scipy.stats as st\n",
    "from itertools import compress\n",
    "import re\n",
    "import random\n",
    "import itertools\n",
    "import sys"
   ]
  },
  {
   "cell_type": "markdown",
   "metadata": {},
   "source": [
    "## Functions"
   ]
  },
  {
   "cell_type": "code",
   "execution_count": 1,
   "metadata": {
    "collapsed": true
   },
   "outputs": [],
   "source": [
    "def calcHils(invmat, Nreq = 10, returnf = False, returnp = False, returnall = False,returnnum = False):\n",
    "    comb_dict = dict(zip([00,01,02,03,10,11,12,13,20,21,22,23,30,31,32,33], [0,  1,  2,  3,  4,  5,  6,  7,  8,  9,  10, 11, 12, 13, 14, 15]))\n",
    "    num_iijj = (invmat[comb_dict[00],comb_dict[11]] + invmat[comb_dict[00],comb_dict[22]] +\n",
    "        invmat[comb_dict[00],comb_dict[33]] + invmat[comb_dict[11],comb_dict[00]] + invmat[comb_dict[11],comb_dict[22]] +\n",
    "        invmat[comb_dict[11],comb_dict[33]] + invmat[comb_dict[22],comb_dict[00]] + invmat[comb_dict[22],comb_dict[11]] +\n",
    "        invmat[comb_dict[22],comb_dict[33]] + invmat[comb_dict[33],comb_dict[00]] + invmat[comb_dict[33],comb_dict[11]] +\n",
    "        invmat[comb_dict[33],comb_dict[22]])\n",
    "\n",
    "    num_ijji = (invmat[comb_dict[01],comb_dict[10]] + invmat[comb_dict[02],comb_dict[20]] +\n",
    "        invmat[comb_dict[03],comb_dict[30]] + invmat[comb_dict[10],comb_dict[01]] + invmat[comb_dict[12],comb_dict[21]] +\n",
    "        invmat[comb_dict[13],comb_dict[31]] + invmat[comb_dict[20],comb_dict[02]] + invmat[comb_dict[21],comb_dict[12]] +\n",
    "        invmat[comb_dict[23],comb_dict[32]] + invmat[comb_dict[30],comb_dict[03]] + invmat[comb_dict[31],comb_dict[13]] +\n",
    "        invmat[comb_dict[32],comb_dict[23]])\n",
    "\n",
    "    num_ijij = (invmat[comb_dict[01],comb_dict[01]] + invmat[comb_dict[02],comb_dict[02]] +\n",
    "        invmat[comb_dict[03],comb_dict[03]] + invmat[comb_dict[10],comb_dict[10]] + invmat[comb_dict[12],comb_dict[12]] +\n",
    "        invmat[comb_dict[13],comb_dict[13]] + invmat[comb_dict[20],comb_dict[20]] + invmat[comb_dict[21],comb_dict[21]] +\n",
    "        invmat[comb_dict[23],comb_dict[23]] + invmat[comb_dict[30],comb_dict[30]] + invmat[comb_dict[31],comb_dict[31]] +\n",
    "        invmat[comb_dict[32],comb_dict[32]])\n",
    "    [num_iijj,num_ijji,num_ijij]\n",
    "    if (num_ijij == 0 and num_ijji == 0):\n",
    "        return(\"No ijij or ijji are present in data (not enough data)\")\n",
    "    N = sum(map(sum, invmat))\n",
    "    if (N <= Nreq):\n",
    "        return(\"Not enough snps.\")\n",
    "    # calculate probability, add .05 to counts in case some of them are 0\n",
    "    p_iijj = (num_iijj + .05)/N\n",
    "    p_ijji = (num_ijji + .05)/N\n",
    "    p_ijij = (num_ijij + .05)/N\n",
    "    \n",
    "    if (p_ijij > max([p_iijj,p_ijji])):\n",
    "        return(\"Parental taxa are more closely related than hybrid. Discard this.\")\n",
    "    \n",
    "    f1 = p_iijj - p_ijij\n",
    "    f2 = p_ijji - p_ijij\n",
    "    if not(f2):\n",
    "        p_ijji = (num_ijji + 1 + .05)/N\n",
    "        f2 = p_ijji - p_ijij\n",
    "    rat_f1_f2 = f1/f2\n",
    "\n",
    "    var_f1 = (1./N) * ( p_iijj*(1-p_iijj) + p_ijij*(1-p_ijij) + 2*p_iijj*p_ijij )\n",
    "    var_f2 = (1./N) * ( p_ijji*(1-p_ijji) + p_ijij*(1-p_ijij) + 2*p_ijji*p_ijij )\n",
    "\n",
    "    cov_f1_f2 = (1./N) * ( -p_iijj*p_ijji + p_iijj*p_ijij + p_ijji*p_ijij + p_ijij*(1-p_ijij))\n",
    "\n",
    "    H = abs(f2 * rat_f1_f2) / math.sqrt( var_f2*(rat_f1_f2**2) - 2*cov_f1_f2*rat_f1_f2 + var_f1 )\n",
    "    if returnf:\n",
    "        return [H, f1, f2];\n",
    "    if returnp:\n",
    "        return [H, p_iijj,p_ijji,p_ijij];\n",
    "    if returnall:\n",
    "        return [H, f1, f2, p_iijj,p_ijji,p_ijij];\n",
    "    if returnnum:\n",
    "        return [num_iijj,num_ijji,num_ijij];\n",
    "    if(num_ijij-num_ijji == 0):\n",
    "        return('*'+str(H))\n",
    "    else:\n",
    "        return str(H);\n",
    "def calcp(z):\n",
    "    p = st.norm.sf(abs(z))*2\n",
    "    return p;\n",
    "def isfloat(value):\n",
    "  try:\n",
    "    float(value)\n",
    "    return True\n",
    "  except ValueError:\n",
    "    return False"
   ]
  },
  {
   "cell_type": "markdown",
   "metadata": {},
   "source": [
    "# Read in snp data"
   ]
  },
  {
   "cell_type": "code",
   "execution_count": 3,
   "metadata": {
    "collapsed": true
   },
   "outputs": [],
   "source": [
    "fname = \"analysis-ipyrad/min4_outfiles/min4.snps.phy\"\n",
    "with open(fname) as f:\n",
    "    snps = f.readlines()\n",
    "# remove whitespace characters like `\\n` at the end of each line\n",
    "snps = [x.strip() for x in snps] \n",
    "snps.pop(0)\n",
    "\n",
    "#read in map\n",
    "fname = \"analysis-ipyrad/min4_outfiles/min4.snps.map\"\n",
    "with open(fname) as f:\n",
    "    snpmap = f.readlines()\n",
    "# remove whitespace characters like `\\n` at the end of each line\n",
    "snpmap = [x.strip() for x in snpmap] \n",
    "snpmap = [i.split('\\t') for i in snpmap]\n",
    "snpmap = np.array(snpmap)\n",
    "# get rid of inner column, convert to int\n",
    "reducedmap = snpmap[:,[0,2,3]].astype(int)\n",
    "\n",
    "# save names by themselves and make list of corresponding integers\n",
    "names = [snps[i][0:27].replace(\" \", \"\") for i in range(len(snps))]\n",
    "namevals = range(len(names))\n",
    "#namealias = dict(zip(namevals, names))\n",
    "\n",
    "# make snp seq object without names\n",
    "full_snp_seqs = [snps[i][27:] for i in range(len(snps))]"
   ]
  },
  {
   "cell_type": "code",
   "execution_count": 150,
   "metadata": {},
   "outputs": [
    {
     "data": {
      "text/plain": [
       "'38362_rex'"
      ]
     },
     "execution_count": 150,
     "metadata": {},
     "output_type": "execute_result"
    }
   ],
   "source": [
    "names[8]"
   ]
  },
  {
   "cell_type": "code",
   "execution_count": 169,
   "metadata": {},
   "outputs": [
    {
     "name": "stdout",
     "output_type": "stream",
     "text": [
      "0\n",
      "0\n",
      "0\n",
      "0\n"
     ]
    }
   ],
   "source": [
    "tested4 = [3,1,4,6]\n",
    "results = []\n",
    "theouts = [[0,1,2,3],[1,0,2,3],[2,0,1,3],[3,0,1,2]]\n",
    "\n",
    "for z in range(4):\n",
    "    #outgroup = tested4[z]\n",
    "    allcombns = [x for q,x in enumerate(tested4) if q != z]\n",
    "    for loop in [0]:\n",
    "        currentcombn = allcombns\n",
    "        current_outgroup = theouts[z]\n",
    "        currentarr = [tested4[i] for i in current_outgroup]\n",
    "        outgroup = currentarr[0]\n",
    "        tempobj = [full_snp_seqs[theseq] for theseq in currentarr]\n",
    "        possible_configs = [[0,1,2,3],[0,2,1,3],[0,1,3,2]]\n",
    "        ind_samples = []\n",
    "        for p in range(int(snpmap[:,0][-1])):\n",
    "            index = p+1\n",
    "            which_bases = reducedmap[(reducedmap[:,0] == index),2]\n",
    "            snps_at_locus = [tempobj[i][(which_bases[0]-1):which_bases[-1]] for i in range(len(tempobj))]\n",
    "            sample_indices = []\n",
    "            for i in range(len(snps_at_locus[0])):\n",
    "                if ((len(set([snps_at_locus[q][i] for q in range(len(snps_at_locus))]).intersection(['A','G','C','T'])) > 1) & (sum([[snps_at_locus[q][i] for q in range(len(snps_at_locus))][k] in ['A','G','C','T'] for k in range(4)]) == 4)):\n",
    "                    sample_indices.append(i)\n",
    "            if (len(sample_indices) > 0):\n",
    "                randombase = int(np.random.choice(sample_indices,1))\n",
    "                selectedbases = [snps_at_locus[i][randombase] for i in range(len(snps_at_locus))]\n",
    "                ind_samples.append(selectedbases)\n",
    "\n",
    "        snps = np.array(ind_samples)\n",
    "        possible_configs = [[0,1,2,3],[0,2,1,3],[0,1,3,2]]\n",
    "        snps = np.where(snps=='A',0,snps)\n",
    "        snps = np.where(snps=='C',1,snps)\n",
    "        snps = np.where(snps=='G',2,snps)\n",
    "        snps = np.where(snps=='T',3,snps)\n",
    "        snps = snps.astype(int)\n",
    "        finalsnps = snps\n",
    "\n",
    "        # make index matrix for each pair of bases. This assigns row / col number for full 16x16 matrix\n",
    "        indexmat = np.array(range(16))\n",
    "        indexmat.shape=(4,4)\n",
    "\n",
    "                # make 16x16 matrix of zeroes\n",
    "                # order across matrix is 00,01,02,03,10,11,12,13,20,21,22,23,30,31,32,33\n",
    "                # not good use of space\n",
    "        fullmat0123 = np.zeros(shape=(16,16))\n",
    "        arr0123 = finalsnps[:,possible_configs[0]]\n",
    "        for i in range(len(arr0123)):\n",
    "                    # get row number \n",
    "            rownum = int(indexmat[arr0123[i][0:2][0],arr0123[i][0:2][1]])\n",
    "                    # get col number\n",
    "            colnum = int(indexmat[arr0123[i][2:4][0],arr0123[i][2:4][1]])\n",
    "            fullmat0123[rownum,colnum] = fullmat0123[rownum,colnum] + 1\n",
    "\n",
    "        fullmat0213 = np.zeros(shape=(16,16))\n",
    "        arr0213 = finalsnps[:,possible_configs[1]]\n",
    "        for i in range(len(arr0213)):\n",
    "                    # get row number \n",
    "            rownum = int(indexmat[arr0213[i][0:2][0],arr0213[i][0:2][1]])\n",
    "                    # get col number\n",
    "            colnum = int(indexmat[arr0213[i][2:4][0],arr0213[i][2:4][1]])\n",
    "            fullmat0213[rownum,colnum] = fullmat0213[rownum,colnum] + 1\n",
    "\n",
    "        fullmat0132 = np.zeros(shape=(16,16))\n",
    "        arr0132 = finalsnps[:,possible_configs[2]]\n",
    "        for i in range(len(arr0132)):\n",
    "                    # get row number \n",
    "            rownum = int(indexmat[arr0132[i][0:2][0],arr0132[i][0:2][1]])\n",
    "                    # get col number\n",
    "            colnum = int(indexmat[arr0132[i][2:4][0],arr0132[i][2:4][1]])\n",
    "            fullmat0132[rownum,colnum] = fullmat0132[rownum,colnum] + 1\n",
    "\n",
    "        allhils = [calcHils(fullmat0123),calcHils(fullmat0213),calcHils(fullmat0132)]\n",
    "        fil = [isfloat(element.replace('*','')) for element in allhils]\n",
    "        hilsnumeric = list(compress(allhils,fil))\n",
    "        #results.append(allhils)\n",
    "        if (len(hilsnumeric) > 0):\n",
    "            printed_results = max(hilsnumeric)\n",
    "        else:\n",
    "            printed_results = (\"No answer\")\n",
    "        the_config = list(compress(possible_configs,[allhils[w] == printed_results for w in range(len(allhils))]))\n",
    "        if isfloat(printed_results):\n",
    "            results.append('Outgroup: '+str(outgroup)+' Hybrid: '+ str(currentcombn[the_config[0][2]-1])+ ' Parents: '+str(currentcombn[the_config[0][1]-1])+' '+str(currentcombn[the_config[0][3]-1])+ ' Hils: '+str(printed_results)+' Pvalue: '+ str(calcp(float(printed_results))))\n",
    "        else:\n",
    "            results.append('Outgroup: '+str(outgroup)+' Hybrid: '+ str(currentcombn[the_config[0][2]-1])+ ' Parents: '+str(currentcombn[the_config[0][1]-1])+' '+str(currentcombn[the_config[0][3]-1])+ ' Hils: '+str(printed_results)+' Pvalue: *'+ str(calcp(float(printed_results.replace('*','')))))\n",
    "        print(loop)\n"
   ]
  },
  {
   "cell_type": "code",
   "execution_count": 170,
   "metadata": {},
   "outputs": [
    {
     "data": {
      "text/plain": [
       "['Outgroup: 3 Hybrid: 1 Parents: 4 6 Hils: 3.82204918974 Pvalue: 0.000132347280582',\n",
       " 'Outgroup: 1 Hybrid: 3 Parents: 4 6 Hils: 3.26605115988 Pvalue: 0.00109058544413',\n",
       " 'Outgroup: 4 Hybrid: 6 Parents: 3 1 Hils: 4.00274534336 Pvalue: 6.26116846757e-05',\n",
       " 'Outgroup: 6 Hybrid: 4 Parents: 3 1 Hils: 2.97675288547 Pvalue: 0.00291318716204']"
      ]
     },
     "execution_count": 170,
     "metadata": {},
     "output_type": "execute_result"
    }
   ],
   "source": [
    "results"
   ]
  },
  {
   "cell_type": "code",
   "execution_count": 168,
   "metadata": {},
   "outputs": [
    {
     "data": {
      "text/plain": [
       "['Outgroup: 3 Hybrid: 1 Parents: 4 6 Hils: 3.27983995851 Pvalue: 0.00103865988604',\n",
       " 'Outgroup: 1 Hybrid: 3 Parents: 4 6 Hils: 2.98059614159 Pvalue: 0.00287687917311',\n",
       " 'Outgroup: 4 Hybrid: 6 Parents: 3 1 Hils: 4.21111656955 Pvalue: 2.54111571583e-05',\n",
       " 'Outgroup: 6 Hybrid: 4 Parents: 3 1 Hils: 3.69646288074 Pvalue: 0.000218624207353']"
      ]
     },
     "execution_count": 168,
     "metadata": {},
     "output_type": "execute_result"
    }
   ],
   "source": [
    "results"
   ]
  },
  {
   "cell_type": "code",
   "execution_count": 166,
   "metadata": {},
   "outputs": [
    {
     "data": {
      "text/plain": [
       "['Outgroup: 3 Hybrid: 1 Parents: 4 6 Hils: 3.8068659738 Pvalue: 0.000140738965773',\n",
       " 'Outgroup: 1 Hybrid: 3 Parents: 4 6 Hils: 3.97153271904 Pvalue: 7.14116902682e-05',\n",
       " 'Outgroup: 4 Hybrid: 6 Parents: 3 1 Hils: 3.83050788597 Pvalue: 0.00012787903467',\n",
       " 'Outgroup: 6 Hybrid: 4 Parents: 3 1 Hils: 3.88633987512 Pvalue: 0.000101767000059']"
      ]
     },
     "execution_count": 166,
     "metadata": {},
     "output_type": "execute_result"
    }
   ],
   "source": [
    "results"
   ]
  },
  {
   "cell_type": "code",
   "execution_count": 154,
   "metadata": {},
   "outputs": [
    {
     "data": {
      "text/plain": [
       "['35236_rex', '35855_rex', '38362_rex', '39618_rex']"
      ]
     },
     "execution_count": 154,
     "metadata": {},
     "output_type": "execute_result"
    }
   ],
   "source": [
    "[names[i] for i in [6,7,8,9]]"
   ]
  },
  {
   "cell_type": "code",
   "execution_count": 112,
   "metadata": {},
   "outputs": [
    {
     "data": {
      "text/plain": [
       "[1, 6, 9]"
      ]
     },
     "execution_count": 112,
     "metadata": {},
     "output_type": "execute_result"
    }
   ],
   "source": [
    "tested4 = [1,6,7,9]\n",
    "i = 2\n",
    "[x for q,x in enumerate(tested4) if q != i]"
   ]
  },
  {
   "cell_type": "markdown",
   "metadata": {},
   "source": [
    "## Name outgroup and tested taxa"
   ]
  },
  {
   "cell_type": "code",
   "execution_count": 4,
   "metadata": {
    "collapsed": true
   },
   "outputs": [],
   "source": [
    "#Outgroup: 3, Tested: 1, 4, 6, 7, 8, 9, 10\n",
    "outgroup = 3\n",
    "allcombns = list(itertools.combinations([1, 4, 6, 7, 8, 9, 10], 3))"
   ]
  },
  {
   "cell_type": "code",
   "execution_count": null,
   "metadata": {
    "collapsed": true
   },
   "outputs": [],
   "source": []
  },
  {
   "cell_type": "markdown",
   "metadata": {},
   "source": [
    "## Run hybridization test"
   ]
  },
  {
   "cell_type": "code",
   "execution_count": 92,
   "metadata": {},
   "outputs": [
    {
     "name": "stdout",
     "output_type": "stream",
     "text": [
      "0\n"
     ]
    }
   ],
   "source": [
    "results = []\n",
    "#for loop in range(len(allcombns)):\n",
    "for loop in [0]:\n",
    "    currentcombn = allcombns[loop]\n",
    "    tempobj = itemgetter(*([outgroup] + map(int, currentcombn)))(full_snp_seqs)\n",
    "    possible_configs = [[0,1,2,3],[0,2,1,3],[0,1,3,2]]\n",
    "    ind_samples = []\n",
    "    for p in range(int(snpmap[:,0][-1])):\n",
    "        index = p+1\n",
    "        which_bases = reducedmap[(reducedmap[:,0] == index),2]\n",
    "        snps_at_locus = [tempobj[i][(which_bases[0]-1):which_bases[-1]] for i in range(len(tempobj))]\n",
    "        sample_indices = []\n",
    "        for i in range(len(snps_at_locus[0])):\n",
    "            if ((len(set([snps_at_locus[q][i] for q in range(len(snps_at_locus))]).intersection(['A','G','C','T'])) > 1) & (sum([[snps_at_locus[q][i] for q in range(len(snps_at_locus))][k] in ['A','G','C','T'] for k in range(4)]) == 4)):\n",
    "                sample_indices.append(i)\n",
    "        if (len(sample_indices) > 0):\n",
    "            randombase = int(np.random.choice(sample_indices,1))\n",
    "            selectedbases = [snps_at_locus[i][randombase] for i in range(len(snps_at_locus))]\n",
    "            ind_samples.append(selectedbases)\n",
    "            \n",
    "    snps = np.array(ind_samples)\n",
    "    possible_configs = [[0,1,2,3],[0,2,1,3],[0,1,3,2]]\n",
    "    snps = np.where(snps=='A',0,snps)\n",
    "    snps = np.where(snps=='C',1,snps)\n",
    "    snps = np.where(snps=='G',2,snps)\n",
    "    snps = np.where(snps=='T',3,snps)\n",
    "    snps = snps.astype(int)\n",
    "    finalsnps = snps\n",
    "    \n",
    "    # make index matrix for each pair of bases. This assigns row / col number for full 16x16 matrix\n",
    "    indexmat = np.array(range(16))\n",
    "    indexmat.shape=(4,4)\n",
    "\n",
    "            # make 16x16 matrix of zeroes\n",
    "            # order across matrix is 00,01,02,03,10,11,12,13,20,21,22,23,30,31,32,33\n",
    "            # not good use of space\n",
    "    fullmat0123 = np.zeros(shape=(16,16))\n",
    "    arr0123 = finalsnps[:,possible_configs[0]]\n",
    "    for i in range(len(arr0123)):\n",
    "                # get row number \n",
    "        rownum = int(indexmat[arr0123[i][0:2][0],arr0123[i][0:2][1]])\n",
    "                # get col number\n",
    "        colnum = int(indexmat[arr0123[i][2:4][0],arr0123[i][2:4][1]])\n",
    "        fullmat0123[rownum,colnum] = fullmat0123[rownum,colnum] + 1\n",
    "\n",
    "    fullmat0213 = np.zeros(shape=(16,16))\n",
    "    arr0213 = finalsnps[:,possible_configs[1]]\n",
    "    for i in range(len(arr0213)):\n",
    "                # get row number \n",
    "        rownum = int(indexmat[arr0213[i][0:2][0],arr0213[i][0:2][1]])\n",
    "                # get col number\n",
    "        colnum = int(indexmat[arr0213[i][2:4][0],arr0213[i][2:4][1]])\n",
    "        fullmat0213[rownum,colnum] = fullmat0213[rownum,colnum] + 1\n",
    "\n",
    "    fullmat0132 = np.zeros(shape=(16,16))\n",
    "    arr0132 = finalsnps[:,possible_configs[2]]\n",
    "    for i in range(len(arr0132)):\n",
    "                # get row number \n",
    "        rownum = int(indexmat[arr0132[i][0:2][0],arr0132[i][0:2][1]])\n",
    "                # get col number\n",
    "        colnum = int(indexmat[arr0132[i][2:4][0],arr0132[i][2:4][1]])\n",
    "        fullmat0132[rownum,colnum] = fullmat0132[rownum,colnum] + 1\n",
    "\n",
    "    allhils = [calcHils(fullmat0123),calcHils(fullmat0213),calcHils(fullmat0132)]\n",
    "    fil = [isfloat(element.replace('*','')) for element in allhils]\n",
    "    hilsnumeric = list(compress(allhils,fil))\n",
    "    if (len(hilsnumeric) > 0):\n",
    "        printed_results = max(hilsnumeric)\n",
    "    else:\n",
    "        printed_results = (\"No answer\")\n",
    "    the_config = list(compress(possible_configs,[allhils[w] == printed_results for w in range(len(allhils))]))\n",
    "    results.append('Outgroup: '+str(outgroup)+' Hybrid: '+ str(currentcombn[the_config[0][2]-1])+ ' Parents: '+str(currentcombn[the_config[0][1]-1])+' '+str(currentcombn[the_config[0][3]-1])+ ' Hils: '+str(printed_results)+' Pvalue: '+ str(calcp(float(printed_results))))\n",
    "    print(loop)"
   ]
  },
  {
   "cell_type": "markdown",
   "metadata": {},
   "source": [
    "## Write to a file"
   ]
  },
  {
   "cell_type": "code",
   "execution_count": 326,
   "metadata": {
    "collapsed": true
   },
   "outputs": [],
   "source": [
    "key = [str(range(13)[i]) + ': ' + names[i] for i in range(13)]\n",
    "thefile = open('pedic_hybridization.txt', 'w')\n",
    "for item in key:\n",
    "    thefile.write(\"%s\\n\" % item)\n",
    "for item in results:\n",
    "    thefile.write(\"%s\\n\" % item)\n",
    "thefile.close()"
   ]
  }
 ],
 "metadata": {
  "kernelspec": {
   "display_name": "Python 2",
   "language": "python",
   "name": "python2"
  },
  "language_info": {
   "codemirror_mode": {
    "name": "ipython",
    "version": 2
   },
   "file_extension": ".py",
   "mimetype": "text/x-python",
   "name": "python",
   "nbconvert_exporter": "python",
   "pygments_lexer": "ipython2",
   "version": "2.7.13"
  }
 },
 "nbformat": 4,
 "nbformat_minor": 2
}

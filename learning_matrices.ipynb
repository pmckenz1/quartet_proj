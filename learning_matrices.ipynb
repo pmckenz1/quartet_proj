{
 "cells": [
  {
   "cell_type": "markdown",
   "metadata": {},
   "source": [
    "This notebook compares quartet inference on simulated data by a softmax regression machine learning model to that by SVDquartets."
   ]
  },
  {
   "cell_type": "markdown",
   "metadata": {},
   "source": [
    "## Imports"
   ]
  },
  {
   "cell_type": "code",
   "execution_count": 30,
   "metadata": {
    "collapsed": true
   },
   "outputs": [],
   "source": [
    "import numpy as np\n",
    "import h5py\n",
    "import re\n",
    "import random\n",
    "from itertools import compress\n",
    "import itertools\n",
    "import math\n",
    "from operator import itemgetter\n",
    "import sys\n",
    "from Bio import Phylo\n",
    "import tensorflow as tf\n",
    "import numpy as np\n",
    "from pathlib2 import Path\n",
    "import gc\n",
    "import contextlib\n",
    "import io\n",
    "import itertools\n",
    "import os\n",
    "import ipyrad as ip\n",
    "import subprocess\n",
    "from ipyrad.assemble.util import IPyradWarningExit, progressbar, Params\n",
    "from toytree import ete3mini as ete3\n",
    "import re"
   ]
  },
  {
   "cell_type": "markdown",
   "metadata": {},
   "source": [
    "## Function\n",
    "Reads in sequence data generated on a phylogeny, along with the phylogeny. \n",
    "\n",
    "Returns a sequence matrix split on t1, t2 | t3, t4, as well as a three-element array of what the real split is in the tree. \n",
    "\n",
    "To define the real split on the tree:\n",
    "\n",
    "[1, 0, 0] = t1, t2 | t3, t4\n",
    "\n",
    "[0, 1, 0] = t1, t3 | t2, t4\n",
    "\n",
    "[0, 0, 1] = t1, t4 | t2, t3"
   ]
  },
  {
   "cell_type": "code",
   "execution_count": 2,
   "metadata": {
    "collapsed": true
   },
   "outputs": [],
   "source": [
    "def compare_quint_pred_actual(sequencedata, phylogeny,tipnames):\n",
    "    # read in data\n",
    "\n",
    "    fname = sequencedata\n",
    "    with open(fname) as f:\n",
    "        sequences = f.readlines()\n",
    "\n",
    "    # remove whitespace characters like `\\n` at the end of each line\n",
    "\n",
    "    sequences = [x.strip() for x in sequences] \n",
    "    sequences.pop(0)\n",
    "\n",
    "    # get sequences  and identify quintet taxa\n",
    "    names = [sequences[i][0:10].strip(\" \") for i in range(len(sequences))]\n",
    "    iso_sequences = [sequences[i][10:].strip(\" \") for i in range(len(sequences))]\n",
    "    \n",
    "    # so we're only testing one possible quartet per tree... Easy to expand this to test every quintet per tree\n",
    "    interestednames = tipnames # this should be a list of four tip names... e.g. [\"t1\",\"t2\",\"t3\",\"t4]\n",
    "    taxa_ids = list(itertools.chain.from_iterable([list(compress(range(10),i)) for i in [[q == i for i in names] for q in interestednames]]))\n",
    "    \n",
    "    #taxa_ids = [3,2,8,9]\n",
    "    #fourtaxa = [names[i] for i in taxa_ids]\n",
    "\n",
    "    tempobj = [iso_sequences[i] for i in taxa_ids]\n",
    "\n",
    "    # eliminate non-snps\n",
    "\n",
    "    ind_samples = []\n",
    "    for i in range(len(tempobj[0])):\n",
    "        currentbase = ([tempobj[q][i] for q in range(len(tempobj))])\n",
    "        if (len(set(currentbase)) > 1):\n",
    "            ind_samples.append(currentbase)\n",
    "    ind_samples_reset = ind_samples\n",
    "\n",
    "    # separate sequences by fifth taxon\n",
    "\n",
    "    ind_samples = np.array(ind_samples_reset)\n",
    "    ind_samples = np.where(ind_samples=='A',0,ind_samples)\n",
    "    ind_samples = np.where(ind_samples=='C',1,ind_samples)\n",
    "    ind_samples = np.where(ind_samples=='G',2,ind_samples)\n",
    "    ind_samples = np.where(ind_samples=='T',3,ind_samples)\n",
    "    ind_samples = ind_samples.astype(int)\n",
    "\n",
    "    # get the matrices\n",
    "    indexmat = np.array(range(16))\n",
    "    indexmat.shape=(4,4)\n",
    "    # order across matrix is 00,01,02,03,10,11,12,13,20,21,22,23,30,31,32,33\n",
    "    fullmat0123 = np.zeros(shape=(16,16))\n",
    "    arr0123 = ind_samples\n",
    "    for i in range(len(arr0123)):\n",
    "                # get row number \n",
    "        rownum = int(indexmat[arr0123[i][0],arr0123[i][1]])\n",
    "                # get col number\n",
    "        colnum = int(indexmat[arr0123[i][2],arr0123[i][3]])\n",
    "        fullmat0123[rownum,colnum] = fullmat0123[rownum,colnum] + 1\n",
    "    #allmats.append(fullmat0123)\n",
    "\n",
    "    # predict the true quintet\n",
    "\n",
    "    # compare with actual quintet\n",
    "\n",
    "    tree = Phylo.read(phylogeny, 'newick')\n",
    "\n",
    "    tipnames = [names[i] for i in taxa_ids]\n",
    "    indexing = np.array([[0,1],[0,2],[0,3],[1,2],[1,3],[2,3]])\n",
    "\n",
    "    alldists = [tree.distance(tipnames[0],tipnames[1]),\n",
    "                tree.distance(tipnames[0],tipnames[2]),\n",
    "                tree.distance(tipnames[0],tipnames[3]),\n",
    "                tree.distance(tipnames[1],tipnames[2]),\n",
    "                tree.distance(tipnames[1],tipnames[3]),\n",
    "                tree.distance(tipnames[2],tipnames[3])]\n",
    "\n",
    "    min_tree_pairs1, min_pair_val1 = min(enumerate(alldists), key=itemgetter(1))\n",
    "    \n",
    "    paired_taxa =  [tipnames[i] for i in list(indexing[min_tree_pairs1])] + [tipnames[i] for i in list(set([0,1,2,3]) ^ set(list(indexing[min_tree_pairs1])))]\n",
    "    quartet_numbers = list(itertools.chain.from_iterable([list(compress(range(10),i)) for i in [[q == i for i in names] for q in paired_taxa]]))\n",
    "    \n",
    "    # is this a 0123, 0213, or 0312?\n",
    "    correct_config = np.array([(set([taxa_ids[i] for i in [0,1,2,3]][2:4]) == set(quartet_numbers[2:4]) or \n",
    "                                    set([taxa_ids[i] for i in [0,1,2,3]][2:4]) == set(quartet_numbers[0:2])),\n",
    "                                (set([taxa_ids[i] for i in [0,2,1,3]][2:4]) == set(quartet_numbers[2:4]) or \n",
    "                                    set([taxa_ids[i] for i in [0,2,1,3]][2:4]) == set(quartet_numbers[0:2])),\n",
    "                                (set([taxa_ids[i] for i in [0,3,1,2]][2:4]) == set(quartet_numbers[2:4]) or \n",
    "                                    set([taxa_ids[i] for i in [0,3,1,2]][2:4]) == set(quartet_numbers[0:2]))]).astype(int)\n",
    "    \n",
    "    return(taxa_ids,quartet_numbers,paired_taxa,correct_config,fullmat0123)\n",
    "    \n",
    "    \n",
    "    \n",
    "    "
   ]
  },
  {
   "cell_type": "markdown",
   "metadata": {},
   "source": [
    "Now apply the function to all of our tree/sequence combinations, saving the sequence matrices as `images` and the true splits as `labels`:"
   ]
  },
  {
   "cell_type": "code",
   "execution_count": 3,
   "metadata": {
    "collapsed": true
   },
   "outputs": [],
   "source": [
    "images = []\n",
    "labels = []\n",
    "\n",
    "for i in range(1,2001):\n",
    "    test = compare_quint_pred_actual(sequencedata=\"tree_seqs/test\" + str(i) + \".dat\",phylogeny=\"random_trees/samp\" + str(i) + \".phy\",tipnames=[\"t1\",\"t2\",\"t3\",\"t4\"])\n",
    "    images.append(test[4].flatten()/max(test[4].flatten()))\n",
    "    labels.append(test[3])"
   ]
  },
  {
   "cell_type": "markdown",
   "metadata": {},
   "source": [
    "Now run a very simple (as in, from the tensorflow tutorial) softmax regression model."
   ]
  },
  {
   "cell_type": "code",
   "execution_count": 65,
   "metadata": {},
   "outputs": [
    {
     "name": "stdout",
     "output_type": "stream",
     "text": [
      "0.986987\n"
     ]
    }
   ],
   "source": [
    "tf.reset_default_graph()\n",
    "x = tf.placeholder(tf.float32, [None, 256])\n",
    "W = tf.Variable(tf.zeros([256, 3]))\n",
    "b = tf.Variable(tf.zeros([3]))\n",
    "\n",
    "y = tf.nn.softmax(tf.matmul(x, W) + b)\n",
    "\n",
    "y_ = tf.placeholder(tf.float32, [None, 3])\n",
    "\n",
    "cross_entropy = tf.reduce_mean(-tf.reduce_sum(y_ * tf.log(y), reduction_indices=[1]))\n",
    "\n",
    "train_step = tf.train.GradientDescentOptimizer(0.6).minimize(cross_entropy)\n",
    "\n",
    "saver = tf.train.Saver()\n",
    "\n",
    "init = tf.global_variables_initializer()\n",
    "# Launch the graph\n",
    "with tf.Session() as sess:\n",
    "    sess.run(init)\n",
    "\n",
    "\n",
    "    #sess = tf.InteractiveSession()\n",
    "    #tf.global_variables_initializer().run()\n",
    "\n",
    "    for _ in range(1000):\n",
    "      batch = np.random.choice(1000, 50)\n",
    "      batch_xs, batch_ys = np.array([images[i] for i in batch]),np.array([labels[i] for i in batch])\n",
    "      sess.run(train_step, feed_dict={x: batch_xs, y_: batch_ys})\n",
    "    correct_prediction = tf.equal(tf.argmax(y,1), tf.argmax(y_,1))\n",
    "\n",
    "    accuracy = tf.reduce_mean(tf.cast(correct_prediction, tf.float32))\n",
    "    print(sess.run(accuracy, feed_dict={x: images[1001:2000], y_: labels[1001:2000]}))\n",
    "    save_path = saver.save(sess, \"download_simseqs/saved_mo.ckpt\")"
   ]
  },
  {
   "cell_type": "code",
   "execution_count": 136,
   "metadata": {},
   "outputs": [
    {
     "data": {
      "text/plain": [
       "0"
      ]
     },
     "execution_count": 136,
     "metadata": {},
     "output_type": "execute_result"
    }
   ],
   "source": [
    "predictions = sess.run(y, feed_dict={x: [images[7]]})\n",
    "int(tf.argmax(predictions,1).eval())"
   ]
  },
  {
   "cell_type": "code",
   "execution_count": null,
   "metadata": {
    "collapsed": true
   },
   "outputs": [],
   "source": []
  },
  {
   "cell_type": "markdown",
   "metadata": {},
   "source": [
    "This shows 98.6% successful prediction of quartet arrangements by our simple machine learning model.\n",
    "\n",
    "This high rate is easy to accomplish because the seq-gen settings are really basic, and we have lots of loci to work with. With real data, we'd want more sophisticated models and would still probably end up with lower rates of success. Model training relies on simulated sequence data, so making the jump to empirical data might be hard. We'd need a way to test robustness of the model to variation in data. \n",
    "\n",
    "Many of the branch lengths on the simulated trees used here ended up being very short, so the high rate of success is still a good sign. \n",
    "\n",
    "This is also promising because it could be easily extended beyond four taxa."
   ]
  },
  {
   "cell_type": "markdown",
   "metadata": {},
   "source": [
    "## SVDquartets inference on same data\n",
    "\n",
    "The loop below makes a bunch of quartet decisions on the same set of sequences."
   ]
  },
  {
   "cell_type": "code",
   "execution_count": 316,
   "metadata": {
    "collapsed": true
   },
   "outputs": [],
   "source": [
    "chosenindexlist = []\n",
    "for w in range(1001,2001):\n",
    "    sequencedata = \"tree_seqs/test\" + str(w) + \".dat\"\n",
    "    # read in data\n",
    "\n",
    "    fname = sequencedata\n",
    "    with open(fname) as f:\n",
    "        sequences = f.readlines()\n",
    "\n",
    "    # remove whitespace characters like `\\n` at the end of each line\n",
    "\n",
    "    sequences = [x.strip() for x in sequences] \n",
    "    sequences.pop(0)\n",
    "\n",
    "    # get sequences  and identify quintet taxa\n",
    "    names = [sequences[i][0:10].strip(\" \") for i in range(len(sequences))]\n",
    "    iso_sequences = [sequences[i][10:].strip(\" \") for i in range(len(sequences))]\n",
    "    \n",
    "    # so we're only testing one possible quartet per tree... Easy to expand this to test every quintet per tree\n",
    "    interestednames = [\"t1\",\"t2\",\"t3\",\"t4\"]\n",
    "    taxa_ids = list(itertools.chain.from_iterable([list(compress(range(10),i)) for i in [[q == i for i in names] for q in interestednames]]))\n",
    "    \n",
    "    #taxa_ids = [3,2,8,9]\n",
    "    #fourtaxa = [names[i] for i in taxa_ids]\n",
    "\n",
    "    tempobj = [iso_sequences[i] for i in taxa_ids]\n",
    "\n",
    "    # eliminate non-snps\n",
    "\n",
    "    ind_samples = []\n",
    "    for i in range(len(tempobj[0])):\n",
    "        currentbase = ([tempobj[q][i] for q in range(len(tempobj))])\n",
    "        if (len(set(currentbase)) > 1):\n",
    "            ind_samples.append(currentbase)\n",
    "    ind_samples_reset = ind_samples\n",
    "\n",
    "    # separate sequences by fifth taxon\n",
    "\n",
    "    ind_samples = np.array(ind_samples_reset)\n",
    "    ind_samples = np.where(ind_samples=='A',0,ind_samples)\n",
    "    ind_samples = np.where(ind_samples=='C',1,ind_samples)\n",
    "    ind_samples = np.where(ind_samples=='G',2,ind_samples)\n",
    "    ind_samples = np.where(ind_samples=='T',3,ind_samples)\n",
    "    ind_samples = ind_samples.astype(int)\n",
    "    \n",
    "    possible_configs = [[0,1,2,3],[0,2,1,3],[0,3,1,2]]\n",
    "    # get the matrices\n",
    "    indexmat = np.array(range(16))\n",
    "    indexmat.shape=(4,4)\n",
    "    # order across matrix is 00,01,02,03,10,11,12,13,20,21,22,23,30,31,32,33\n",
    "    fullmat0123 = np.zeros(shape=(16,16))\n",
    "    arr0123 = ind_samples\n",
    "    for i in range(len(arr0123)):\n",
    "                # get row number \n",
    "        rownum = int(indexmat[arr0123[i][0],arr0123[i][1]])\n",
    "                # get col number\n",
    "        colnum = int(indexmat[arr0123[i][2],arr0123[i][3]])\n",
    "        fullmat0123[rownum,colnum] = fullmat0123[rownum,colnum] + 1\n",
    " \n",
    "\n",
    "    fullmat0213 = np.zeros(shape=(16,16))\n",
    "    arr0213 = ind_samples[:,possible_configs[1]]\n",
    "    for i in range(len(arr0213)):\n",
    "        # get row number \n",
    "        rownum = int(indexmat[arr0213[i][0:2][0],arr0213[i][0:2][1]])\n",
    "        # get col number\n",
    "        colnum = int(indexmat[arr0213[i][2:4][0],arr0213[i][2:4][1]])\n",
    "        fullmat0213[rownum,colnum] = fullmat0213[rownum,colnum] + 1\n",
    "\n",
    "    fullmat0312 = np.zeros(shape=(16,16))\n",
    "    arr0312 = ind_samples[:,possible_configs[2]]\n",
    "    for i in range(len(arr0312)):\n",
    "        # get row number \n",
    "        rownum = int(indexmat[arr0312[i][0:2][0],arr0312[i][0:2][1]])\n",
    "        # get col number\n",
    "        colnum = int(indexmat[arr0312[i][2:4][0],arr0312[i][2:4][1]])\n",
    "        fullmat0312[rownum,colnum] = fullmat0312[rownum,colnum] + 1\n",
    "    #score the matrices here\n",
    "    scores = [math.sqrt(np.sum(np.square(np.linalg.svd(fullmat0123)[1][10:15]))),math.sqrt(np.sum(np.square(np.linalg.svd(fullmat0213)[1][10:15]))),math.sqrt(np.sum(np.square(np.linalg.svd(fullmat0312)[1][10:15])))]\n",
    "    #choose best scoring matrix\n",
    "    min_index, min_value = min(enumerate(scores), key=itemgetter(1))\n",
    "    chosenindex = np.array([0,0,0])\n",
    "    chosenindex[min_index] = 1\n",
    "    chosenindexlist.append(chosenindex)"
   ]
  },
  {
   "cell_type": "markdown",
   "metadata": {},
   "source": [
    "Now we tally up the correctly inferred quartets..."
   ]
  },
  {
   "cell_type": "code",
   "execution_count": 323,
   "metadata": {
    "collapsed": true
   },
   "outputs": [],
   "source": [
    "truequarts = [labels[i] for i in range(1000,2000)]\n",
    "tally = 0\n",
    "for w in range(len(truequarts)):\n",
    "    if (sum(truequarts[w] == chosenindexlist[w]) == 3):\n",
    "        tally = tally + 1"
   ]
  },
  {
   "cell_type": "markdown",
   "metadata": {},
   "source": [
    "And, finally, get the percent correct under SVDquartets:"
   ]
  },
  {
   "cell_type": "code",
   "execution_count": 326,
   "metadata": {},
   "outputs": [
    {
     "data": {
      "text/plain": [
       "0.935"
      ]
     },
     "execution_count": 326,
     "metadata": {},
     "output_type": "execute_result"
    }
   ],
   "source": [
    "tally / 1000."
   ]
  },
  {
   "cell_type": "markdown",
   "metadata": {},
   "source": [
    "So 93.5 percent of quartets inferred by SVDquartets are correct, although I won't rule out the possibility that I'm doing the scoring incorrectly.\n",
    "\n",
    "The softmax model had the benefit of being tailored specifically to the simulated data and making predictions on data generated under the same model. SVDquartets quartet selection performs pretty well regardless, which we can't yet say for softmax or a similar machine learning model."
   ]
  },
  {
   "cell_type": "markdown",
   "metadata": {},
   "source": [
    "## Next steps:\n",
    "\n",
    "*  Mix together models of sequence evolution for training set, perform inference on mixed simulations.\n",
    "*  Compare success of different types of trainings on empirical inference (even showing consistency would go a long way).\n",
    "*  Improve machine learning model past single layer."
   ]
  },
  {
   "cell_type": "code",
   "execution_count": 104,
   "metadata": {
    "collapsed": true
   },
   "outputs": [],
   "source": [
    "alltips = [\"t1\",\"t2\",\"t3\",\"t4\",\"t5\",\"t6\",\"t7\",\"t8\",\"t9\",\"t10\"]\n",
    "alltipcombns=list(itertools.combinations(alltips, 4))"
   ]
  },
  {
   "cell_type": "code",
   "execution_count": 105,
   "metadata": {
    "collapsed": true
   },
   "outputs": [],
   "source": [
    "i=100\n",
    "all_mats = [compare_quint_pred_actual(sequencedata=\"tree_seqs/test\" + str(i) + \".dat\",phylogeny=\"random_trees/samp\" + str(i) + \".phy\",tipnames=q)[4] for q in alltipcombns]\n",
    "\n"
   ]
  },
  {
   "cell_type": "code",
   "execution_count": 117,
   "metadata": {
    "collapsed": true
   },
   "outputs": [],
   "source": [
    "chosenquarts = []\n",
    "for i in all_mats:\n",
    "    predictions = sess.run(y, feed_dict={x: [i.flatten()/max(i.flatten())]})\n",
    "    chosenquarts.append(int(tf.argmax(predictions,1).eval()))\n"
   ]
  },
  {
   "cell_type": "code",
   "execution_count": 220,
   "metadata": {
    "collapsed": true
   },
   "outputs": [],
   "source": [
    "correctquarts = [[alltipcombns[q][i] for i in [[0,1,2,3],[0,2,1,3],[0,3,1,2]][chosenquarts[q]]] for q in range(len(chosenquarts))]\n",
    "names = [\"t1\",\"t2\",\"t3\",\"t4\",\"t5\",\"t6\",\"t7\",\"t8\",\"t9\",\"t10\"]\n",
    "ids = range(len(names))\n"
   ]
  },
  {
   "cell_type": "code",
   "execution_count": 215,
   "metadata": {
    "collapsed": true
   },
   "outputs": [],
   "source": [
    "correctquarts= np.array(correctquarts)"
   ]
  },
  {
   "cell_type": "code",
   "execution_count": 233,
   "metadata": {
    "collapsed": true
   },
   "outputs": [],
   "source": [
    "for q in range(len(names)):\n",
    "    correctquarts = [[re.sub(r'\\b'+ names[q] +r'\\b', str(ids[q]), correctquarts[w][i]) for i in range(4)] for w in range(len(correctquarts))]\n"
   ]
  },
  {
   "cell_type": "code",
   "execution_count": 44,
   "metadata": {
    "collapsed": true
   },
   "outputs": [],
   "source": [
    "def dump_qmc(quartets,tempfiledir):\n",
    "    \"\"\"\n",
    "    Writes the inferred quartet sets from the database to a text \n",
    "    file to be used as input for QMC. Quartets that had no information\n",
    "    available (i.e., no SNPs) were written to the database as 0,0,0,0\n",
    "    and are excluded here from the output.\n",
    "    \"\"\"\n",
    "\n",
    "    ## open the h5 database\n",
    "    #with h5py.File(self.database.output, 'r') as io5:\n",
    "\n",
    "        ## create an output file for writing\n",
    "    tempfile = os.path.join(tempfiledir,\"quartets.txt\")\n",
    "    with open(tempfile, 'w') as qdump:\n",
    "\n",
    "        ## pull from db\n",
    "        #for idx in xrange(0, self.params.nquartets, self._chunksize):\n",
    "            #quarts = quartets\n",
    "\n",
    "            ## shuffle and format for qmc\n",
    "            #np.random.shuffle(quarts)\n",
    "            chunk = [\"{},{}|{},{}\".format(*i) for i in quartets]\n",
    "            qdump.write(\"\\n\".join(chunk)+\"\\n\")\n",
    "\n",
    "\n",
    "def _run_qmc(tempfiledir, tempfilename,treename,tipnames):\n",
    "    \"\"\"\n",
    "    Runs quartet max-cut QMC on the quartets qdump file.\n",
    "    \"\"\"\n",
    "\n",
    "    ## build command\n",
    "    thetmptree = os.path.join(tempfiledir, \"tmptre.phy\")\n",
    "    cmd = [ip.bins.qmc, \"qrtt=\"+tempfilename, \"otre=\"+thetmptree]\n",
    "\n",
    "    ## run it\n",
    "    proc = subprocess.Popen(cmd, stderr=subprocess.STDOUT, stdout=subprocess.PIPE)\n",
    "    res = proc.communicate()\n",
    "    #if proc.returncode:\n",
    "    #    print(proc.returncode)\n",
    "    #    raise IPyradWarningExit(res[1])\n",
    "\n",
    "    ## parse tmp file written by qmc into a tree and rename it\n",
    "    with open(thetmptree, 'r') as intree:\n",
    "        tre = ete3.Tree(intree.read().strip())\n",
    "        names = tre.get_leaves()\n",
    "        for name in names:\n",
    "            name.name = tipnames[(int(name.name)-1)]\n",
    "        tmptre = tre.write(format=9)\n",
    "\n",
    "    ## save the tree to file\n",
    "    #if boot:\n",
    "    #    self.trees.boots = os.path.join(self.dirs, self.name+\".boots\")\n",
    "    #    with open(self.trees.boots, 'a') as outboot:\n",
    "    #        outboot.write(tmptre+\"\\n\")\n",
    "    #else:\n",
    "    treepath  = os.path.join(tempfiledir, treename+\".tree\")\n",
    "    with open(treepath, 'w') as outtree:\n",
    "        outtree.write(tmptre)\n",
    "\n",
    "    ## save the file\n",
    "    #treepath._save()"
   ]
  },
  {
   "cell_type": "code",
   "execution_count": 236,
   "metadata": {
    "collapsed": true
   },
   "outputs": [],
   "source": [
    "dump_qmc(correctquarts,\"\")\n"
   ]
  },
  {
   "cell_type": "code",
   "execution_count": 243,
   "metadata": {
    "collapsed": true
   },
   "outputs": [],
   "source": [
    "_run_qmc(tempfiledir=\"\",tempfilename = \"quartets.txt\",treename=\"mytree\",tipnames=names)"
   ]
  },
  {
   "cell_type": "markdown",
   "metadata": {},
   "source": [
    "## Mammals dataset"
   ]
  },
  {
   "cell_type": "markdown",
   "metadata": {},
   "source": [
    "### Name your current quartet"
   ]
  },
  {
   "cell_type": "code",
   "execution_count": 52,
   "metadata": {
    "collapsed": true
   },
   "outputs": [],
   "source": [
    "fourtaxa = [0,1,2,3]"
   ]
  },
  {
   "cell_type": "markdown",
   "metadata": {},
   "source": [
    "### Get all independent snps for quartet"
   ]
  },
  {
   "cell_type": "code",
   "execution_count": 99,
   "metadata": {
    "collapsed": true
   },
   "outputs": [],
   "source": [
    "genesnps = np.array([]).reshape(0,4)\n",
    "for gene in range(1,447):\n",
    "    fname = \"download_simseqs/song-mammalian-bio_completely_processed/424genes/relabeled_data/\"+ str(gene) +\".fasta_relabeled.phy\"\n",
    "    if Path(fname).is_file():\n",
    "        raw = open(fname, 'r')\n",
    "        snps = file.read(raw) \n",
    "        snps = snps.split('\\n')\n",
    "        # remove whitespace characters like `\\n` at the end of each line\n",
    "        snps = [x.strip() for x in snps] \n",
    "        snps.pop(0)\n",
    "        [snps.pop(i) for i in range(len(snps)) if not len(snps[i])]\n",
    "\n",
    "        snps = [snps[i].split(\" \") for i in range(len(snps))]\n",
    "        snps = [filter(None, snps[i]) for i in range(len(snps))]\n",
    "\n",
    "        ids = [snps[i][0] for i in range(len(snps))]\n",
    "        sequences = [snps[i][1] for i in range(len(snps))]\n",
    "        fourfullseqs = [sequences[i] for i in fourtaxa]\n",
    "        snpseqs = np.array([]).reshape(0,4)\n",
    "        for q in range(len(fourfullseqs[0])):\n",
    "            current4bases=[fourfullseqs[i][q] for i in range(4)]\n",
    "            if ((len(set(current4bases).union(set(['A','G','C','T']))) == 4) and (len(set(current4bases)) > 1)):\n",
    "                snpseqs = np.vstack([snpseqs, current4bases])\n",
    "        if len(snpseqs):\n",
    "            genesnps = np.vstack([genesnps,snpseqs[np.random.choice(len(snpseqs))]])"
   ]
  },
  {
   "cell_type": "markdown",
   "metadata": {},
   "source": [
    "### Make the quartet matrix"
   ]
  },
  {
   "cell_type": "code",
   "execution_count": 104,
   "metadata": {
    "collapsed": true
   },
   "outputs": [],
   "source": [
    "snps = np.array(genesnps)\n",
    "possible_configs = [0,1,2,3]\n",
    "snps = np.where(snps=='A',0,snps)\n",
    "snps = np.where(snps=='C',1,snps)\n",
    "snps = np.where(snps=='G',2,snps)\n",
    "snps = np.where(snps=='T',3,snps)\n",
    "snps = snps.astype(int)\n",
    "finalsnps = snps\n",
    "\n",
    "# make index matrix for each pair of bases. This assigns row / col number for full 16x16 matrix\n",
    "indexmat = np.array(range(16))\n",
    "indexmat.shape=(4,4)\n",
    "\n",
    "        # make 16x16 matrix of zeroes\n",
    "        # order across matrix is 00,01,02,03,10,11,12,13,20,21,22,23,30,31,32,33\n",
    "        # not good use of space\n",
    "fullmat0123 = np.zeros(shape=(16,16))\n",
    "arr0123 = finalsnps[:,possible_configs]\n",
    "for i in range(len(arr0123)):\n",
    "            # get row number \n",
    "    rownum = int(indexmat[arr0123[i][0:2][0],arr0123[i][0:2][1]])\n",
    "            # get col number\n",
    "    colnum = int(indexmat[arr0123[i][2:4][0],arr0123[i][2:4][1]])\n",
    "    fullmat0123[rownum,colnum] = fullmat0123[rownum,colnum] + 1"
   ]
  },
  {
   "cell_type": "markdown",
   "metadata": {},
   "source": [
    "### Predict the correct quartet configuration"
   ]
  },
  {
   "cell_type": "code",
   "execution_count": 116,
   "metadata": {
    "collapsed": true
   },
   "outputs": [],
   "source": [
    "prediction = sess.run(y, feed_dict={x: [fullmat0123.flatten()/max(fullmat0123.flatten())]})"
   ]
  },
  {
   "cell_type": "code",
   "execution_count": 120,
   "metadata": {},
   "outputs": [
    {
     "data": {
      "text/plain": [
       "[0, 2, 1, 3]"
      ]
     },
     "execution_count": 120,
     "metadata": {},
     "output_type": "execute_result"
    }
   ],
   "source": [
    "[fourtaxa[i] for i in [[0,1,2,3],[0,2,1,3],[0,3,1,2]][int(tf.argmax(prediction,1).eval())]]"
   ]
  },
  {
   "cell_type": "markdown",
   "metadata": {},
   "source": [
    "### Now make a prediction for all quartets!"
   ]
  },
  {
   "cell_type": "code",
   "execution_count": 235,
   "metadata": {
    "collapsed": true
   },
   "outputs": [],
   "source": [
    "alltipcombns=list(itertools.combinations(range(37), 4))"
   ]
  },
  {
   "cell_type": "code",
   "execution_count": 236,
   "metadata": {},
   "outputs": [
    {
     "data": {
      "text/plain": [
       "66045"
      ]
     },
     "execution_count": 236,
     "metadata": {},
     "output_type": "execute_result"
    }
   ],
   "source": [
    "len(alltipcombns) # this is a lot. But we're tough."
   ]
  },
  {
   "cell_type": "code",
   "execution_count": 59,
   "metadata": {
    "collapsed": true
   },
   "outputs": [],
   "source": [
    "alltipcombns = alltipcombns.astype(int)"
   ]
  },
  {
   "cell_type": "code",
   "execution_count": 237,
   "metadata": {
    "collapsed": true
   },
   "outputs": [],
   "source": [
    "random.shuffle(alltipcombns) # maybe just in case we don't get all the way through."
   ]
  },
  {
   "cell_type": "code",
   "execution_count": 83,
   "metadata": {},
   "outputs": [
    {
     "ename": "TypeError",
     "evalue": "Cannot interpret feed_dict key as Tensor: The name 'Orn\\t37' looks like an (invalid) Operation name, not a Tensor. Tensor names must be of the form \"<op_name>:<output_index>\".",
     "output_type": "error",
     "traceback": [
      "\u001b[0;31m---------------------------------------------------------------------------\u001b[0m",
      "\u001b[0;31mTypeError\u001b[0m                                 Traceback (most recent call last)",
      "\u001b[0;32m<ipython-input-83-b1476ef7095b>\u001b[0m in \u001b[0;36m<module>\u001b[0;34m()\u001b[0m\n\u001b[1;32m     52\u001b[0m         \u001b[0mcolnum\u001b[0m \u001b[0;34m=\u001b[0m \u001b[0mint\u001b[0m\u001b[0;34m(\u001b[0m\u001b[0mindexmat\u001b[0m\u001b[0;34m[\u001b[0m\u001b[0marr0123\u001b[0m\u001b[0;34m[\u001b[0m\u001b[0mi\u001b[0m\u001b[0;34m]\u001b[0m\u001b[0;34m[\u001b[0m\u001b[0;36m2\u001b[0m\u001b[0;34m:\u001b[0m\u001b[0;36m4\u001b[0m\u001b[0;34m]\u001b[0m\u001b[0;34m[\u001b[0m\u001b[0;36m0\u001b[0m\u001b[0;34m]\u001b[0m\u001b[0;34m,\u001b[0m\u001b[0marr0123\u001b[0m\u001b[0;34m[\u001b[0m\u001b[0mi\u001b[0m\u001b[0;34m]\u001b[0m\u001b[0;34m[\u001b[0m\u001b[0;36m2\u001b[0m\u001b[0;34m:\u001b[0m\u001b[0;36m4\u001b[0m\u001b[0;34m]\u001b[0m\u001b[0;34m[\u001b[0m\u001b[0;36m1\u001b[0m\u001b[0;34m]\u001b[0m\u001b[0;34m]\u001b[0m\u001b[0;34m)\u001b[0m\u001b[0;34m\u001b[0m\u001b[0m\n\u001b[1;32m     53\u001b[0m         \u001b[0mfullmat0123\u001b[0m\u001b[0;34m[\u001b[0m\u001b[0mrownum\u001b[0m\u001b[0;34m,\u001b[0m\u001b[0mcolnum\u001b[0m\u001b[0;34m]\u001b[0m \u001b[0;34m=\u001b[0m \u001b[0mfullmat0123\u001b[0m\u001b[0;34m[\u001b[0m\u001b[0mrownum\u001b[0m\u001b[0;34m,\u001b[0m\u001b[0mcolnum\u001b[0m\u001b[0;34m]\u001b[0m \u001b[0;34m+\u001b[0m \u001b[0;36m1\u001b[0m\u001b[0;34m\u001b[0m\u001b[0m\n\u001b[0;32m---> 54\u001b[0;31m     \u001b[0mprediction\u001b[0m \u001b[0;34m=\u001b[0m \u001b[0msess\u001b[0m\u001b[0;34m.\u001b[0m\u001b[0mrun\u001b[0m\u001b[0;34m(\u001b[0m\u001b[0my\u001b[0m\u001b[0;34m,\u001b[0m \u001b[0mfeed_dict\u001b[0m\u001b[0;34m=\u001b[0m\u001b[0;34m{\u001b[0m\u001b[0mx\u001b[0m\u001b[0;34m:\u001b[0m \u001b[0;34m[\u001b[0m\u001b[0;34m(\u001b[0m\u001b[0mfullmat0123\u001b[0m\u001b[0;34m.\u001b[0m\u001b[0mflatten\u001b[0m\u001b[0;34m(\u001b[0m\u001b[0;34m)\u001b[0m\u001b[0;34m/\u001b[0m\u001b[0mmax\u001b[0m\u001b[0;34m(\u001b[0m\u001b[0mfullmat0123\u001b[0m\u001b[0;34m.\u001b[0m\u001b[0mflatten\u001b[0m\u001b[0;34m(\u001b[0m\u001b[0;34m)\u001b[0m\u001b[0;34m)\u001b[0m\u001b[0;34m)\u001b[0m\u001b[0;34m]\u001b[0m\u001b[0;34m}\u001b[0m\u001b[0;34m)\u001b[0m\u001b[0;34m\u001b[0m\u001b[0m\n\u001b[0m\u001b[1;32m     55\u001b[0m     \u001b[0mallpredictedquarts\u001b[0m \u001b[0;34m=\u001b[0m \u001b[0mnp\u001b[0m\u001b[0;34m.\u001b[0m\u001b[0mvstack\u001b[0m\u001b[0;34m(\u001b[0m\u001b[0;34m[\u001b[0m\u001b[0mallpredictedquarts\u001b[0m\u001b[0;34m,\u001b[0m\u001b[0;34m[\u001b[0m\u001b[0mfourtaxa\u001b[0m\u001b[0;34m[\u001b[0m\u001b[0mi\u001b[0m\u001b[0;34m]\u001b[0m \u001b[0;32mfor\u001b[0m \u001b[0mi\u001b[0m \u001b[0;32min\u001b[0m \u001b[0;34m[\u001b[0m\u001b[0;34m[\u001b[0m\u001b[0;36m0\u001b[0m\u001b[0;34m,\u001b[0m\u001b[0;36m1\u001b[0m\u001b[0;34m,\u001b[0m\u001b[0;36m2\u001b[0m\u001b[0;34m,\u001b[0m\u001b[0;36m3\u001b[0m\u001b[0;34m]\u001b[0m\u001b[0;34m,\u001b[0m\u001b[0;34m[\u001b[0m\u001b[0;36m0\u001b[0m\u001b[0;34m,\u001b[0m\u001b[0;36m2\u001b[0m\u001b[0;34m,\u001b[0m\u001b[0;36m1\u001b[0m\u001b[0;34m,\u001b[0m\u001b[0;36m3\u001b[0m\u001b[0;34m]\u001b[0m\u001b[0;34m,\u001b[0m\u001b[0;34m[\u001b[0m\u001b[0;36m0\u001b[0m\u001b[0;34m,\u001b[0m\u001b[0;36m3\u001b[0m\u001b[0;34m,\u001b[0m\u001b[0;36m1\u001b[0m\u001b[0;34m,\u001b[0m\u001b[0;36m2\u001b[0m\u001b[0;34m]\u001b[0m\u001b[0;34m]\u001b[0m\u001b[0;34m[\u001b[0m\u001b[0mint\u001b[0m\u001b[0;34m(\u001b[0m\u001b[0mtf\u001b[0m\u001b[0;34m.\u001b[0m\u001b[0margmax\u001b[0m\u001b[0;34m(\u001b[0m\u001b[0mprediction\u001b[0m\u001b[0;34m,\u001b[0m\u001b[0;36m1\u001b[0m\u001b[0;34m)\u001b[0m\u001b[0;34m.\u001b[0m\u001b[0meval\u001b[0m\u001b[0;34m(\u001b[0m\u001b[0;34m)\u001b[0m\u001b[0;34m)\u001b[0m\u001b[0;34m]\u001b[0m\u001b[0;34m]\u001b[0m\u001b[0;34m]\u001b[0m\u001b[0;34m)\u001b[0m\u001b[0;34m\u001b[0m\u001b[0m\n\u001b[1;32m     56\u001b[0m     \u001b[0;32mprint\u001b[0m\u001b[0;34m(\u001b[0m\u001b[0mlen\u001b[0m\u001b[0;34m(\u001b[0m\u001b[0mallpredictedquarts\u001b[0m\u001b[0;34m)\u001b[0m\u001b[0;34m)\u001b[0m\u001b[0;34m\u001b[0m\u001b[0m\n",
      "\u001b[0;32m/Users/pmckenz1/miniconda2/lib/python2.7/site-packages/tensorflow/python/client/session.pyc\u001b[0m in \u001b[0;36mrun\u001b[0;34m(self, fetches, feed_dict, options, run_metadata)\u001b[0m\n\u001b[1;32m    893\u001b[0m     \u001b[0;32mtry\u001b[0m\u001b[0;34m:\u001b[0m\u001b[0;34m\u001b[0m\u001b[0m\n\u001b[1;32m    894\u001b[0m       result = self._run(None, fetches, feed_dict, options_ptr,\n\u001b[0;32m--> 895\u001b[0;31m                          run_metadata_ptr)\n\u001b[0m\u001b[1;32m    896\u001b[0m       \u001b[0;32mif\u001b[0m \u001b[0mrun_metadata\u001b[0m\u001b[0;34m:\u001b[0m\u001b[0;34m\u001b[0m\u001b[0m\n\u001b[1;32m    897\u001b[0m         \u001b[0mproto_data\u001b[0m \u001b[0;34m=\u001b[0m \u001b[0mtf_session\u001b[0m\u001b[0;34m.\u001b[0m\u001b[0mTF_GetBuffer\u001b[0m\u001b[0;34m(\u001b[0m\u001b[0mrun_metadata_ptr\u001b[0m\u001b[0;34m)\u001b[0m\u001b[0;34m\u001b[0m\u001b[0m\n",
      "\u001b[0;32m/Users/pmckenz1/miniconda2/lib/python2.7/site-packages/tensorflow/python/client/session.pyc\u001b[0m in \u001b[0;36m_run\u001b[0;34m(self, handle, fetches, feed_dict, options, run_metadata)\u001b[0m\n\u001b[1;32m   1069\u001b[0m           \u001b[0;32mexcept\u001b[0m \u001b[0mException\u001b[0m \u001b[0;32mas\u001b[0m \u001b[0me\u001b[0m\u001b[0;34m:\u001b[0m\u001b[0;34m\u001b[0m\u001b[0m\n\u001b[1;32m   1070\u001b[0m             raise TypeError('Cannot interpret feed_dict key as Tensor: '\n\u001b[0;32m-> 1071\u001b[0;31m                             + e.args[0])\n\u001b[0m\u001b[1;32m   1072\u001b[0m \u001b[0;34m\u001b[0m\u001b[0m\n\u001b[1;32m   1073\u001b[0m           \u001b[0;32mif\u001b[0m \u001b[0misinstance\u001b[0m\u001b[0;34m(\u001b[0m\u001b[0msubfeed_val\u001b[0m\u001b[0;34m,\u001b[0m \u001b[0mops\u001b[0m\u001b[0;34m.\u001b[0m\u001b[0mTensor\u001b[0m\u001b[0;34m)\u001b[0m\u001b[0;34m:\u001b[0m\u001b[0;34m\u001b[0m\u001b[0m\n",
      "\u001b[0;31mTypeError\u001b[0m: Cannot interpret feed_dict key as Tensor: The name 'Orn\\t37' looks like an (invalid) Operation name, not a Tensor. Tensor names must be of the form \"<op_name>:<output_index>\"."
     ]
    }
   ],
   "source": [
    "allpredictedquarts = np.array([]).reshape(0,4)\n",
    "for currentcombn in [alltipcombns[allcom] for allcom in range(18100,66045)]:\n",
    "    fourtaxa = np.array(currentcombn).astype(int)\n",
    "    genesnps = np.array([]).reshape(0,4)\n",
    "    for gene in range(1,447):\n",
    "        fname = \"download_simseqs/song-mammalian-bio_completely_processed/424genes/relabeled_data/\"+ str(gene) +\".fasta_relabeled.phy\"\n",
    "        if Path(fname).is_file():\n",
    "            raw = open(fname, 'r')\n",
    "            snps = file.read(raw) \n",
    "            snps = snps.split('\\n')\n",
    "            # remove whitespace characters like `\\n` at the end of each line\n",
    "            snps = [xs.strip() for xs in snps] \n",
    "            snps.pop(0)\n",
    "            [snps.pop(i) for i in range(len(snps)) if not len(snps[i])]\n",
    "\n",
    "            snps = [snps[i].split(\" \") for i in range(len(snps))]\n",
    "            snps = [filter(None, snps[i]) for i in range(len(snps))]\n",
    "\n",
    "            ids = [snps[i][0] for i in range(len(snps))]\n",
    "            sequences = [snps[i][1] for i in range(len(snps))]\n",
    "            fourfullseqs = [sequences[i] for i in fourtaxa]\n",
    "            snpseqs = np.array([]).reshape(0,4)\n",
    "            for q in range(len(fourfullseqs[0])):\n",
    "                current4bases=[fourfullseqs[i][q] for i in range(4)]\n",
    "                if ((len(set(current4bases).union(set(['A','G','C','T']))) == 4) and (len(set(current4bases)) > 1)):\n",
    "                    snpseqs = np.vstack([snpseqs, current4bases])\n",
    "            if len(snpseqs):\n",
    "                genesnps = np.vstack([genesnps,snpseqs[np.random.choice(len(snpseqs))]])\n",
    "\n",
    "    snps = np.array(genesnps)\n",
    "    possible_configs = [0,1,2,3]\n",
    "    snps = np.where(snps=='A',0,snps)\n",
    "    snps = np.where(snps=='C',1,snps)\n",
    "    snps = np.where(snps=='G',2,snps)\n",
    "    snps = np.where(snps=='T',3,snps)\n",
    "    snps = snps.astype(int)\n",
    "    finalsnps = snps\n",
    "\n",
    "    # make index matrix for each pair of bases. This assigns row / col number for full 16x16 matrix\n",
    "    indexmat = np.array(range(16))\n",
    "    indexmat.shape=(4,4)\n",
    "\n",
    "            # make 16x16 matrix of zeroes\n",
    "            # order across matrix is 00,01,02,03,10,11,12,13,20,21,22,23,30,31,32,33\n",
    "            # not good use of space\n",
    "    fullmat0123 = np.zeros(shape=(16,16))\n",
    "    arr0123 = finalsnps[:,possible_configs]\n",
    "    for i in range(len(arr0123)):\n",
    "                # get row number \n",
    "        rownum = int(indexmat[arr0123[i][0:2][0],arr0123[i][0:2][1]])\n",
    "                # get col number\n",
    "        colnum = int(indexmat[arr0123[i][2:4][0],arr0123[i][2:4][1]])\n",
    "        fullmat0123[rownum,colnum] = fullmat0123[rownum,colnum] + 1\n",
    "    prediction = sess.run(y, feed_dict={x: [(fullmat0123.flatten()/max(fullmat0123.flatten()))]})\n",
    "    allpredictedquarts = np.vstack([allpredictedquarts,[fourtaxa[i] for i in [[0,1,2,3],[0,2,1,3],[0,3,1,2]][int(tf.argmax(prediction,1).eval())]]])\n",
    "    print(len(allpredictedquarts))\n",
    "    "
   ]
  },
  {
   "cell_type": "code",
   "execution_count": 73,
   "metadata": {},
   "outputs": [
    {
     "data": {
      "text/plain": [
       "3870"
      ]
     },
     "execution_count": 73,
     "metadata": {},
     "output_type": "execute_result"
    }
   ],
   "source": [
    "len(allpredictedquarts)"
   ]
  },
  {
   "cell_type": "code",
   "execution_count": 12,
   "metadata": {},
   "outputs": [
    {
     "data": {
      "text/plain": [
       "array([ 14.,  29.,  33.,  34.])"
      ]
     },
     "execution_count": 12,
     "metadata": {},
     "output_type": "execute_result"
    }
   ],
   "source": [
    "alltipcombns[4830]"
   ]
  },
  {
   "cell_type": "code",
   "execution_count": 322,
   "metadata": {},
   "outputs": [
    {
     "data": {
      "text/plain": [
       "66044"
      ]
     },
     "execution_count": 322,
     "metadata": {},
     "output_type": "execute_result"
    }
   ],
   "source": [
    "range(4830,66045)"
   ]
  },
  {
   "cell_type": "code",
   "execution_count": 18,
   "metadata": {},
   "outputs": [
    {
     "data": {
      "text/plain": [
       "2200"
      ]
     },
     "execution_count": 18,
     "metadata": {},
     "output_type": "execute_result"
    }
   ],
   "source": [
    "len(allpredictedquarts)"
   ]
  },
  {
   "cell_type": "code",
   "execution_count": 77,
   "metadata": {
    "collapsed": true
   },
   "outputs": [],
   "source": [
    "test = np.loadtxt(\"download_simseqs/mammal_quarts.gz\")"
   ]
  },
  {
   "cell_type": "code",
   "execution_count": 78,
   "metadata": {},
   "outputs": [
    {
     "data": {
      "text/plain": [
       "18100"
      ]
     },
     "execution_count": 78,
     "metadata": {},
     "output_type": "execute_result"
    }
   ],
   "source": [
    "len(test)"
   ]
  },
  {
   "cell_type": "code",
   "execution_count": 55,
   "metadata": {
    "collapsed": true
   },
   "outputs": [],
   "source": [
    "alltipcombns = np.loadtxt(\"download_simseqs/combn_order.gz\")"
   ]
  },
  {
   "cell_type": "code",
   "execution_count": 76,
   "metadata": {
    "collapsed": true
   },
   "outputs": [],
   "source": [
    "#np.savetxt(\"download_simseqs/mammal_quarts.gz\",np.vstack([test,allpredictedquarts]))\n",
    "#np.savetxt(\"download_simseqs/combn_order.gz\",alltipcombns)"
   ]
  },
  {
   "cell_type": "code",
   "execution_count": 79,
   "metadata": {},
   "outputs": [
    {
     "data": {
      "text/plain": [
       "['Mac',\n",
       " 'New',\n",
       " 'Sor',\n",
       " 'Gor',\n",
       " 'Oto',\n",
       " 'Spe',\n",
       " 'Ory',\n",
       " 'Tup',\n",
       " 'Dip',\n",
       " 'Tur',\n",
       " 'Mic',\n",
       " 'Eri',\n",
       " 'Och',\n",
       " 'Lox',\n",
       " 'Fel',\n",
       " 'Tar',\n",
       " 'Pro',\n",
       " 'Ech',\n",
       " 'Das',\n",
       " 'Myo',\n",
       " 'Mus',\n",
       " 'Rat',\n",
       " 'Cav',\n",
       " 'Cho',\n",
       " 'Bos',\n",
       " 'Cal',\n",
       " 'Pon',\n",
       " 'Hom',\n",
       " 'Pan',\n",
       " 'Sus',\n",
       " 'Vic',\n",
       " 'Can',\n",
       " 'Pte',\n",
       " 'Equ',\n",
       " 'Gal',\n",
       " 'Mon',\n",
       " 'Orn']"
      ]
     },
     "execution_count": 79,
     "metadata": {},
     "output_type": "execute_result"
    }
   ],
   "source": [
    "with open(\"download_simseqs/song-mammalian-bio_completely_processed/taxa_dict.txt\") as f:\n",
    "    test = f.readlines()\n",
    "test = [x.strip() for x in test]\n",
    "nameskey = [test[i].split(\"\\t\") for i in range(len(test))]\n",
    "[i[0] for i in nameskey] # this gives just the names"
   ]
  },
  {
   "cell_type": "code",
   "execution_count": 80,
   "metadata": {
    "collapsed": true
   },
   "outputs": [],
   "source": [
    "allpredictedquarts = np.loadtxt(\"download_simseqs/mammal_quarts.gz\")\n",
    "allpredictedquarts = allpredictedquarts.astype(int)"
   ]
  },
  {
   "cell_type": "code",
   "execution_count": 81,
   "metadata": {
    "collapsed": true
   },
   "outputs": [],
   "source": [
    "dump_qmc(quartets = allpredictedquarts,tempfiledir= \"download_simseqs/\")"
   ]
  },
  {
   "cell_type": "code",
   "execution_count": 82,
   "metadata": {
    "collapsed": true
   },
   "outputs": [],
   "source": [
    "_run_qmc(tempfiledir = \"download_simseqs/\", \n",
    "         tempfilename=\"download_simseqs/quartets.txt\",\n",
    "         treename=\"tree4830.phy\",\n",
    "         tipnames=[i[0] for i in nameskey])"
   ]
  },
  {
   "cell_type": "markdown",
   "metadata": {
    "collapsed": true
   },
   "source": [
    "## Save block of snps and a map file"
   ]
  },
  {
   "cell_type": "code",
   "execution_count": 9,
   "metadata": {
    "collapsed": true
   },
   "outputs": [],
   "source": [
    "fname = \"download_simseqs/song-mammalian-bio_completely_processed/424genes/relabeled_data/1.fasta_relabeled.phy\""
   ]
  },
  {
   "cell_type": "code",
   "execution_count": 20,
   "metadata": {},
   "outputs": [
    {
     "name": "stdout",
     "output_type": "stream",
     "text": [
      "1\n",
      "2\n",
      "3\n",
      "4\n",
      "6\n",
      "7\n",
      "8\n",
      "9\n",
      "10\n",
      "12\n",
      "13\n",
      "14\n",
      "15\n",
      "16\n",
      "17\n",
      "18\n",
      "19\n",
      "20\n",
      "21\n",
      "22\n",
      "23\n",
      "24\n",
      "25\n",
      "26\n",
      "27\n",
      "28\n",
      "29\n",
      "30\n",
      "31\n",
      "32\n",
      "33\n",
      "34\n",
      "36\n",
      "37\n",
      "38\n",
      "39\n",
      "40\n",
      "41\n",
      "42\n",
      "43\n",
      "44\n",
      "45\n",
      "46\n",
      "48\n",
      "50\n",
      "51\n",
      "52\n",
      "53\n",
      "54\n",
      "55\n",
      "56\n",
      "57\n",
      "58\n",
      "59\n",
      "61\n",
      "62\n",
      "63\n",
      "64\n",
      "65\n",
      "66\n",
      "67\n",
      "68\n",
      "69\n",
      "70\n",
      "71\n",
      "72\n",
      "73\n",
      "74\n",
      "76\n",
      "77\n",
      "78\n",
      "79\n",
      "80\n",
      "81\n",
      "82\n",
      "83\n",
      "84\n",
      "85\n",
      "86\n",
      "87\n",
      "88\n",
      "89\n",
      "91\n",
      "92\n",
      "93\n",
      "94\n",
      "95\n",
      "96\n",
      "97\n",
      "98\n",
      "99\n",
      "100\n",
      "101\n",
      "102\n",
      "103\n",
      "104\n",
      "105\n",
      "106\n",
      "107\n",
      "108\n",
      "109\n",
      "110\n",
      "111\n",
      "112\n",
      "113\n",
      "114\n",
      "115\n",
      "116\n",
      "117\n",
      "118\n",
      "120\n",
      "121\n",
      "122\n",
      "123\n",
      "124\n",
      "125\n",
      "126\n",
      "127\n",
      "128\n",
      "129\n",
      "130\n",
      "131\n",
      "132\n",
      "133\n",
      "134\n",
      "135\n",
      "136\n",
      "137\n",
      "138\n",
      "139\n",
      "140\n",
      "141\n",
      "142\n",
      "143\n",
      "144\n",
      "145\n",
      "146\n",
      "147\n",
      "148\n",
      "149\n",
      "151\n",
      "152\n",
      "153\n",
      "154\n",
      "155\n",
      "156\n",
      "157\n",
      "158\n",
      "159\n",
      "160\n",
      "161\n",
      "162\n",
      "163\n",
      "164\n",
      "165\n",
      "166\n",
      "167\n",
      "169\n",
      "170\n",
      "171\n",
      "172\n",
      "173\n",
      "174\n",
      "175\n",
      "176\n",
      "177\n",
      "178\n",
      "179\n",
      "180\n",
      "181\n",
      "182\n",
      "183\n",
      "184\n",
      "185\n",
      "186\n",
      "187\n",
      "188\n",
      "189\n",
      "190\n",
      "191\n",
      "192\n",
      "193\n",
      "194\n",
      "195\n",
      "196\n",
      "198\n",
      "201\n",
      "202\n",
      "203\n",
      "204\n",
      "205\n",
      "206\n",
      "207\n",
      "208\n",
      "210\n",
      "211\n",
      "212\n",
      "213\n",
      "214\n",
      "215\n",
      "216\n",
      "217\n",
      "218\n",
      "219\n",
      "220\n",
      "221\n",
      "222\n",
      "223\n",
      "224\n",
      "225\n",
      "226\n",
      "227\n",
      "228\n",
      "229\n",
      "230\n",
      "231\n",
      "233\n",
      "234\n",
      "235\n",
      "236\n",
      "237\n",
      "238\n",
      "239\n",
      "240\n",
      "241\n",
      "242\n",
      "243\n",
      "244\n",
      "245\n",
      "246\n",
      "247\n",
      "248\n",
      "249\n",
      "250\n",
      "251\n",
      "252\n",
      "253\n",
      "254\n",
      "255\n",
      "256\n",
      "258\n",
      "259\n",
      "260\n",
      "261\n",
      "262\n",
      "263\n",
      "264\n",
      "265\n",
      "266\n",
      "267\n",
      "269\n",
      "270\n",
      "271\n",
      "272\n",
      "273\n",
      "274\n",
      "275\n",
      "276\n",
      "277\n",
      "278\n",
      "279\n",
      "280\n",
      "281\n",
      "282\n",
      "283\n",
      "284\n",
      "285\n",
      "286\n",
      "287\n",
      "288\n",
      "289\n",
      "290\n",
      "291\n",
      "292\n",
      "293\n",
      "294\n",
      "295\n",
      "296\n",
      "297\n",
      "298\n",
      "299\n",
      "300\n",
      "301\n",
      "302\n",
      "303\n",
      "304\n",
      "305\n",
      "306\n",
      "307\n",
      "308\n",
      "309\n",
      "310\n",
      "311\n",
      "312\n",
      "313\n",
      "314\n",
      "315\n",
      "316\n",
      "317\n",
      "318\n",
      "319\n",
      "320\n",
      "321\n",
      "322\n",
      "323\n",
      "324\n",
      "325\n",
      "326\n",
      "327\n",
      "328\n",
      "330\n",
      "331\n",
      "332\n",
      "333\n",
      "334\n",
      "335\n",
      "336\n",
      "337\n",
      "338\n",
      "339\n",
      "340\n",
      "341\n",
      "342\n",
      "343\n",
      "344\n",
      "345\n",
      "346\n",
      "347\n",
      "348\n",
      "349\n",
      "350\n",
      "351\n",
      "352\n",
      "353\n",
      "354\n",
      "355\n",
      "356\n",
      "357\n",
      "359\n",
      "360\n",
      "361\n",
      "362\n",
      "363\n",
      "364\n",
      "365\n",
      "366\n",
      "367\n",
      "368\n",
      "369\n",
      "370\n",
      "371\n",
      "372\n",
      "373\n",
      "374\n",
      "375\n",
      "376\n",
      "377\n",
      "378\n",
      "379\n",
      "380\n",
      "381\n",
      "382\n",
      "383\n",
      "384\n",
      "385\n",
      "386\n",
      "387\n",
      "388\n",
      "389\n",
      "390\n",
      "391\n",
      "392\n",
      "393\n",
      "394\n",
      "395\n",
      "396\n",
      "397\n",
      "398\n",
      "399\n",
      "400\n",
      "401\n",
      "402\n",
      "403\n",
      "404\n",
      "406\n",
      "407\n",
      "408\n",
      "409\n",
      "410\n",
      "411\n",
      "412\n",
      "413\n",
      "414\n",
      "415\n",
      "416\n",
      "417\n",
      "418\n",
      "419\n",
      "420\n",
      "421\n",
      "422\n",
      "423\n",
      "425\n",
      "426\n",
      "427\n",
      "428\n",
      "429\n",
      "430\n",
      "431\n",
      "432\n",
      "433\n",
      "435\n",
      "436\n",
      "437\n",
      "438\n",
      "439\n",
      "440\n",
      "441\n",
      "442\n",
      "443\n",
      "444\n",
      "445\n",
      "446\n",
      "447\n"
     ]
    },
    {
     "data": {
      "text/plain": [
       "721605"
      ]
     },
     "execution_count": 20,
     "metadata": {},
     "output_type": "execute_result"
    }
   ],
   "source": [
    "begins = [0]\n",
    "ends = []\n",
    "totalseqs = np.empty(shape = (0,37))\n",
    "for filenum in range(1,448):\n",
    "    fname = \"download_simseqs/song-mammalian-bio_completely_processed/424genes/relabeled_data/\"+str(filenum)+\".fasta_relabeled.phy\"\n",
    "    if Path(fname).is_file():\n",
    "        raw = open(fname, 'r')\n",
    "        snps = file.read(raw) \n",
    "        snps = snps.split('\\n')\n",
    "        # remove whitespace characters like `\\n` at the end of each line\n",
    "        snps = [xs.strip() for xs in snps] \n",
    "        snps.pop(0)\n",
    "        [snps.pop(i) for i in range(len(snps)) if not len(snps[i])]\n",
    "\n",
    "        snps = [snps[i].split(\" \") for i in range(len(snps))]\n",
    "        snps = [filter(None, snps[i]) for i in range(len(snps))]\n",
    "        \n",
    "        # make column and get rid of non-snps (if these exist)\n",
    "        snpcols = np.array([[snps[i][1][q] for i in range(len(snps))] for q in range(len(snps[0][1]))])\n",
    "        accepted = [snpcols[q] for q in range(len(snpcols)) if len(set(snpcols[q]).intersection(set(['A','G','C','T']))) > 1]\n",
    "        \n",
    "        # append the arrays \n",
    "        totalseqs = np.vstack([totalseqs,np.array(accepted)])\n",
    "        \n",
    "\n",
    "        # save map data\n",
    "        ends.append(begins[-1] + len(accepted))\n",
    "        begins.append(ends[-1])\n",
    "        print(filenum)\n",
    "# get rid of this extra map index\n",
    "begins.pop(len(begins)-1)"
   ]
  },
  {
   "cell_type": "code",
   "execution_count": 22,
   "metadata": {
    "collapsed": true
   },
   "outputs": [],
   "source": [
    "np.savetxt(\"download_simseqs/concat_mammal_genes.gz\",totalseqs,fmt=\"%s\")\n",
    "np.savetxt(\"download_simseqs/concat_mammal_map.gz\",np.array([begins,ends]))"
   ]
  },
  {
   "cell_type": "markdown",
   "metadata": {},
   "source": [
    "## Now load these files and infer quartets"
   ]
  },
  {
   "cell_type": "code",
   "execution_count": 8,
   "metadata": {
    "collapsed": true
   },
   "outputs": [],
   "source": [
    "totalseqs = np.genfromtxt(\"download_simseqs/concat_mammal_genes.gz\",dtype='str')\n",
    "snpmap = np.loadtxt(\"download_simseqs/concat_mammal_map.gz\").astype(int)"
   ]
  },
  {
   "cell_type": "code",
   "execution_count": 9,
   "metadata": {
    "collapsed": true
   },
   "outputs": [],
   "source": [
    "alltipcombns=np.array(list(itertools.combinations(range(37), 4)))\n",
    "alltipcombns = alltipcombns.astype(int)"
   ]
  },
  {
   "cell_type": "code",
   "execution_count": 10,
   "metadata": {
    "collapsed": true
   },
   "outputs": [],
   "source": [
    "genes_alltaxa = [totalseqs[snpmap[0][i]:snpmap[1][i]] for i in range(len(snpmap[0]))]"
   ]
  },
  {
   "cell_type": "markdown",
   "metadata": {},
   "source": [
    "The object `combocounter` keeps track of which combination we're on overall. The object `savecounter` keeps track of where we are in-between saves to the output .txt file and is reset every time we save data to that file."
   ]
  },
  {
   "cell_type": "markdown",
   "metadata": {},
   "source": [
    "This function starts to run slowly because for some reason memory isn't freed up as it loops. Added a `gc.collect()` function to try to fix this, without success. Either multiprocessing module or numba might fix this."
   ]
  },
  {
   "cell_type": "code",
   "execution_count": 11,
   "metadata": {
    "collapsed": true
   },
   "outputs": [],
   "source": [
    "combocounter = 0\n",
    "targetlen = len(alltipcombns)\n",
    "\n",
    "# the first time you run this, run the next two lines to make a new file:\n",
    "\n",
    "#orig_file = np.empty(shape = (0,4))\n",
    "#np.savetxt(\"download_simseqs/mammal_quarts.txt\",orig_file)\n",
    "\n",
    "while combocounter < (targetlen -1):\n",
    "    allpredictedquarts = np.empty(shape = (0,4))\n",
    "    gc.collect()\n",
    "    savecounter = 0 # this will be reset\n",
    "    while (savecounter < 200) and (combocounter < (targetlen)):\n",
    "        # set your current combination of four taxa\n",
    "        fourtaxa= alltipcombns[combocounter]\n",
    "\n",
    "        # get one snp at each locus -- might eventually be better to build a distribution at each locus, or \n",
    "        # at least compare quality of inference done both ways\n",
    "\n",
    "        # before, I'd been getting all informative, complete SNPs at each locus and then randomly selecting. \n",
    "        # Much more efficient this way, shuffling each locus randomly and then selecting first informative SNP\n",
    "\n",
    "        reducedgene = np.empty(shape = (0,4))\n",
    "        for geneidx in range(len(genes_alltaxa)):\n",
    "            currentgene = genes_alltaxa[geneidx]\n",
    "            orderedsamples = range(len(currentgene))\n",
    "            np.random.shuffle(orderedsamples)\n",
    "            trigger = 0\n",
    "            q = 0\n",
    "            while (trigger == 0) and (q < (len(currentgene)-1)):\n",
    "                currentgene = [genes_alltaxa[geneidx][orderedsamples[q]][taxon] for taxon in fourtaxa]\n",
    "                q += 1\n",
    "                if ((len(set(currentgene).union(set(['A','G','C','T']))) == 4) and (len(set(currentgene)) > 1)):\n",
    "                    reducedgene = np.vstack([reducedgene,currentgene])\n",
    "                    trigger = 1\n",
    "\n",
    "        snps = np.array(reducedgene)\n",
    "        possible_configs = [0,1,2,3]\n",
    "        snps = np.where(snps=='A',0,snps)\n",
    "        snps = np.where(snps=='C',1,snps)\n",
    "        snps = np.where(snps=='G',2,snps)\n",
    "        snps = np.where(snps=='T',3,snps)\n",
    "        snps = snps.astype(int)\n",
    "        finalsnps = snps\n",
    "\n",
    "        # make index matrix for each pair of bases. This assigns row / col number for full 16x16 matrix\n",
    "        indexmat = np.array(range(16))\n",
    "        indexmat.shape=(4,4)\n",
    "\n",
    "                # make 16x16 matrix of zeroes\n",
    "                # order across matrix is 00,01,02,03,10,11,12,13,20,21,22,23,30,31,32,33\n",
    "                # not good use of space\n",
    "        fullmat0123 = np.zeros(shape=(16,16))\n",
    "        arr0123 = finalsnps[:,possible_configs]\n",
    "        for i in range(len(arr0123)):\n",
    "                    # get row number \n",
    "            rownum = int(indexmat[arr0123[i][0:2][0],arr0123[i][0:2][1]])\n",
    "                    # get col number\n",
    "            colnum = int(indexmat[arr0123[i][2:4][0],arr0123[i][2:4][1]])\n",
    "            fullmat0123[rownum,colnum] = fullmat0123[rownum,colnum] + 1\n",
    "        prediction = sess.run(y, feed_dict={x: [(fullmat0123.flatten()/max(fullmat0123.flatten()))]})\n",
    "        allpredictedquarts = np.vstack([allpredictedquarts,[fourtaxa[i] for i in [[0,1,2,3],[0,2,1,3],[0,3,1,2]][int(tf.argmax(prediction,1).eval())]]])\n",
    "        #print(str(savecounter) +\" \" + str(combocounter))\n",
    "        savecounter += 1\n",
    "        combocounter += 1\n",
    "    f_handle = file(\"download_simseqs/mammal_quarts.txt\",\"a\")\n",
    "    np.savetxt(f_handle,allpredictedquarts.astype(int))\n",
    "    f_handle.close()\n",
    "    \n"
   ]
  },
  {
   "cell_type": "markdown",
   "metadata": {},
   "source": [
    "### Once this is done, make your tree!"
   ]
  },
  {
   "cell_type": "code",
   "execution_count": 17,
   "metadata": {
    "collapsed": true
   },
   "outputs": [],
   "source": [
    "allpredictedquarts = np.loadtxt(\"download_simseqs/mammal_quarts.txt\")"
   ]
  },
  {
   "cell_type": "code",
   "execution_count": 18,
   "metadata": {
    "collapsed": true
   },
   "outputs": [
    {
     "data": {
      "text/plain": [
       "['Mac',\n",
       " 'New',\n",
       " 'Sor',\n",
       " 'Gor',\n",
       " 'Oto',\n",
       " 'Spe',\n",
       " 'Ory',\n",
       " 'Tup',\n",
       " 'Dip',\n",
       " 'Tur',\n",
       " 'Mic',\n",
       " 'Eri',\n",
       " 'Och',\n",
       " 'Lox',\n",
       " 'Fel',\n",
       " 'Tar',\n",
       " 'Pro',\n",
       " 'Ech',\n",
       " 'Das',\n",
       " 'Myo',\n",
       " 'Mus',\n",
       " 'Rat',\n",
       " 'Cav',\n",
       " 'Cho',\n",
       " 'Bos',\n",
       " 'Cal',\n",
       " 'Pon',\n",
       " 'Hom',\n",
       " 'Pan',\n",
       " 'Sus',\n",
       " 'Vic',\n",
       " 'Can',\n",
       " 'Pte',\n",
       " 'Equ',\n",
       " 'Gal',\n",
       " 'Mon',\n",
       " 'Orn']"
      ]
     },
     "execution_count": 18,
     "metadata": {},
     "output_type": "execute_result"
    }
   ],
   "source": [
    "with open(\"download_simseqs/song-mammalian-bio_completely_processed/taxa_dict.txt\") as f:\n",
    "    test = f.readlines()\n",
    "test = [x.strip() for x in test]\n",
    "nameskey = [test[i].split(\"\\t\") for i in range(len(test))]\n",
    "[i[0] for i in nameskey] # this gives just the names"
   ]
  },
  {
   "cell_type": "code",
   "execution_count": 45,
   "metadata": {
    "collapsed": true
   },
   "outputs": [],
   "source": [
    "dump_qmc(quartets = (allpredictedquarts.astype(int)+1),tempfiledir= \"download_simseqs/\")\n",
    "_run_qmc(tempfiledir = \"download_simseqs/\", \n",
    "         tempfilename=\"download_simseqs/quartets.txt\",\n",
    "         treename=\"treeFULL.phy\",\n",
    "         tipnames=[i[0] for i in nameskey])"
   ]
  },
  {
   "cell_type": "markdown",
   "metadata": {},
   "source": [
    "### This tree is not very accurrate, suggesting either our network isn't designed well or hasn't been trained on appropriate data. To figure this out, we should take the same model and try it out on simulated data that matches the mammal gene data. If it performs poorly (as I expect), we should train on matching data and see if results improve. If so, retry this on the mammal gene data. If it performs well, then perhaps the problem is less with quartet inference and has more to do with tree reconstruction (perhaps QMC isn't meant to be used on such large trees). Could test quartet-by-quartet to see."
   ]
  },
  {
   "cell_type": "markdown",
   "metadata": {},
   "source": [
    "### First: write out a function that we can improve on."
   ]
  },
  {
   "cell_type": "code",
   "execution_count": 31,
   "metadata": {},
   "outputs": [],
   "source": [
    "def dump_qmc(quartets,tempfiledir):\n",
    "    \"\"\"\n",
    "    Writes the inferred quartet sets from the database to a text \n",
    "    file to be used as input for QMC. Quartets that had no information\n",
    "    available (i.e., no SNPs) were written to the database as 0,0,0,0\n",
    "    and are excluded here from the output.\n",
    "    \"\"\"\n",
    "\n",
    "    ## open the h5 database\n",
    "    #with h5py.File(self.database.output, 'r') as io5:\n",
    "\n",
    "        ## create an output file for writing\n",
    "    tempfile = os.path.join(tempfiledir,\"quartets.txt\")\n",
    "    with open(tempfile, 'w') as qdump:\n",
    "\n",
    "        ## pull from db\n",
    "        #for idx in xrange(0, self.params.nquartets, self._chunksize):\n",
    "            #quarts = quartets\n",
    "\n",
    "            ## shuffle and format for qmc\n",
    "            #np.random.shuffle(quarts)\n",
    "            chunk = [\"{},{}|{},{}\".format(*i) for i in quartets]\n",
    "            qdump.write(\"\\n\".join(chunk)+\"\\n\")\n",
    "\n",
    "\n",
    "def _run_qmc(tempfiledir, tempfilename,treename,tipnames):\n",
    "    \"\"\"\n",
    "    Runs quartet max-cut QMC on the quartets qdump file.\n",
    "    \"\"\"\n",
    "\n",
    "    ## build command\n",
    "    thetmptree = os.path.join(tempfiledir, \"tmptre.phy\")\n",
    "    cmd = [ip.bins.qmc, \"qrtt=\"+tempfilename, \"otre=\"+thetmptree]\n",
    "\n",
    "    ## run it\n",
    "    proc = subprocess.Popen(cmd, stderr=subprocess.STDOUT, stdout=subprocess.PIPE)\n",
    "    res = proc.communicate()\n",
    "    #if proc.returncode:\n",
    "    #    print(proc.returncode)\n",
    "    #    raise IPyradWarningExit(res[1])\n",
    "\n",
    "    ## parse tmp file written by qmc into a tree and rename it\n",
    "    with open(thetmptree, 'r') as intree:\n",
    "        tre = ete3.Tree(intree.read().strip())\n",
    "        names = tre.get_leaves()\n",
    "        for name in names:\n",
    "            name.name = tipnames[(int(name.name)-1)]\n",
    "        tmptre = tre.write(format=9)\n",
    "\n",
    "    ## save the tree to file\n",
    "    #if boot:\n",
    "    #    self.trees.boots = os.path.join(self.dirs, self.name+\".boots\")\n",
    "    #    with open(self.trees.boots, 'a') as outboot:\n",
    "    #        outboot.write(tmptre+\"\\n\")\n",
    "    #else:\n",
    "    treepath  = os.path.join(tempfiledir, treename+\".tree\")\n",
    "    with open(treepath, 'w') as outtree:\n",
    "        outtree.write(tmptre)\n",
    "\n",
    "    ## save the file\n",
    "    #treepath._save()\n",
    "@contextlib.contextmanager\n",
    "def nostdout():\n",
    "    save_stdout = sys.stdout\n",
    "    sys.stdout = io.BytesIO()\n",
    "    yield\n",
    "    sys.stdout = save_stdout\n",
    "\n",
    "def run_mammal_inf(totalseqs_path,\n",
    "                     snpmap_path,\n",
    "                     output_path,\n",
    "                     writing_interval = 200,\n",
    "                     starting_combo = 0\n",
    "                    ):\n",
    "    totalseqs = np.genfromtxt(totalseqs_path,dtype='str')\n",
    "    snpmap = np.loadtxt(snpmap_path).astype(int)\n",
    "\n",
    "    alltipcombns=np.array(list(itertools.combinations(range(len(totalseqs[0])), 4)))\n",
    "    alltipcombns = alltipcombns.astype(int)\n",
    "\n",
    "    genes_alltaxa = [totalseqs[snpmap[0][i]:snpmap[1][i]] for i in range(len(snpmap[0]))]\n",
    "\n",
    "    if not starting_combo:\n",
    "        combocounter = 0\n",
    "        orig_file = np.empty(shape = (0,4))\n",
    "        np.savetxt(output_path,orig_file)\n",
    "    else:\n",
    "        combocounter = starting_combo\n",
    "    targetlen = len(alltipcombns)\n",
    "\n",
    "    # the first time you run this, run the next two lines to make a new file:\n",
    "\n",
    "    #orig_file = np.empty(shape = (0,4))\n",
    "    #np.savetxt(\"download_simseqs/mammal_quarts.txt\",orig_file)\n",
    "\n",
    "    while combocounter < (targetlen -1):\n",
    "        allpredictedquarts = np.empty(shape = (0,4))\n",
    "        gc.collect()\n",
    "        savecounter = 0 # this will be reset\n",
    "        while (savecounter < writing_interval) and (combocounter < (targetlen)):\n",
    "            # set your current combination of four taxa\n",
    "            fourtaxa= alltipcombns[combocounter]\n",
    "\n",
    "            # get one snp at each locus -- might eventually be better to build a distribution at each locus, or \n",
    "            # at least compare quality of inference done both ways\n",
    "\n",
    "            # before, I'd been getting all informative, complete SNPs at each locus and then randomly selecting. \n",
    "            # Much more efficient this way, shuffling each locus randomly and then selecting first informative SNP\n",
    "\n",
    "            reducedgene = np.empty(shape = (0,4))\n",
    "            for geneidx in range(len(genes_alltaxa)):\n",
    "                currentgene = genes_alltaxa[geneidx]\n",
    "                orderedsamples = range(len(currentgene))\n",
    "                np.random.shuffle(orderedsamples)\n",
    "                trigger = 0\n",
    "                q = 0\n",
    "                while (trigger == 0) and (q < (len(currentgene)-1)):\n",
    "                    currentgene = [genes_alltaxa[geneidx][orderedsamples[q]][taxon] for taxon in fourtaxa]\n",
    "                    q += 1\n",
    "                    if ((len(set(currentgene).union(set(['A','G','C','T']))) == 4) and (len(set(currentgene)) > 1)):\n",
    "                        reducedgene = np.vstack([reducedgene,currentgene])\n",
    "                        trigger = 1\n",
    "\n",
    "            arr0123 = np.array(reducedgene)\n",
    "            possible_configs = [0,1,2,3]\n",
    "            arr0123 = np.where(arr0123=='A',0,arr0123)\n",
    "            arr0123 = np.where(arr0123=='C',1,arr0123)\n",
    "            arr0123 = np.where(arr0123=='G',2,arr0123)\n",
    "            arr0123 = np.where(arr0123=='T',3,arr0123)\n",
    "            arr0123 = arr0123.astype(int)\n",
    "\n",
    "            # make index matrix for each pair of bases. This assigns row / col number for full 16x16 matrix\n",
    "            indexmat = np.array(range(16))\n",
    "            indexmat.shape=(4,4)\n",
    "\n",
    "                    # make 16x16 matrix of zeroes\n",
    "                    # order across matrix is 00,01,02,03,10,11,12,13,20,21,22,23,30,31,32,33\n",
    "                    # not good use of space\n",
    "            fullmat0123 = np.zeros(shape=(16,16))\n",
    "            for i in range(len(arr0123)):\n",
    "                        # get row number \n",
    "                rownum = int(indexmat[arr0123[i][0:2][0],arr0123[i][0:2][1]])\n",
    "                        # get col number\n",
    "                colnum = int(indexmat[arr0123[i][2:4][0],arr0123[i][2:4][1]])\n",
    "                fullmat0123[rownum,colnum] = fullmat0123[rownum,colnum] + 1\n",
    "            # comment this as TEST\n",
    "            #prediction = sess.run(y, feed_dict={x: [(fullmat0123.flatten()/max(fullmat0123.flatten()))]})\n",
    "            tf.reset_default_graph()\n",
    "            x = tf.placeholder(tf.float32, [None, 256])\n",
    "            W = tf.Variable(tf.zeros([256, 3]))\n",
    "            b = tf.Variable(tf.zeros([3]))\n",
    "\n",
    "            y = tf.nn.softmax(tf.matmul(x, W) + b)\n",
    "\n",
    "            y_ = tf.placeholder(tf.float32, [None, 3])\n",
    "            # Add ops to save and restore all the variables.\n",
    "            saver = tf.train.Saver()\n",
    "\n",
    "            # Later, launch the model, use the saver to restore variables from disk, and\n",
    "            # do some work with the model.\n",
    "            with tf.Session() as sess:\n",
    "                # Restore variables from disk.\n",
    "                with nostdout():\n",
    "                    saver.restore(sess, \"download_simseqs/saved_mo.ckpt\")\n",
    "                #print(\"Model restored.\")\n",
    "                predictions = sess.run(y, feed_dict={x: [(fullmat0123.flatten()/max(fullmat0123.flatten()))]})\n",
    "                prediction = predictions[0];\n",
    "            \n",
    "            allpredictedquarts = np.vstack([allpredictedquarts,[fourtaxa[i] for i in [[0,1,2,3],[0,2,1,3],[0,3,1,2]][int(np.argmax(prediction))]]])\n",
    "            #DELETE THIS EVENTUALLY AND USE THE LINE ABOVE\n",
    "            #allpredictedquarts = np.vstack([allpredictedquarts,[fourtaxa[i] for i in [[0,1,2,3],[0,2,1,3],[0,3,1,2]][0]]])\n",
    "            #print(str(savecounter) +\" \" + str(combocounter))\n",
    "            \n",
    "            savecounter += 1\n",
    "            combocounter += 1\n",
    "        f_handle = file(output_path,\"a\")\n",
    "        np.savetxt(f_handle,allpredictedquarts.astype(int))\n",
    "        f_handle.close()\n",
    "    return;\n"
   ]
  },
  {
   "cell_type": "code",
   "execution_count": 106,
   "metadata": {
    "collapsed": true
   },
   "outputs": [],
   "source": [
    "run_mammal_inf(totalseqs_path = \"download_simseqs/concat_mammal_genes.gz\",\n",
    "                 snpmap_path = \"download_simseqs/concat_mammal_map.gz\",\n",
    "                 output_path = \"download_simseqs/testingfunc.txt\",\n",
    "                 writing_interval = 200,\n",
    "                 starting_combo = 0)"
   ]
  },
  {
   "cell_type": "code",
   "execution_count": 110,
   "metadata": {
    "collapsed": true
   },
   "outputs": [],
   "source": [
    "allpredictedquarts = np.loadtxt(\"download_simseqs/testingfunc.txt\")\n",
    "with open(\"download_simseqs/song-mammalian-bio_completely_processed/taxa_dict.txt\") as f:\n",
    "    test = f.readlines()\n",
    "test = [x.strip() for x in test]\n",
    "nameskey = [test[i].split(\"\\t\") for i in range(len(test))]\n",
    "dump_qmc(quartets = (allpredictedquarts.astype(int)+1),tempfiledir= \"download_simseqs/\")\n",
    "_run_qmc(tempfiledir = \"download_simseqs/\", \n",
    "         tempfilename=\"download_simseqs/quartets.txt\",\n",
    "         treename=\"treeFULLagain.phy\",\n",
    "         tipnames=[i[0] for i in nameskey])"
   ]
  },
  {
   "cell_type": "markdown",
   "metadata": {},
   "source": [
    "### Testing performance of the long-sequence-trained model on shorter simulated sequences."
   ]
  },
  {
   "cell_type": "code",
   "execution_count": 9,
   "metadata": {
    "collapsed": true
   },
   "outputs": [],
   "source": [
    "images = []\n",
    "labels = []\n",
    "\n",
    "for i in range(1,2001):\n",
    "    test = compare_quint_pred_actual(sequencedata=\"tree_seqs/test\" + str(i) + \".dat\",phylogeny=\"random_trees/samp\" + str(i) + \".phy\",tipnames=[\"t1\",\"t2\",\"t3\",\"t4\"])\n",
    "    images.append(test[4].flatten()/max(test[4].flatten()))\n",
    "    labels.append(test[3])"
   ]
  },
  {
   "cell_type": "code",
   "execution_count": 14,
   "metadata": {
    "collapsed": true
   },
   "outputs": [],
   "source": [
    "images_ = []\n",
    "labels_ = []\n",
    "\n",
    "for i in range(2001,3001):\n",
    "    test = compare_quint_pred_actual(sequencedata=\"tree_seqs/test\" + str(i) + \".dat\",phylogeny=\"random_trees/samp\" + str(i) + \".phy\",tipnames=[\"t1\",\"t2\",\"t3\",\"t4\"])\n",
    "    images_.append(test[4].flatten()/max(test[4].flatten()))\n",
    "    labels_.append(test[3])"
   ]
  },
  {
   "cell_type": "code",
   "execution_count": 19,
   "metadata": {},
   "outputs": [
    {
     "name": "stdout",
     "output_type": "stream",
     "text": [
      "0.976\n"
     ]
    }
   ],
   "source": [
    "tf.reset_default_graph()\n",
    "x = tf.placeholder(tf.float32, [None, 256])\n",
    "W = tf.Variable(tf.zeros([256, 3]))\n",
    "b = tf.Variable(tf.zeros([3]))\n",
    "\n",
    "y = tf.nn.softmax(tf.matmul(x, W) + b)\n",
    "\n",
    "y_ = tf.placeholder(tf.float32, [None, 3])\n",
    "\n",
    "cross_entropy = tf.reduce_mean(-tf.reduce_sum(y_ * tf.log(y), reduction_indices=[1]))\n",
    "\n",
    "train_step = tf.train.GradientDescentOptimizer(0.6).minimize(cross_entropy)\n",
    "\n",
    "saver = tf.train.Saver()\n",
    "\n",
    "init = tf.global_variables_initializer()\n",
    "# Launch the graph\n",
    "with tf.Session() as sess:\n",
    "    sess.run(init)\n",
    "\n",
    "\n",
    "    #sess = tf.InteractiveSession()\n",
    "    #tf.global_variables_initializer().run()\n",
    "\n",
    "    for _ in range(1000):\n",
    "      batch = np.random.choice(1000, 50)\n",
    "      batch_xs, batch_ys = np.array([images[i] for i in batch]),np.array([labels[i] for i in batch])\n",
    "      sess.run(train_step, feed_dict={x: batch_xs, y_: batch_ys})\n",
    "    correct_prediction = tf.equal(tf.argmax(y,1), tf.argmax(y_,1))\n",
    "\n",
    "    accuracy = tf.reduce_mean(tf.cast(correct_prediction, tf.float32))\n",
    "    print(sess.run(accuracy, feed_dict={x: images_, y_: labels_}))"
   ]
  },
  {
   "cell_type": "code",
   "execution_count": 52,
   "metadata": {},
   "outputs": [],
   "source": [
    "from Bio import Phylo\n",
    "import toytree\n",
    "import matplotlib\n",
    "from ete3 import Tree"
   ]
  },
  {
   "cell_type": "code",
   "execution_count": 45,
   "metadata": {
    "collapsed": true
   },
   "outputs": [],
   "source": [
    "mytree = Phylo.read(\"/Users/pmckenz1/Desktop/projects/quartet_proj/download_simseqs/relabeled_combined.tre\",\"newick\")"
   ]
  },
  {
   "cell_type": "code",
   "execution_count": null,
   "metadata": {
    "collapsed": true
   },
   "outputs": [],
   "source": [
    "for i in range(len(mytree.get_terminals())):\n",
    "    mytree.get_terminals()[i].name = \"t\" + mytree.get_terminals()[i].name"
   ]
  },
  {
   "cell_type": "code",
   "execution_count": 47,
   "metadata": {
    "scrolled": false
   },
   "outputs": [
    {
     "data": {
      "image/png": "[encoded data removed]",
      "text/plain": [
       "<matplotlib.figure.Figure at 0x125a0c390>"
      ]
     },
     "metadata": {},
     "output_type": "display_data"
    }
   ],
   "source": [
    "Phylo.draw(mytree)"
   ]
  },
  {
   "cell_type": "markdown",
   "metadata": {},
   "source": [
    "### If no branch lengths"
   ]
  },
  {
   "cell_type": "code",
   "execution_count": 69,
   "metadata": {
    "scrolled": true
   },
   "outputs": [],
   "source": [
    "mytree = Tree(\"/Users/pmckenz1/Desktop/projects/quartet_proj/download_simseqs/relabeled_combined.tre\")"
   ]
  },
  {
   "cell_type": "code",
   "execution_count": 70,
   "metadata": {
    "collapsed": true
   },
   "outputs": [],
   "source": [
    "alltipcombns = np.array(list(itertools.combinations((np.array(range(37))+1), 4)))"
   ]
  },
  {
   "cell_type": "code",
   "execution_count": 71,
   "metadata": {
    "collapsed": true
   },
   "outputs": [],
   "source": [
    "alltruequarts = np.empty(shape = (0,4))\n",
    "\n",
    "for combo in range(len(alltipcombns)):\n",
    "\n",
    "    # make an array of the pairwise distances in current quartet\n",
    "\n",
    "    distmat= np.array(( #mytree.distance((\"t\"+str(alltipcombns[0][0])),(\"t\"+str(alltipcombns[0][0]))),\n",
    "                        mytree.get_distance((str(alltipcombns[combo][0])),(str(alltipcombns[combo][1]))),\n",
    "                        mytree.get_distance((str(alltipcombns[combo][0])),(str(alltipcombns[combo][2]))),\n",
    "                        mytree.get_distance((str(alltipcombns[combo][0])),(str(alltipcombns[combo][3]))),\n",
    "                        #mytree.distance((\"t\"+str(alltipcombns[0][1])),(\"t\"+str(alltipcombns[0][0]))),\n",
    "                        #mytree.distance((\"t\"+str(alltipcombns[0][1])),(\"t\"+str(alltipcombns[0][1]))),\n",
    "                        mytree.get_distance((str(alltipcombns[combo][1])),(str(alltipcombns[combo][2]))),\n",
    "                        mytree.get_distance((str(alltipcombns[combo][1])),(str(alltipcombns[combo][3]))),\n",
    "                        #mytree.distance((\"t\"+str(alltipcombns[0][2])),(\"t\"+str(alltipcombns[0][0]))),\n",
    "                        #mytree.distance((\"t\"+str(alltipcombns[0][2])),(\"t\"+str(alltipcombns[0][1]))),\n",
    "                        #mytree.distance((\"t\"+str(alltipcombns[0][2])),(\"t\"+str(alltipcombns[0][2]))),\n",
    "                        mytree.get_distance((str(alltipcombns[combo][2])),(str(alltipcombns[combo][3]))),\n",
    "                        #mytree.distance((\"t\"+str(alltipcombns[0][3])),(\"t\"+str(alltipcombns[0][0]))),\n",
    "                        #mytree.distance((\"t\"+str(alltipcombns[0][3])),(\"t\"+str(alltipcombns[0][1]))),\n",
    "                        #mytree.distance((\"t\"+str(alltipcombns[0][3])),(\"t\"+str(alltipcombns[0][2]))),\n",
    "                        #mytree.distance((\"t\"+str(alltipcombns[0][3])),(\"t\"+str(alltipcombns[0][3])))) )\n",
    "    ))\n",
    "\n",
    "    # now select the closest two and group them against the other two.\n",
    "\n",
    "    closest2 = [[0,1],[0,2],[0,3],[1,2],[1,3],[2,3]][np.argmin(distmat)] # corresponds to each distance comparison\n",
    "    truequartetidxs = closest2+list(set([0,1,2,3]) - set(closest2)) # make the true quartet\n",
    "    truequartet = [alltipcombns[combo][i] for i in truequartetidxs]\n",
    "    alltruequarts = np.vstack([alltruequarts,np.array(truequartet)])\n",
    "alltruequarts = alltruequarts.astype(int)"
   ]
  },
  {
   "cell_type": "markdown",
   "metadata": {},
   "source": [
    "### If branch lengths"
   ]
  },
  {
   "cell_type": "code",
   "execution_count": 25,
   "metadata": {},
   "outputs": [],
   "source": [
    "alltruequarts = np.empty(shape = (0,4))\n",
    "\n",
    "for combo in range(len(alltipcombns)):\n",
    "\n",
    "    # make an array of the pairwise distances in current quartet\n",
    "\n",
    "    distmat= np.array(( #mytree.distance((\"t\"+str(alltipcombns[0][0])),(\"t\"+str(alltipcombns[0][0]))),\n",
    "                        mytree.distance((\"t\"+str(alltipcombns[combo][0])),(\"t\"+str(alltipcombns[combo][1]))),\n",
    "                        mytree.distance((\"t\"+str(alltipcombns[combo][0])),(\"t\"+str(alltipcombns[combo][2]))),\n",
    "                        mytree.distance((\"t\"+str(alltipcombns[combo][0])),(\"t\"+str(alltipcombns[combo][3]))),\n",
    "                        #mytree.distance((\"t\"+str(alltipcombns[0][1])),(\"t\"+str(alltipcombns[0][0]))),\n",
    "                        #mytree.distance((\"t\"+str(alltipcombns[0][1])),(\"t\"+str(alltipcombns[0][1]))),\n",
    "                        mytree.distance((\"t\"+str(alltipcombns[combo][1])),(\"t\"+str(alltipcombns[combo][2]))),\n",
    "                        mytree.distance((\"t\"+str(alltipcombns[combo][1])),(\"t\"+str(alltipcombns[combo][3]))),\n",
    "                        #mytree.distance((\"t\"+str(alltipcombns[0][2])),(\"t\"+str(alltipcombns[0][0]))),\n",
    "                        #mytree.distance((\"t\"+str(alltipcombns[0][2])),(\"t\"+str(alltipcombns[0][1]))),\n",
    "                        #mytree.distance((\"t\"+str(alltipcombns[0][2])),(\"t\"+str(alltipcombns[0][2]))),\n",
    "                        mytree.distance((\"t\"+str(alltipcombns[combo][2])),(\"t\"+str(alltipcombns[combo][3]))),\n",
    "                        #mytree.distance((\"t\"+str(alltipcombns[0][3])),(\"t\"+str(alltipcombns[0][0]))),\n",
    "                        #mytree.distance((\"t\"+str(alltipcombns[0][3])),(\"t\"+str(alltipcombns[0][1]))),\n",
    "                        #mytree.distance((\"t\"+str(alltipcombns[0][3])),(\"t\"+str(alltipcombns[0][2]))),\n",
    "                        #mytree.distance((\"t\"+str(alltipcombns[0][3])),(\"t\"+str(alltipcombns[0][3])))) )\n",
    "    ))\n",
    "\n",
    "    # now select the closest two and group them against the other two.\n",
    "\n",
    "    closest2 = [[0,1],[0,2],[0,3],[1,2],[1,3],[2,3]][np.argmin(distmat)] # corresponds to each distance comparison\n",
    "    truequartetidxs = closest2+list(set([0,1,2,3]) - set(closest2)) # make the true quartet\n",
    "    truequartet = [alltipcombns[combo][i] for i in truequartetidxs]\n",
    "    alltruequarts = np.vstack([alltruequarts,np.array(truequartet)])\n",
    "alltruequarts = alltruequarts.astype(int)"
   ]
  },
  {
   "cell_type": "code",
   "execution_count": 72,
   "metadata": {},
   "outputs": [
    {
     "data": {
      "text/plain": [
       "array([[ 2,  4,  1,  3],\n",
       "       [ 2,  5,  1,  3],\n",
       "       [ 1,  3,  2,  6],\n",
       "       [ 1,  3,  2,  7],\n",
       "       [ 2,  8,  1,  3],\n",
       "       [ 1,  3,  2,  9],\n",
       "       [ 1,  3,  2, 10],\n",
       "       [ 2, 11,  1,  3],\n",
       "       [ 3, 12,  1,  2],\n",
       "       [ 1,  3,  2, 13]])"
      ]
     },
     "execution_count": 72,
     "metadata": {},
     "output_type": "execute_result"
    }
   ],
   "source": [
    "alltruequarts[0:10]"
   ]
  },
  {
   "cell_type": "code",
   "execution_count": 73,
   "metadata": {},
   "outputs": [],
   "source": [
    "dump_qmc(quartets = alltruequarts,tempfiledir= \"download_simseqs/\")"
   ]
  },
  {
   "cell_type": "markdown",
   "metadata": {},
   "source": [
    "### if \"t[number]\" tip names"
   ]
  },
  {
   "cell_type": "code",
   "execution_count": 33,
   "metadata": {
    "collapsed": true
   },
   "outputs": [],
   "source": [
    "_run_qmc(tempfiledir = \"download_simseqs/\", \n",
    "         tempfilename=\"download_simseqs/quartets.txt\",\n",
    "         treename=\"simtreeTRUE.phy\",\n",
    "         tipnames=[\"t\" + str(i+1) for i in range(37)])"
   ]
  },
  {
   "cell_type": "markdown",
   "metadata": {},
   "source": [
    "### if [number] tip names"
   ]
  },
  {
   "cell_type": "code",
   "execution_count": 74,
   "metadata": {
    "collapsed": true
   },
   "outputs": [],
   "source": [
    "_run_qmc(tempfiledir = \"download_simseqs/\", \n",
    "         tempfilename=\"download_simseqs/quartets.txt\",\n",
    "         treename=\"simtreeTRUE.phy\",\n",
    "         tipnames=[str(i+1) for i in range(37)])"
   ]
  },
  {
   "cell_type": "markdown",
   "metadata": {},
   "source": [
    "### Deren code to test QMC"
   ]
  },
  {
   "cell_type": "code",
   "execution_count": 101,
   "metadata": {
    "collapsed": true
   },
   "outputs": [],
   "source": [
    "import subprocess as sps\n",
    "class QMC_test(object):\n",
    "    def __init__(self, ntips):\n",
    "        \n",
    "        ## load in tree\n",
    "        self.toytree = toytree.rtree(ntips)\n",
    "        self.tree = self.toytree.tree\n",
    "        self.namedict = {}\n",
    "\n",
    "        ## convert tip names to indexes\n",
    "        leaf = 0\n",
    "        for node in self.tree.traverse():\n",
    "            if node.is_leaf():\n",
    "                ## store old name\n",
    "                self.namedict[leaf] = node.name\n",
    "                ## set new name\n",
    "                node.name = leaf\n",
    "                ## advance counter\n",
    "                leaf += 1    \n",
    "\n",
    "        \n",
    "    ## methods \n",
    "    def get_all_combs(self, set1, set2, as_list=False):\n",
    "        qiter = (sorted(i) + sorted(j) for (i, j) in itertools.product(\n",
    "                    itertools.combinations(set1, 2), \n",
    "                    itertools.combinations(set2, 2),\n",
    "                ))\n",
    "        \n",
    "        ## option to return as list \n",
    "        if as_list:\n",
    "            return list(qiter)\n",
    "        ## but returning as generator is more efficient\n",
    "        else:\n",
    "            return qiter\n",
    "\n",
    "        \n",
    "    def decompose_to_quartets(self):\n",
    "                \n",
    "        ## store quartet sets\n",
    "        qrts = set()\n",
    "        \n",
    "        ## get all tips in tree as a set\n",
    "        n_all = set(self.tree.get_leaf_names())\n",
    "    \n",
    "        ## traverse tree\n",
    "        for node in self.tree.traverse():\n",
    "            ## skip root or tip nodes\n",
    "            if not (node.is_root() or node.is_leaf()):\n",
    "                \n",
    "                ## get all tips below this node\n",
    "                below = set(node.get_leaf_names())\n",
    "                above = n_all - below\n",
    "\n",
    "                ## get all combinations of 2 above and 2 below this node\n",
    "                for qrt in self.get_all_combs(above, below):\n",
    "                   \n",
    "                    ## add to quartet set\n",
    "                    qrts.add(tuple(sorted(qrt)))\n",
    "        \n",
    "        ## store qrts  \n",
    "        return qrts\n",
    "    \n",
    "    \n",
    "    def write_qrts_to_qmc_format(self, qrts):\n",
    "        dump = [\"{},{}|{},{}\".format(*i) for i in qrts]\n",
    "        with open(\"quartets.txt\", \"w\") as outfile:\n",
    "            outfile.write(\"\\n\".join(dump))\n",
    "            \n",
    "            \n",
    "    def run_qmc_on_quartets_file(self):\n",
    "        \n",
    "        ## run qmc on quartets file\n",
    "        cmd = [ip.bins.qmc, \"qrtt=./quartets.txt\", \"otre=./tre.tmp\"]\n",
    "        proc = sps.Popen(cmd)\n",
    "        proc.communicate()\n",
    "        \n",
    "        ## read in tree file and return as toytree object\n",
    "        tre = toytree.tree(\"./tre.tmp\")\n",
    "                \n",
    "        ## put names back onto qmc tree tips\n",
    "        for node in tre.tree.traverse():\n",
    "            if node.is_leaf():\n",
    "                node.name = self.namedict[int(node.name)]\n",
    "        \n",
    "        return tre\n",
    "        \n",
    "            \n",
    "    def run(self):\n",
    "        ## get quartets\n",
    "        qrts = self.decompose_to_quartets()\n",
    "        \n",
    "        ## dump to qmc to write quartets file\n",
    "        self.write_qrts_to_qmc_format(qrts)\n",
    "        \n",
    "        ## infer supertree\n",
    "        tre = self.run_qmc_on_quartets_file()\n",
    "\n",
    "        return tre\n",
    "    \n",
    "    \n",
    "    def run_reps_on_same_quartets_file(self, nreps):\n",
    "\n",
    "        ## test over replicate runs\n",
    "        reps = []\n",
    "\n",
    "        ## draw the true tree\n",
    "        qmc.toytree.draw(width=300, height=350);\n",
    "\n",
    "        ## reuse the same set of quartets in each rep\n",
    "        qrts = qmc.decompose_to_quartets()\n",
    "\n",
    "        ## write quartets to file\n",
    "        qmc.write_qrts_to_qmc_format(qrts)\n",
    "\n",
    "        ## store number of inferred trees with a difference\n",
    "        diff = 0\n",
    "\n",
    "        ## iterate over reps\n",
    "        for rep in range(nreps):\n",
    "            tre = qmc.run_qmc_on_quartets_file()\n",
    "            reps.append(tre)\n",
    "\n",
    "            ## measure difference using robinson-foulds\n",
    "            rb = qmc.tree.robinson_foulds(tre.tree, unrooted_trees=True)\n",
    "\n",
    "            ## if any difference store it\n",
    "            if rb[0]:\n",
    "                diff += 1\n",
    "\n",
    "        print \"{} trees different / {} total runs\".format(diff, nreps)"
   ]
  },
  {
   "cell_type": "code",
   "execution_count": 94,
   "metadata": {
    "collapsed": true
   },
   "outputs": [],
   "source": [
    "qmc = QMC_test(20)"
   ]
  },
  {
   "cell_type": "code",
   "execution_count": 112,
   "metadata": {},
   "outputs": [
    {
     "data": {
      "text/plain": [
       "(<toyplot.canvas.Canvas at 0x12b614790>,\n",
       " <toyplot.coordinates.Cartesian at 0x12b9aeb90>)"
      ]
     },
     "execution_count": 112,
     "metadata": {},
     "output_type": "execute_result"
    },
    {
     "data": {
      "text/html": [
       "<div class=\"toyplot\" id=\"t7d26f0bd9ec54d809a2a48114eebef5a\" style=\"text-align:center\"><svg class=\"toyplot-canvas-Canvas\" height=\"500.0px\" id=\"t0b718fd6a40148d894e104116bee94cd\" preserveAspectRatio=\"xMidYMid meet\" style=\"background-color:transparent;fill:rgb(16.1%,15.3%,14.1%);fill-opacity:1.0;font-family:Helvetica;font-size:12px;opacity:1.0;stroke:rgb(16.1%,15.3%,14.1%);stroke-opacity:1.0;stroke-width:1.0\" viewBox=\"0 0 300.0 500.0\" width=\"300.0px\" xmlns=\"http://www.w3.org/2000/svg\" xmlns:toyplot=\"http://www.sandia.gov/toyplot\" xmlns:xlink=\"http://www.w3.org/1999/xlink\"><g class=\"toyplot-coordinates-Cartesian\" id=\"t387177499ba040eb9b50a973177b809f\"><clipPath id=\"te671fd22923446da9b05da859cba25b1\"><rect height=\"500.0\" width=\"300.0\" x=\"0.0\" y=\"0.0\"></rect></clipPath><g clip-path=\"url(#te671fd22923446da9b05da859cba25b1)\"><g class=\"toyplot-mark-Text\" id=\"te0fff9f2baee4b5aafe95635c6c0f637\"><g class=\"toyplot-Series\"><g class=\"toyplot-Datum\" transform=\"translate(225.1742984269348,56.949806949806977)\"><text style=\"fill:rgb(16.1%,15.3%,14.1%);fill-opacity:1.0;font-family:helvetica;font-size:12.0px;font-weight:normal;opacity:1.0;stroke:none;vertical-align:baseline;white-space:pre\" x=\"15.0\" y=\"3.066\">0</text></g><g class=\"toyplot-Datum\" transform=\"translate(225.1742984269348,67.674817674817689)\"><text style=\"fill:rgb(16.1%,15.3%,14.1%);fill-opacity:1.0;font-family:helvetica;font-size:12.0px;font-weight:normal;opacity:1.0;stroke:none;vertical-align:baseline;white-space:pre\" x=\"15.0\" y=\"3.066\">1</text></g><g class=\"toyplot-Datum\" transform=\"translate(225.1742984269348,78.399828399828436)\"><text style=\"fill:rgb(16.1%,15.3%,14.1%);fill-opacity:1.0;font-family:helvetica;font-size:12.0px;font-weight:normal;opacity:1.0;stroke:none;vertical-align:baseline;white-space:pre\" x=\"15.0\" y=\"3.066\">2</text></g><g class=\"toyplot-Datum\" transform=\"translate(225.1742984269348,89.124839124839156)\"><text style=\"fill:rgb(16.1%,15.3%,14.1%);fill-opacity:1.0;font-family:helvetica;font-size:12.0px;font-weight:normal;opacity:1.0;stroke:none;vertical-align:baseline;white-space:pre\" x=\"15.0\" y=\"3.066\">8</text></g><g class=\"toyplot-Datum\" transform=\"translate(225.1742984269348,99.849849849849903)\"><text style=\"fill:rgb(16.1%,15.3%,14.1%);fill-opacity:1.0;font-family:helvetica;font-size:12.0px;font-weight:normal;opacity:1.0;stroke:none;vertical-align:baseline;white-space:pre\" x=\"15.0\" y=\"3.066\">18</text></g><g class=\"toyplot-Datum\" transform=\"translate(225.1742984269348,110.57486057486057)\"><text style=\"fill:rgb(16.1%,15.3%,14.1%);fill-opacity:1.0;font-family:helvetica;font-size:12.0px;font-weight:normal;opacity:1.0;stroke:none;vertical-align:baseline;white-space:pre\" x=\"15.0\" y=\"3.066\">26</text></g><g class=\"toyplot-Datum\" transform=\"translate(225.1742984269348,121.29987129987128)\"><text style=\"fill:rgb(16.1%,15.3%,14.1%);fill-opacity:1.0;font-family:helvetica;font-size:12.0px;font-weight:normal;opacity:1.0;stroke:none;vertical-align:baseline;white-space:pre\" x=\"15.0\" y=\"3.066\">27</text></g><g class=\"toyplot-Datum\" transform=\"translate(225.1742984269348,132.02488202488203)\"><text style=\"fill:rgb(16.1%,15.3%,14.1%);fill-opacity:1.0;font-family:helvetica;font-size:12.0px;font-weight:normal;opacity:1.0;stroke:none;vertical-align:baseline;white-space:pre\" x=\"15.0\" y=\"3.066\">3</text></g><g class=\"toyplot-Datum\" transform=\"translate(225.1742984269348,142.74989274989275)\"><text style=\"fill:rgb(16.1%,15.3%,14.1%);fill-opacity:1.0;font-family:helvetica;font-size:12.0px;font-weight:normal;opacity:1.0;stroke:none;vertical-align:baseline;white-space:pre\" x=\"15.0\" y=\"3.066\">4</text></g><g class=\"toyplot-Datum\" transform=\"translate(225.1742984269348,153.4749034749035)\"><text style=\"fill:rgb(16.1%,15.3%,14.1%);fill-opacity:1.0;font-family:helvetica;font-size:12.0px;font-weight:normal;opacity:1.0;stroke:none;vertical-align:baseline;white-space:pre\" x=\"15.0\" y=\"3.066\">9</text></g><g class=\"toyplot-Datum\" transform=\"translate(225.1742984269348,164.19991419991419)\"><text style=\"fill:rgb(16.1%,15.3%,14.1%);fill-opacity:1.0;font-family:helvetica;font-size:12.0px;font-weight:normal;opacity:1.0;stroke:none;vertical-align:baseline;white-space:pre\" x=\"15.0\" y=\"3.066\">19</text></g><g class=\"toyplot-Datum\" transform=\"translate(225.1742984269348,174.92492492492491)\"><text style=\"fill:rgb(16.1%,15.3%,14.1%);fill-opacity:1.0;font-family:helvetica;font-size:12.0px;font-weight:normal;opacity:1.0;stroke:none;vertical-align:baseline;white-space:pre\" x=\"15.0\" y=\"3.066\">20</text></g><g class=\"toyplot-Datum\" transform=\"translate(225.1742984269348,185.64993564993566)\"><text style=\"fill:rgb(16.1%,15.3%,14.1%);fill-opacity:1.0;font-family:helvetica;font-size:12.0px;font-weight:normal;opacity:1.0;stroke:none;vertical-align:baseline;white-space:pre\" x=\"15.0\" y=\"3.066\">10</text></g><g class=\"toyplot-Datum\" transform=\"translate(225.1742984269348,196.37494637494638)\"><text style=\"fill:rgb(16.1%,15.3%,14.1%);fill-opacity:1.0;font-family:helvetica;font-size:12.0px;font-weight:normal;opacity:1.0;stroke:none;vertical-align:baseline;white-space:pre\" x=\"15.0\" y=\"3.066\">21</text></g><g class=\"toyplot-Datum\" transform=\"translate(225.1742984269348,207.09995709995709)\"><text style=\"fill:rgb(16.1%,15.3%,14.1%);fill-opacity:1.0;font-family:helvetica;font-size:12.0px;font-weight:normal;opacity:1.0;stroke:none;vertical-align:baseline;white-space:pre\" x=\"15.0\" y=\"3.066\">28</text></g><g class=\"toyplot-Datum\" transform=\"translate(225.1742984269348,217.82496782496781)\"><text style=\"fill:rgb(16.1%,15.3%,14.1%);fill-opacity:1.0;font-family:helvetica;font-size:12.0px;font-weight:normal;opacity:1.0;stroke:none;vertical-align:baseline;white-space:pre\" x=\"15.0\" y=\"3.066\">32</text></g><g class=\"toyplot-Datum\" transform=\"translate(225.1742984269348,228.54997854997853)\"><text style=\"fill:rgb(16.1%,15.3%,14.1%);fill-opacity:1.0;font-family:helvetica;font-size:12.0px;font-weight:normal;opacity:1.0;stroke:none;vertical-align:baseline;white-space:pre\" x=\"15.0\" y=\"3.066\">33</text></g><g class=\"toyplot-Datum\" transform=\"translate(225.1742984269348,239.27498927498928)\"><text style=\"fill:rgb(16.1%,15.3%,14.1%);fill-opacity:1.0;font-family:helvetica;font-size:12.0px;font-weight:normal;opacity:1.0;stroke:none;vertical-align:baseline;white-space:pre\" x=\"15.0\" y=\"3.066\">5</text></g><g class=\"toyplot-Datum\" transform=\"translate(225.1742984269348,250.0)\"><text style=\"fill:rgb(16.1%,15.3%,14.1%);fill-opacity:1.0;font-family:helvetica;font-size:12.0px;font-weight:normal;opacity:1.0;stroke:none;vertical-align:baseline;white-space:pre\" x=\"15.0\" y=\"3.066\">11</text></g><g class=\"toyplot-Datum\" transform=\"translate(225.1742984269348,260.72501072501069)\"><text style=\"fill:rgb(16.1%,15.3%,14.1%);fill-opacity:1.0;font-family:helvetica;font-size:12.0px;font-weight:normal;opacity:1.0;stroke:none;vertical-align:baseline;white-space:pre\" x=\"15.0\" y=\"3.066\">12</text></g><g class=\"toyplot-Datum\" transform=\"translate(225.1742984269348,271.4500214500215)\"><text style=\"fill:rgb(16.1%,15.3%,14.1%);fill-opacity:1.0;font-family:helvetica;font-size:12.0px;font-weight:normal;opacity:1.0;stroke:none;vertical-align:baseline;white-space:pre\" x=\"15.0\" y=\"3.066\">6</text></g><g class=\"toyplot-Datum\" transform=\"translate(225.1742984269348,282.17503217503213)\"><text style=\"fill:rgb(16.1%,15.3%,14.1%);fill-opacity:1.0;font-family:helvetica;font-size:12.0px;font-weight:normal;opacity:1.0;stroke:none;vertical-align:baseline;white-space:pre\" x=\"15.0\" y=\"3.066\">13</text></g><g class=\"toyplot-Datum\" transform=\"translate(225.1742984269348,292.90004290004293)\"><text style=\"fill:rgb(16.1%,15.3%,14.1%);fill-opacity:1.0;font-family:helvetica;font-size:12.0px;font-weight:normal;opacity:1.0;stroke:none;vertical-align:baseline;white-space:pre\" x=\"15.0\" y=\"3.066\">14</text></g><g class=\"toyplot-Datum\" transform=\"translate(225.1742984269348,303.62505362505362)\"><text style=\"fill:rgb(16.1%,15.3%,14.1%);fill-opacity:1.0;font-family:helvetica;font-size:12.0px;font-weight:normal;opacity:1.0;stroke:none;vertical-align:baseline;white-space:pre\" x=\"15.0\" y=\"3.066\">7</text></g><g class=\"toyplot-Datum\" transform=\"translate(225.1742984269348,314.35006435006437)\"><text style=\"fill:rgb(16.1%,15.3%,14.1%);fill-opacity:1.0;font-family:helvetica;font-size:12.0px;font-weight:normal;opacity:1.0;stroke:none;vertical-align:baseline;white-space:pre\" x=\"15.0\" y=\"3.066\">15</text></g><g class=\"toyplot-Datum\" transform=\"translate(225.1742984269348,325.07507507507506)\"><text style=\"fill:rgb(16.1%,15.3%,14.1%);fill-opacity:1.0;font-family:helvetica;font-size:12.0px;font-weight:normal;opacity:1.0;stroke:none;vertical-align:baseline;white-space:pre\" x=\"15.0\" y=\"3.066\">22</text></g><g class=\"toyplot-Datum\" transform=\"translate(225.1742984269348,335.80008580008575)\"><text style=\"fill:rgb(16.1%,15.3%,14.1%);fill-opacity:1.0;font-family:helvetica;font-size:12.0px;font-weight:normal;opacity:1.0;stroke:none;vertical-align:baseline;white-space:pre\" x=\"15.0\" y=\"3.066\">29</text></g><g class=\"toyplot-Datum\" transform=\"translate(225.1742984269348,346.52509652509656)\"><text style=\"fill:rgb(16.1%,15.3%,14.1%);fill-opacity:1.0;font-family:helvetica;font-size:12.0px;font-weight:normal;opacity:1.0;stroke:none;vertical-align:baseline;white-space:pre\" x=\"15.0\" y=\"3.066\">30</text></g><g class=\"toyplot-Datum\" transform=\"translate(225.1742984269348,357.25010725010725)\"><text style=\"fill:rgb(16.1%,15.3%,14.1%);fill-opacity:1.0;font-family:helvetica;font-size:12.0px;font-weight:normal;opacity:1.0;stroke:none;vertical-align:baseline;white-space:pre\" x=\"15.0\" y=\"3.066\">16</text></g><g class=\"toyplot-Datum\" transform=\"translate(225.1742984269348,367.975117975118)\"><text style=\"fill:rgb(16.1%,15.3%,14.1%);fill-opacity:1.0;font-family:helvetica;font-size:12.0px;font-weight:normal;opacity:1.0;stroke:none;vertical-align:baseline;white-space:pre\" x=\"15.0\" y=\"3.066\">23</text></g><g class=\"toyplot-Datum\" transform=\"translate(225.1742984269348,378.70012870012874)\"><text style=\"fill:rgb(16.1%,15.3%,14.1%);fill-opacity:1.0;font-family:helvetica;font-size:12.0px;font-weight:normal;opacity:1.0;stroke:none;vertical-align:baseline;white-space:pre\" x=\"15.0\" y=\"3.066\">24</text></g><g class=\"toyplot-Datum\" transform=\"translate(225.1742984269348,389.42513942513943)\"><text style=\"fill:rgb(16.1%,15.3%,14.1%);fill-opacity:1.0;font-family:helvetica;font-size:12.0px;font-weight:normal;opacity:1.0;stroke:none;vertical-align:baseline;white-space:pre\" x=\"15.0\" y=\"3.066\">17</text></g><g class=\"toyplot-Datum\" transform=\"translate(225.1742984269348,400.15015015015018)\"><text style=\"fill:rgb(16.1%,15.3%,14.1%);fill-opacity:1.0;font-family:helvetica;font-size:12.0px;font-weight:normal;opacity:1.0;stroke:none;vertical-align:baseline;white-space:pre\" x=\"15.0\" y=\"3.066\">25</text></g><g class=\"toyplot-Datum\" transform=\"translate(225.1742984269348,410.87516087516087)\"><text style=\"fill:rgb(16.1%,15.3%,14.1%);fill-opacity:1.0;font-family:helvetica;font-size:12.0px;font-weight:normal;opacity:1.0;stroke:none;vertical-align:baseline;white-space:pre\" x=\"15.0\" y=\"3.066\">31</text></g><g class=\"toyplot-Datum\" transform=\"translate(225.1742984269348,421.60017160017162)\"><text style=\"fill:rgb(16.1%,15.3%,14.1%);fill-opacity:1.0;font-family:helvetica;font-size:12.0px;font-weight:normal;opacity:1.0;stroke:none;vertical-align:baseline;white-space:pre\" x=\"15.0\" y=\"3.066\">34</text></g><g class=\"toyplot-Datum\" transform=\"translate(225.1742984269348,432.32518232518237)\"><text style=\"fill:rgb(16.1%,15.3%,14.1%);fill-opacity:1.0;font-family:helvetica;font-size:12.0px;font-weight:normal;opacity:1.0;stroke:none;vertical-align:baseline;white-space:pre\" x=\"15.0\" y=\"3.066\">35</text></g><g class=\"toyplot-Datum\" transform=\"translate(225.1742984269348,443.05019305019306)\"><text style=\"fill:rgb(16.1%,15.3%,14.1%);fill-opacity:1.0;font-family:helvetica;font-size:12.0px;font-weight:normal;opacity:1.0;stroke:none;vertical-align:baseline;white-space:pre\" x=\"15.0\" y=\"3.066\">36</text></g></g></g><g class=\"toyplot-mark-Graph\" id=\"t42a1237cb8884cdebc13107d342678c2\"><g class=\"toyplot-Edges\"><path d=\"M 50.0 211.226572555 L 50.0 116.691468254\" style=\"fill:none;stroke:rgb(16.1%,15.3%,14.1%);stroke-linecap:round;stroke-opacity:1.0;stroke-width:2\"></path><path d=\"M 50.0 116.691468254 L 88.9276218727 116.691468254\" style=\"fill:none;stroke:rgb(16.1%,15.3%,14.1%);stroke-linecap:round;stroke-opacity:1.0;stroke-width:2\"></path><path d=\"M 50.0 211.226572555 L 50.0 305.761676855\" style=\"fill:none;stroke:rgb(16.1%,15.3%,14.1%);stroke-linecap:round;stroke-opacity:1.0;stroke-width:2\"></path><path d=\"M 50.0 305.761676855 L 69.4638109363 305.761676855\" style=\"fill:none;stroke:rgb(16.1%,15.3%,14.1%);stroke-linecap:round;stroke-opacity:1.0;stroke-width:2\"></path><path d=\"M 88.9276218727 116.691468254 L 88.9276218727 75.3834191334\" style=\"fill:none;stroke:rgb(16.1%,15.3%,14.1%);stroke-linecap:round;stroke-opacity:1.0;stroke-width:2\"></path><path d=\"M 88.9276218727 75.3834191334 L 127.855243745 75.3834191334\" style=\"fill:none;stroke:rgb(16.1%,15.3%,14.1%);stroke-linecap:round;stroke-opacity:1.0;stroke-width:2\"></path><path d=\"M 88.9276218727 116.691468254 L 88.9276218727 157.999517375\" style=\"fill:none;stroke:rgb(16.1%,15.3%,14.1%);stroke-linecap:round;stroke-opacity:1.0;stroke-width:2\"></path><path d=\"M 88.9276218727 157.999517375 L 108.391432809 157.999517375\" style=\"fill:none;stroke:rgb(16.1%,15.3%,14.1%);stroke-linecap:round;stroke-opacity:1.0;stroke-width:2\"></path><path d=\"M 69.4638109363 305.761676855 L 69.4638109363 263.406263406\" style=\"fill:none;stroke:rgb(16.1%,15.3%,14.1%);stroke-linecap:round;stroke-opacity:1.0;stroke-width:2\"></path><path d=\"M 69.4638109363 263.406263406 L 166.782865618 263.406263406\" style=\"fill:none;stroke:rgb(16.1%,15.3%,14.1%);stroke-linecap:round;stroke-opacity:1.0;stroke-width:2\"></path><path d=\"M 69.4638109363 305.761676855 L 69.4638109363 348.117090305\" style=\"fill:none;stroke:rgb(16.1%,15.3%,14.1%);stroke-linecap:round;stroke-opacity:1.0;stroke-width:2\"></path><path d=\"M 69.4638109363 348.117090305 L 88.9276218727 348.117090305\" style=\"fill:none;stroke:rgb(16.1%,15.3%,14.1%);stroke-linecap:round;stroke-opacity:1.0;stroke-width:2\"></path><path d=\"M 127.855243745 75.3834191334 L 127.855243745 62.3123123123\" style=\"fill:none;stroke:rgb(16.1%,15.3%,14.1%);stroke-linecap:round;stroke-opacity:1.0;stroke-width:2\"></path><path d=\"M 127.855243745 62.3123123123 L 205.710487491 62.3123123123\" style=\"fill:none;stroke:rgb(16.1%,15.3%,14.1%);stroke-linecap:round;stroke-opacity:1.0;stroke-width:2\"></path><path d=\"M 127.855243745 75.3834191334 L 127.855243745 88.4545259545\" style=\"fill:none;stroke:rgb(16.1%,15.3%,14.1%);stroke-linecap:round;stroke-opacity:1.0;stroke-width:2\"></path><path d=\"M 127.855243745 88.4545259545 L 147.319054682 88.4545259545\" style=\"fill:none;stroke:rgb(16.1%,15.3%,14.1%);stroke-linecap:round;stroke-opacity:1.0;stroke-width:2\"></path><path d=\"M 108.391432809 157.999517375 L 108.391432809 137.387387387\" style=\"fill:none;stroke:rgb(16.1%,15.3%,14.1%);stroke-linecap:round;stroke-opacity:1.0;stroke-width:2\"></path><path d=\"M 108.391432809 137.387387387 L 205.710487491 137.387387387\" style=\"fill:none;stroke:rgb(16.1%,15.3%,14.1%);stroke-linecap:round;stroke-opacity:1.0;stroke-width:2\"></path><path d=\"M 108.391432809 157.999517375 L 108.391432809 178.611647362\" style=\"fill:none;stroke:rgb(16.1%,15.3%,14.1%);stroke-linecap:round;stroke-opacity:1.0;stroke-width:2\"></path><path d=\"M 108.391432809 178.611647362 L 127.855243745 178.611647362\" style=\"fill:none;stroke:rgb(16.1%,15.3%,14.1%);stroke-linecap:round;stroke-opacity:1.0;stroke-width:2\"></path><path d=\"M 166.782865618 263.406263406 L 166.782865618 247.318747319\" style=\"fill:none;stroke:rgb(16.1%,15.3%,14.1%);stroke-linecap:round;stroke-opacity:1.0;stroke-width:2\"></path><path d=\"M 166.782865618 247.318747319 L 186.246676554 247.318747319\" style=\"fill:none;stroke:rgb(16.1%,15.3%,14.1%);stroke-linecap:round;stroke-opacity:1.0;stroke-width:2\"></path><path d=\"M 166.782865618 263.406263406 L 166.782865618 279.493779494\" style=\"fill:none;stroke:rgb(16.1%,15.3%,14.1%);stroke-linecap:round;stroke-opacity:1.0;stroke-width:2\"></path><path d=\"M 166.782865618 279.493779494 L 186.246676554 279.493779494\" style=\"fill:none;stroke:rgb(16.1%,15.3%,14.1%);stroke-linecap:round;stroke-opacity:1.0;stroke-width:2\"></path><path d=\"M 88.9276218727 348.117090305 L 88.9276218727 313.67975118\" style=\"fill:none;stroke:rgb(16.1%,15.3%,14.1%);stroke-linecap:round;stroke-opacity:1.0;stroke-width:2\"></path><path d=\"M 88.9276218727 313.67975118 L 147.319054682 313.67975118\" style=\"fill:none;stroke:rgb(16.1%,15.3%,14.1%);stroke-linecap:round;stroke-opacity:1.0;stroke-width:2\"></path><path d=\"M 88.9276218727 348.117090305 L 88.9276218727 382.554429429\" style=\"fill:none;stroke:rgb(16.1%,15.3%,14.1%);stroke-linecap:round;stroke-opacity:1.0;stroke-width:2\"></path><path d=\"M 88.9276218727 382.554429429 L 108.391432809 382.554429429\" style=\"fill:none;stroke:rgb(16.1%,15.3%,14.1%);stroke-linecap:round;stroke-opacity:1.0;stroke-width:2\"></path><path d=\"M 205.710487491 62.3123123123 L 205.710487491 56.9498069498\" style=\"fill:none;stroke:rgb(16.1%,15.3%,14.1%);stroke-linecap:round;stroke-opacity:1.0;stroke-width:2\"></path><path d=\"M 205.710487491 56.9498069498 L 225.174298427 56.9498069498\" style=\"fill:none;stroke:rgb(16.1%,15.3%,14.1%);stroke-linecap:round;stroke-opacity:1.0;stroke-width:2\"></path><path d=\"M 205.710487491 62.3123123123 L 205.710487491 67.6748176748\" style=\"fill:none;stroke:rgb(16.1%,15.3%,14.1%);stroke-linecap:round;stroke-opacity:1.0;stroke-width:2\"></path><path d=\"M 205.710487491 67.6748176748 L 225.174298427 67.6748176748\" style=\"fill:none;stroke:rgb(16.1%,15.3%,14.1%);stroke-linecap:round;stroke-opacity:1.0;stroke-width:2\"></path><path d=\"M 147.319054682 88.4545259545 L 147.319054682 78.3998283998\" style=\"fill:none;stroke:rgb(16.1%,15.3%,14.1%);stroke-linecap:round;stroke-opacity:1.0;stroke-width:2\"></path><path d=\"M 147.319054682 78.3998283998 L 225.174298427 78.3998283998\" style=\"fill:none;stroke:rgb(16.1%,15.3%,14.1%);stroke-linecap:round;stroke-opacity:1.0;stroke-width:2\"></path><path d=\"M 147.319054682 88.4545259545 L 147.319054682 98.5092235092\" style=\"fill:none;stroke:rgb(16.1%,15.3%,14.1%);stroke-linecap:round;stroke-opacity:1.0;stroke-width:2\"></path><path d=\"M 147.319054682 98.5092235092 L 166.782865618 98.5092235092\" style=\"fill:none;stroke:rgb(16.1%,15.3%,14.1%);stroke-linecap:round;stroke-opacity:1.0;stroke-width:2\"></path><path d=\"M 205.710487491 137.387387387 L 205.710487491 132.024882025\" style=\"fill:none;stroke:rgb(16.1%,15.3%,14.1%);stroke-linecap:round;stroke-opacity:1.0;stroke-width:2\"></path><path d=\"M 205.710487491 132.024882025 L 225.174298427 132.024882025\" style=\"fill:none;stroke:rgb(16.1%,15.3%,14.1%);stroke-linecap:round;stroke-opacity:1.0;stroke-width:2\"></path><path d=\"M 205.710487491 137.387387387 L 205.710487491 142.74989275\" style=\"fill:none;stroke:rgb(16.1%,15.3%,14.1%);stroke-linecap:round;stroke-opacity:1.0;stroke-width:2\"></path><path d=\"M 205.710487491 142.74989275 L 225.174298427 142.74989275\" style=\"fill:none;stroke:rgb(16.1%,15.3%,14.1%);stroke-linecap:round;stroke-opacity:1.0;stroke-width:2\"></path><path d=\"M 127.855243745 178.611647362 L 127.855243745 161.518661519\" style=\"fill:none;stroke:rgb(16.1%,15.3%,14.1%);stroke-linecap:round;stroke-opacity:1.0;stroke-width:2\"></path><path d=\"M 127.855243745 161.518661519 L 186.246676554 161.518661519\" style=\"fill:none;stroke:rgb(16.1%,15.3%,14.1%);stroke-linecap:round;stroke-opacity:1.0;stroke-width:2\"></path><path d=\"M 127.855243745 178.611647362 L 127.855243745 195.704633205\" style=\"fill:none;stroke:rgb(16.1%,15.3%,14.1%);stroke-linecap:round;stroke-opacity:1.0;stroke-width:2\"></path><path d=\"M 127.855243745 195.704633205 L 147.319054682 195.704633205\" style=\"fill:none;stroke:rgb(16.1%,15.3%,14.1%);stroke-linecap:round;stroke-opacity:1.0;stroke-width:2\"></path><path d=\"M 186.246676554 247.318747319 L 186.246676554 239.274989275\" style=\"fill:none;stroke:rgb(16.1%,15.3%,14.1%);stroke-linecap:round;stroke-opacity:1.0;stroke-width:2\"></path><path d=\"M 186.246676554 239.274989275 L 225.174298427 239.274989275\" style=\"fill:none;stroke:rgb(16.1%,15.3%,14.1%);stroke-linecap:round;stroke-opacity:1.0;stroke-width:2\"></path><path d=\"M 186.246676554 247.318747319 L 186.246676554 255.362505363\" style=\"fill:none;stroke:rgb(16.1%,15.3%,14.1%);stroke-linecap:round;stroke-opacity:1.0;stroke-width:2\"></path><path d=\"M 186.246676554 255.362505363 L 205.710487491 255.362505363\" style=\"fill:none;stroke:rgb(16.1%,15.3%,14.1%);stroke-linecap:round;stroke-opacity:1.0;stroke-width:2\"></path><path d=\"M 186.246676554 279.493779494 L 186.246676554 271.45002145\" style=\"fill:none;stroke:rgb(16.1%,15.3%,14.1%);stroke-linecap:round;stroke-opacity:1.0;stroke-width:2\"></path><path d=\"M 186.246676554 271.45002145 L 225.174298427 271.45002145\" style=\"fill:none;stroke:rgb(16.1%,15.3%,14.1%);stroke-linecap:round;stroke-opacity:1.0;stroke-width:2\"></path><path d=\"M 186.246676554 279.493779494 L 186.246676554 287.537537538\" style=\"fill:none;stroke:rgb(16.1%,15.3%,14.1%);stroke-linecap:round;stroke-opacity:1.0;stroke-width:2\"></path><path d=\"M 186.246676554 287.537537538 L 205.710487491 287.537537538\" style=\"fill:none;stroke:rgb(16.1%,15.3%,14.1%);stroke-linecap:round;stroke-opacity:1.0;stroke-width:2\"></path><path d=\"M 147.319054682 313.67975118 L 147.319054682 303.625053625\" style=\"fill:none;stroke:rgb(16.1%,15.3%,14.1%);stroke-linecap:round;stroke-opacity:1.0;stroke-width:2\"></path><path d=\"M 147.319054682 303.625053625 L 225.174298427 303.625053625\" style=\"fill:none;stroke:rgb(16.1%,15.3%,14.1%);stroke-linecap:round;stroke-opacity:1.0;stroke-width:2\"></path><path d=\"M 147.319054682 313.67975118 L 147.319054682 323.734448734\" style=\"fill:none;stroke:rgb(16.1%,15.3%,14.1%);stroke-linecap:round;stroke-opacity:1.0;stroke-width:2\"></path><path d=\"M 147.319054682 323.734448734 L 166.782865618 323.734448734\" style=\"fill:none;stroke:rgb(16.1%,15.3%,14.1%);stroke-linecap:round;stroke-opacity:1.0;stroke-width:2\"></path><path d=\"M 108.391432809 382.554429429 L 108.391432809 365.293865294\" style=\"fill:none;stroke:rgb(16.1%,15.3%,14.1%);stroke-linecap:round;stroke-opacity:1.0;stroke-width:2\"></path><path d=\"M 108.391432809 365.293865294 L 186.246676554 365.293865294\" style=\"fill:none;stroke:rgb(16.1%,15.3%,14.1%);stroke-linecap:round;stroke-opacity:1.0;stroke-width:2\"></path><path d=\"M 108.391432809 382.554429429 L 108.391432809 399.814993565\" style=\"fill:none;stroke:rgb(16.1%,15.3%,14.1%);stroke-linecap:round;stroke-opacity:1.0;stroke-width:2\"></path><path d=\"M 108.391432809 399.814993565 L 127.855243745 399.814993565\" style=\"fill:none;stroke:rgb(16.1%,15.3%,14.1%);stroke-linecap:round;stroke-opacity:1.0;stroke-width:2\"></path><path d=\"M 166.782865618 98.5092235092 L 166.782865618 89.1248391248\" style=\"fill:none;stroke:rgb(16.1%,15.3%,14.1%);stroke-linecap:round;stroke-opacity:1.0;stroke-width:2\"></path><path d=\"M 166.782865618 89.1248391248 L 225.174298427 89.1248391248\" style=\"fill:none;stroke:rgb(16.1%,15.3%,14.1%);stroke-linecap:round;stroke-opacity:1.0;stroke-width:2\"></path><path d=\"M 166.782865618 98.5092235092 L 166.782865618 107.893607894\" style=\"fill:none;stroke:rgb(16.1%,15.3%,14.1%);stroke-linecap:round;stroke-opacity:1.0;stroke-width:2\"></path><path d=\"M 166.782865618 107.893607894 L 186.246676554 107.893607894\" style=\"fill:none;stroke:rgb(16.1%,15.3%,14.1%);stroke-linecap:round;stroke-opacity:1.0;stroke-width:2\"></path><path d=\"M 186.246676554 161.518661519 L 186.246676554 153.474903475\" style=\"fill:none;stroke:rgb(16.1%,15.3%,14.1%);stroke-linecap:round;stroke-opacity:1.0;stroke-width:2\"></path><path d=\"M 186.246676554 153.474903475 L 225.174298427 153.474903475\" style=\"fill:none;stroke:rgb(16.1%,15.3%,14.1%);stroke-linecap:round;stroke-opacity:1.0;stroke-width:2\"></path><path d=\"M 186.246676554 161.518661519 L 186.246676554 169.562419562\" style=\"fill:none;stroke:rgb(16.1%,15.3%,14.1%);stroke-linecap:round;stroke-opacity:1.0;stroke-width:2\"></path><path d=\"M 186.246676554 169.562419562 L 205.710487491 169.562419562\" style=\"fill:none;stroke:rgb(16.1%,15.3%,14.1%);stroke-linecap:round;stroke-opacity:1.0;stroke-width:2\"></path><path d=\"M 147.319054682 195.704633205 L 147.319054682 185.64993565\" style=\"fill:none;stroke:rgb(16.1%,15.3%,14.1%);stroke-linecap:round;stroke-opacity:1.0;stroke-width:2\"></path><path d=\"M 147.319054682 185.64993565 L 225.174298427 185.64993565\" style=\"fill:none;stroke:rgb(16.1%,15.3%,14.1%);stroke-linecap:round;stroke-opacity:1.0;stroke-width:2\"></path><path d=\"M 147.319054682 195.704633205 L 147.319054682 205.759330759\" style=\"fill:none;stroke:rgb(16.1%,15.3%,14.1%);stroke-linecap:round;stroke-opacity:1.0;stroke-width:2\"></path><path d=\"M 147.319054682 205.759330759 L 166.782865618 205.759330759\" style=\"fill:none;stroke:rgb(16.1%,15.3%,14.1%);stroke-linecap:round;stroke-opacity:1.0;stroke-width:2\"></path><path d=\"M 205.710487491 255.362505363 L 205.710487491 250.0\" style=\"fill:none;stroke:rgb(16.1%,15.3%,14.1%);stroke-linecap:round;stroke-opacity:1.0;stroke-width:2\"></path><path d=\"M 205.710487491 250.0 L 225.174298427 250.0\" style=\"fill:none;stroke:rgb(16.1%,15.3%,14.1%);stroke-linecap:round;stroke-opacity:1.0;stroke-width:2\"></path><path d=\"M 205.710487491 255.362505363 L 205.710487491 260.725010725\" style=\"fill:none;stroke:rgb(16.1%,15.3%,14.1%);stroke-linecap:round;stroke-opacity:1.0;stroke-width:2\"></path><path d=\"M 205.710487491 260.725010725 L 225.174298427 260.725010725\" style=\"fill:none;stroke:rgb(16.1%,15.3%,14.1%);stroke-linecap:round;stroke-opacity:1.0;stroke-width:2\"></path><path d=\"M 205.710487491 287.537537538 L 205.710487491 282.175032175\" style=\"fill:none;stroke:rgb(16.1%,15.3%,14.1%);stroke-linecap:round;stroke-opacity:1.0;stroke-width:2\"></path><path d=\"M 205.710487491 282.175032175 L 225.174298427 282.175032175\" style=\"fill:none;stroke:rgb(16.1%,15.3%,14.1%);stroke-linecap:round;stroke-opacity:1.0;stroke-width:2\"></path><path d=\"M 205.710487491 287.537537538 L 205.710487491 292.9000429\" style=\"fill:none;stroke:rgb(16.1%,15.3%,14.1%);stroke-linecap:round;stroke-opacity:1.0;stroke-width:2\"></path><path d=\"M 205.710487491 292.9000429 L 225.174298427 292.9000429\" style=\"fill:none;stroke:rgb(16.1%,15.3%,14.1%);stroke-linecap:round;stroke-opacity:1.0;stroke-width:2\"></path><path d=\"M 166.782865618 323.734448734 L 166.782865618 314.35006435\" style=\"fill:none;stroke:rgb(16.1%,15.3%,14.1%);stroke-linecap:round;stroke-opacity:1.0;stroke-width:2\"></path><path d=\"M 166.782865618 314.35006435 L 225.174298427 314.35006435\" style=\"fill:none;stroke:rgb(16.1%,15.3%,14.1%);stroke-linecap:round;stroke-opacity:1.0;stroke-width:2\"></path><path d=\"M 166.782865618 323.734448734 L 166.782865618 333.118833119\" style=\"fill:none;stroke:rgb(16.1%,15.3%,14.1%);stroke-linecap:round;stroke-opacity:1.0;stroke-width:2\"></path><path d=\"M 166.782865618 333.118833119 L 186.246676554 333.118833119\" style=\"fill:none;stroke:rgb(16.1%,15.3%,14.1%);stroke-linecap:round;stroke-opacity:1.0;stroke-width:2\"></path><path d=\"M 186.246676554 365.293865294 L 186.246676554 357.25010725\" style=\"fill:none;stroke:rgb(16.1%,15.3%,14.1%);stroke-linecap:round;stroke-opacity:1.0;stroke-width:2\"></path><path d=\"M 186.246676554 357.25010725 L 225.174298427 357.25010725\" style=\"fill:none;stroke:rgb(16.1%,15.3%,14.1%);stroke-linecap:round;stroke-opacity:1.0;stroke-width:2\"></path><path d=\"M 186.246676554 365.293865294 L 186.246676554 373.337623338\" style=\"fill:none;stroke:rgb(16.1%,15.3%,14.1%);stroke-linecap:round;stroke-opacity:1.0;stroke-width:2\"></path><path d=\"M 186.246676554 373.337623338 L 205.710487491 373.337623338\" style=\"fill:none;stroke:rgb(16.1%,15.3%,14.1%);stroke-linecap:round;stroke-opacity:1.0;stroke-width:2\"></path><path d=\"M 127.855243745 399.814993565 L 127.855243745 389.425139425\" style=\"fill:none;stroke:rgb(16.1%,15.3%,14.1%);stroke-linecap:round;stroke-opacity:1.0;stroke-width:2\"></path><path d=\"M 127.855243745 389.425139425 L 225.174298427 389.425139425\" style=\"fill:none;stroke:rgb(16.1%,15.3%,14.1%);stroke-linecap:round;stroke-opacity:1.0;stroke-width:2\"></path><path d=\"M 127.855243745 399.814993565 L 127.855243745 410.204847705\" style=\"fill:none;stroke:rgb(16.1%,15.3%,14.1%);stroke-linecap:round;stroke-opacity:1.0;stroke-width:2\"></path><path d=\"M 127.855243745 410.204847705 L 147.319054682 410.204847705\" style=\"fill:none;stroke:rgb(16.1%,15.3%,14.1%);stroke-linecap:round;stroke-opacity:1.0;stroke-width:2\"></path><path d=\"M 186.246676554 107.893607894 L 186.246676554 99.8498498498\" style=\"fill:none;stroke:rgb(16.1%,15.3%,14.1%);stroke-linecap:round;stroke-opacity:1.0;stroke-width:2\"></path><path d=\"M 186.246676554 99.8498498498 L 225.174298427 99.8498498498\" style=\"fill:none;stroke:rgb(16.1%,15.3%,14.1%);stroke-linecap:round;stroke-opacity:1.0;stroke-width:2\"></path><path d=\"M 186.246676554 107.893607894 L 186.246676554 115.937365937\" style=\"fill:none;stroke:rgb(16.1%,15.3%,14.1%);stroke-linecap:round;stroke-opacity:1.0;stroke-width:2\"></path><path d=\"M 186.246676554 115.937365937 L 205.710487491 115.937365937\" style=\"fill:none;stroke:rgb(16.1%,15.3%,14.1%);stroke-linecap:round;stroke-opacity:1.0;stroke-width:2\"></path><path d=\"M 205.710487491 169.562419562 L 205.710487491 164.1999142\" style=\"fill:none;stroke:rgb(16.1%,15.3%,14.1%);stroke-linecap:round;stroke-opacity:1.0;stroke-width:2\"></path><path d=\"M 205.710487491 164.1999142 L 225.174298427 164.1999142\" style=\"fill:none;stroke:rgb(16.1%,15.3%,14.1%);stroke-linecap:round;stroke-opacity:1.0;stroke-width:2\"></path><path d=\"M 205.710487491 169.562419562 L 205.710487491 174.924924925\" style=\"fill:none;stroke:rgb(16.1%,15.3%,14.1%);stroke-linecap:round;stroke-opacity:1.0;stroke-width:2\"></path><path d=\"M 205.710487491 174.924924925 L 225.174298427 174.924924925\" style=\"fill:none;stroke:rgb(16.1%,15.3%,14.1%);stroke-linecap:round;stroke-opacity:1.0;stroke-width:2\"></path><path d=\"M 166.782865618 205.759330759 L 166.782865618 196.374946375\" style=\"fill:none;stroke:rgb(16.1%,15.3%,14.1%);stroke-linecap:round;stroke-opacity:1.0;stroke-width:2\"></path><path d=\"M 166.782865618 196.374946375 L 225.174298427 196.374946375\" style=\"fill:none;stroke:rgb(16.1%,15.3%,14.1%);stroke-linecap:round;stroke-opacity:1.0;stroke-width:2\"></path><path d=\"M 166.782865618 205.759330759 L 166.782865618 215.143715144\" style=\"fill:none;stroke:rgb(16.1%,15.3%,14.1%);stroke-linecap:round;stroke-opacity:1.0;stroke-width:2\"></path><path d=\"M 166.782865618 215.143715144 L 186.246676554 215.143715144\" style=\"fill:none;stroke:rgb(16.1%,15.3%,14.1%);stroke-linecap:round;stroke-opacity:1.0;stroke-width:2\"></path><path d=\"M 186.246676554 333.118833119 L 186.246676554 325.075075075\" style=\"fill:none;stroke:rgb(16.1%,15.3%,14.1%);stroke-linecap:round;stroke-opacity:1.0;stroke-width:2\"></path><path d=\"M 186.246676554 325.075075075 L 225.174298427 325.075075075\" style=\"fill:none;stroke:rgb(16.1%,15.3%,14.1%);stroke-linecap:round;stroke-opacity:1.0;stroke-width:2\"></path><path d=\"M 186.246676554 333.118833119 L 186.246676554 341.162591163\" style=\"fill:none;stroke:rgb(16.1%,15.3%,14.1%);stroke-linecap:round;stroke-opacity:1.0;stroke-width:2\"></path><path d=\"M 186.246676554 341.162591163 L 205.710487491 341.162591163\" style=\"fill:none;stroke:rgb(16.1%,15.3%,14.1%);stroke-linecap:round;stroke-opacity:1.0;stroke-width:2\"></path><path d=\"M 205.710487491 373.337623338 L 205.710487491 367.975117975\" style=\"fill:none;stroke:rgb(16.1%,15.3%,14.1%);stroke-linecap:round;stroke-opacity:1.0;stroke-width:2\"></path><path d=\"M 205.710487491 367.975117975 L 225.174298427 367.975117975\" style=\"fill:none;stroke:rgb(16.1%,15.3%,14.1%);stroke-linecap:round;stroke-opacity:1.0;stroke-width:2\"></path><path d=\"M 205.710487491 373.337623338 L 205.710487491 378.7001287\" style=\"fill:none;stroke:rgb(16.1%,15.3%,14.1%);stroke-linecap:round;stroke-opacity:1.0;stroke-width:2\"></path><path d=\"M 205.710487491 378.7001287 L 225.174298427 378.7001287\" style=\"fill:none;stroke:rgb(16.1%,15.3%,14.1%);stroke-linecap:round;stroke-opacity:1.0;stroke-width:2\"></path><path d=\"M 147.319054682 410.204847705 L 147.319054682 400.15015015\" style=\"fill:none;stroke:rgb(16.1%,15.3%,14.1%);stroke-linecap:round;stroke-opacity:1.0;stroke-width:2\"></path><path d=\"M 147.319054682 400.15015015 L 225.174298427 400.15015015\" style=\"fill:none;stroke:rgb(16.1%,15.3%,14.1%);stroke-linecap:round;stroke-opacity:1.0;stroke-width:2\"></path><path d=\"M 147.319054682 410.204847705 L 147.319054682 420.25954526\" style=\"fill:none;stroke:rgb(16.1%,15.3%,14.1%);stroke-linecap:round;stroke-opacity:1.0;stroke-width:2\"></path><path d=\"M 147.319054682 420.25954526 L 166.782865618 420.25954526\" style=\"fill:none;stroke:rgb(16.1%,15.3%,14.1%);stroke-linecap:round;stroke-opacity:1.0;stroke-width:2\"></path><path d=\"M 205.710487491 115.937365937 L 205.710487491 110.574860575\" style=\"fill:none;stroke:rgb(16.1%,15.3%,14.1%);stroke-linecap:round;stroke-opacity:1.0;stroke-width:2\"></path><path d=\"M 205.710487491 110.574860575 L 225.174298427 110.574860575\" style=\"fill:none;stroke:rgb(16.1%,15.3%,14.1%);stroke-linecap:round;stroke-opacity:1.0;stroke-width:2\"></path><path d=\"M 205.710487491 115.937365937 L 205.710487491 121.2998713\" style=\"fill:none;stroke:rgb(16.1%,15.3%,14.1%);stroke-linecap:round;stroke-opacity:1.0;stroke-width:2\"></path><path d=\"M 205.710487491 121.2998713 L 225.174298427 121.2998713\" style=\"fill:none;stroke:rgb(16.1%,15.3%,14.1%);stroke-linecap:round;stroke-opacity:1.0;stroke-width:2\"></path><path d=\"M 186.246676554 215.143715144 L 186.246676554 207.0999571\" style=\"fill:none;stroke:rgb(16.1%,15.3%,14.1%);stroke-linecap:round;stroke-opacity:1.0;stroke-width:2\"></path><path d=\"M 186.246676554 207.0999571 L 225.174298427 207.0999571\" style=\"fill:none;stroke:rgb(16.1%,15.3%,14.1%);stroke-linecap:round;stroke-opacity:1.0;stroke-width:2\"></path><path d=\"M 186.246676554 215.143715144 L 186.246676554 223.187473187\" style=\"fill:none;stroke:rgb(16.1%,15.3%,14.1%);stroke-linecap:round;stroke-opacity:1.0;stroke-width:2\"></path><path d=\"M 186.246676554 223.187473187 L 205.710487491 223.187473187\" style=\"fill:none;stroke:rgb(16.1%,15.3%,14.1%);stroke-linecap:round;stroke-opacity:1.0;stroke-width:2\"></path><path d=\"M 205.710487491 341.162591163 L 205.710487491 335.8000858\" style=\"fill:none;stroke:rgb(16.1%,15.3%,14.1%);stroke-linecap:round;stroke-opacity:1.0;stroke-width:2\"></path><path d=\"M 205.710487491 335.8000858 L 225.174298427 335.8000858\" style=\"fill:none;stroke:rgb(16.1%,15.3%,14.1%);stroke-linecap:round;stroke-opacity:1.0;stroke-width:2\"></path><path d=\"M 205.710487491 341.162591163 L 205.710487491 346.525096525\" style=\"fill:none;stroke:rgb(16.1%,15.3%,14.1%);stroke-linecap:round;stroke-opacity:1.0;stroke-width:2\"></path><path d=\"M 205.710487491 346.525096525 L 225.174298427 346.525096525\" style=\"fill:none;stroke:rgb(16.1%,15.3%,14.1%);stroke-linecap:round;stroke-opacity:1.0;stroke-width:2\"></path><path d=\"M 166.782865618 420.25954526 L 166.782865618 410.875160875\" style=\"fill:none;stroke:rgb(16.1%,15.3%,14.1%);stroke-linecap:round;stroke-opacity:1.0;stroke-width:2\"></path><path d=\"M 166.782865618 410.875160875 L 225.174298427 410.875160875\" style=\"fill:none;stroke:rgb(16.1%,15.3%,14.1%);stroke-linecap:round;stroke-opacity:1.0;stroke-width:2\"></path><path d=\"M 166.782865618 420.25954526 L 166.782865618 429.643929644\" style=\"fill:none;stroke:rgb(16.1%,15.3%,14.1%);stroke-linecap:round;stroke-opacity:1.0;stroke-width:2\"></path><path d=\"M 166.782865618 429.643929644 L 186.246676554 429.643929644\" style=\"fill:none;stroke:rgb(16.1%,15.3%,14.1%);stroke-linecap:round;stroke-opacity:1.0;stroke-width:2\"></path><path d=\"M 205.710487491 223.187473187 L 205.710487491 217.824967825\" style=\"fill:none;stroke:rgb(16.1%,15.3%,14.1%);stroke-linecap:round;stroke-opacity:1.0;stroke-width:2\"></path><path d=\"M 205.710487491 217.824967825 L 225.174298427 217.824967825\" style=\"fill:none;stroke:rgb(16.1%,15.3%,14.1%);stroke-linecap:round;stroke-opacity:1.0;stroke-width:2\"></path><path d=\"M 205.710487491 223.187473187 L 205.710487491 228.54997855\" style=\"fill:none;stroke:rgb(16.1%,15.3%,14.1%);stroke-linecap:round;stroke-opacity:1.0;stroke-width:2\"></path><path d=\"M 205.710487491 228.54997855 L 225.174298427 228.54997855\" style=\"fill:none;stroke:rgb(16.1%,15.3%,14.1%);stroke-linecap:round;stroke-opacity:1.0;stroke-width:2\"></path><path d=\"M 186.246676554 429.643929644 L 186.246676554 421.6001716\" style=\"fill:none;stroke:rgb(16.1%,15.3%,14.1%);stroke-linecap:round;stroke-opacity:1.0;stroke-width:2\"></path><path d=\"M 186.246676554 421.6001716 L 225.174298427 421.6001716\" style=\"fill:none;stroke:rgb(16.1%,15.3%,14.1%);stroke-linecap:round;stroke-opacity:1.0;stroke-width:2\"></path><path d=\"M 186.246676554 429.643929644 L 186.246676554 437.687687688\" style=\"fill:none;stroke:rgb(16.1%,15.3%,14.1%);stroke-linecap:round;stroke-opacity:1.0;stroke-width:2\"></path><path d=\"M 186.246676554 437.687687688 L 205.710487491 437.687687688\" style=\"fill:none;stroke:rgb(16.1%,15.3%,14.1%);stroke-linecap:round;stroke-opacity:1.0;stroke-width:2\"></path><path d=\"M 205.710487491 437.687687688 L 205.710487491 432.325182325\" style=\"fill:none;stroke:rgb(16.1%,15.3%,14.1%);stroke-linecap:round;stroke-opacity:1.0;stroke-width:2\"></path><path d=\"M 205.710487491 432.325182325 L 225.174298427 432.325182325\" style=\"fill:none;stroke:rgb(16.1%,15.3%,14.1%);stroke-linecap:round;stroke-opacity:1.0;stroke-width:2\"></path><path d=\"M 205.710487491 437.687687688 L 205.710487491 443.05019305\" style=\"fill:none;stroke:rgb(16.1%,15.3%,14.1%);stroke-linecap:round;stroke-opacity:1.0;stroke-width:2\"></path><path d=\"M 205.710487491 443.05019305 L 225.174298427 443.05019305\" style=\"fill:none;stroke:rgb(16.1%,15.3%,14.1%);stroke-linecap:round;stroke-opacity:1.0;stroke-width:2\"></path><g class=\"toyplot-HeadMarkers\"></g><g class=\"toyplot-MiddleMarkers\"></g><g class=\"toyplot-TailMarkers\"></g></g><g class=\"toyplot-Vertices\"><g class=\"toyplot-Datum\" style=\"fill:rgb(40%,76.1%,64.7%);fill-opacity:1.0;opacity:1.0;stroke:rgb(40%,76.1%,64.7%);stroke-opacity:1.0\" transform=\"translate(50.0, 211.22657255469755)\"><circle r=\"0.0\"></circle></g><g class=\"toyplot-Datum\" style=\"fill:rgb(40%,76.1%,64.7%);fill-opacity:1.0;opacity:1.0;stroke:rgb(40%,76.1%,64.7%);stroke-opacity:1.0\" transform=\"translate(50.0, 116.69146825396822)\"><circle r=\"0.0\"></circle></g><g class=\"toyplot-Datum\" style=\"fill:rgb(40%,76.1%,64.7%);fill-opacity:1.0;opacity:1.0;stroke:rgb(40%,76.1%,64.7%);stroke-opacity:1.0\" transform=\"translate(88.927621872652182, 116.69146825396822)\"><circle r=\"0.0\"></circle></g><g class=\"toyplot-Datum\" style=\"fill:rgb(40%,76.1%,64.7%);fill-opacity:1.0;opacity:1.0;stroke:rgb(40%,76.1%,64.7%);stroke-opacity:1.0\" transform=\"translate(50.0, 305.76167685542686)\"><circle r=\"0.0\"></circle></g><g class=\"toyplot-Datum\" style=\"fill:rgb(40%,76.1%,64.7%);fill-opacity:1.0;opacity:1.0;stroke:rgb(40%,76.1%,64.7%);stroke-opacity:1.0\" transform=\"translate(69.463810936326084, 305.76167685542686)\"><circle r=\"0.0\"></circle></g><g class=\"toyplot-Datum\" style=\"fill:rgb(40%,76.1%,64.7%);fill-opacity:1.0;opacity:1.0;stroke:rgb(40%,76.1%,64.7%);stroke-opacity:1.0\" transform=\"translate(88.927621872652182, 116.69146825396822)\"><circle r=\"0.0\"></circle></g><g class=\"toyplot-Datum\" style=\"fill:rgb(40%,76.1%,64.7%);fill-opacity:1.0;opacity:1.0;stroke:rgb(40%,76.1%,64.7%);stroke-opacity:1.0\" transform=\"translate(88.927621872652182, 75.383419133419153)\"><circle r=\"0.0\"></circle></g><g class=\"toyplot-Datum\" style=\"fill:rgb(40%,76.1%,64.7%);fill-opacity:1.0;opacity:1.0;stroke:rgb(40%,76.1%,64.7%);stroke-opacity:1.0\" transform=\"translate(127.85524374530436, 75.383419133419153)\"><circle r=\"0.0\"></circle></g><g class=\"toyplot-Datum\" style=\"fill:rgb(40%,76.1%,64.7%);fill-opacity:1.0;opacity:1.0;stroke:rgb(40%,76.1%,64.7%);stroke-opacity:1.0\" transform=\"translate(88.927621872652182, 157.99951737451735)\"><circle r=\"0.0\"></circle></g><g class=\"toyplot-Datum\" style=\"fill:rgb(40%,76.1%,64.7%);fill-opacity:1.0;opacity:1.0;stroke:rgb(40%,76.1%,64.7%);stroke-opacity:1.0\" transform=\"translate(108.39143280897828, 157.99951737451735)\"><circle r=\"0.0\"></circle></g><g class=\"toyplot-Datum\" style=\"fill:rgb(40%,76.1%,64.7%);fill-opacity:1.0;opacity:1.0;stroke:rgb(40%,76.1%,64.7%);stroke-opacity:1.0\" transform=\"translate(69.463810936326084, 305.76167685542686)\"><circle r=\"0.0\"></circle></g><g class=\"toyplot-Datum\" style=\"fill:rgb(40%,76.1%,64.7%);fill-opacity:1.0;opacity:1.0;stroke:rgb(40%,76.1%,64.7%);stroke-opacity:1.0\" transform=\"translate(69.463810936326084, 263.40626340626341)\"><circle r=\"0.0\"></circle></g><g class=\"toyplot-Datum\" style=\"fill:rgb(40%,76.1%,64.7%);fill-opacity:1.0;opacity:1.0;stroke:rgb(40%,76.1%,64.7%);stroke-opacity:1.0\" transform=\"translate(166.78286561795656, 263.40626340626341)\"><circle r=\"0.0\"></circle></g><g class=\"toyplot-Datum\" style=\"fill:rgb(40%,76.1%,64.7%);fill-opacity:1.0;opacity:1.0;stroke:rgb(40%,76.1%,64.7%);stroke-opacity:1.0\" transform=\"translate(69.463810936326084, 348.11709030459031)\"><circle r=\"0.0\"></circle></g><g class=\"toyplot-Datum\" style=\"fill:rgb(40%,76.1%,64.7%);fill-opacity:1.0;opacity:1.0;stroke:rgb(40%,76.1%,64.7%);stroke-opacity:1.0\" transform=\"translate(88.927621872652182, 348.11709030459031)\"><circle r=\"0.0\"></circle></g><g class=\"toyplot-Datum\" style=\"fill:rgb(40%,76.1%,64.7%);fill-opacity:1.0;opacity:1.0;stroke:rgb(40%,76.1%,64.7%);stroke-opacity:1.0\" transform=\"translate(127.85524374530436, 75.383419133419153)\"><circle r=\"0.0\"></circle></g><g class=\"toyplot-Datum\" style=\"fill:rgb(40%,76.1%,64.7%);fill-opacity:1.0;opacity:1.0;stroke:rgb(40%,76.1%,64.7%);stroke-opacity:1.0\" transform=\"translate(127.85524374530436, 62.312312312312336)\"><circle r=\"0.0\"></circle></g><g class=\"toyplot-Datum\" style=\"fill:rgb(40%,76.1%,64.7%);fill-opacity:1.0;opacity:1.0;stroke:rgb(40%,76.1%,64.7%);stroke-opacity:1.0\" transform=\"translate(205.71048749060873, 62.312312312312336)\"><circle r=\"0.0\"></circle></g><g class=\"toyplot-Datum\" style=\"fill:rgb(40%,76.1%,64.7%);fill-opacity:1.0;opacity:1.0;stroke:rgb(40%,76.1%,64.7%);stroke-opacity:1.0\" transform=\"translate(127.85524374530436, 88.454525954526019)\"><circle r=\"0.0\"></circle></g><g class=\"toyplot-Datum\" style=\"fill:rgb(40%,76.1%,64.7%);fill-opacity:1.0;opacity:1.0;stroke:rgb(40%,76.1%,64.7%);stroke-opacity:1.0\" transform=\"translate(147.31905468163046, 88.454525954526019)\"><circle r=\"0.0\"></circle></g><g class=\"toyplot-Datum\" style=\"fill:rgb(40%,76.1%,64.7%);fill-opacity:1.0;opacity:1.0;stroke:rgb(40%,76.1%,64.7%);stroke-opacity:1.0\" transform=\"translate(108.39143280897828, 157.99951737451735)\"><circle r=\"0.0\"></circle></g><g class=\"toyplot-Datum\" style=\"fill:rgb(40%,76.1%,64.7%);fill-opacity:1.0;opacity:1.0;stroke:rgb(40%,76.1%,64.7%);stroke-opacity:1.0\" transform=\"translate(108.39143280897828, 137.38738738738738)\"><circle r=\"0.0\"></circle></g><g class=\"toyplot-Datum\" style=\"fill:rgb(40%,76.1%,64.7%);fill-opacity:1.0;opacity:1.0;stroke:rgb(40%,76.1%,64.7%);stroke-opacity:1.0\" transform=\"translate(205.71048749060873, 137.38738738738738)\"><circle r=\"0.0\"></circle></g><g class=\"toyplot-Datum\" style=\"fill:rgb(40%,76.1%,64.7%);fill-opacity:1.0;opacity:1.0;stroke:rgb(40%,76.1%,64.7%);stroke-opacity:1.0\" transform=\"translate(108.39143280897828, 178.61164736164733)\"><circle r=\"0.0\"></circle></g><g class=\"toyplot-Datum\" style=\"fill:rgb(40%,76.1%,64.7%);fill-opacity:1.0;opacity:1.0;stroke:rgb(40%,76.1%,64.7%);stroke-opacity:1.0\" transform=\"translate(127.85524374530436, 178.61164736164733)\"><circle r=\"0.0\"></circle></g><g class=\"toyplot-Datum\" style=\"fill:rgb(40%,76.1%,64.7%);fill-opacity:1.0;opacity:1.0;stroke:rgb(40%,76.1%,64.7%);stroke-opacity:1.0\" transform=\"translate(166.78286561795656, 263.40626340626341)\"><circle r=\"0.0\"></circle></g><g class=\"toyplot-Datum\" style=\"fill:rgb(40%,76.1%,64.7%);fill-opacity:1.0;opacity:1.0;stroke:rgb(40%,76.1%,64.7%);stroke-opacity:1.0\" transform=\"translate(166.78286561795656, 247.31874731874731)\"><circle r=\"0.0\"></circle></g><g class=\"toyplot-Datum\" style=\"fill:rgb(40%,76.1%,64.7%);fill-opacity:1.0;opacity:1.0;stroke:rgb(40%,76.1%,64.7%);stroke-opacity:1.0\" transform=\"translate(186.2466765542826, 247.31874731874731)\"><circle r=\"0.0\"></circle></g><g class=\"toyplot-Datum\" style=\"fill:rgb(40%,76.1%,64.7%);fill-opacity:1.0;opacity:1.0;stroke:rgb(40%,76.1%,64.7%);stroke-opacity:1.0\" transform=\"translate(166.78286561795656, 279.49377949377947)\"><circle r=\"0.0\"></circle></g><g class=\"toyplot-Datum\" style=\"fill:rgb(40%,76.1%,64.7%);fill-opacity:1.0;opacity:1.0;stroke:rgb(40%,76.1%,64.7%);stroke-opacity:1.0\" transform=\"translate(186.2466765542826, 279.49377949377947)\"><circle r=\"0.0\"></circle></g><g class=\"toyplot-Datum\" style=\"fill:rgb(40%,76.1%,64.7%);fill-opacity:1.0;opacity:1.0;stroke:rgb(40%,76.1%,64.7%);stroke-opacity:1.0\" transform=\"translate(88.927621872652182, 348.11709030459031)\"><circle r=\"0.0\"></circle></g><g class=\"toyplot-Datum\" style=\"fill:rgb(40%,76.1%,64.7%);fill-opacity:1.0;opacity:1.0;stroke:rgb(40%,76.1%,64.7%);stroke-opacity:1.0\" transform=\"translate(88.927621872652182, 313.67975117975112)\"><circle r=\"0.0\"></circle></g><g class=\"toyplot-Datum\" style=\"fill:rgb(40%,76.1%,64.7%);fill-opacity:1.0;opacity:1.0;stroke:rgb(40%,76.1%,64.7%);stroke-opacity:1.0\" transform=\"translate(147.31905468163046, 313.67975117975112)\"><circle r=\"0.0\"></circle></g><g class=\"toyplot-Datum\" style=\"fill:rgb(40%,76.1%,64.7%);fill-opacity:1.0;opacity:1.0;stroke:rgb(40%,76.1%,64.7%);stroke-opacity:1.0\" transform=\"translate(88.927621872652182, 382.55442942942943)\"><circle r=\"0.0\"></circle></g><g class=\"toyplot-Datum\" style=\"fill:rgb(40%,76.1%,64.7%);fill-opacity:1.0;opacity:1.0;stroke:rgb(40%,76.1%,64.7%);stroke-opacity:1.0\" transform=\"translate(108.39143280897828, 382.55442942942943)\"><circle r=\"0.0\"></circle></g><g class=\"toyplot-Datum\" style=\"fill:rgb(40%,76.1%,64.7%);fill-opacity:1.0;opacity:1.0;stroke:rgb(40%,76.1%,64.7%);stroke-opacity:1.0\" transform=\"translate(205.71048749060873, 62.312312312312336)\"><circle r=\"0.0\"></circle></g><g class=\"toyplot-Datum\" style=\"fill:rgb(40%,76.1%,64.7%);fill-opacity:1.0;opacity:1.0;stroke:rgb(40%,76.1%,64.7%);stroke-opacity:1.0\" transform=\"translate(205.71048749060873, 56.949806949806977)\"><circle r=\"0.0\"></circle></g><g class=\"toyplot-Datum\" style=\"fill:rgb(40%,76.1%,64.7%);fill-opacity:1.0;opacity:1.0;stroke:rgb(40%,76.1%,64.7%);stroke-opacity:1.0\" transform=\"translate(225.1742984269348, 56.949806949806977)\"><circle r=\"0.0\"></circle></g><g class=\"toyplot-Datum\" style=\"fill:rgb(40%,76.1%,64.7%);fill-opacity:1.0;opacity:1.0;stroke:rgb(40%,76.1%,64.7%);stroke-opacity:1.0\" transform=\"translate(205.71048749060873, 67.674817674817689)\"><circle r=\"0.0\"></circle></g><g class=\"toyplot-Datum\" style=\"fill:rgb(40%,76.1%,64.7%);fill-opacity:1.0;opacity:1.0;stroke:rgb(40%,76.1%,64.7%);stroke-opacity:1.0\" transform=\"translate(225.1742984269348, 67.674817674817689)\"><circle r=\"0.0\"></circle></g><g class=\"toyplot-Datum\" style=\"fill:rgb(40%,76.1%,64.7%);fill-opacity:1.0;opacity:1.0;stroke:rgb(40%,76.1%,64.7%);stroke-opacity:1.0\" transform=\"translate(147.31905468163046, 88.454525954526019)\"><circle r=\"0.0\"></circle></g><g class=\"toyplot-Datum\" style=\"fill:rgb(40%,76.1%,64.7%);fill-opacity:1.0;opacity:1.0;stroke:rgb(40%,76.1%,64.7%);stroke-opacity:1.0\" transform=\"translate(147.31905468163046, 78.399828399828436)\"><circle r=\"0.0\"></circle></g><g class=\"toyplot-Datum\" style=\"fill:rgb(40%,76.1%,64.7%);fill-opacity:1.0;opacity:1.0;stroke:rgb(40%,76.1%,64.7%);stroke-opacity:1.0\" transform=\"translate(225.1742984269348, 78.399828399828436)\"><circle r=\"0.0\"></circle></g><g class=\"toyplot-Datum\" style=\"fill:rgb(40%,76.1%,64.7%);fill-opacity:1.0;opacity:1.0;stroke:rgb(40%,76.1%,64.7%);stroke-opacity:1.0\" transform=\"translate(147.31905468163046, 98.509223509223531)\"><circle r=\"0.0\"></circle></g><g class=\"toyplot-Datum\" style=\"fill:rgb(40%,76.1%,64.7%);fill-opacity:1.0;opacity:1.0;stroke:rgb(40%,76.1%,64.7%);stroke-opacity:1.0\" transform=\"translate(166.78286561795656, 98.509223509223531)\"><circle r=\"0.0\"></circle></g><g class=\"toyplot-Datum\" style=\"fill:rgb(40%,76.1%,64.7%);fill-opacity:1.0;opacity:1.0;stroke:rgb(40%,76.1%,64.7%);stroke-opacity:1.0\" transform=\"translate(205.71048749060873, 137.38738738738738)\"><circle r=\"0.0\"></circle></g><g class=\"toyplot-Datum\" style=\"fill:rgb(40%,76.1%,64.7%);fill-opacity:1.0;opacity:1.0;stroke:rgb(40%,76.1%,64.7%);stroke-opacity:1.0\" transform=\"translate(205.71048749060873, 132.02488202488203)\"><circle r=\"0.0\"></circle></g><g class=\"toyplot-Datum\" style=\"fill:rgb(40%,76.1%,64.7%);fill-opacity:1.0;opacity:1.0;stroke:rgb(40%,76.1%,64.7%);stroke-opacity:1.0\" transform=\"translate(225.1742984269348, 132.02488202488203)\"><circle r=\"0.0\"></circle></g><g class=\"toyplot-Datum\" style=\"fill:rgb(40%,76.1%,64.7%);fill-opacity:1.0;opacity:1.0;stroke:rgb(40%,76.1%,64.7%);stroke-opacity:1.0\" transform=\"translate(205.71048749060873, 142.74989274989275)\"><circle r=\"0.0\"></circle></g><g class=\"toyplot-Datum\" style=\"fill:rgb(40%,76.1%,64.7%);fill-opacity:1.0;opacity:1.0;stroke:rgb(40%,76.1%,64.7%);stroke-opacity:1.0\" transform=\"translate(225.1742984269348, 142.74989274989275)\"><circle r=\"0.0\"></circle></g><g class=\"toyplot-Datum\" style=\"fill:rgb(40%,76.1%,64.7%);fill-opacity:1.0;opacity:1.0;stroke:rgb(40%,76.1%,64.7%);stroke-opacity:1.0\" transform=\"translate(127.85524374530436, 178.61164736164733)\"><circle r=\"0.0\"></circle></g><g class=\"toyplot-Datum\" style=\"fill:rgb(40%,76.1%,64.7%);fill-opacity:1.0;opacity:1.0;stroke:rgb(40%,76.1%,64.7%);stroke-opacity:1.0\" transform=\"translate(127.85524374530436, 161.5186615186615)\"><circle r=\"0.0\"></circle></g><g class=\"toyplot-Datum\" style=\"fill:rgb(40%,76.1%,64.7%);fill-opacity:1.0;opacity:1.0;stroke:rgb(40%,76.1%,64.7%);stroke-opacity:1.0\" transform=\"translate(186.2466765542826, 161.5186615186615)\"><circle r=\"0.0\"></circle></g><g class=\"toyplot-Datum\" style=\"fill:rgb(40%,76.1%,64.7%);fill-opacity:1.0;opacity:1.0;stroke:rgb(40%,76.1%,64.7%);stroke-opacity:1.0\" transform=\"translate(127.85524374530436, 195.70463320463318)\"><circle r=\"0.0\"></circle></g><g class=\"toyplot-Datum\" style=\"fill:rgb(40%,76.1%,64.7%);fill-opacity:1.0;opacity:1.0;stroke:rgb(40%,76.1%,64.7%);stroke-opacity:1.0\" transform=\"translate(147.31905468163046, 195.70463320463318)\"><circle r=\"0.0\"></circle></g><g class=\"toyplot-Datum\" style=\"fill:rgb(40%,76.1%,64.7%);fill-opacity:1.0;opacity:1.0;stroke:rgb(40%,76.1%,64.7%);stroke-opacity:1.0\" transform=\"translate(186.2466765542826, 247.31874731874731)\"><circle r=\"0.0\"></circle></g><g class=\"toyplot-Datum\" style=\"fill:rgb(40%,76.1%,64.7%);fill-opacity:1.0;opacity:1.0;stroke:rgb(40%,76.1%,64.7%);stroke-opacity:1.0\" transform=\"translate(186.2466765542826, 239.27498927498928)\"><circle r=\"0.0\"></circle></g><g class=\"toyplot-Datum\" style=\"fill:rgb(40%,76.1%,64.7%);fill-opacity:1.0;opacity:1.0;stroke:rgb(40%,76.1%,64.7%);stroke-opacity:1.0\" transform=\"translate(225.1742984269348, 239.27498927498928)\"><circle r=\"0.0\"></circle></g><g class=\"toyplot-Datum\" style=\"fill:rgb(40%,76.1%,64.7%);fill-opacity:1.0;opacity:1.0;stroke:rgb(40%,76.1%,64.7%);stroke-opacity:1.0\" transform=\"translate(186.2466765542826, 255.36250536250535)\"><circle r=\"0.0\"></circle></g><g class=\"toyplot-Datum\" style=\"fill:rgb(40%,76.1%,64.7%);fill-opacity:1.0;opacity:1.0;stroke:rgb(40%,76.1%,64.7%);stroke-opacity:1.0\" transform=\"translate(205.71048749060873, 255.36250536250535)\"><circle r=\"0.0\"></circle></g><g class=\"toyplot-Datum\" style=\"fill:rgb(40%,76.1%,64.7%);fill-opacity:1.0;opacity:1.0;stroke:rgb(40%,76.1%,64.7%);stroke-opacity:1.0\" transform=\"translate(186.2466765542826, 279.49377949377947)\"><circle r=\"0.0\"></circle></g><g class=\"toyplot-Datum\" style=\"fill:rgb(40%,76.1%,64.7%);fill-opacity:1.0;opacity:1.0;stroke:rgb(40%,76.1%,64.7%);stroke-opacity:1.0\" transform=\"translate(186.2466765542826, 271.4500214500215)\"><circle r=\"0.0\"></circle></g><g class=\"toyplot-Datum\" style=\"fill:rgb(40%,76.1%,64.7%);fill-opacity:1.0;opacity:1.0;stroke:rgb(40%,76.1%,64.7%);stroke-opacity:1.0\" transform=\"translate(225.1742984269348, 271.4500214500215)\"><circle r=\"0.0\"></circle></g><g class=\"toyplot-Datum\" style=\"fill:rgb(40%,76.1%,64.7%);fill-opacity:1.0;opacity:1.0;stroke:rgb(40%,76.1%,64.7%);stroke-opacity:1.0\" transform=\"translate(186.2466765542826, 287.53753753753756)\"><circle r=\"0.0\"></circle></g><g class=\"toyplot-Datum\" style=\"fill:rgb(40%,76.1%,64.7%);fill-opacity:1.0;opacity:1.0;stroke:rgb(40%,76.1%,64.7%);stroke-opacity:1.0\" transform=\"translate(205.71048749060873, 287.53753753753756)\"><circle r=\"0.0\"></circle></g><g class=\"toyplot-Datum\" style=\"fill:rgb(40%,76.1%,64.7%);fill-opacity:1.0;opacity:1.0;stroke:rgb(40%,76.1%,64.7%);stroke-opacity:1.0\" transform=\"translate(147.31905468163046, 313.67975117975112)\"><circle r=\"0.0\"></circle></g><g class=\"toyplot-Datum\" style=\"fill:rgb(40%,76.1%,64.7%);fill-opacity:1.0;opacity:1.0;stroke:rgb(40%,76.1%,64.7%);stroke-opacity:1.0\" transform=\"translate(147.31905468163046, 303.62505362505362)\"><circle r=\"0.0\"></circle></g><g class=\"toyplot-Datum\" style=\"fill:rgb(40%,76.1%,64.7%);fill-opacity:1.0;opacity:1.0;stroke:rgb(40%,76.1%,64.7%);stroke-opacity:1.0\" transform=\"translate(225.1742984269348, 303.62505362505362)\"><circle r=\"0.0\"></circle></g><g class=\"toyplot-Datum\" style=\"fill:rgb(40%,76.1%,64.7%);fill-opacity:1.0;opacity:1.0;stroke:rgb(40%,76.1%,64.7%);stroke-opacity:1.0\" transform=\"translate(147.31905468163046, 323.73444873444873)\"><circle r=\"0.0\"></circle></g><g class=\"toyplot-Datum\" style=\"fill:rgb(40%,76.1%,64.7%);fill-opacity:1.0;opacity:1.0;stroke:rgb(40%,76.1%,64.7%);stroke-opacity:1.0\" transform=\"translate(166.78286561795656, 323.73444873444873)\"><circle r=\"0.0\"></circle></g><g class=\"toyplot-Datum\" style=\"fill:rgb(40%,76.1%,64.7%);fill-opacity:1.0;opacity:1.0;stroke:rgb(40%,76.1%,64.7%);stroke-opacity:1.0\" transform=\"translate(108.39143280897828, 382.55442942942943)\"><circle r=\"0.0\"></circle></g><g class=\"toyplot-Datum\" style=\"fill:rgb(40%,76.1%,64.7%);fill-opacity:1.0;opacity:1.0;stroke:rgb(40%,76.1%,64.7%);stroke-opacity:1.0\" transform=\"translate(108.39143280897828, 365.29386529386534)\"><circle r=\"0.0\"></circle></g><g class=\"toyplot-Datum\" style=\"fill:rgb(40%,76.1%,64.7%);fill-opacity:1.0;opacity:1.0;stroke:rgb(40%,76.1%,64.7%);stroke-opacity:1.0\" transform=\"translate(186.2466765542826, 365.29386529386534)\"><circle r=\"0.0\"></circle></g><g class=\"toyplot-Datum\" style=\"fill:rgb(40%,76.1%,64.7%);fill-opacity:1.0;opacity:1.0;stroke:rgb(40%,76.1%,64.7%);stroke-opacity:1.0\" transform=\"translate(108.39143280897828, 399.81499356499359)\"><circle r=\"0.0\"></circle></g><g class=\"toyplot-Datum\" style=\"fill:rgb(40%,76.1%,64.7%);fill-opacity:1.0;opacity:1.0;stroke:rgb(40%,76.1%,64.7%);stroke-opacity:1.0\" transform=\"translate(127.85524374530436, 399.81499356499359)\"><circle r=\"0.0\"></circle></g><g class=\"toyplot-Datum\" style=\"fill:rgb(40%,76.1%,64.7%);fill-opacity:1.0;opacity:1.0;stroke:rgb(40%,76.1%,64.7%);stroke-opacity:1.0\" transform=\"translate(166.78286561795656, 98.509223509223531)\"><circle r=\"0.0\"></circle></g><g class=\"toyplot-Datum\" style=\"fill:rgb(40%,76.1%,64.7%);fill-opacity:1.0;opacity:1.0;stroke:rgb(40%,76.1%,64.7%);stroke-opacity:1.0\" transform=\"translate(166.78286561795656, 89.124839124839156)\"><circle r=\"0.0\"></circle></g><g class=\"toyplot-Datum\" style=\"fill:rgb(40%,76.1%,64.7%);fill-opacity:1.0;opacity:1.0;stroke:rgb(40%,76.1%,64.7%);stroke-opacity:1.0\" transform=\"translate(225.1742984269348, 89.124839124839156)\"><circle r=\"0.0\"></circle></g><g class=\"toyplot-Datum\" style=\"fill:rgb(40%,76.1%,64.7%);fill-opacity:1.0;opacity:1.0;stroke:rgb(40%,76.1%,64.7%);stroke-opacity:1.0\" transform=\"translate(166.78286561795656, 107.89360789360791)\"><circle r=\"0.0\"></circle></g><g class=\"toyplot-Datum\" style=\"fill:rgb(40%,76.1%,64.7%);fill-opacity:1.0;opacity:1.0;stroke:rgb(40%,76.1%,64.7%);stroke-opacity:1.0\" transform=\"translate(186.2466765542826, 107.89360789360791)\"><circle r=\"0.0\"></circle></g><g class=\"toyplot-Datum\" style=\"fill:rgb(40%,76.1%,64.7%);fill-opacity:1.0;opacity:1.0;stroke:rgb(40%,76.1%,64.7%);stroke-opacity:1.0\" transform=\"translate(186.2466765542826, 161.5186615186615)\"><circle r=\"0.0\"></circle></g><g class=\"toyplot-Datum\" style=\"fill:rgb(40%,76.1%,64.7%);fill-opacity:1.0;opacity:1.0;stroke:rgb(40%,76.1%,64.7%);stroke-opacity:1.0\" transform=\"translate(186.2466765542826, 153.4749034749035)\"><circle r=\"0.0\"></circle></g><g class=\"toyplot-Datum\" style=\"fill:rgb(40%,76.1%,64.7%);fill-opacity:1.0;opacity:1.0;stroke:rgb(40%,76.1%,64.7%);stroke-opacity:1.0\" transform=\"translate(225.1742984269348, 153.4749034749035)\"><circle r=\"0.0\"></circle></g><g class=\"toyplot-Datum\" style=\"fill:rgb(40%,76.1%,64.7%);fill-opacity:1.0;opacity:1.0;stroke:rgb(40%,76.1%,64.7%);stroke-opacity:1.0\" transform=\"translate(186.2466765542826, 169.56241956241956)\"><circle r=\"0.0\"></circle></g><g class=\"toyplot-Datum\" style=\"fill:rgb(40%,76.1%,64.7%);fill-opacity:1.0;opacity:1.0;stroke:rgb(40%,76.1%,64.7%);stroke-opacity:1.0\" transform=\"translate(205.71048749060873, 169.56241956241956)\"><circle r=\"0.0\"></circle></g><g class=\"toyplot-Datum\" style=\"fill:rgb(40%,76.1%,64.7%);fill-opacity:1.0;opacity:1.0;stroke:rgb(40%,76.1%,64.7%);stroke-opacity:1.0\" transform=\"translate(147.31905468163046, 195.70463320463318)\"><circle r=\"0.0\"></circle></g><g class=\"toyplot-Datum\" style=\"fill:rgb(40%,76.1%,64.7%);fill-opacity:1.0;opacity:1.0;stroke:rgb(40%,76.1%,64.7%);stroke-opacity:1.0\" transform=\"translate(147.31905468163046, 185.64993564993566)\"><circle r=\"0.0\"></circle></g><g class=\"toyplot-Datum\" style=\"fill:rgb(40%,76.1%,64.7%);fill-opacity:1.0;opacity:1.0;stroke:rgb(40%,76.1%,64.7%);stroke-opacity:1.0\" transform=\"translate(225.1742984269348, 185.64993564993566)\"><circle r=\"0.0\"></circle></g><g class=\"toyplot-Datum\" style=\"fill:rgb(40%,76.1%,64.7%);fill-opacity:1.0;opacity:1.0;stroke:rgb(40%,76.1%,64.7%);stroke-opacity:1.0\" transform=\"translate(147.31905468163046, 205.75933075933074)\"><circle r=\"0.0\"></circle></g><g class=\"toyplot-Datum\" style=\"fill:rgb(40%,76.1%,64.7%);fill-opacity:1.0;opacity:1.0;stroke:rgb(40%,76.1%,64.7%);stroke-opacity:1.0\" transform=\"translate(166.78286561795656, 205.75933075933074)\"><circle r=\"0.0\"></circle></g><g class=\"toyplot-Datum\" style=\"fill:rgb(40%,76.1%,64.7%);fill-opacity:1.0;opacity:1.0;stroke:rgb(40%,76.1%,64.7%);stroke-opacity:1.0\" transform=\"translate(205.71048749060873, 255.36250536250535)\"><circle r=\"0.0\"></circle></g><g class=\"toyplot-Datum\" style=\"fill:rgb(40%,76.1%,64.7%);fill-opacity:1.0;opacity:1.0;stroke:rgb(40%,76.1%,64.7%);stroke-opacity:1.0\" transform=\"translate(205.71048749060873, 250.0)\"><circle r=\"0.0\"></circle></g><g class=\"toyplot-Datum\" style=\"fill:rgb(40%,76.1%,64.7%);fill-opacity:1.0;opacity:1.0;stroke:rgb(40%,76.1%,64.7%);stroke-opacity:1.0\" transform=\"translate(225.1742984269348, 250.0)\"><circle r=\"0.0\"></circle></g><g class=\"toyplot-Datum\" style=\"fill:rgb(40%,76.1%,64.7%);fill-opacity:1.0;opacity:1.0;stroke:rgb(40%,76.1%,64.7%);stroke-opacity:1.0\" transform=\"translate(205.71048749060873, 260.72501072501069)\"><circle r=\"0.0\"></circle></g><g class=\"toyplot-Datum\" style=\"fill:rgb(40%,76.1%,64.7%);fill-opacity:1.0;opacity:1.0;stroke:rgb(40%,76.1%,64.7%);stroke-opacity:1.0\" transform=\"translate(225.1742984269348, 260.72501072501069)\"><circle r=\"0.0\"></circle></g><g class=\"toyplot-Datum\" style=\"fill:rgb(40%,76.1%,64.7%);fill-opacity:1.0;opacity:1.0;stroke:rgb(40%,76.1%,64.7%);stroke-opacity:1.0\" transform=\"translate(205.71048749060873, 287.53753753753756)\"><circle r=\"0.0\"></circle></g><g class=\"toyplot-Datum\" style=\"fill:rgb(40%,76.1%,64.7%);fill-opacity:1.0;opacity:1.0;stroke:rgb(40%,76.1%,64.7%);stroke-opacity:1.0\" transform=\"translate(205.71048749060873, 282.17503217503213)\"><circle r=\"0.0\"></circle></g><g class=\"toyplot-Datum\" style=\"fill:rgb(40%,76.1%,64.7%);fill-opacity:1.0;opacity:1.0;stroke:rgb(40%,76.1%,64.7%);stroke-opacity:1.0\" transform=\"translate(225.1742984269348, 282.17503217503213)\"><circle r=\"0.0\"></circle></g><g class=\"toyplot-Datum\" style=\"fill:rgb(40%,76.1%,64.7%);fill-opacity:1.0;opacity:1.0;stroke:rgb(40%,76.1%,64.7%);stroke-opacity:1.0\" transform=\"translate(205.71048749060873, 292.90004290004293)\"><circle r=\"0.0\"></circle></g><g class=\"toyplot-Datum\" style=\"fill:rgb(40%,76.1%,64.7%);fill-opacity:1.0;opacity:1.0;stroke:rgb(40%,76.1%,64.7%);stroke-opacity:1.0\" transform=\"translate(225.1742984269348, 292.90004290004293)\"><circle r=\"0.0\"></circle></g><g class=\"toyplot-Datum\" style=\"fill:rgb(40%,76.1%,64.7%);fill-opacity:1.0;opacity:1.0;stroke:rgb(40%,76.1%,64.7%);stroke-opacity:1.0\" transform=\"translate(166.78286561795656, 323.73444873444873)\"><circle r=\"0.0\"></circle></g><g class=\"toyplot-Datum\" style=\"fill:rgb(40%,76.1%,64.7%);fill-opacity:1.0;opacity:1.0;stroke:rgb(40%,76.1%,64.7%);stroke-opacity:1.0\" transform=\"translate(166.78286561795656, 314.35006435006437)\"><circle r=\"0.0\"></circle></g><g class=\"toyplot-Datum\" style=\"fill:rgb(40%,76.1%,64.7%);fill-opacity:1.0;opacity:1.0;stroke:rgb(40%,76.1%,64.7%);stroke-opacity:1.0\" transform=\"translate(225.1742984269348, 314.35006435006437)\"><circle r=\"0.0\"></circle></g><g class=\"toyplot-Datum\" style=\"fill:rgb(40%,76.1%,64.7%);fill-opacity:1.0;opacity:1.0;stroke:rgb(40%,76.1%,64.7%);stroke-opacity:1.0\" transform=\"translate(166.78286561795656, 333.11883311883309)\"><circle r=\"0.0\"></circle></g><g class=\"toyplot-Datum\" style=\"fill:rgb(40%,76.1%,64.7%);fill-opacity:1.0;opacity:1.0;stroke:rgb(40%,76.1%,64.7%);stroke-opacity:1.0\" transform=\"translate(186.2466765542826, 333.11883311883309)\"><circle r=\"0.0\"></circle></g><g class=\"toyplot-Datum\" style=\"fill:rgb(40%,76.1%,64.7%);fill-opacity:1.0;opacity:1.0;stroke:rgb(40%,76.1%,64.7%);stroke-opacity:1.0\" transform=\"translate(186.2466765542826, 365.29386529386534)\"><circle r=\"0.0\"></circle></g><g class=\"toyplot-Datum\" style=\"fill:rgb(40%,76.1%,64.7%);fill-opacity:1.0;opacity:1.0;stroke:rgb(40%,76.1%,64.7%);stroke-opacity:1.0\" transform=\"translate(186.2466765542826, 357.25010725010725)\"><circle r=\"0.0\"></circle></g><g class=\"toyplot-Datum\" style=\"fill:rgb(40%,76.1%,64.7%);fill-opacity:1.0;opacity:1.0;stroke:rgb(40%,76.1%,64.7%);stroke-opacity:1.0\" transform=\"translate(225.1742984269348, 357.25010725010725)\"><circle r=\"0.0\"></circle></g><g class=\"toyplot-Datum\" style=\"fill:rgb(40%,76.1%,64.7%);fill-opacity:1.0;opacity:1.0;stroke:rgb(40%,76.1%,64.7%);stroke-opacity:1.0\" transform=\"translate(186.2466765542826, 373.33762333762337)\"><circle r=\"0.0\"></circle></g><g class=\"toyplot-Datum\" style=\"fill:rgb(40%,76.1%,64.7%);fill-opacity:1.0;opacity:1.0;stroke:rgb(40%,76.1%,64.7%);stroke-opacity:1.0\" transform=\"translate(205.71048749060873, 373.33762333762337)\"><circle r=\"0.0\"></circle></g><g class=\"toyplot-Datum\" style=\"fill:rgb(40%,76.1%,64.7%);fill-opacity:1.0;opacity:1.0;stroke:rgb(40%,76.1%,64.7%);stroke-opacity:1.0\" transform=\"translate(127.85524374530436, 399.81499356499359)\"><circle r=\"0.0\"></circle></g><g class=\"toyplot-Datum\" style=\"fill:rgb(40%,76.1%,64.7%);fill-opacity:1.0;opacity:1.0;stroke:rgb(40%,76.1%,64.7%);stroke-opacity:1.0\" transform=\"translate(127.85524374530436, 389.42513942513943)\"><circle r=\"0.0\"></circle></g><g class=\"toyplot-Datum\" style=\"fill:rgb(40%,76.1%,64.7%);fill-opacity:1.0;opacity:1.0;stroke:rgb(40%,76.1%,64.7%);stroke-opacity:1.0\" transform=\"translate(225.1742984269348, 389.42513942513943)\"><circle r=\"0.0\"></circle></g><g class=\"toyplot-Datum\" style=\"fill:rgb(40%,76.1%,64.7%);fill-opacity:1.0;opacity:1.0;stroke:rgb(40%,76.1%,64.7%);stroke-opacity:1.0\" transform=\"translate(127.85524374530436, 410.20484770484768)\"><circle r=\"0.0\"></circle></g><g class=\"toyplot-Datum\" style=\"fill:rgb(40%,76.1%,64.7%);fill-opacity:1.0;opacity:1.0;stroke:rgb(40%,76.1%,64.7%);stroke-opacity:1.0\" transform=\"translate(147.31905468163046, 410.20484770484768)\"><circle r=\"0.0\"></circle></g><g class=\"toyplot-Datum\" style=\"fill:rgb(40%,76.1%,64.7%);fill-opacity:1.0;opacity:1.0;stroke:rgb(40%,76.1%,64.7%);stroke-opacity:1.0\" transform=\"translate(186.2466765542826, 107.89360789360791)\"><circle r=\"0.0\"></circle></g><g class=\"toyplot-Datum\" style=\"fill:rgb(40%,76.1%,64.7%);fill-opacity:1.0;opacity:1.0;stroke:rgb(40%,76.1%,64.7%);stroke-opacity:1.0\" transform=\"translate(186.2466765542826, 99.849849849849903)\"><circle r=\"0.0\"></circle></g><g class=\"toyplot-Datum\" style=\"fill:rgb(40%,76.1%,64.7%);fill-opacity:1.0;opacity:1.0;stroke:rgb(40%,76.1%,64.7%);stroke-opacity:1.0\" transform=\"translate(225.1742984269348, 99.849849849849903)\"><circle r=\"0.0\"></circle></g><g class=\"toyplot-Datum\" style=\"fill:rgb(40%,76.1%,64.7%);fill-opacity:1.0;opacity:1.0;stroke:rgb(40%,76.1%,64.7%);stroke-opacity:1.0\" transform=\"translate(186.2466765542826, 115.93736593736593)\"><circle r=\"0.0\"></circle></g><g class=\"toyplot-Datum\" style=\"fill:rgb(40%,76.1%,64.7%);fill-opacity:1.0;opacity:1.0;stroke:rgb(40%,76.1%,64.7%);stroke-opacity:1.0\" transform=\"translate(205.71048749060873, 115.93736593736593)\"><circle r=\"0.0\"></circle></g><g class=\"toyplot-Datum\" style=\"fill:rgb(40%,76.1%,64.7%);fill-opacity:1.0;opacity:1.0;stroke:rgb(40%,76.1%,64.7%);stroke-opacity:1.0\" transform=\"translate(205.71048749060873, 169.56241956241956)\"><circle r=\"0.0\"></circle></g><g class=\"toyplot-Datum\" style=\"fill:rgb(40%,76.1%,64.7%);fill-opacity:1.0;opacity:1.0;stroke:rgb(40%,76.1%,64.7%);stroke-opacity:1.0\" transform=\"translate(205.71048749060873, 164.19991419991419)\"><circle r=\"0.0\"></circle></g><g class=\"toyplot-Datum\" style=\"fill:rgb(40%,76.1%,64.7%);fill-opacity:1.0;opacity:1.0;stroke:rgb(40%,76.1%,64.7%);stroke-opacity:1.0\" transform=\"translate(225.1742984269348, 164.19991419991419)\"><circle r=\"0.0\"></circle></g><g class=\"toyplot-Datum\" style=\"fill:rgb(40%,76.1%,64.7%);fill-opacity:1.0;opacity:1.0;stroke:rgb(40%,76.1%,64.7%);stroke-opacity:1.0\" transform=\"translate(205.71048749060873, 174.92492492492491)\"><circle r=\"0.0\"></circle></g><g class=\"toyplot-Datum\" style=\"fill:rgb(40%,76.1%,64.7%);fill-opacity:1.0;opacity:1.0;stroke:rgb(40%,76.1%,64.7%);stroke-opacity:1.0\" transform=\"translate(225.1742984269348, 174.92492492492491)\"><circle r=\"0.0\"></circle></g><g class=\"toyplot-Datum\" style=\"fill:rgb(40%,76.1%,64.7%);fill-opacity:1.0;opacity:1.0;stroke:rgb(40%,76.1%,64.7%);stroke-opacity:1.0\" transform=\"translate(166.78286561795656, 205.75933075933074)\"><circle r=\"0.0\"></circle></g><g class=\"toyplot-Datum\" style=\"fill:rgb(40%,76.1%,64.7%);fill-opacity:1.0;opacity:1.0;stroke:rgb(40%,76.1%,64.7%);stroke-opacity:1.0\" transform=\"translate(166.78286561795656, 196.37494637494638)\"><circle r=\"0.0\"></circle></g><g class=\"toyplot-Datum\" style=\"fill:rgb(40%,76.1%,64.7%);fill-opacity:1.0;opacity:1.0;stroke:rgb(40%,76.1%,64.7%);stroke-opacity:1.0\" transform=\"translate(225.1742984269348, 196.37494637494638)\"><circle r=\"0.0\"></circle></g><g class=\"toyplot-Datum\" style=\"fill:rgb(40%,76.1%,64.7%);fill-opacity:1.0;opacity:1.0;stroke:rgb(40%,76.1%,64.7%);stroke-opacity:1.0\" transform=\"translate(166.78286561795656, 215.14371514371513)\"><circle r=\"0.0\"></circle></g><g class=\"toyplot-Datum\" style=\"fill:rgb(40%,76.1%,64.7%);fill-opacity:1.0;opacity:1.0;stroke:rgb(40%,76.1%,64.7%);stroke-opacity:1.0\" transform=\"translate(186.2466765542826, 215.14371514371513)\"><circle r=\"0.0\"></circle></g><g class=\"toyplot-Datum\" style=\"fill:rgb(40%,76.1%,64.7%);fill-opacity:1.0;opacity:1.0;stroke:rgb(40%,76.1%,64.7%);stroke-opacity:1.0\" transform=\"translate(186.2466765542826, 333.11883311883309)\"><circle r=\"0.0\"></circle></g><g class=\"toyplot-Datum\" style=\"fill:rgb(40%,76.1%,64.7%);fill-opacity:1.0;opacity:1.0;stroke:rgb(40%,76.1%,64.7%);stroke-opacity:1.0\" transform=\"translate(186.2466765542826, 325.07507507507506)\"><circle r=\"0.0\"></circle></g><g class=\"toyplot-Datum\" style=\"fill:rgb(40%,76.1%,64.7%);fill-opacity:1.0;opacity:1.0;stroke:rgb(40%,76.1%,64.7%);stroke-opacity:1.0\" transform=\"translate(225.1742984269348, 325.07507507507506)\"><circle r=\"0.0\"></circle></g><g class=\"toyplot-Datum\" style=\"fill:rgb(40%,76.1%,64.7%);fill-opacity:1.0;opacity:1.0;stroke:rgb(40%,76.1%,64.7%);stroke-opacity:1.0\" transform=\"translate(186.2466765542826, 341.16259116259118)\"><circle r=\"0.0\"></circle></g><g class=\"toyplot-Datum\" style=\"fill:rgb(40%,76.1%,64.7%);fill-opacity:1.0;opacity:1.0;stroke:rgb(40%,76.1%,64.7%);stroke-opacity:1.0\" transform=\"translate(205.71048749060873, 341.16259116259118)\"><circle r=\"0.0\"></circle></g><g class=\"toyplot-Datum\" style=\"fill:rgb(40%,76.1%,64.7%);fill-opacity:1.0;opacity:1.0;stroke:rgb(40%,76.1%,64.7%);stroke-opacity:1.0\" transform=\"translate(205.71048749060873, 373.33762333762337)\"><circle r=\"0.0\"></circle></g><g class=\"toyplot-Datum\" style=\"fill:rgb(40%,76.1%,64.7%);fill-opacity:1.0;opacity:1.0;stroke:rgb(40%,76.1%,64.7%);stroke-opacity:1.0\" transform=\"translate(205.71048749060873, 367.975117975118)\"><circle r=\"0.0\"></circle></g><g class=\"toyplot-Datum\" style=\"fill:rgb(40%,76.1%,64.7%);fill-opacity:1.0;opacity:1.0;stroke:rgb(40%,76.1%,64.7%);stroke-opacity:1.0\" transform=\"translate(225.1742984269348, 367.975117975118)\"><circle r=\"0.0\"></circle></g><g class=\"toyplot-Datum\" style=\"fill:rgb(40%,76.1%,64.7%);fill-opacity:1.0;opacity:1.0;stroke:rgb(40%,76.1%,64.7%);stroke-opacity:1.0\" transform=\"translate(205.71048749060873, 378.70012870012874)\"><circle r=\"0.0\"></circle></g><g class=\"toyplot-Datum\" style=\"fill:rgb(40%,76.1%,64.7%);fill-opacity:1.0;opacity:1.0;stroke:rgb(40%,76.1%,64.7%);stroke-opacity:1.0\" transform=\"translate(225.1742984269348, 378.70012870012874)\"><circle r=\"0.0\"></circle></g><g class=\"toyplot-Datum\" style=\"fill:rgb(40%,76.1%,64.7%);fill-opacity:1.0;opacity:1.0;stroke:rgb(40%,76.1%,64.7%);stroke-opacity:1.0\" transform=\"translate(147.31905468163046, 410.20484770484768)\"><circle r=\"0.0\"></circle></g><g class=\"toyplot-Datum\" style=\"fill:rgb(40%,76.1%,64.7%);fill-opacity:1.0;opacity:1.0;stroke:rgb(40%,76.1%,64.7%);stroke-opacity:1.0\" transform=\"translate(147.31905468163046, 400.15015015015018)\"><circle r=\"0.0\"></circle></g><g class=\"toyplot-Datum\" style=\"fill:rgb(40%,76.1%,64.7%);fill-opacity:1.0;opacity:1.0;stroke:rgb(40%,76.1%,64.7%);stroke-opacity:1.0\" transform=\"translate(225.1742984269348, 400.15015015015018)\"><circle r=\"0.0\"></circle></g><g class=\"toyplot-Datum\" style=\"fill:rgb(40%,76.1%,64.7%);fill-opacity:1.0;opacity:1.0;stroke:rgb(40%,76.1%,64.7%);stroke-opacity:1.0\" transform=\"translate(147.31905468163046, 420.25954525954529)\"><circle r=\"0.0\"></circle></g><g class=\"toyplot-Datum\" style=\"fill:rgb(40%,76.1%,64.7%);fill-opacity:1.0;opacity:1.0;stroke:rgb(40%,76.1%,64.7%);stroke-opacity:1.0\" transform=\"translate(166.78286561795656, 420.25954525954529)\"><circle r=\"0.0\"></circle></g><g class=\"toyplot-Datum\" style=\"fill:rgb(40%,76.1%,64.7%);fill-opacity:1.0;opacity:1.0;stroke:rgb(40%,76.1%,64.7%);stroke-opacity:1.0\" transform=\"translate(205.71048749060873, 115.93736593736593)\"><circle r=\"0.0\"></circle></g><g class=\"toyplot-Datum\" style=\"fill:rgb(40%,76.1%,64.7%);fill-opacity:1.0;opacity:1.0;stroke:rgb(40%,76.1%,64.7%);stroke-opacity:1.0\" transform=\"translate(205.71048749060873, 110.57486057486057)\"><circle r=\"0.0\"></circle></g><g class=\"toyplot-Datum\" style=\"fill:rgb(40%,76.1%,64.7%);fill-opacity:1.0;opacity:1.0;stroke:rgb(40%,76.1%,64.7%);stroke-opacity:1.0\" transform=\"translate(225.1742984269348, 110.57486057486057)\"><circle r=\"0.0\"></circle></g><g class=\"toyplot-Datum\" style=\"fill:rgb(40%,76.1%,64.7%);fill-opacity:1.0;opacity:1.0;stroke:rgb(40%,76.1%,64.7%);stroke-opacity:1.0\" transform=\"translate(205.71048749060873, 121.29987129987128)\"><circle r=\"0.0\"></circle></g><g class=\"toyplot-Datum\" style=\"fill:rgb(40%,76.1%,64.7%);fill-opacity:1.0;opacity:1.0;stroke:rgb(40%,76.1%,64.7%);stroke-opacity:1.0\" transform=\"translate(225.1742984269348, 121.29987129987128)\"><circle r=\"0.0\"></circle></g><g class=\"toyplot-Datum\" style=\"fill:rgb(40%,76.1%,64.7%);fill-opacity:1.0;opacity:1.0;stroke:rgb(40%,76.1%,64.7%);stroke-opacity:1.0\" transform=\"translate(186.2466765542826, 215.14371514371513)\"><circle r=\"0.0\"></circle></g><g class=\"toyplot-Datum\" style=\"fill:rgb(40%,76.1%,64.7%);fill-opacity:1.0;opacity:1.0;stroke:rgb(40%,76.1%,64.7%);stroke-opacity:1.0\" transform=\"translate(186.2466765542826, 207.09995709995709)\"><circle r=\"0.0\"></circle></g><g class=\"toyplot-Datum\" style=\"fill:rgb(40%,76.1%,64.7%);fill-opacity:1.0;opacity:1.0;stroke:rgb(40%,76.1%,64.7%);stroke-opacity:1.0\" transform=\"translate(225.1742984269348, 207.09995709995709)\"><circle r=\"0.0\"></circle></g><g class=\"toyplot-Datum\" style=\"fill:rgb(40%,76.1%,64.7%);fill-opacity:1.0;opacity:1.0;stroke:rgb(40%,76.1%,64.7%);stroke-opacity:1.0\" transform=\"translate(186.2466765542826, 223.18747318747319)\"><circle r=\"0.0\"></circle></g><g class=\"toyplot-Datum\" style=\"fill:rgb(40%,76.1%,64.7%);fill-opacity:1.0;opacity:1.0;stroke:rgb(40%,76.1%,64.7%);stroke-opacity:1.0\" transform=\"translate(205.71048749060873, 223.18747318747319)\"><circle r=\"0.0\"></circle></g><g class=\"toyplot-Datum\" style=\"fill:rgb(40%,76.1%,64.7%);fill-opacity:1.0;opacity:1.0;stroke:rgb(40%,76.1%,64.7%);stroke-opacity:1.0\" transform=\"translate(205.71048749060873, 341.16259116259118)\"><circle r=\"0.0\"></circle></g><g class=\"toyplot-Datum\" style=\"fill:rgb(40%,76.1%,64.7%);fill-opacity:1.0;opacity:1.0;stroke:rgb(40%,76.1%,64.7%);stroke-opacity:1.0\" transform=\"translate(205.71048749060873, 335.80008580008575)\"><circle r=\"0.0\"></circle></g><g class=\"toyplot-Datum\" style=\"fill:rgb(40%,76.1%,64.7%);fill-opacity:1.0;opacity:1.0;stroke:rgb(40%,76.1%,64.7%);stroke-opacity:1.0\" transform=\"translate(225.1742984269348, 335.80008580008575)\"><circle r=\"0.0\"></circle></g><g class=\"toyplot-Datum\" style=\"fill:rgb(40%,76.1%,64.7%);fill-opacity:1.0;opacity:1.0;stroke:rgb(40%,76.1%,64.7%);stroke-opacity:1.0\" transform=\"translate(205.71048749060873, 346.52509652509656)\"><circle r=\"0.0\"></circle></g><g class=\"toyplot-Datum\" style=\"fill:rgb(40%,76.1%,64.7%);fill-opacity:1.0;opacity:1.0;stroke:rgb(40%,76.1%,64.7%);stroke-opacity:1.0\" transform=\"translate(225.1742984269348, 346.52509652509656)\"><circle r=\"0.0\"></circle></g><g class=\"toyplot-Datum\" style=\"fill:rgb(40%,76.1%,64.7%);fill-opacity:1.0;opacity:1.0;stroke:rgb(40%,76.1%,64.7%);stroke-opacity:1.0\" transform=\"translate(166.78286561795656, 420.25954525954529)\"><circle r=\"0.0\"></circle></g><g class=\"toyplot-Datum\" style=\"fill:rgb(40%,76.1%,64.7%);fill-opacity:1.0;opacity:1.0;stroke:rgb(40%,76.1%,64.7%);stroke-opacity:1.0\" transform=\"translate(166.78286561795656, 410.87516087516087)\"><circle r=\"0.0\"></circle></g><g class=\"toyplot-Datum\" style=\"fill:rgb(40%,76.1%,64.7%);fill-opacity:1.0;opacity:1.0;stroke:rgb(40%,76.1%,64.7%);stroke-opacity:1.0\" transform=\"translate(225.1742984269348, 410.87516087516087)\"><circle r=\"0.0\"></circle></g><g class=\"toyplot-Datum\" style=\"fill:rgb(40%,76.1%,64.7%);fill-opacity:1.0;opacity:1.0;stroke:rgb(40%,76.1%,64.7%);stroke-opacity:1.0\" transform=\"translate(166.78286561795656, 429.64392964392965)\"><circle r=\"0.0\"></circle></g><g class=\"toyplot-Datum\" style=\"fill:rgb(40%,76.1%,64.7%);fill-opacity:1.0;opacity:1.0;stroke:rgb(40%,76.1%,64.7%);stroke-opacity:1.0\" transform=\"translate(186.2466765542826, 429.64392964392965)\"><circle r=\"0.0\"></circle></g><g class=\"toyplot-Datum\" style=\"fill:rgb(40%,76.1%,64.7%);fill-opacity:1.0;opacity:1.0;stroke:rgb(40%,76.1%,64.7%);stroke-opacity:1.0\" transform=\"translate(205.71048749060873, 223.18747318747319)\"><circle r=\"0.0\"></circle></g><g class=\"toyplot-Datum\" style=\"fill:rgb(40%,76.1%,64.7%);fill-opacity:1.0;opacity:1.0;stroke:rgb(40%,76.1%,64.7%);stroke-opacity:1.0\" transform=\"translate(205.71048749060873, 217.82496782496781)\"><circle r=\"0.0\"></circle></g><g class=\"toyplot-Datum\" style=\"fill:rgb(40%,76.1%,64.7%);fill-opacity:1.0;opacity:1.0;stroke:rgb(40%,76.1%,64.7%);stroke-opacity:1.0\" transform=\"translate(225.1742984269348, 217.82496782496781)\"><circle r=\"0.0\"></circle></g><g class=\"toyplot-Datum\" style=\"fill:rgb(40%,76.1%,64.7%);fill-opacity:1.0;opacity:1.0;stroke:rgb(40%,76.1%,64.7%);stroke-opacity:1.0\" transform=\"translate(205.71048749060873, 228.54997854997853)\"><circle r=\"0.0\"></circle></g><g class=\"toyplot-Datum\" style=\"fill:rgb(40%,76.1%,64.7%);fill-opacity:1.0;opacity:1.0;stroke:rgb(40%,76.1%,64.7%);stroke-opacity:1.0\" transform=\"translate(225.1742984269348, 228.54997854997853)\"><circle r=\"0.0\"></circle></g><g class=\"toyplot-Datum\" style=\"fill:rgb(40%,76.1%,64.7%);fill-opacity:1.0;opacity:1.0;stroke:rgb(40%,76.1%,64.7%);stroke-opacity:1.0\" transform=\"translate(186.2466765542826, 429.64392964392965)\"><circle r=\"0.0\"></circle></g><g class=\"toyplot-Datum\" style=\"fill:rgb(40%,76.1%,64.7%);fill-opacity:1.0;opacity:1.0;stroke:rgb(40%,76.1%,64.7%);stroke-opacity:1.0\" transform=\"translate(186.2466765542826, 421.60017160017162)\"><circle r=\"0.0\"></circle></g><g class=\"toyplot-Datum\" style=\"fill:rgb(40%,76.1%,64.7%);fill-opacity:1.0;opacity:1.0;stroke:rgb(40%,76.1%,64.7%);stroke-opacity:1.0\" transform=\"translate(225.1742984269348, 421.60017160017162)\"><circle r=\"0.0\"></circle></g><g class=\"toyplot-Datum\" style=\"fill:rgb(40%,76.1%,64.7%);fill-opacity:1.0;opacity:1.0;stroke:rgb(40%,76.1%,64.7%);stroke-opacity:1.0\" transform=\"translate(186.2466765542826, 437.68768768768768)\"><circle r=\"0.0\"></circle></g><g class=\"toyplot-Datum\" style=\"fill:rgb(40%,76.1%,64.7%);fill-opacity:1.0;opacity:1.0;stroke:rgb(40%,76.1%,64.7%);stroke-opacity:1.0\" transform=\"translate(205.71048749060873, 437.68768768768768)\"><circle r=\"0.0\"></circle></g><g class=\"toyplot-Datum\" style=\"fill:rgb(40%,76.1%,64.7%);fill-opacity:1.0;opacity:1.0;stroke:rgb(40%,76.1%,64.7%);stroke-opacity:1.0\" transform=\"translate(205.71048749060873, 437.68768768768768)\"><circle r=\"0.0\"></circle></g><g class=\"toyplot-Datum\" style=\"fill:rgb(40%,76.1%,64.7%);fill-opacity:1.0;opacity:1.0;stroke:rgb(40%,76.1%,64.7%);stroke-opacity:1.0\" transform=\"translate(205.71048749060873, 432.32518232518237)\"><circle r=\"0.0\"></circle></g><g class=\"toyplot-Datum\" style=\"fill:rgb(40%,76.1%,64.7%);fill-opacity:1.0;opacity:1.0;stroke:rgb(40%,76.1%,64.7%);stroke-opacity:1.0\" transform=\"translate(225.1742984269348, 432.32518232518237)\"><circle r=\"0.0\"></circle></g><g class=\"toyplot-Datum\" style=\"fill:rgb(40%,76.1%,64.7%);fill-opacity:1.0;opacity:1.0;stroke:rgb(40%,76.1%,64.7%);stroke-opacity:1.0\" transform=\"translate(205.71048749060873, 443.05019305019306)\"><circle r=\"0.0\"></circle></g><g class=\"toyplot-Datum\" style=\"fill:rgb(40%,76.1%,64.7%);fill-opacity:1.0;opacity:1.0;stroke:rgb(40%,76.1%,64.7%);stroke-opacity:1.0\" transform=\"translate(225.1742984269348, 443.05019305019306)\"><circle r=\"0.0\"></circle></g></g></g></g></g></svg><div class=\"toyplot-behavior\"><script>(function()\n",
       "{\n",
       "var modules={};\n",
       "modules[\"toyplot/tables\"] = (function()\n",
       "    {\n",
       "        var tables = [];\n",
       "\n",
       "        var module = {};\n",
       "\n",
       "        module.set = function(owner, key, names, columns)\n",
       "        {\n",
       "            tables.push({owner: owner, key: key, names: names, columns: columns});\n",
       "        }\n",
       "\n",
       "        module.get = function(owner, key)\n",
       "        {\n",
       "            for(var i = 0; i != tables.length; ++i)\n",
       "            {\n",
       "                var table = tables[i];\n",
       "                if(table.owner != owner)\n",
       "                    continue;\n",
       "                if(table.key != key)\n",
       "                    continue;\n",
       "                return {names: table.names, columns: table.columns};\n",
       "            }\n",
       "        }\n",
       "\n",
       "        module.get_csv = function(owner, key)\n",
       "        {\n",
       "            var table = module.get(owner, key);\n",
       "            if(table != undefined)\n",
       "            {\n",
       "                var csv = \"\";\n",
       "                csv += table.names.join(\",\") + \"\\n\";\n",
       "                for(var i = 0; i != table.columns[0].length; ++i)\n",
       "                {\n",
       "                  for(var j = 0; j != table.columns.length; ++j)\n",
       "                  {\n",
       "                    if(j)\n",
       "                      csv += \",\";\n",
       "                    csv += table.columns[j][i];\n",
       "                  }\n",
       "                  csv += \"\\n\";\n",
       "                }\n",
       "                return csv;\n",
       "            }\n",
       "        }\n",
       "\n",
       "        return module;\n",
       "    })();\n",
       "modules[\"toyplot/root/id\"] = \"t7d26f0bd9ec54d809a2a48114eebef5a\";\n",
       "modules[\"toyplot/root\"] = (function(root_id)\n",
       "    {\n",
       "        return document.querySelector(\"#\" + root_id);\n",
       "    })(modules[\"toyplot/root/id\"]);\n",
       "modules[\"toyplot/canvas/id\"] = \"t0b718fd6a40148d894e104116bee94cd\";\n",
       "modules[\"toyplot/canvas\"] = (function(canvas_id)\n",
       "    {\n",
       "        return document.querySelector(\"#\" + canvas_id);\n",
       "    })(modules[\"toyplot/canvas/id\"]);\n",
       "modules[\"toyplot/menus/context\"] = (function(root, canvas)\n",
       "    {\n",
       "        var wrapper = document.createElement(\"div\");\n",
       "        wrapper.innerHTML = \"<ul class='toyplot-context-menu' style='background:#eee; border:1px solid #b8b8b8; border-radius:5px; box-shadow: 0px 0px 8px rgba(0%,0%,0%,0.25); margin:0; padding:3px 0; position:fixed; visibility:hidden;'></ul>\"\n",
       "        var menu = wrapper.firstChild;\n",
       "\n",
       "        root.appendChild(menu);\n",
       "\n",
       "        var items = [];\n",
       "\n",
       "        var ignore_mouseup = null;\n",
       "        function open_menu(e)\n",
       "        {\n",
       "            var show_menu = false;\n",
       "            for(var index=0; index != items.length; ++index)\n",
       "            {\n",
       "                var item = items[index];\n",
       "                if(item.show(e))\n",
       "                {\n",
       "                    item.item.style.display = \"block\";\n",
       "                    show_menu = true;\n",
       "                }\n",
       "                else\n",
       "                {\n",
       "                    item.item.style.display = \"none\";\n",
       "                }\n",
       "            }\n",
       "\n",
       "            if(show_menu)\n",
       "            {\n",
       "                ignore_mouseup = true;\n",
       "                menu.style.left = (e.clientX + 1) + \"px\";\n",
       "                menu.style.top = (e.clientY - 5) + \"px\";\n",
       "                menu.style.visibility = \"visible\";\n",
       "                e.stopPropagation();\n",
       "                e.preventDefault();\n",
       "            }\n",
       "        }\n",
       "\n",
       "        function close_menu()\n",
       "        {\n",
       "            menu.style.visibility = \"hidden\";\n",
       "        }\n",
       "\n",
       "        function contextmenu(e)\n",
       "        {\n",
       "            open_menu(e);\n",
       "        }\n",
       "\n",
       "        function mousemove(e)\n",
       "        {\n",
       "            ignore_mouseup = false;\n",
       "        }\n",
       "\n",
       "        function mouseup(e)\n",
       "        {\n",
       "            if(ignore_mouseup)\n",
       "            {\n",
       "                ignore_mouseup = false;\n",
       "                return;\n",
       "            }\n",
       "            close_menu();\n",
       "        }\n",
       "\n",
       "        function keydown(e)\n",
       "        {\n",
       "            if(e.key == \"Escape\" || e.key == \"Esc\" || e.keyCode == 27)\n",
       "            {\n",
       "                close_menu();\n",
       "            }\n",
       "        }\n",
       "\n",
       "        canvas.addEventListener(\"contextmenu\", contextmenu);\n",
       "        canvas.addEventListener(\"mousemove\", mousemove);\n",
       "        document.addEventListener(\"mouseup\", mouseup);\n",
       "        document.addEventListener(\"keydown\", keydown);\n",
       "\n",
       "        var module = {};\n",
       "        module.add_item = function(label, show, activate)\n",
       "        {\n",
       "            var wrapper = document.createElement(\"div\");\n",
       "            wrapper.innerHTML = \"<li class='toyplot-context-menu-item' style='background:#eee; color:#333; padding:2px 20px; list-style:none; margin:0; text-align:left;'>\" + label + \"</li>\"\n",
       "            var item = wrapper.firstChild;\n",
       "\n",
       "            items.push({item: item, show: show});\n",
       "\n",
       "            function mouseover()\n",
       "            {\n",
       "                this.style.background = \"steelblue\";\n",
       "                this.style.color = \"white\";\n",
       "            }\n",
       "\n",
       "            function mouseout()\n",
       "            {\n",
       "                this.style.background = \"#eee\";\n",
       "                this.style.color = \"#333\";\n",
       "            }\n",
       "\n",
       "            function choose_item(e)\n",
       "            {\n",
       "                close_menu();\n",
       "                activate();\n",
       "\n",
       "                e.stopPropagation();\n",
       "                e.preventDefault();\n",
       "            }\n",
       "\n",
       "            item.addEventListener(\"mouseover\", mouseover);\n",
       "            item.addEventListener(\"mouseout\", mouseout);\n",
       "            item.addEventListener(\"mouseup\", choose_item);\n",
       "            item.addEventListener(\"contextmenu\", choose_item);\n",
       "\n",
       "            menu.appendChild(item);\n",
       "        };\n",
       "        return module;\n",
       "    })(modules[\"toyplot/root\"],modules[\"toyplot/canvas\"]);\n",
       "modules[\"toyplot/io\"] = (function()\n",
       "    {\n",
       "        var module = {};\n",
       "        module.save_file = function(mime_type, charset, data, filename)\n",
       "        {\n",
       "            var uri = \"data:\" + mime_type + \";charset=\" + charset + \",\" + data;\n",
       "            uri = encodeURI(uri);\n",
       "\n",
       "            var link = document.createElement(\"a\");\n",
       "            if(typeof link.download != \"undefined\")\n",
       "            {\n",
       "              link.href = uri;\n",
       "              link.style = \"visibility:hidden\";\n",
       "              link.download = filename;\n",
       "\n",
       "              document.body.appendChild(link);\n",
       "              link.click();\n",
       "              document.body.removeChild(link);\n",
       "            }\n",
       "            else\n",
       "            {\n",
       "              window.open(uri);\n",
       "            }\n",
       "        };\n",
       "        return module;\n",
       "    })();\n",
       "(function(tables, context_menu, io, owner_id, key, label, names, columns, filename)\n",
       "        {\n",
       "            tables.set(owner_id, key, names, columns);\n",
       "\n",
       "            var owner = document.querySelector(\"#\" + owner_id);\n",
       "            function show_item(e)\n",
       "            {\n",
       "                return owner.contains(e.target);\n",
       "            }\n",
       "\n",
       "            function choose_item()\n",
       "            {\n",
       "                io.save_file(\"text/csv\", \"utf-8\", tables.get_csv(owner_id, key), filename + \".csv\");\n",
       "            }\n",
       "\n",
       "            context_menu.add_item(\"Save \" + label + \" as CSV\", show_item, choose_item);\n",
       "        })(modules[\"toyplot/tables\"],modules[\"toyplot/menus/context\"],modules[\"toyplot/io\"],\"t42a1237cb8884cdebc13107d342678c2\",\"vertex_data\",\"graph vertex data\",[\"x\", \"y\"],[[-9.0, -9.0, -7.0, -9.0, -8.0, -7.0, -7.0, -5.0, -7.0, -6.0, -8.0, -8.0, -3.0, -8.0, -7.0, -5.0, -5.0, -1.0, -5.0, -4.0, -6.0, -6.0, -1.0, -6.0, -5.0, -3.0, -3.0, -2.0, -3.0, -2.0, -7.0, -7.0, -4.0, -7.0, -6.0, -1.0, -1.0, 0.0, -1.0, 0.0, -4.0, -4.0, 0.0, -4.0, -3.0, -1.0, -1.0, 0.0, -1.0, 0.0, -5.0, -5.0, -2.0, -5.0, -4.0, -2.0, -2.0, 0.0, -2.0, -1.0, -2.0, -2.0, 0.0, -2.0, -1.0, -4.0, -4.0, 0.0, -4.0, -3.0, -6.0, -6.0, -2.0, -6.0, -5.0, -3.0, -3.0, 0.0, -3.0, -2.0, -2.0, -2.0, 0.0, -2.0, -1.0, -4.0, -4.0, 0.0, -4.0, -3.0, -1.0, -1.0, 0.0, -1.0, 0.0, -1.0, -1.0, 0.0, -1.0, 0.0, -3.0, -3.0, 0.0, -3.0, -2.0, -2.0, -2.0, 0.0, -2.0, -1.0, -5.0, -5.0, 0.0, -5.0, -4.0, -2.0, -2.0, 0.0, -2.0, -1.0, -1.0, -1.0, 0.0, -1.0, 0.0, -3.0, -3.0, 0.0, -3.0, -2.0, -2.0, -2.0, 0.0, -2.0, -1.0, -1.0, -1.0, 0.0, -1.0, 0.0, -4.0, -4.0, 0.0, -4.0, -3.0, -1.0, -1.0, 0.0, -1.0, 0.0, -2.0, -2.0, 0.0, -2.0, -1.0, -1.0, -1.0, 0.0, -1.0, 0.0, -3.0, -3.0, 0.0, -3.0, -2.0, -1.0, -1.0, 0.0, -1.0, 0.0, -2.0, -2.0, 0.0, -2.0, -1.0, -1.0, -1.0, 0.0, -1.0, 0.0], [21.615234375, 30.4296875, 30.4296875, 12.80078125, 12.80078125, 30.4296875, 34.28125, 34.28125, 26.578125, 26.578125, 12.80078125, 16.75, 16.75, 8.8515625, 8.8515625, 34.28125, 35.5, 35.5, 33.0625, 33.0625, 26.578125, 28.5, 28.5, 24.65625, 24.65625, 16.75, 18.25, 18.25, 15.25, 15.25, 8.8515625, 12.0625, 12.0625, 5.640625, 5.640625, 35.5, 36.0, 36.0, 35.0, 35.0, 33.0625, 34.0, 34.0, 32.125, 32.125, 28.5, 29.0, 29.0, 28.0, 28.0, 24.65625, 26.25, 26.25, 23.0625, 23.0625, 18.25, 19.0, 19.0, 17.5, 17.5, 15.25, 16.0, 16.0, 14.5, 14.5, 12.0625, 13.0, 13.0, 11.125, 11.125, 5.640625, 7.25, 7.25, 4.03125, 4.03125, 32.125, 33.0, 33.0, 31.25, 31.25, 26.25, 27.0, 27.0, 25.5, 25.5, 23.0625, 24.0, 24.0, 22.125, 22.125, 17.5, 18.0, 18.0, 17.0, 17.0, 14.5, 15.0, 15.0, 14.0, 14.0, 11.125, 12.0, 12.0, 10.25, 10.25, 7.25, 8.0, 8.0, 6.5, 6.5, 4.03125, 5.0, 5.0, 3.0625, 3.0625, 31.25, 32.0, 32.0, 30.5, 30.5, 25.5, 26.0, 26.0, 25.0, 25.0, 22.125, 23.0, 23.0, 21.25, 21.25, 10.25, 11.0, 11.0, 9.5, 9.5, 6.5, 7.0, 7.0, 6.0, 6.0, 3.0625, 4.0, 4.0, 2.125, 2.125, 30.5, 31.0, 31.0, 30.0, 30.0, 21.25, 22.0, 22.0, 20.5, 20.5, 9.5, 10.0, 10.0, 9.0, 9.0, 2.125, 3.0, 3.0, 1.25, 1.25, 20.5, 21.0, 21.0, 20.0, 20.0, 1.25, 2.0, 2.0, 0.5, 0.5, 0.5, 1.0, 1.0, 0.0, 0.0]],\"toyplot\");\n",
       "(function(tables, context_menu, io, owner_id, key, label, names, columns, filename)\n",
       "        {\n",
       "            tables.set(owner_id, key, names, columns);\n",
       "\n",
       "            var owner = document.querySelector(\"#\" + owner_id);\n",
       "            function show_item(e)\n",
       "            {\n",
       "                return owner.contains(e.target);\n",
       "            }\n",
       "\n",
       "            function choose_item()\n",
       "            {\n",
       "                io.save_file(\"text/csv\", \"utf-8\", tables.get_csv(owner_id, key), filename + \".csv\");\n",
       "            }\n",
       "\n",
       "            context_menu.add_item(\"Save \" + label + \" as CSV\", show_item, choose_item);\n",
       "        })(modules[\"toyplot/tables\"],modules[\"toyplot/menus/context\"],modules[\"toyplot/io\"],\"t42a1237cb8884cdebc13107d342678c2\",\"edge_data\",\"graph edge data\",[\"source\", \"target\"],[[0, 1, 0, 3, 5, 6, 5, 8, 10, 11, 10, 13, 15, 16, 15, 18, 20, 21, 20, 23, 25, 26, 25, 28, 30, 31, 30, 33, 35, 36, 35, 38, 40, 41, 40, 43, 45, 46, 45, 48, 50, 51, 50, 53, 55, 56, 55, 58, 60, 61, 60, 63, 65, 66, 65, 68, 70, 71, 70, 73, 75, 76, 75, 78, 80, 81, 80, 83, 85, 86, 85, 88, 90, 91, 90, 93, 95, 96, 95, 98, 100, 101, 100, 103, 105, 106, 105, 108, 110, 111, 110, 113, 115, 116, 115, 118, 120, 121, 120, 123, 125, 126, 125, 128, 130, 131, 130, 133, 135, 136, 135, 138, 140, 141, 140, 143, 145, 146, 145, 148, 150, 151, 150, 153, 155, 156, 155, 158, 160, 161, 160, 163, 165, 166, 165, 168, 170, 171, 170, 173, 175, 176, 175, 178], [1, 2, 3, 4, 6, 7, 8, 9, 11, 12, 13, 14, 16, 17, 18, 19, 21, 22, 23, 24, 26, 27, 28, 29, 31, 32, 33, 34, 36, 37, 38, 39, 41, 42, 43, 44, 46, 47, 48, 49, 51, 52, 53, 54, 56, 57, 58, 59, 61, 62, 63, 64, 66, 67, 68, 69, 71, 72, 73, 74, 76, 77, 78, 79, 81, 82, 83, 84, 86, 87, 88, 89, 91, 92, 93, 94, 96, 97, 98, 99, 101, 102, 103, 104, 106, 107, 108, 109, 111, 112, 113, 114, 116, 117, 118, 119, 121, 122, 123, 124, 126, 127, 128, 129, 131, 132, 133, 134, 136, 137, 138, 139, 141, 142, 143, 144, 146, 147, 148, 149, 151, 152, 153, 154, 156, 157, 158, 159, 161, 162, 163, 164, 166, 167, 168, 169, 171, 172, 173, 174, 176, 177, 178, 179]],\"toyplot\");\n",
       "})();</script></div></div>"
      ]
     },
     "metadata": {},
     "output_type": "display_data"
    }
   ],
   "source": [
    "qmc.toytree.draw(width=300,height=500)"
   ]
  },
  {
   "cell_type": "code",
   "execution_count": 110,
   "metadata": {
    "scrolled": true
   },
   "outputs": [
    {
     "data": {
      "text/html": [
       "<div class=\"toyplot\" id=\"t816ed7fa9939458594f19e8fa87e59db\" style=\"text-align:center\"><svg class=\"toyplot-canvas-Canvas\" height=\"500.0px\" id=\"t9f6903a5ad2c4bf1aa57b2486b07f3bd\" preserveAspectRatio=\"xMidYMid meet\" style=\"background-color:transparent;fill:rgb(16.1%,15.3%,14.1%);fill-opacity:1.0;font-family:Helvetica;font-size:12px;opacity:1.0;stroke:rgb(16.1%,15.3%,14.1%);stroke-opacity:1.0;stroke-width:1.0\" viewBox=\"0 0 300.0 500.0\" width=\"300.0px\" xmlns=\"http://www.w3.org/2000/svg\" xmlns:toyplot=\"http://www.sandia.gov/toyplot\" xmlns:xlink=\"http://www.w3.org/1999/xlink\"><g class=\"toyplot-coordinates-Cartesian\" id=\"tda57dbda0ec046ecb6975e979030fafd\"><clipPath id=\"t522ab5a39f0341b7be1650a1969b26e0\"><rect height=\"500.0\" width=\"300.0\" x=\"0.0\" y=\"0.0\"></rect></clipPath><g clip-path=\"url(#t522ab5a39f0341b7be1650a1969b26e0)\"><g class=\"toyplot-mark-Text\" id=\"t7b6f76a500164d2aa4fd97c9080b0907\"><g class=\"toyplot-Series\"><g class=\"toyplot-Datum\" transform=\"translate(219.72453707632511,56.949806949806977)\"><text style=\"fill:rgb(16.1%,15.3%,14.1%);fill-opacity:1.0;font-family:helvetica;font-size:12.0px;font-weight:normal;opacity:1.0;stroke:none;vertical-align:baseline;white-space:pre\" x=\"15.0\" y=\"3.066\">t-10</text></g><g class=\"toyplot-Datum\" transform=\"translate(219.72453707632511,67.674817674817689)\"><text style=\"fill:rgb(16.1%,15.3%,14.1%);fill-opacity:1.0;font-family:helvetica;font-size:12.0px;font-weight:normal;opacity:1.0;stroke:none;vertical-align:baseline;white-space:pre\" x=\"15.0\" y=\"3.066\">t-11</text></g><g class=\"toyplot-Datum\" transform=\"translate(219.72453707632511,78.399828399828436)\"><text style=\"fill:rgb(16.1%,15.3%,14.1%);fill-opacity:1.0;font-family:helvetica;font-size:12.0px;font-weight:normal;opacity:1.0;stroke:none;vertical-align:baseline;white-space:pre\" x=\"15.0\" y=\"3.066\">t-13</text></g><g class=\"toyplot-Datum\" transform=\"translate(219.72453707632511,89.124839124839156)\"><text style=\"fill:rgb(16.1%,15.3%,14.1%);fill-opacity:1.0;font-family:helvetica;font-size:12.0px;font-weight:normal;opacity:1.0;stroke:none;vertical-align:baseline;white-space:pre\" x=\"15.0\" y=\"3.066\">t-25</text></g><g class=\"toyplot-Datum\" transform=\"translate(219.72453707632511,99.849849849849903)\"><text style=\"fill:rgb(16.1%,15.3%,14.1%);fill-opacity:1.0;font-family:helvetica;font-size:12.0px;font-weight:normal;opacity:1.0;stroke:none;vertical-align:baseline;white-space:pre\" x=\"15.0\" y=\"3.066\">t-29</text></g><g class=\"toyplot-Datum\" transform=\"translate(219.72453707632511,110.57486057486057)\"><text style=\"fill:rgb(16.1%,15.3%,14.1%);fill-opacity:1.0;font-family:helvetica;font-size:12.0px;font-weight:normal;opacity:1.0;stroke:none;vertical-align:baseline;white-space:pre\" x=\"15.0\" y=\"3.066\">t-30</text></g><g class=\"toyplot-Datum\" transform=\"translate(219.72453707632511,121.29987129987128)\"><text style=\"fill:rgb(16.1%,15.3%,14.1%);fill-opacity:1.0;font-family:helvetica;font-size:12.0px;font-weight:normal;opacity:1.0;stroke:none;vertical-align:baseline;white-space:pre\" x=\"15.0\" y=\"3.066\">t-32</text></g><g class=\"toyplot-Datum\" transform=\"translate(219.72453707632511,132.02488202488203)\"><text style=\"fill:rgb(16.1%,15.3%,14.1%);fill-opacity:1.0;font-family:helvetica;font-size:12.0px;font-weight:normal;opacity:1.0;stroke:none;vertical-align:baseline;white-space:pre\" x=\"15.0\" y=\"3.066\">t-5</text></g><g class=\"toyplot-Datum\" transform=\"translate(219.72453707632511,142.74989274989275)\"><text style=\"fill:rgb(16.1%,15.3%,14.1%);fill-opacity:1.0;font-family:helvetica;font-size:12.0px;font-weight:normal;opacity:1.0;stroke:none;vertical-align:baseline;white-space:pre\" x=\"15.0\" y=\"3.066\">t-6</text></g><g class=\"toyplot-Datum\" transform=\"translate(219.72453707632511,153.4749034749035)\"><text style=\"fill:rgb(16.1%,15.3%,14.1%);fill-opacity:1.0;font-family:helvetica;font-size:12.0px;font-weight:normal;opacity:1.0;stroke:none;vertical-align:baseline;white-space:pre\" x=\"15.0\" y=\"3.066\">t-14</text></g><g class=\"toyplot-Datum\" transform=\"translate(219.72453707632511,164.19991419991419)\"><text style=\"fill:rgb(16.1%,15.3%,14.1%);fill-opacity:1.0;font-family:helvetica;font-size:12.0px;font-weight:normal;opacity:1.0;stroke:none;vertical-align:baseline;white-space:pre\" x=\"15.0\" y=\"3.066\">t-26</text></g><g class=\"toyplot-Datum\" transform=\"translate(219.72453707632511,174.92492492492491)\"><text style=\"fill:rgb(16.1%,15.3%,14.1%);fill-opacity:1.0;font-family:helvetica;font-size:12.0px;font-weight:normal;opacity:1.0;stroke:none;vertical-align:baseline;white-space:pre\" x=\"15.0\" y=\"3.066\">t-27</text></g><g class=\"toyplot-Datum\" transform=\"translate(219.72453707632511,185.64993564993566)\"><text style=\"fill:rgb(16.1%,15.3%,14.1%);fill-opacity:1.0;font-family:helvetica;font-size:12.0px;font-weight:normal;opacity:1.0;stroke:none;vertical-align:baseline;white-space:pre\" x=\"15.0\" y=\"3.066\">t-33</text></g><g class=\"toyplot-Datum\" transform=\"translate(219.72453707632511,196.37494637494638)\"><text style=\"fill:rgb(16.1%,15.3%,14.1%);fill-opacity:1.0;font-family:helvetica;font-size:12.0px;font-weight:normal;opacity:1.0;stroke:none;vertical-align:baseline;white-space:pre\" x=\"15.0\" y=\"3.066\">t-15</text></g><g class=\"toyplot-Datum\" transform=\"translate(219.72453707632511,207.09995709995709)\"><text style=\"fill:rgb(16.1%,15.3%,14.1%);fill-opacity:1.0;font-family:helvetica;font-size:12.0px;font-weight:normal;opacity:1.0;stroke:none;vertical-align:baseline;white-space:pre\" x=\"15.0\" y=\"3.066\">t-16</text></g><g class=\"toyplot-Datum\" transform=\"translate(219.72453707632511,217.82496782496781)\"><text style=\"fill:rgb(16.1%,15.3%,14.1%);fill-opacity:1.0;font-family:helvetica;font-size:12.0px;font-weight:normal;opacity:1.0;stroke:none;vertical-align:baseline;white-space:pre\" x=\"15.0\" y=\"3.066\">t-34</text></g><g class=\"toyplot-Datum\" transform=\"translate(219.72453707632511,228.54997854997853)\"><text style=\"fill:rgb(16.1%,15.3%,14.1%);fill-opacity:1.0;font-family:helvetica;font-size:12.0px;font-weight:normal;opacity:1.0;stroke:none;vertical-align:baseline;white-space:pre\" x=\"15.0\" y=\"3.066\">t-36</text></g><g class=\"toyplot-Datum\" transform=\"translate(219.72453707632511,239.27498927498928)\"><text style=\"fill:rgb(16.1%,15.3%,14.1%);fill-opacity:1.0;font-family:helvetica;font-size:12.0px;font-weight:normal;opacity:1.0;stroke:none;vertical-align:baseline;white-space:pre\" x=\"15.0\" y=\"3.066\">t-35</text></g><g class=\"toyplot-Datum\" transform=\"translate(219.72453707632511,250.0)\"><text style=\"fill:rgb(16.1%,15.3%,14.1%);fill-opacity:1.0;font-family:helvetica;font-size:12.0px;font-weight:normal;opacity:1.0;stroke:none;vertical-align:baseline;white-space:pre\" x=\"15.0\" y=\"3.066\">t-4</text></g><g class=\"toyplot-Datum\" transform=\"translate(219.72453707632511,260.72501072501069)\"><text style=\"fill:rgb(16.1%,15.3%,14.1%);fill-opacity:1.0;font-family:helvetica;font-size:12.0px;font-weight:normal;opacity:1.0;stroke:none;vertical-align:baseline;white-space:pre\" x=\"15.0\" y=\"3.066\">t-31</text></g><g class=\"toyplot-Datum\" transform=\"translate(219.72453707632511,271.4500214500215)\"><text style=\"fill:rgb(16.1%,15.3%,14.1%);fill-opacity:1.0;font-family:helvetica;font-size:12.0px;font-weight:normal;opacity:1.0;stroke:none;vertical-align:baseline;white-space:pre\" x=\"15.0\" y=\"3.066\">t-28</text></g><g class=\"toyplot-Datum\" transform=\"translate(219.72453707632511,282.17503217503213)\"><text style=\"fill:rgb(16.1%,15.3%,14.1%);fill-opacity:1.0;font-family:helvetica;font-size:12.0px;font-weight:normal;opacity:1.0;stroke:none;vertical-align:baseline;white-space:pre\" x=\"15.0\" y=\"3.066\">t-24</text></g><g class=\"toyplot-Datum\" transform=\"translate(219.72453707632511,292.90004290004293)\"><text style=\"fill:rgb(16.1%,15.3%,14.1%);fill-opacity:1.0;font-family:helvetica;font-size:12.0px;font-weight:normal;opacity:1.0;stroke:none;vertical-align:baseline;white-space:pre\" x=\"15.0\" y=\"3.066\">t-22</text></g><g class=\"toyplot-Datum\" transform=\"translate(219.72453707632511,303.62505362505362)\"><text style=\"fill:rgb(16.1%,15.3%,14.1%);fill-opacity:1.0;font-family:helvetica;font-size:12.0px;font-weight:normal;opacity:1.0;stroke:none;vertical-align:baseline;white-space:pre\" x=\"15.0\" y=\"3.066\">t-21</text></g><g class=\"toyplot-Datum\" transform=\"translate(219.72453707632511,314.35006435006437)\"><text style=\"fill:rgb(16.1%,15.3%,14.1%);fill-opacity:1.0;font-family:helvetica;font-size:12.0px;font-weight:normal;opacity:1.0;stroke:none;vertical-align:baseline;white-space:pre\" x=\"15.0\" y=\"3.066\">t-19</text></g><g class=\"toyplot-Datum\" transform=\"translate(219.72453707632511,325.07507507507506)\"><text style=\"fill:rgb(16.1%,15.3%,14.1%);fill-opacity:1.0;font-family:helvetica;font-size:12.0px;font-weight:normal;opacity:1.0;stroke:none;vertical-align:baseline;white-space:pre\" x=\"15.0\" y=\"3.066\">t-18</text></g><g class=\"toyplot-Datum\" transform=\"translate(219.72453707632511,335.80008580008575)\"><text style=\"fill:rgb(16.1%,15.3%,14.1%);fill-opacity:1.0;font-family:helvetica;font-size:12.0px;font-weight:normal;opacity:1.0;stroke:none;vertical-align:baseline;white-space:pre\" x=\"15.0\" y=\"3.066\">t-12</text></g><g class=\"toyplot-Datum\" transform=\"translate(219.72453707632511,346.52509652509656)\"><text style=\"fill:rgb(16.1%,15.3%,14.1%);fill-opacity:1.0;font-family:helvetica;font-size:12.0px;font-weight:normal;opacity:1.0;stroke:none;vertical-align:baseline;white-space:pre\" x=\"15.0\" y=\"3.066\">t-9</text></g><g class=\"toyplot-Datum\" transform=\"translate(219.72453707632511,357.25010725010725)\"><text style=\"fill:rgb(16.1%,15.3%,14.1%);fill-opacity:1.0;font-family:helvetica;font-size:12.0px;font-weight:normal;opacity:1.0;stroke:none;vertical-align:baseline;white-space:pre\" x=\"15.0\" y=\"3.066\">t-3</text></g><g class=\"toyplot-Datum\" transform=\"translate(219.72453707632511,367.975117975118)\"><text style=\"fill:rgb(16.1%,15.3%,14.1%);fill-opacity:1.0;font-family:helvetica;font-size:12.0px;font-weight:normal;opacity:1.0;stroke:none;vertical-align:baseline;white-space:pre\" x=\"15.0\" y=\"3.066\">t-23</text></g><g class=\"toyplot-Datum\" transform=\"translate(219.72453707632511,378.70012870012874)\"><text style=\"fill:rgb(16.1%,15.3%,14.1%);fill-opacity:1.0;font-family:helvetica;font-size:12.0px;font-weight:normal;opacity:1.0;stroke:none;vertical-align:baseline;white-space:pre\" x=\"15.0\" y=\"3.066\">t-20</text></g><g class=\"toyplot-Datum\" transform=\"translate(219.72453707632511,389.42513942513943)\"><text style=\"fill:rgb(16.1%,15.3%,14.1%);fill-opacity:1.0;font-family:helvetica;font-size:12.0px;font-weight:normal;opacity:1.0;stroke:none;vertical-align:baseline;white-space:pre\" x=\"15.0\" y=\"3.066\">t-17</text></g><g class=\"toyplot-Datum\" transform=\"translate(219.72453707632511,400.15015015015018)\"><text style=\"fill:rgb(16.1%,15.3%,14.1%);fill-opacity:1.0;font-family:helvetica;font-size:12.0px;font-weight:normal;opacity:1.0;stroke:none;vertical-align:baseline;white-space:pre\" x=\"15.0\" y=\"3.066\">t-8</text></g><g class=\"toyplot-Datum\" transform=\"translate(219.72453707632511,410.87516087516087)\"><text style=\"fill:rgb(16.1%,15.3%,14.1%);fill-opacity:1.0;font-family:helvetica;font-size:12.0px;font-weight:normal;opacity:1.0;stroke:none;vertical-align:baseline;white-space:pre\" x=\"15.0\" y=\"3.066\">t-7</text></g><g class=\"toyplot-Datum\" transform=\"translate(219.72453707632511,421.60017160017162)\"><text style=\"fill:rgb(16.1%,15.3%,14.1%);fill-opacity:1.0;font-family:helvetica;font-size:12.0px;font-weight:normal;opacity:1.0;stroke:none;vertical-align:baseline;white-space:pre\" x=\"15.0\" y=\"3.066\">t-2</text></g><g class=\"toyplot-Datum\" transform=\"translate(219.72453707632511,432.32518232518237)\"><text style=\"fill:rgb(16.1%,15.3%,14.1%);fill-opacity:1.0;font-family:helvetica;font-size:12.0px;font-weight:normal;opacity:1.0;stroke:none;vertical-align:baseline;white-space:pre\" x=\"15.0\" y=\"3.066\">t-1</text></g><g class=\"toyplot-Datum\" transform=\"translate(219.72453707632511,443.05019305019306)\"><text style=\"fill:rgb(16.1%,15.3%,14.1%);fill-opacity:1.0;font-family:helvetica;font-size:12.0px;font-weight:normal;opacity:1.0;stroke:none;vertical-align:baseline;white-space:pre\" x=\"15.0\" y=\"3.066\">t-0</text></g></g></g><g class=\"toyplot-mark-Graph\" id=\"tb2fd61d7dfc440539c1ebaf6eb364769\"><g class=\"toyplot-Edges\"><path d=\"M 50.0 164.199852831 L 50.0 67.6747358495\" style=\"fill:none;stroke:rgb(16.1%,15.3%,14.1%);stroke-linecap:round;stroke-opacity:1.0;stroke-width:2\"></path><path d=\"M 50.0 67.6747358495 L 67.8657407449 67.6747358495\" style=\"fill:none;stroke:rgb(16.1%,15.3%,14.1%);stroke-linecap:round;stroke-opacity:1.0;stroke-width:2\"></path><path d=\"M 50.0 164.199852831 L 50.0 260.724969812\" style=\"fill:none;stroke:rgb(16.1%,15.3%,14.1%);stroke-linecap:round;stroke-opacity:1.0;stroke-width:2\"></path><path d=\"M 50.0 260.724969812 L 58.9328703724 260.724969812\" style=\"fill:none;stroke:rgb(16.1%,15.3%,14.1%);stroke-linecap:round;stroke-opacity:1.0;stroke-width:2\"></path><path d=\"M 67.8657407449 67.6747358495 L 67.8657407449 56.9498069498\" style=\"fill:none;stroke:rgb(16.1%,15.3%,14.1%);stroke-linecap:round;stroke-opacity:1.0;stroke-width:2\"></path><path d=\"M 67.8657407449 56.9498069498 L 219.724537076 56.9498069498\" style=\"fill:none;stroke:rgb(16.1%,15.3%,14.1%);stroke-linecap:round;stroke-opacity:1.0;stroke-width:2\"></path><path d=\"M 67.8657407449 67.6747358495 L 67.8657407449 78.3996647492\" style=\"fill:none;stroke:rgb(16.1%,15.3%,14.1%);stroke-linecap:round;stroke-opacity:1.0;stroke-width:2\"></path><path d=\"M 67.8657407449 78.3996647492 L 76.7986111173 78.3996647492\" style=\"fill:none;stroke:rgb(16.1%,15.3%,14.1%);stroke-linecap:round;stroke-opacity:1.0;stroke-width:2\"></path><path d=\"M 58.9328703724 260.724969812 L 58.9328703724 250.0\" style=\"fill:none;stroke:rgb(16.1%,15.3%,14.1%);stroke-linecap:round;stroke-opacity:1.0;stroke-width:2\"></path><path d=\"M 58.9328703724 250.0 L 219.724537076 250.0\" style=\"fill:none;stroke:rgb(16.1%,15.3%,14.1%);stroke-linecap:round;stroke-opacity:1.0;stroke-width:2\"></path><path d=\"M 58.9328703724 260.724969812 L 58.9328703724 271.449939625\" style=\"fill:none;stroke:rgb(16.1%,15.3%,14.1%);stroke-linecap:round;stroke-opacity:1.0;stroke-width:2\"></path><path d=\"M 58.9328703724 271.449939625 L 67.8657407449 271.449939625\" style=\"fill:none;stroke:rgb(16.1%,15.3%,14.1%);stroke-linecap:round;stroke-opacity:1.0;stroke-width:2\"></path><path d=\"M 76.7986111173 78.3996647492 L 76.7986111173 67.6748176748\" style=\"fill:none;stroke:rgb(16.1%,15.3%,14.1%);stroke-linecap:round;stroke-opacity:1.0;stroke-width:2\"></path><path d=\"M 76.7986111173 67.6748176748 L 219.724537076 67.6748176748\" style=\"fill:none;stroke:rgb(16.1%,15.3%,14.1%);stroke-linecap:round;stroke-opacity:1.0;stroke-width:2\"></path><path d=\"M 76.7986111173 78.3996647492 L 76.7986111173 89.1245118235\" style=\"fill:none;stroke:rgb(16.1%,15.3%,14.1%);stroke-linecap:round;stroke-opacity:1.0;stroke-width:2\"></path><path d=\"M 76.7986111173 89.1245118235 L 85.7314814898 89.1245118235\" style=\"fill:none;stroke:rgb(16.1%,15.3%,14.1%);stroke-linecap:round;stroke-opacity:1.0;stroke-width:2\"></path><path d=\"M 67.8657407449 271.449939625 L 67.8657407449 260.725010725\" style=\"fill:none;stroke:rgb(16.1%,15.3%,14.1%);stroke-linecap:round;stroke-opacity:1.0;stroke-width:2\"></path><path d=\"M 67.8657407449 260.725010725 L 219.724537076 260.725010725\" style=\"fill:none;stroke:rgb(16.1%,15.3%,14.1%);stroke-linecap:round;stroke-opacity:1.0;stroke-width:2\"></path><path d=\"M 67.8657407449 271.449939625 L 67.8657407449 282.174868524\" style=\"fill:none;stroke:rgb(16.1%,15.3%,14.1%);stroke-linecap:round;stroke-opacity:1.0;stroke-width:2\"></path><path d=\"M 67.8657407449 282.174868524 L 76.7986111173 282.174868524\" style=\"fill:none;stroke:rgb(16.1%,15.3%,14.1%);stroke-linecap:round;stroke-opacity:1.0;stroke-width:2\"></path><path d=\"M 85.7314814898 89.1245118235 L 85.7314814898 78.3998283998\" style=\"fill:none;stroke:rgb(16.1%,15.3%,14.1%);stroke-linecap:round;stroke-opacity:1.0;stroke-width:2\"></path><path d=\"M 85.7314814898 78.3998283998 L 219.724537076 78.3998283998\" style=\"fill:none;stroke:rgb(16.1%,15.3%,14.1%);stroke-linecap:round;stroke-opacity:1.0;stroke-width:2\"></path><path d=\"M 85.7314814898 89.1245118235 L 85.7314814898 99.8491952471\" style=\"fill:none;stroke:rgb(16.1%,15.3%,14.1%);stroke-linecap:round;stroke-opacity:1.0;stroke-width:2\"></path><path d=\"M 85.7314814898 99.8491952471 L 94.6643518622 99.8491952471\" style=\"fill:none;stroke:rgb(16.1%,15.3%,14.1%);stroke-linecap:round;stroke-opacity:1.0;stroke-width:2\"></path><path d=\"M 76.7986111173 282.174868524 L 76.7986111173 271.45002145\" style=\"fill:none;stroke:rgb(16.1%,15.3%,14.1%);stroke-linecap:round;stroke-opacity:1.0;stroke-width:2\"></path><path d=\"M 76.7986111173 271.45002145 L 219.724537076 271.45002145\" style=\"fill:none;stroke:rgb(16.1%,15.3%,14.1%);stroke-linecap:round;stroke-opacity:1.0;stroke-width:2\"></path><path d=\"M 76.7986111173 282.174868524 L 76.7986111173 292.899715599\" style=\"fill:none;stroke:rgb(16.1%,15.3%,14.1%);stroke-linecap:round;stroke-opacity:1.0;stroke-width:2\"></path><path d=\"M 76.7986111173 292.899715599 L 85.7314814898 292.899715599\" style=\"fill:none;stroke:rgb(16.1%,15.3%,14.1%);stroke-linecap:round;stroke-opacity:1.0;stroke-width:2\"></path><path d=\"M 94.6643518622 99.8491952471 L 94.6643518622 89.1248391248\" style=\"fill:none;stroke:rgb(16.1%,15.3%,14.1%);stroke-linecap:round;stroke-opacity:1.0;stroke-width:2\"></path><path d=\"M 94.6643518622 89.1248391248 L 219.724537076 89.1248391248\" style=\"fill:none;stroke:rgb(16.1%,15.3%,14.1%);stroke-linecap:round;stroke-opacity:1.0;stroke-width:2\"></path><path d=\"M 94.6643518622 99.8491952471 L 94.6643518622 110.573551369\" style=\"fill:none;stroke:rgb(16.1%,15.3%,14.1%);stroke-linecap:round;stroke-opacity:1.0;stroke-width:2\"></path><path d=\"M 94.6643518622 110.573551369 L 103.597222235 110.573551369\" style=\"fill:none;stroke:rgb(16.1%,15.3%,14.1%);stroke-linecap:round;stroke-opacity:1.0;stroke-width:2\"></path><path d=\"M 85.7314814898 292.899715599 L 85.7314814898 282.175032175\" style=\"fill:none;stroke:rgb(16.1%,15.3%,14.1%);stroke-linecap:round;stroke-opacity:1.0;stroke-width:2\"></path><path d=\"M 85.7314814898 282.175032175 L 219.724537076 282.175032175\" style=\"fill:none;stroke:rgb(16.1%,15.3%,14.1%);stroke-linecap:round;stroke-opacity:1.0;stroke-width:2\"></path><path d=\"M 85.7314814898 292.899715599 L 85.7314814898 303.624399022\" style=\"fill:none;stroke:rgb(16.1%,15.3%,14.1%);stroke-linecap:round;stroke-opacity:1.0;stroke-width:2\"></path><path d=\"M 85.7314814898 303.624399022 L 94.6643518622 303.624399022\" style=\"fill:none;stroke:rgb(16.1%,15.3%,14.1%);stroke-linecap:round;stroke-opacity:1.0;stroke-width:2\"></path><path d=\"M 103.597222235 110.573551369 L 103.597222235 99.8498498498\" style=\"fill:none;stroke:rgb(16.1%,15.3%,14.1%);stroke-linecap:round;stroke-opacity:1.0;stroke-width:2\"></path><path d=\"M 103.597222235 99.8498498498 L 219.724537076 99.8498498498\" style=\"fill:none;stroke:rgb(16.1%,15.3%,14.1%);stroke-linecap:round;stroke-opacity:1.0;stroke-width:2\"></path><path d=\"M 103.597222235 110.573551369 L 103.597222235 121.297252889\" style=\"fill:none;stroke:rgb(16.1%,15.3%,14.1%);stroke-linecap:round;stroke-opacity:1.0;stroke-width:2\"></path><path d=\"M 103.597222235 121.297252889 L 112.530092607 121.297252889\" style=\"fill:none;stroke:rgb(16.1%,15.3%,14.1%);stroke-linecap:round;stroke-opacity:1.0;stroke-width:2\"></path><path d=\"M 94.6643518622 303.624399022 L 94.6643518622 292.9000429\" style=\"fill:none;stroke:rgb(16.1%,15.3%,14.1%);stroke-linecap:round;stroke-opacity:1.0;stroke-width:2\"></path><path d=\"M 94.6643518622 292.9000429 L 219.724537076 292.9000429\" style=\"fill:none;stroke:rgb(16.1%,15.3%,14.1%);stroke-linecap:round;stroke-opacity:1.0;stroke-width:2\"></path><path d=\"M 94.6643518622 303.624399022 L 94.6643518622 314.348755145\" style=\"fill:none;stroke:rgb(16.1%,15.3%,14.1%);stroke-linecap:round;stroke-opacity:1.0;stroke-width:2\"></path><path d=\"M 94.6643518622 314.348755145 L 103.597222235 314.348755145\" style=\"fill:none;stroke:rgb(16.1%,15.3%,14.1%);stroke-linecap:round;stroke-opacity:1.0;stroke-width:2\"></path><path d=\"M 112.530092607 121.297252889 L 112.530092607 110.574860575\" style=\"fill:none;stroke:rgb(16.1%,15.3%,14.1%);stroke-linecap:round;stroke-opacity:1.0;stroke-width:2\"></path><path d=\"M 112.530092607 110.574860575 L 219.724537076 110.574860575\" style=\"fill:none;stroke:rgb(16.1%,15.3%,14.1%);stroke-linecap:round;stroke-opacity:1.0;stroke-width:2\"></path><path d=\"M 112.530092607 121.297252889 L 112.530092607 132.019645203\" style=\"fill:none;stroke:rgb(16.1%,15.3%,14.1%);stroke-linecap:round;stroke-opacity:1.0;stroke-width:2\"></path><path d=\"M 112.530092607 132.019645203 L 121.46296298 132.019645203\" style=\"fill:none;stroke:rgb(16.1%,15.3%,14.1%);stroke-linecap:round;stroke-opacity:1.0;stroke-width:2\"></path><path d=\"M 103.597222235 314.348755145 L 103.597222235 303.625053625\" style=\"fill:none;stroke:rgb(16.1%,15.3%,14.1%);stroke-linecap:round;stroke-opacity:1.0;stroke-width:2\"></path><path d=\"M 103.597222235 303.625053625 L 219.724537076 303.625053625\" style=\"fill:none;stroke:rgb(16.1%,15.3%,14.1%);stroke-linecap:round;stroke-opacity:1.0;stroke-width:2\"></path><path d=\"M 103.597222235 314.348755145 L 103.597222235 325.072456664\" style=\"fill:none;stroke:rgb(16.1%,15.3%,14.1%);stroke-linecap:round;stroke-opacity:1.0;stroke-width:2\"></path><path d=\"M 103.597222235 325.072456664 L 112.530092607 325.072456664\" style=\"fill:none;stroke:rgb(16.1%,15.3%,14.1%);stroke-linecap:round;stroke-opacity:1.0;stroke-width:2\"></path><path d=\"M 121.46296298 132.019645203 L 121.46296298 121.2998713\" style=\"fill:none;stroke:rgb(16.1%,15.3%,14.1%);stroke-linecap:round;stroke-opacity:1.0;stroke-width:2\"></path><path d=\"M 121.46296298 121.2998713 L 219.724537076 121.2998713\" style=\"fill:none;stroke:rgb(16.1%,15.3%,14.1%);stroke-linecap:round;stroke-opacity:1.0;stroke-width:2\"></path><path d=\"M 121.46296298 132.019645203 L 121.46296298 142.739419107\" style=\"fill:none;stroke:rgb(16.1%,15.3%,14.1%);stroke-linecap:round;stroke-opacity:1.0;stroke-width:2\"></path><path d=\"M 121.46296298 142.739419107 L 130.395833352 142.739419107\" style=\"fill:none;stroke:rgb(16.1%,15.3%,14.1%);stroke-linecap:round;stroke-opacity:1.0;stroke-width:2\"></path><path d=\"M 112.530092607 325.072456664 L 112.530092607 314.35006435\" style=\"fill:none;stroke:rgb(16.1%,15.3%,14.1%);stroke-linecap:round;stroke-opacity:1.0;stroke-width:2\"></path><path d=\"M 112.530092607 314.35006435 L 219.724537076 314.35006435\" style=\"fill:none;stroke:rgb(16.1%,15.3%,14.1%);stroke-linecap:round;stroke-opacity:1.0;stroke-width:2\"></path><path d=\"M 112.530092607 325.072456664 L 112.530092607 335.794848978\" style=\"fill:none;stroke:rgb(16.1%,15.3%,14.1%);stroke-linecap:round;stroke-opacity:1.0;stroke-width:2\"></path><path d=\"M 112.530092607 335.794848978 L 121.46296298 335.794848978\" style=\"fill:none;stroke:rgb(16.1%,15.3%,14.1%);stroke-linecap:round;stroke-opacity:1.0;stroke-width:2\"></path><path d=\"M 130.395833352 142.739419107 L 130.395833352 132.024882025\" style=\"fill:none;stroke:rgb(16.1%,15.3%,14.1%);stroke-linecap:round;stroke-opacity:1.0;stroke-width:2\"></path><path d=\"M 130.395833352 132.024882025 L 219.724537076 132.024882025\" style=\"fill:none;stroke:rgb(16.1%,15.3%,14.1%);stroke-linecap:round;stroke-opacity:1.0;stroke-width:2\"></path><path d=\"M 130.395833352 142.739419107 L 130.395833352 153.453956188\" style=\"fill:none;stroke:rgb(16.1%,15.3%,14.1%);stroke-linecap:round;stroke-opacity:1.0;stroke-width:2\"></path><path d=\"M 130.395833352 153.453956188 L 139.328703724 153.453956188\" style=\"fill:none;stroke:rgb(16.1%,15.3%,14.1%);stroke-linecap:round;stroke-opacity:1.0;stroke-width:2\"></path><path d=\"M 121.46296298 335.794848978 L 121.46296298 325.075075075\" style=\"fill:none;stroke:rgb(16.1%,15.3%,14.1%);stroke-linecap:round;stroke-opacity:1.0;stroke-width:2\"></path><path d=\"M 121.46296298 325.075075075 L 219.724537076 325.075075075\" style=\"fill:none;stroke:rgb(16.1%,15.3%,14.1%);stroke-linecap:round;stroke-opacity:1.0;stroke-width:2\"></path><path d=\"M 121.46296298 335.794848978 L 121.46296298 346.514622882\" style=\"fill:none;stroke:rgb(16.1%,15.3%,14.1%);stroke-linecap:round;stroke-opacity:1.0;stroke-width:2\"></path><path d=\"M 121.46296298 346.514622882 L 130.395833352 346.514622882\" style=\"fill:none;stroke:rgb(16.1%,15.3%,14.1%);stroke-linecap:round;stroke-opacity:1.0;stroke-width:2\"></path><path d=\"M 139.328703724 153.453956188 L 139.328703724 142.74989275\" style=\"fill:none;stroke:rgb(16.1%,15.3%,14.1%);stroke-linecap:round;stroke-opacity:1.0;stroke-width:2\"></path><path d=\"M 139.328703724 142.74989275 L 219.724537076 142.74989275\" style=\"fill:none;stroke:rgb(16.1%,15.3%,14.1%);stroke-linecap:round;stroke-opacity:1.0;stroke-width:2\"></path><path d=\"M 139.328703724 153.453956188 L 139.328703724 164.158019627\" style=\"fill:none;stroke:rgb(16.1%,15.3%,14.1%);stroke-linecap:round;stroke-opacity:1.0;stroke-width:2\"></path><path d=\"M 139.328703724 164.158019627 L 148.261574097 164.158019627\" style=\"fill:none;stroke:rgb(16.1%,15.3%,14.1%);stroke-linecap:round;stroke-opacity:1.0;stroke-width:2\"></path><path d=\"M 130.395833352 346.514622882 L 130.395833352 335.8000858\" style=\"fill:none;stroke:rgb(16.1%,15.3%,14.1%);stroke-linecap:round;stroke-opacity:1.0;stroke-width:2\"></path><path d=\"M 130.395833352 335.8000858 L 219.724537076 335.8000858\" style=\"fill:none;stroke:rgb(16.1%,15.3%,14.1%);stroke-linecap:round;stroke-opacity:1.0;stroke-width:2\"></path><path d=\"M 130.395833352 346.514622882 L 130.395833352 357.229159964\" style=\"fill:none;stroke:rgb(16.1%,15.3%,14.1%);stroke-linecap:round;stroke-opacity:1.0;stroke-width:2\"></path><path d=\"M 130.395833352 357.229159964 L 139.328703724 357.229159964\" style=\"fill:none;stroke:rgb(16.1%,15.3%,14.1%);stroke-linecap:round;stroke-opacity:1.0;stroke-width:2\"></path><path d=\"M 148.261574097 164.158019627 L 148.261574097 153.474903475\" style=\"fill:none;stroke:rgb(16.1%,15.3%,14.1%);stroke-linecap:round;stroke-opacity:1.0;stroke-width:2\"></path><path d=\"M 148.261574097 153.474903475 L 219.724537076 153.474903475\" style=\"fill:none;stroke:rgb(16.1%,15.3%,14.1%);stroke-linecap:round;stroke-opacity:1.0;stroke-width:2\"></path><path d=\"M 148.261574097 164.158019627 L 148.261574097 174.841135779\" style=\"fill:none;stroke:rgb(16.1%,15.3%,14.1%);stroke-linecap:round;stroke-opacity:1.0;stroke-width:2\"></path><path d=\"M 148.261574097 174.841135779 L 157.194444469 174.841135779\" style=\"fill:none;stroke:rgb(16.1%,15.3%,14.1%);stroke-linecap:round;stroke-opacity:1.0;stroke-width:2\"></path><path d=\"M 139.328703724 357.229159964 L 139.328703724 346.525096525\" style=\"fill:none;stroke:rgb(16.1%,15.3%,14.1%);stroke-linecap:round;stroke-opacity:1.0;stroke-width:2\"></path><path d=\"M 139.328703724 346.525096525 L 219.724537076 346.525096525\" style=\"fill:none;stroke:rgb(16.1%,15.3%,14.1%);stroke-linecap:round;stroke-opacity:1.0;stroke-width:2\"></path><path d=\"M 139.328703724 357.229159964 L 139.328703724 367.933223402\" style=\"fill:none;stroke:rgb(16.1%,15.3%,14.1%);stroke-linecap:round;stroke-opacity:1.0;stroke-width:2\"></path><path d=\"M 139.328703724 367.933223402 L 148.261574097 367.933223402\" style=\"fill:none;stroke:rgb(16.1%,15.3%,14.1%);stroke-linecap:round;stroke-opacity:1.0;stroke-width:2\"></path><path d=\"M 157.194444469 174.841135779 L 157.194444469 164.1999142\" style=\"fill:none;stroke:rgb(16.1%,15.3%,14.1%);stroke-linecap:round;stroke-opacity:1.0;stroke-width:2\"></path><path d=\"M 157.194444469 164.1999142 L 219.724537076 164.1999142\" style=\"fill:none;stroke:rgb(16.1%,15.3%,14.1%);stroke-linecap:round;stroke-opacity:1.0;stroke-width:2\"></path><path d=\"M 157.194444469 174.841135779 L 157.194444469 185.482357357\" style=\"fill:none;stroke:rgb(16.1%,15.3%,14.1%);stroke-linecap:round;stroke-opacity:1.0;stroke-width:2\"></path><path d=\"M 157.194444469 185.482357357 L 166.127314842 185.482357357\" style=\"fill:none;stroke:rgb(16.1%,15.3%,14.1%);stroke-linecap:round;stroke-opacity:1.0;stroke-width:2\"></path><path d=\"M 148.261574097 367.933223402 L 148.261574097 357.25010725\" style=\"fill:none;stroke:rgb(16.1%,15.3%,14.1%);stroke-linecap:round;stroke-opacity:1.0;stroke-width:2\"></path><path d=\"M 148.261574097 357.25010725 L 219.724537076 357.25010725\" style=\"fill:none;stroke:rgb(16.1%,15.3%,14.1%);stroke-linecap:round;stroke-opacity:1.0;stroke-width:2\"></path><path d=\"M 148.261574097 367.933223402 L 148.261574097 378.616339554\" style=\"fill:none;stroke:rgb(16.1%,15.3%,14.1%);stroke-linecap:round;stroke-opacity:1.0;stroke-width:2\"></path><path d=\"M 148.261574097 378.616339554 L 157.194444469 378.616339554\" style=\"fill:none;stroke:rgb(16.1%,15.3%,14.1%);stroke-linecap:round;stroke-opacity:1.0;stroke-width:2\"></path><path d=\"M 166.127314842 185.482357357 L 166.127314842 174.924924925\" style=\"fill:none;stroke:rgb(16.1%,15.3%,14.1%);stroke-linecap:round;stroke-opacity:1.0;stroke-width:2\"></path><path d=\"M 166.127314842 174.924924925 L 219.724537076 174.924924925\" style=\"fill:none;stroke:rgb(16.1%,15.3%,14.1%);stroke-linecap:round;stroke-opacity:1.0;stroke-width:2\"></path><path d=\"M 166.127314842 185.482357357 L 166.127314842 196.03978979\" style=\"fill:none;stroke:rgb(16.1%,15.3%,14.1%);stroke-linecap:round;stroke-opacity:1.0;stroke-width:2\"></path><path d=\"M 166.127314842 196.03978979 L 175.060185214 196.03978979\" style=\"fill:none;stroke:rgb(16.1%,15.3%,14.1%);stroke-linecap:round;stroke-opacity:1.0;stroke-width:2\"></path><path d=\"M 157.194444469 378.616339554 L 157.194444469 367.975117975\" style=\"fill:none;stroke:rgb(16.1%,15.3%,14.1%);stroke-linecap:round;stroke-opacity:1.0;stroke-width:2\"></path><path d=\"M 157.194444469 367.975117975 L 219.724537076 367.975117975\" style=\"fill:none;stroke:rgb(16.1%,15.3%,14.1%);stroke-linecap:round;stroke-opacity:1.0;stroke-width:2\"></path><path d=\"M 157.194444469 378.616339554 L 157.194444469 389.257561133\" style=\"fill:none;stroke:rgb(16.1%,15.3%,14.1%);stroke-linecap:round;stroke-opacity:1.0;stroke-width:2\"></path><path d=\"M 157.194444469 389.257561133 L 166.127314842 389.257561133\" style=\"fill:none;stroke:rgb(16.1%,15.3%,14.1%);stroke-linecap:round;stroke-opacity:1.0;stroke-width:2\"></path><path d=\"M 175.060185214 196.03978979 L 175.060185214 185.64993565\" style=\"fill:none;stroke:rgb(16.1%,15.3%,14.1%);stroke-linecap:round;stroke-opacity:1.0;stroke-width:2\"></path><path d=\"M 175.060185214 185.64993565 L 219.724537076 185.64993565\" style=\"fill:none;stroke:rgb(16.1%,15.3%,14.1%);stroke-linecap:round;stroke-opacity:1.0;stroke-width:2\"></path><path d=\"M 175.060185214 196.03978979 L 175.060185214 206.42964393\" style=\"fill:none;stroke:rgb(16.1%,15.3%,14.1%);stroke-linecap:round;stroke-opacity:1.0;stroke-width:2\"></path><path d=\"M 175.060185214 206.42964393 L 183.993055587 206.42964393\" style=\"fill:none;stroke:rgb(16.1%,15.3%,14.1%);stroke-linecap:round;stroke-opacity:1.0;stroke-width:2\"></path><path d=\"M 166.127314842 389.257561133 L 166.127314842 378.7001287\" style=\"fill:none;stroke:rgb(16.1%,15.3%,14.1%);stroke-linecap:round;stroke-opacity:1.0;stroke-width:2\"></path><path d=\"M 166.127314842 378.7001287 L 219.724537076 378.7001287\" style=\"fill:none;stroke:rgb(16.1%,15.3%,14.1%);stroke-linecap:round;stroke-opacity:1.0;stroke-width:2\"></path><path d=\"M 166.127314842 389.257561133 L 166.127314842 399.814993565\" style=\"fill:none;stroke:rgb(16.1%,15.3%,14.1%);stroke-linecap:round;stroke-opacity:1.0;stroke-width:2\"></path><path d=\"M 166.127314842 399.814993565 L 175.060185214 399.814993565\" style=\"fill:none;stroke:rgb(16.1%,15.3%,14.1%);stroke-linecap:round;stroke-opacity:1.0;stroke-width:2\"></path><path d=\"M 183.993055587 206.42964393 L 183.993055587 196.374946375\" style=\"fill:none;stroke:rgb(16.1%,15.3%,14.1%);stroke-linecap:round;stroke-opacity:1.0;stroke-width:2\"></path><path d=\"M 183.993055587 196.374946375 L 219.724537076 196.374946375\" style=\"fill:none;stroke:rgb(16.1%,15.3%,14.1%);stroke-linecap:round;stroke-opacity:1.0;stroke-width:2\"></path><path d=\"M 183.993055587 206.42964393 L 183.993055587 216.484341484\" style=\"fill:none;stroke:rgb(16.1%,15.3%,14.1%);stroke-linecap:round;stroke-opacity:1.0;stroke-width:2\"></path><path d=\"M 183.993055587 216.484341484 L 192.925925959 216.484341484\" style=\"fill:none;stroke:rgb(16.1%,15.3%,14.1%);stroke-linecap:round;stroke-opacity:1.0;stroke-width:2\"></path><path d=\"M 175.060185214 399.814993565 L 175.060185214 389.425139425\" style=\"fill:none;stroke:rgb(16.1%,15.3%,14.1%);stroke-linecap:round;stroke-opacity:1.0;stroke-width:2\"></path><path d=\"M 175.060185214 389.425139425 L 219.724537076 389.425139425\" style=\"fill:none;stroke:rgb(16.1%,15.3%,14.1%);stroke-linecap:round;stroke-opacity:1.0;stroke-width:2\"></path><path d=\"M 175.060185214 399.814993565 L 175.060185214 410.204847705\" style=\"fill:none;stroke:rgb(16.1%,15.3%,14.1%);stroke-linecap:round;stroke-opacity:1.0;stroke-width:2\"></path><path d=\"M 175.060185214 410.204847705 L 183.993055587 410.204847705\" style=\"fill:none;stroke:rgb(16.1%,15.3%,14.1%);stroke-linecap:round;stroke-opacity:1.0;stroke-width:2\"></path><path d=\"M 192.925925959 216.484341484 L 192.925925959 207.0999571\" style=\"fill:none;stroke:rgb(16.1%,15.3%,14.1%);stroke-linecap:round;stroke-opacity:1.0;stroke-width:2\"></path><path d=\"M 192.925925959 207.0999571 L 219.724537076 207.0999571\" style=\"fill:none;stroke:rgb(16.1%,15.3%,14.1%);stroke-linecap:round;stroke-opacity:1.0;stroke-width:2\"></path><path d=\"M 192.925925959 216.484341484 L 192.925925959 225.868725869\" style=\"fill:none;stroke:rgb(16.1%,15.3%,14.1%);stroke-linecap:round;stroke-opacity:1.0;stroke-width:2\"></path><path d=\"M 192.925925959 225.868725869 L 201.858796331 225.868725869\" style=\"fill:none;stroke:rgb(16.1%,15.3%,14.1%);stroke-linecap:round;stroke-opacity:1.0;stroke-width:2\"></path><path d=\"M 183.993055587 410.204847705 L 183.993055587 400.15015015\" style=\"fill:none;stroke:rgb(16.1%,15.3%,14.1%);stroke-linecap:round;stroke-opacity:1.0;stroke-width:2\"></path><path d=\"M 183.993055587 400.15015015 L 219.724537076 400.15015015\" style=\"fill:none;stroke:rgb(16.1%,15.3%,14.1%);stroke-linecap:round;stroke-opacity:1.0;stroke-width:2\"></path><path d=\"M 183.993055587 410.204847705 L 183.993055587 420.25954526\" style=\"fill:none;stroke:rgb(16.1%,15.3%,14.1%);stroke-linecap:round;stroke-opacity:1.0;stroke-width:2\"></path><path d=\"M 183.993055587 420.25954526 L 192.925925959 420.25954526\" style=\"fill:none;stroke:rgb(16.1%,15.3%,14.1%);stroke-linecap:round;stroke-opacity:1.0;stroke-width:2\"></path><path d=\"M 201.858796331 225.868725869 L 201.858796331 217.824967825\" style=\"fill:none;stroke:rgb(16.1%,15.3%,14.1%);stroke-linecap:round;stroke-opacity:1.0;stroke-width:2\"></path><path d=\"M 201.858796331 217.824967825 L 219.724537076 217.824967825\" style=\"fill:none;stroke:rgb(16.1%,15.3%,14.1%);stroke-linecap:round;stroke-opacity:1.0;stroke-width:2\"></path><path d=\"M 201.858796331 225.868725869 L 201.858796331 233.912483912\" style=\"fill:none;stroke:rgb(16.1%,15.3%,14.1%);stroke-linecap:round;stroke-opacity:1.0;stroke-width:2\"></path><path d=\"M 201.858796331 233.912483912 L 210.791666704 233.912483912\" style=\"fill:none;stroke:rgb(16.1%,15.3%,14.1%);stroke-linecap:round;stroke-opacity:1.0;stroke-width:2\"></path><path d=\"M 192.925925959 420.25954526 L 192.925925959 410.875160875\" style=\"fill:none;stroke:rgb(16.1%,15.3%,14.1%);stroke-linecap:round;stroke-opacity:1.0;stroke-width:2\"></path><path d=\"M 192.925925959 410.875160875 L 219.724537076 410.875160875\" style=\"fill:none;stroke:rgb(16.1%,15.3%,14.1%);stroke-linecap:round;stroke-opacity:1.0;stroke-width:2\"></path><path d=\"M 192.925925959 420.25954526 L 192.925925959 429.643929644\" style=\"fill:none;stroke:rgb(16.1%,15.3%,14.1%);stroke-linecap:round;stroke-opacity:1.0;stroke-width:2\"></path><path d=\"M 192.925925959 429.643929644 L 201.858796331 429.643929644\" style=\"fill:none;stroke:rgb(16.1%,15.3%,14.1%);stroke-linecap:round;stroke-opacity:1.0;stroke-width:2\"></path><path d=\"M 210.791666704 233.912483912 L 210.791666704 228.54997855\" style=\"fill:none;stroke:rgb(16.1%,15.3%,14.1%);stroke-linecap:round;stroke-opacity:1.0;stroke-width:2\"></path><path d=\"M 210.791666704 228.54997855 L 219.724537076 228.54997855\" style=\"fill:none;stroke:rgb(16.1%,15.3%,14.1%);stroke-linecap:round;stroke-opacity:1.0;stroke-width:2\"></path><path d=\"M 210.791666704 233.912483912 L 210.791666704 239.274989275\" style=\"fill:none;stroke:rgb(16.1%,15.3%,14.1%);stroke-linecap:round;stroke-opacity:1.0;stroke-width:2\"></path><path d=\"M 210.791666704 239.274989275 L 219.724537076 239.274989275\" style=\"fill:none;stroke:rgb(16.1%,15.3%,14.1%);stroke-linecap:round;stroke-opacity:1.0;stroke-width:2\"></path><path d=\"M 201.858796331 429.643929644 L 201.858796331 421.6001716\" style=\"fill:none;stroke:rgb(16.1%,15.3%,14.1%);stroke-linecap:round;stroke-opacity:1.0;stroke-width:2\"></path><path d=\"M 201.858796331 421.6001716 L 219.724537076 421.6001716\" style=\"fill:none;stroke:rgb(16.1%,15.3%,14.1%);stroke-linecap:round;stroke-opacity:1.0;stroke-width:2\"></path><path d=\"M 201.858796331 429.643929644 L 201.858796331 437.687687688\" style=\"fill:none;stroke:rgb(16.1%,15.3%,14.1%);stroke-linecap:round;stroke-opacity:1.0;stroke-width:2\"></path><path d=\"M 201.858796331 437.687687688 L 210.791666704 437.687687688\" style=\"fill:none;stroke:rgb(16.1%,15.3%,14.1%);stroke-linecap:round;stroke-opacity:1.0;stroke-width:2\"></path><path d=\"M 210.791666704 437.687687688 L 210.791666704 432.325182325\" style=\"fill:none;stroke:rgb(16.1%,15.3%,14.1%);stroke-linecap:round;stroke-opacity:1.0;stroke-width:2\"></path><path d=\"M 210.791666704 432.325182325 L 219.724537076 432.325182325\" style=\"fill:none;stroke:rgb(16.1%,15.3%,14.1%);stroke-linecap:round;stroke-opacity:1.0;stroke-width:2\"></path><path d=\"M 210.791666704 437.687687688 L 210.791666704 443.05019305\" style=\"fill:none;stroke:rgb(16.1%,15.3%,14.1%);stroke-linecap:round;stroke-opacity:1.0;stroke-width:2\"></path><path d=\"M 210.791666704 443.05019305 L 219.724537076 443.05019305\" style=\"fill:none;stroke:rgb(16.1%,15.3%,14.1%);stroke-linecap:round;stroke-opacity:1.0;stroke-width:2\"></path><g class=\"toyplot-HeadMarkers\"></g><g class=\"toyplot-MiddleMarkers\"></g><g class=\"toyplot-TailMarkers\"></g></g><g class=\"toyplot-Vertices\"><g class=\"toyplot-Datum\" style=\"fill:rgb(40%,76.1%,64.7%);fill-opacity:1.0;opacity:1.0;stroke:rgb(40%,76.1%,64.7%);stroke-opacity:1.0\" transform=\"translate(50.0, 164.19985283091057)\"><circle r=\"0.0\"></circle></g><g class=\"toyplot-Datum\" style=\"fill:rgb(40%,76.1%,64.7%);fill-opacity:1.0;opacity:1.0;stroke:rgb(40%,76.1%,64.7%);stroke-opacity:1.0\" transform=\"translate(50.0, 67.674735849479532)\"><circle r=\"0.0\"></circle></g><g class=\"toyplot-Datum\" style=\"fill:rgb(40%,76.1%,64.7%);fill-opacity:1.0;opacity:1.0;stroke:rgb(40%,76.1%,64.7%);stroke-opacity:1.0\" transform=\"translate(67.865740744876334, 67.674735849479532)\"><circle r=\"0.0\"></circle></g><g class=\"toyplot-Datum\" style=\"fill:rgb(40%,76.1%,64.7%);fill-opacity:1.0;opacity:1.0;stroke:rgb(40%,76.1%,64.7%);stroke-opacity:1.0\" transform=\"translate(50.0, 260.72496981234167)\"><circle r=\"0.0\"></circle></g><g class=\"toyplot-Datum\" style=\"fill:rgb(40%,76.1%,64.7%);fill-opacity:1.0;opacity:1.0;stroke:rgb(40%,76.1%,64.7%);stroke-opacity:1.0\" transform=\"translate(58.93287037243816, 260.72496981234167)\"><circle r=\"0.0\"></circle></g><g class=\"toyplot-Datum\" style=\"fill:rgb(40%,76.1%,64.7%);fill-opacity:1.0;opacity:1.0;stroke:rgb(40%,76.1%,64.7%);stroke-opacity:1.0\" transform=\"translate(67.865740744876334, 67.674735849479532)\"><circle r=\"0.0\"></circle></g><g class=\"toyplot-Datum\" style=\"fill:rgb(40%,76.1%,64.7%);fill-opacity:1.0;opacity:1.0;stroke:rgb(40%,76.1%,64.7%);stroke-opacity:1.0\" transform=\"translate(67.865740744876334, 56.949806949806977)\"><circle r=\"0.0\"></circle></g><g class=\"toyplot-Datum\" style=\"fill:rgb(40%,76.1%,64.7%);fill-opacity:1.0;opacity:1.0;stroke:rgb(40%,76.1%,64.7%);stroke-opacity:1.0\" transform=\"translate(219.72453707632511, 56.949806949806977)\"><circle r=\"0.0\"></circle></g><g class=\"toyplot-Datum\" style=\"fill:rgb(40%,76.1%,64.7%);fill-opacity:1.0;opacity:1.0;stroke:rgb(40%,76.1%,64.7%);stroke-opacity:1.0\" transform=\"translate(67.865740744876334, 78.399664749152095)\"><circle r=\"0.0\"></circle></g><g class=\"toyplot-Datum\" style=\"fill:rgb(40%,76.1%,64.7%);fill-opacity:1.0;opacity:1.0;stroke:rgb(40%,76.1%,64.7%);stroke-opacity:1.0\" transform=\"translate(76.798611117314493, 78.399664749152095)\"><circle r=\"0.0\"></circle></g><g class=\"toyplot-Datum\" style=\"fill:rgb(40%,76.1%,64.7%);fill-opacity:1.0;opacity:1.0;stroke:rgb(40%,76.1%,64.7%);stroke-opacity:1.0\" transform=\"translate(58.93287037243816, 260.72496981234167)\"><circle r=\"0.0\"></circle></g><g class=\"toyplot-Datum\" style=\"fill:rgb(40%,76.1%,64.7%);fill-opacity:1.0;opacity:1.0;stroke:rgb(40%,76.1%,64.7%);stroke-opacity:1.0\" transform=\"translate(58.93287037243816, 250.0)\"><circle r=\"0.0\"></circle></g><g class=\"toyplot-Datum\" style=\"fill:rgb(40%,76.1%,64.7%);fill-opacity:1.0;opacity:1.0;stroke:rgb(40%,76.1%,64.7%);stroke-opacity:1.0\" transform=\"translate(219.72453707632511, 250.0)\"><circle r=\"0.0\"></circle></g><g class=\"toyplot-Datum\" style=\"fill:rgb(40%,76.1%,64.7%);fill-opacity:1.0;opacity:1.0;stroke:rgb(40%,76.1%,64.7%);stroke-opacity:1.0\" transform=\"translate(58.93287037243816, 271.44993962468328)\"><circle r=\"0.0\"></circle></g><g class=\"toyplot-Datum\" style=\"fill:rgb(40%,76.1%,64.7%);fill-opacity:1.0;opacity:1.0;stroke:rgb(40%,76.1%,64.7%);stroke-opacity:1.0\" transform=\"translate(67.865740744876334, 271.44993962468328)\"><circle r=\"0.0\"></circle></g><g class=\"toyplot-Datum\" style=\"fill:rgb(40%,76.1%,64.7%);fill-opacity:1.0;opacity:1.0;stroke:rgb(40%,76.1%,64.7%);stroke-opacity:1.0\" transform=\"translate(76.798611117314493, 78.399664749152095)\"><circle r=\"0.0\"></circle></g><g class=\"toyplot-Datum\" style=\"fill:rgb(40%,76.1%,64.7%);fill-opacity:1.0;opacity:1.0;stroke:rgb(40%,76.1%,64.7%);stroke-opacity:1.0\" transform=\"translate(76.798611117314493, 67.674817674817689)\"><circle r=\"0.0\"></circle></g><g class=\"toyplot-Datum\" style=\"fill:rgb(40%,76.1%,64.7%);fill-opacity:1.0;opacity:1.0;stroke:rgb(40%,76.1%,64.7%);stroke-opacity:1.0\" transform=\"translate(219.72453707632511, 67.674817674817689)\"><circle r=\"0.0\"></circle></g><g class=\"toyplot-Datum\" style=\"fill:rgb(40%,76.1%,64.7%);fill-opacity:1.0;opacity:1.0;stroke:rgb(40%,76.1%,64.7%);stroke-opacity:1.0\" transform=\"translate(76.798611117314493, 89.124511823486472)\"><circle r=\"0.0\"></circle></g><g class=\"toyplot-Datum\" style=\"fill:rgb(40%,76.1%,64.7%);fill-opacity:1.0;opacity:1.0;stroke:rgb(40%,76.1%,64.7%);stroke-opacity:1.0\" transform=\"translate(85.731481489752667, 89.124511823486472)\"><circle r=\"0.0\"></circle></g><g class=\"toyplot-Datum\" style=\"fill:rgb(40%,76.1%,64.7%);fill-opacity:1.0;opacity:1.0;stroke:rgb(40%,76.1%,64.7%);stroke-opacity:1.0\" transform=\"translate(67.865740744876334, 271.44993962468328)\"><circle r=\"0.0\"></circle></g><g class=\"toyplot-Datum\" style=\"fill:rgb(40%,76.1%,64.7%);fill-opacity:1.0;opacity:1.0;stroke:rgb(40%,76.1%,64.7%);stroke-opacity:1.0\" transform=\"translate(67.865740744876334, 260.72501072501069)\"><circle r=\"0.0\"></circle></g><g class=\"toyplot-Datum\" style=\"fill:rgb(40%,76.1%,64.7%);fill-opacity:1.0;opacity:1.0;stroke:rgb(40%,76.1%,64.7%);stroke-opacity:1.0\" transform=\"translate(219.72453707632511, 260.72501072501069)\"><circle r=\"0.0\"></circle></g><g class=\"toyplot-Datum\" style=\"fill:rgb(40%,76.1%,64.7%);fill-opacity:1.0;opacity:1.0;stroke:rgb(40%,76.1%,64.7%);stroke-opacity:1.0\" transform=\"translate(67.865740744876334, 282.17486852435582)\"><circle r=\"0.0\"></circle></g><g class=\"toyplot-Datum\" style=\"fill:rgb(40%,76.1%,64.7%);fill-opacity:1.0;opacity:1.0;stroke:rgb(40%,76.1%,64.7%);stroke-opacity:1.0\" transform=\"translate(76.798611117314493, 282.17486852435582)\"><circle r=\"0.0\"></circle></g><g class=\"toyplot-Datum\" style=\"fill:rgb(40%,76.1%,64.7%);fill-opacity:1.0;opacity:1.0;stroke:rgb(40%,76.1%,64.7%);stroke-opacity:1.0\" transform=\"translate(85.731481489752667, 89.124511823486472)\"><circle r=\"0.0\"></circle></g><g class=\"toyplot-Datum\" style=\"fill:rgb(40%,76.1%,64.7%);fill-opacity:1.0;opacity:1.0;stroke:rgb(40%,76.1%,64.7%);stroke-opacity:1.0\" transform=\"translate(85.731481489752667, 78.399828399828436)\"><circle r=\"0.0\"></circle></g><g class=\"toyplot-Datum\" style=\"fill:rgb(40%,76.1%,64.7%);fill-opacity:1.0;opacity:1.0;stroke:rgb(40%,76.1%,64.7%);stroke-opacity:1.0\" transform=\"translate(219.72453707632511, 78.399828399828436)\"><circle r=\"0.0\"></circle></g><g class=\"toyplot-Datum\" style=\"fill:rgb(40%,76.1%,64.7%);fill-opacity:1.0;opacity:1.0;stroke:rgb(40%,76.1%,64.7%);stroke-opacity:1.0\" transform=\"translate(85.731481489752667, 99.849195247144479)\"><circle r=\"0.0\"></circle></g><g class=\"toyplot-Datum\" style=\"fill:rgb(40%,76.1%,64.7%);fill-opacity:1.0;opacity:1.0;stroke:rgb(40%,76.1%,64.7%);stroke-opacity:1.0\" transform=\"translate(94.664351862190813, 99.849195247144479)\"><circle r=\"0.0\"></circle></g><g class=\"toyplot-Datum\" style=\"fill:rgb(40%,76.1%,64.7%);fill-opacity:1.0;opacity:1.0;stroke:rgb(40%,76.1%,64.7%);stroke-opacity:1.0\" transform=\"translate(76.798611117314493, 282.17486852435582)\"><circle r=\"0.0\"></circle></g><g class=\"toyplot-Datum\" style=\"fill:rgb(40%,76.1%,64.7%);fill-opacity:1.0;opacity:1.0;stroke:rgb(40%,76.1%,64.7%);stroke-opacity:1.0\" transform=\"translate(76.798611117314493, 271.4500214500215)\"><circle r=\"0.0\"></circle></g><g class=\"toyplot-Datum\" style=\"fill:rgb(40%,76.1%,64.7%);fill-opacity:1.0;opacity:1.0;stroke:rgb(40%,76.1%,64.7%);stroke-opacity:1.0\" transform=\"translate(219.72453707632511, 271.4500214500215)\"><circle r=\"0.0\"></circle></g><g class=\"toyplot-Datum\" style=\"fill:rgb(40%,76.1%,64.7%);fill-opacity:1.0;opacity:1.0;stroke:rgb(40%,76.1%,64.7%);stroke-opacity:1.0\" transform=\"translate(76.798611117314493, 292.89971559869019)\"><circle r=\"0.0\"></circle></g><g class=\"toyplot-Datum\" style=\"fill:rgb(40%,76.1%,64.7%);fill-opacity:1.0;opacity:1.0;stroke:rgb(40%,76.1%,64.7%);stroke-opacity:1.0\" transform=\"translate(85.731481489752667, 292.89971559869019)\"><circle r=\"0.0\"></circle></g><g class=\"toyplot-Datum\" style=\"fill:rgb(40%,76.1%,64.7%);fill-opacity:1.0;opacity:1.0;stroke:rgb(40%,76.1%,64.7%);stroke-opacity:1.0\" transform=\"translate(94.664351862190813, 99.849195247144479)\"><circle r=\"0.0\"></circle></g><g class=\"toyplot-Datum\" style=\"fill:rgb(40%,76.1%,64.7%);fill-opacity:1.0;opacity:1.0;stroke:rgb(40%,76.1%,64.7%);stroke-opacity:1.0\" transform=\"translate(94.664351862190813, 89.124839124839156)\"><circle r=\"0.0\"></circle></g><g class=\"toyplot-Datum\" style=\"fill:rgb(40%,76.1%,64.7%);fill-opacity:1.0;opacity:1.0;stroke:rgb(40%,76.1%,64.7%);stroke-opacity:1.0\" transform=\"translate(219.72453707632511, 89.124839124839156)\"><circle r=\"0.0\"></circle></g><g class=\"toyplot-Datum\" style=\"fill:rgb(40%,76.1%,64.7%);fill-opacity:1.0;opacity:1.0;stroke:rgb(40%,76.1%,64.7%);stroke-opacity:1.0\" transform=\"translate(94.664351862190813, 110.57355136944983)\"><circle r=\"0.0\"></circle></g><g class=\"toyplot-Datum\" style=\"fill:rgb(40%,76.1%,64.7%);fill-opacity:1.0;opacity:1.0;stroke:rgb(40%,76.1%,64.7%);stroke-opacity:1.0\" transform=\"translate(103.59722223462899, 110.57355136944983)\"><circle r=\"0.0\"></circle></g><g class=\"toyplot-Datum\" style=\"fill:rgb(40%,76.1%,64.7%);fill-opacity:1.0;opacity:1.0;stroke:rgb(40%,76.1%,64.7%);stroke-opacity:1.0\" transform=\"translate(85.731481489752667, 292.89971559869019)\"><circle r=\"0.0\"></circle></g><g class=\"toyplot-Datum\" style=\"fill:rgb(40%,76.1%,64.7%);fill-opacity:1.0;opacity:1.0;stroke:rgb(40%,76.1%,64.7%);stroke-opacity:1.0\" transform=\"translate(85.731481489752667, 282.17503217503213)\"><circle r=\"0.0\"></circle></g><g class=\"toyplot-Datum\" style=\"fill:rgb(40%,76.1%,64.7%);fill-opacity:1.0;opacity:1.0;stroke:rgb(40%,76.1%,64.7%);stroke-opacity:1.0\" transform=\"translate(219.72453707632511, 282.17503217503213)\"><circle r=\"0.0\"></circle></g><g class=\"toyplot-Datum\" style=\"fill:rgb(40%,76.1%,64.7%);fill-opacity:1.0;opacity:1.0;stroke:rgb(40%,76.1%,64.7%);stroke-opacity:1.0\" transform=\"translate(85.731481489752667, 303.62439902234826)\"><circle r=\"0.0\"></circle></g><g class=\"toyplot-Datum\" style=\"fill:rgb(40%,76.1%,64.7%);fill-opacity:1.0;opacity:1.0;stroke:rgb(40%,76.1%,64.7%);stroke-opacity:1.0\" transform=\"translate(94.664351862190813, 303.62439902234826)\"><circle r=\"0.0\"></circle></g><g class=\"toyplot-Datum\" style=\"fill:rgb(40%,76.1%,64.7%);fill-opacity:1.0;opacity:1.0;stroke:rgb(40%,76.1%,64.7%);stroke-opacity:1.0\" transform=\"translate(103.59722223462899, 110.57355136944983)\"><circle r=\"0.0\"></circle></g><g class=\"toyplot-Datum\" style=\"fill:rgb(40%,76.1%,64.7%);fill-opacity:1.0;opacity:1.0;stroke:rgb(40%,76.1%,64.7%);stroke-opacity:1.0\" transform=\"translate(103.59722223462899, 99.849849849849903)\"><circle r=\"0.0\"></circle></g><g class=\"toyplot-Datum\" style=\"fill:rgb(40%,76.1%,64.7%);fill-opacity:1.0;opacity:1.0;stroke:rgb(40%,76.1%,64.7%);stroke-opacity:1.0\" transform=\"translate(219.72453707632511, 99.849849849849903)\"><circle r=\"0.0\"></circle></g><g class=\"toyplot-Datum\" style=\"fill:rgb(40%,76.1%,64.7%);fill-opacity:1.0;opacity:1.0;stroke:rgb(40%,76.1%,64.7%);stroke-opacity:1.0\" transform=\"translate(103.59722223462899, 121.29725288904977)\"><circle r=\"0.0\"></circle></g><g class=\"toyplot-Datum\" style=\"fill:rgb(40%,76.1%,64.7%);fill-opacity:1.0;opacity:1.0;stroke:rgb(40%,76.1%,64.7%);stroke-opacity:1.0\" transform=\"translate(112.53009260706716, 121.29725288904977)\"><circle r=\"0.0\"></circle></g><g class=\"toyplot-Datum\" style=\"fill:rgb(40%,76.1%,64.7%);fill-opacity:1.0;opacity:1.0;stroke:rgb(40%,76.1%,64.7%);stroke-opacity:1.0\" transform=\"translate(94.664351862190813, 303.62439902234826)\"><circle r=\"0.0\"></circle></g><g class=\"toyplot-Datum\" style=\"fill:rgb(40%,76.1%,64.7%);fill-opacity:1.0;opacity:1.0;stroke:rgb(40%,76.1%,64.7%);stroke-opacity:1.0\" transform=\"translate(94.664351862190813, 292.90004290004293)\"><circle r=\"0.0\"></circle></g><g class=\"toyplot-Datum\" style=\"fill:rgb(40%,76.1%,64.7%);fill-opacity:1.0;opacity:1.0;stroke:rgb(40%,76.1%,64.7%);stroke-opacity:1.0\" transform=\"translate(219.72453707632511, 292.90004290004293)\"><circle r=\"0.0\"></circle></g><g class=\"toyplot-Datum\" style=\"fill:rgb(40%,76.1%,64.7%);fill-opacity:1.0;opacity:1.0;stroke:rgb(40%,76.1%,64.7%);stroke-opacity:1.0\" transform=\"translate(94.664351862190813, 314.34875514465358)\"><circle r=\"0.0\"></circle></g><g class=\"toyplot-Datum\" style=\"fill:rgb(40%,76.1%,64.7%);fill-opacity:1.0;opacity:1.0;stroke:rgb(40%,76.1%,64.7%);stroke-opacity:1.0\" transform=\"translate(103.59722223462899, 314.34875514465358)\"><circle r=\"0.0\"></circle></g><g class=\"toyplot-Datum\" style=\"fill:rgb(40%,76.1%,64.7%);fill-opacity:1.0;opacity:1.0;stroke:rgb(40%,76.1%,64.7%);stroke-opacity:1.0\" transform=\"translate(112.53009260706716, 121.29725288904977)\"><circle r=\"0.0\"></circle></g><g class=\"toyplot-Datum\" style=\"fill:rgb(40%,76.1%,64.7%);fill-opacity:1.0;opacity:1.0;stroke:rgb(40%,76.1%,64.7%);stroke-opacity:1.0\" transform=\"translate(112.53009260706716, 110.57486057486057)\"><circle r=\"0.0\"></circle></g><g class=\"toyplot-Datum\" style=\"fill:rgb(40%,76.1%,64.7%);fill-opacity:1.0;opacity:1.0;stroke:rgb(40%,76.1%,64.7%);stroke-opacity:1.0\" transform=\"translate(219.72453707632511, 110.57486057486057)\"><circle r=\"0.0\"></circle></g><g class=\"toyplot-Datum\" style=\"fill:rgb(40%,76.1%,64.7%);fill-opacity:1.0;opacity:1.0;stroke:rgb(40%,76.1%,64.7%);stroke-opacity:1.0\" transform=\"translate(112.53009260706716, 132.01964520323895)\"><circle r=\"0.0\"></circle></g><g class=\"toyplot-Datum\" style=\"fill:rgb(40%,76.1%,64.7%);fill-opacity:1.0;opacity:1.0;stroke:rgb(40%,76.1%,64.7%);stroke-opacity:1.0\" transform=\"translate(121.46296297950531, 132.01964520323895)\"><circle r=\"0.0\"></circle></g><g class=\"toyplot-Datum\" style=\"fill:rgb(40%,76.1%,64.7%);fill-opacity:1.0;opacity:1.0;stroke:rgb(40%,76.1%,64.7%);stroke-opacity:1.0\" transform=\"translate(103.59722223462899, 314.34875514465358)\"><circle r=\"0.0\"></circle></g><g class=\"toyplot-Datum\" style=\"fill:rgb(40%,76.1%,64.7%);fill-opacity:1.0;opacity:1.0;stroke:rgb(40%,76.1%,64.7%);stroke-opacity:1.0\" transform=\"translate(103.59722223462899, 303.62505362505362)\"><circle r=\"0.0\"></circle></g><g class=\"toyplot-Datum\" style=\"fill:rgb(40%,76.1%,64.7%);fill-opacity:1.0;opacity:1.0;stroke:rgb(40%,76.1%,64.7%);stroke-opacity:1.0\" transform=\"translate(219.72453707632511, 303.62505362505362)\"><circle r=\"0.0\"></circle></g><g class=\"toyplot-Datum\" style=\"fill:rgb(40%,76.1%,64.7%);fill-opacity:1.0;opacity:1.0;stroke:rgb(40%,76.1%,64.7%);stroke-opacity:1.0\" transform=\"translate(103.59722223462899, 325.07245666425359)\"><circle r=\"0.0\"></circle></g><g class=\"toyplot-Datum\" style=\"fill:rgb(40%,76.1%,64.7%);fill-opacity:1.0;opacity:1.0;stroke:rgb(40%,76.1%,64.7%);stroke-opacity:1.0\" transform=\"translate(112.53009260706716, 325.07245666425359)\"><circle r=\"0.0\"></circle></g><g class=\"toyplot-Datum\" style=\"fill:rgb(40%,76.1%,64.7%);fill-opacity:1.0;opacity:1.0;stroke:rgb(40%,76.1%,64.7%);stroke-opacity:1.0\" transform=\"translate(121.46296297950531, 132.01964520323895)\"><circle r=\"0.0\"></circle></g><g class=\"toyplot-Datum\" style=\"fill:rgb(40%,76.1%,64.7%);fill-opacity:1.0;opacity:1.0;stroke:rgb(40%,76.1%,64.7%);stroke-opacity:1.0\" transform=\"translate(121.46296297950531, 121.29987129987128)\"><circle r=\"0.0\"></circle></g><g class=\"toyplot-Datum\" style=\"fill:rgb(40%,76.1%,64.7%);fill-opacity:1.0;opacity:1.0;stroke:rgb(40%,76.1%,64.7%);stroke-opacity:1.0\" transform=\"translate(219.72453707632511, 121.29987129987128)\"><circle r=\"0.0\"></circle></g><g class=\"toyplot-Datum\" style=\"fill:rgb(40%,76.1%,64.7%);fill-opacity:1.0;opacity:1.0;stroke:rgb(40%,76.1%,64.7%);stroke-opacity:1.0\" transform=\"translate(121.46296297950531, 142.73941910660662)\"><circle r=\"0.0\"></circle></g><g class=\"toyplot-Datum\" style=\"fill:rgb(40%,76.1%,64.7%);fill-opacity:1.0;opacity:1.0;stroke:rgb(40%,76.1%,64.7%);stroke-opacity:1.0\" transform=\"translate(130.39583335194345, 142.73941910660662)\"><circle r=\"0.0\"></circle></g><g class=\"toyplot-Datum\" style=\"fill:rgb(40%,76.1%,64.7%);fill-opacity:1.0;opacity:1.0;stroke:rgb(40%,76.1%,64.7%);stroke-opacity:1.0\" transform=\"translate(112.53009260706716, 325.07245666425359)\"><circle r=\"0.0\"></circle></g><g class=\"toyplot-Datum\" style=\"fill:rgb(40%,76.1%,64.7%);fill-opacity:1.0;opacity:1.0;stroke:rgb(40%,76.1%,64.7%);stroke-opacity:1.0\" transform=\"translate(112.53009260706716, 314.35006435006437)\"><circle r=\"0.0\"></circle></g><g class=\"toyplot-Datum\" style=\"fill:rgb(40%,76.1%,64.7%);fill-opacity:1.0;opacity:1.0;stroke:rgb(40%,76.1%,64.7%);stroke-opacity:1.0\" transform=\"translate(219.72453707632511, 314.35006435006437)\"><circle r=\"0.0\"></circle></g><g class=\"toyplot-Datum\" style=\"fill:rgb(40%,76.1%,64.7%);fill-opacity:1.0;opacity:1.0;stroke:rgb(40%,76.1%,64.7%);stroke-opacity:1.0\" transform=\"translate(112.53009260706716, 335.79484897844276)\"><circle r=\"0.0\"></circle></g><g class=\"toyplot-Datum\" style=\"fill:rgb(40%,76.1%,64.7%);fill-opacity:1.0;opacity:1.0;stroke:rgb(40%,76.1%,64.7%);stroke-opacity:1.0\" transform=\"translate(121.46296297950531, 335.79484897844276)\"><circle r=\"0.0\"></circle></g><g class=\"toyplot-Datum\" style=\"fill:rgb(40%,76.1%,64.7%);fill-opacity:1.0;opacity:1.0;stroke:rgb(40%,76.1%,64.7%);stroke-opacity:1.0\" transform=\"translate(130.39583335194345, 142.73941910660662)\"><circle r=\"0.0\"></circle></g><g class=\"toyplot-Datum\" style=\"fill:rgb(40%,76.1%,64.7%);fill-opacity:1.0;opacity:1.0;stroke:rgb(40%,76.1%,64.7%);stroke-opacity:1.0\" transform=\"translate(130.39583335194345, 132.02488202488203)\"><circle r=\"0.0\"></circle></g><g class=\"toyplot-Datum\" style=\"fill:rgb(40%,76.1%,64.7%);fill-opacity:1.0;opacity:1.0;stroke:rgb(40%,76.1%,64.7%);stroke-opacity:1.0\" transform=\"translate(219.72453707632511, 132.02488202488203)\"><circle r=\"0.0\"></circle></g><g class=\"toyplot-Datum\" style=\"fill:rgb(40%,76.1%,64.7%);fill-opacity:1.0;opacity:1.0;stroke:rgb(40%,76.1%,64.7%);stroke-opacity:1.0\" transform=\"translate(130.39583335194345, 153.4539561883312)\"><circle r=\"0.0\"></circle></g><g class=\"toyplot-Datum\" style=\"fill:rgb(40%,76.1%,64.7%);fill-opacity:1.0;opacity:1.0;stroke:rgb(40%,76.1%,64.7%);stroke-opacity:1.0\" transform=\"translate(139.32870372438163, 153.4539561883312)\"><circle r=\"0.0\"></circle></g><g class=\"toyplot-Datum\" style=\"fill:rgb(40%,76.1%,64.7%);fill-opacity:1.0;opacity:1.0;stroke:rgb(40%,76.1%,64.7%);stroke-opacity:1.0\" transform=\"translate(121.46296297950531, 335.79484897844276)\"><circle r=\"0.0\"></circle></g><g class=\"toyplot-Datum\" style=\"fill:rgb(40%,76.1%,64.7%);fill-opacity:1.0;opacity:1.0;stroke:rgb(40%,76.1%,64.7%);stroke-opacity:1.0\" transform=\"translate(121.46296297950531, 325.07507507507506)\"><circle r=\"0.0\"></circle></g><g class=\"toyplot-Datum\" style=\"fill:rgb(40%,76.1%,64.7%);fill-opacity:1.0;opacity:1.0;stroke:rgb(40%,76.1%,64.7%);stroke-opacity:1.0\" transform=\"translate(219.72453707632511, 325.07507507507506)\"><circle r=\"0.0\"></circle></g><g class=\"toyplot-Datum\" style=\"fill:rgb(40%,76.1%,64.7%);fill-opacity:1.0;opacity:1.0;stroke:rgb(40%,76.1%,64.7%);stroke-opacity:1.0\" transform=\"translate(121.46296297950531, 346.5146228818104)\"><circle r=\"0.0\"></circle></g><g class=\"toyplot-Datum\" style=\"fill:rgb(40%,76.1%,64.7%);fill-opacity:1.0;opacity:1.0;stroke:rgb(40%,76.1%,64.7%);stroke-opacity:1.0\" transform=\"translate(130.39583335194345, 346.5146228818104)\"><circle r=\"0.0\"></circle></g><g class=\"toyplot-Datum\" style=\"fill:rgb(40%,76.1%,64.7%);fill-opacity:1.0;opacity:1.0;stroke:rgb(40%,76.1%,64.7%);stroke-opacity:1.0\" transform=\"translate(139.32870372438163, 153.4539561883312)\"><circle r=\"0.0\"></circle></g><g class=\"toyplot-Datum\" style=\"fill:rgb(40%,76.1%,64.7%);fill-opacity:1.0;opacity:1.0;stroke:rgb(40%,76.1%,64.7%);stroke-opacity:1.0\" transform=\"translate(139.32870372438163, 142.74989274989275)\"><circle r=\"0.0\"></circle></g><g class=\"toyplot-Datum\" style=\"fill:rgb(40%,76.1%,64.7%);fill-opacity:1.0;opacity:1.0;stroke:rgb(40%,76.1%,64.7%);stroke-opacity:1.0\" transform=\"translate(219.72453707632511, 142.74989274989275)\"><circle r=\"0.0\"></circle></g><g class=\"toyplot-Datum\" style=\"fill:rgb(40%,76.1%,64.7%);fill-opacity:1.0;opacity:1.0;stroke:rgb(40%,76.1%,64.7%);stroke-opacity:1.0\" transform=\"translate(139.32870372438163, 164.1580196267696)\"><circle r=\"0.0\"></circle></g><g class=\"toyplot-Datum\" style=\"fill:rgb(40%,76.1%,64.7%);fill-opacity:1.0;opacity:1.0;stroke:rgb(40%,76.1%,64.7%);stroke-opacity:1.0\" transform=\"translate(148.2615740968198, 164.1580196267696)\"><circle r=\"0.0\"></circle></g><g class=\"toyplot-Datum\" style=\"fill:rgb(40%,76.1%,64.7%);fill-opacity:1.0;opacity:1.0;stroke:rgb(40%,76.1%,64.7%);stroke-opacity:1.0\" transform=\"translate(130.39583335194345, 346.5146228818104)\"><circle r=\"0.0\"></circle></g><g class=\"toyplot-Datum\" style=\"fill:rgb(40%,76.1%,64.7%);fill-opacity:1.0;opacity:1.0;stroke:rgb(40%,76.1%,64.7%);stroke-opacity:1.0\" transform=\"translate(130.39583335194345, 335.80008580008575)\"><circle r=\"0.0\"></circle></g><g class=\"toyplot-Datum\" style=\"fill:rgb(40%,76.1%,64.7%);fill-opacity:1.0;opacity:1.0;stroke:rgb(40%,76.1%,64.7%);stroke-opacity:1.0\" transform=\"translate(219.72453707632511, 335.80008580008575)\"><circle r=\"0.0\"></circle></g><g class=\"toyplot-Datum\" style=\"fill:rgb(40%,76.1%,64.7%);fill-opacity:1.0;opacity:1.0;stroke:rgb(40%,76.1%,64.7%);stroke-opacity:1.0\" transform=\"translate(130.39583335194345, 357.22915996353498)\"><circle r=\"0.0\"></circle></g><g class=\"toyplot-Datum\" style=\"fill:rgb(40%,76.1%,64.7%);fill-opacity:1.0;opacity:1.0;stroke:rgb(40%,76.1%,64.7%);stroke-opacity:1.0\" transform=\"translate(139.32870372438163, 357.22915996353498)\"><circle r=\"0.0\"></circle></g><g class=\"toyplot-Datum\" style=\"fill:rgb(40%,76.1%,64.7%);fill-opacity:1.0;opacity:1.0;stroke:rgb(40%,76.1%,64.7%);stroke-opacity:1.0\" transform=\"translate(148.2615740968198, 164.1580196267696)\"><circle r=\"0.0\"></circle></g><g class=\"toyplot-Datum\" style=\"fill:rgb(40%,76.1%,64.7%);fill-opacity:1.0;opacity:1.0;stroke:rgb(40%,76.1%,64.7%);stroke-opacity:1.0\" transform=\"translate(148.2615740968198, 153.4749034749035)\"><circle r=\"0.0\"></circle></g><g class=\"toyplot-Datum\" style=\"fill:rgb(40%,76.1%,64.7%);fill-opacity:1.0;opacity:1.0;stroke:rgb(40%,76.1%,64.7%);stroke-opacity:1.0\" transform=\"translate(219.72453707632511, 153.4749034749035)\"><circle r=\"0.0\"></circle></g><g class=\"toyplot-Datum\" style=\"fill:rgb(40%,76.1%,64.7%);fill-opacity:1.0;opacity:1.0;stroke:rgb(40%,76.1%,64.7%);stroke-opacity:1.0\" transform=\"translate(148.2615740968198, 174.84113577863579)\"><circle r=\"0.0\"></circle></g><g class=\"toyplot-Datum\" style=\"fill:rgb(40%,76.1%,64.7%);fill-opacity:1.0;opacity:1.0;stroke:rgb(40%,76.1%,64.7%);stroke-opacity:1.0\" transform=\"translate(157.19444446925797, 174.84113577863579)\"><circle r=\"0.0\"></circle></g><g class=\"toyplot-Datum\" style=\"fill:rgb(40%,76.1%,64.7%);fill-opacity:1.0;opacity:1.0;stroke:rgb(40%,76.1%,64.7%);stroke-opacity:1.0\" transform=\"translate(139.32870372438163, 357.22915996353498)\"><circle r=\"0.0\"></circle></g><g class=\"toyplot-Datum\" style=\"fill:rgb(40%,76.1%,64.7%);fill-opacity:1.0;opacity:1.0;stroke:rgb(40%,76.1%,64.7%);stroke-opacity:1.0\" transform=\"translate(139.32870372438163, 346.52509652509656)\"><circle r=\"0.0\"></circle></g><g class=\"toyplot-Datum\" style=\"fill:rgb(40%,76.1%,64.7%);fill-opacity:1.0;opacity:1.0;stroke:rgb(40%,76.1%,64.7%);stroke-opacity:1.0\" transform=\"translate(219.72453707632511, 346.52509652509656)\"><circle r=\"0.0\"></circle></g><g class=\"toyplot-Datum\" style=\"fill:rgb(40%,76.1%,64.7%);fill-opacity:1.0;opacity:1.0;stroke:rgb(40%,76.1%,64.7%);stroke-opacity:1.0\" transform=\"translate(139.32870372438163, 367.93322340197335)\"><circle r=\"0.0\"></circle></g><g class=\"toyplot-Datum\" style=\"fill:rgb(40%,76.1%,64.7%);fill-opacity:1.0;opacity:1.0;stroke:rgb(40%,76.1%,64.7%);stroke-opacity:1.0\" transform=\"translate(148.2615740968198, 367.93322340197335)\"><circle r=\"0.0\"></circle></g><g class=\"toyplot-Datum\" style=\"fill:rgb(40%,76.1%,64.7%);fill-opacity:1.0;opacity:1.0;stroke:rgb(40%,76.1%,64.7%);stroke-opacity:1.0\" transform=\"translate(157.19444446925797, 174.84113577863579)\"><circle r=\"0.0\"></circle></g><g class=\"toyplot-Datum\" style=\"fill:rgb(40%,76.1%,64.7%);fill-opacity:1.0;opacity:1.0;stroke:rgb(40%,76.1%,64.7%);stroke-opacity:1.0\" transform=\"translate(157.19444446925797, 164.19991419991419)\"><circle r=\"0.0\"></circle></g><g class=\"toyplot-Datum\" style=\"fill:rgb(40%,76.1%,64.7%);fill-opacity:1.0;opacity:1.0;stroke:rgb(40%,76.1%,64.7%);stroke-opacity:1.0\" transform=\"translate(219.72453707632511, 164.19991419991419)\"><circle r=\"0.0\"></circle></g><g class=\"toyplot-Datum\" style=\"fill:rgb(40%,76.1%,64.7%);fill-opacity:1.0;opacity:1.0;stroke:rgb(40%,76.1%,64.7%);stroke-opacity:1.0\" transform=\"translate(157.19444446925797, 185.48235735735736)\"><circle r=\"0.0\"></circle></g><g class=\"toyplot-Datum\" style=\"fill:rgb(40%,76.1%,64.7%);fill-opacity:1.0;opacity:1.0;stroke:rgb(40%,76.1%,64.7%);stroke-opacity:1.0\" transform=\"translate(166.12731484169615, 185.48235735735736)\"><circle r=\"0.0\"></circle></g><g class=\"toyplot-Datum\" style=\"fill:rgb(40%,76.1%,64.7%);fill-opacity:1.0;opacity:1.0;stroke:rgb(40%,76.1%,64.7%);stroke-opacity:1.0\" transform=\"translate(148.2615740968198, 367.93322340197335)\"><circle r=\"0.0\"></circle></g><g class=\"toyplot-Datum\" style=\"fill:rgb(40%,76.1%,64.7%);fill-opacity:1.0;opacity:1.0;stroke:rgb(40%,76.1%,64.7%);stroke-opacity:1.0\" transform=\"translate(148.2615740968198, 357.25010725010725)\"><circle r=\"0.0\"></circle></g><g class=\"toyplot-Datum\" style=\"fill:rgb(40%,76.1%,64.7%);fill-opacity:1.0;opacity:1.0;stroke:rgb(40%,76.1%,64.7%);stroke-opacity:1.0\" transform=\"translate(219.72453707632511, 357.25010725010725)\"><circle r=\"0.0\"></circle></g><g class=\"toyplot-Datum\" style=\"fill:rgb(40%,76.1%,64.7%);fill-opacity:1.0;opacity:1.0;stroke:rgb(40%,76.1%,64.7%);stroke-opacity:1.0\" transform=\"translate(148.2615740968198, 378.61633955383957)\"><circle r=\"0.0\"></circle></g><g class=\"toyplot-Datum\" style=\"fill:rgb(40%,76.1%,64.7%);fill-opacity:1.0;opacity:1.0;stroke:rgb(40%,76.1%,64.7%);stroke-opacity:1.0\" transform=\"translate(157.19444446925797, 378.61633955383957)\"><circle r=\"0.0\"></circle></g><g class=\"toyplot-Datum\" style=\"fill:rgb(40%,76.1%,64.7%);fill-opacity:1.0;opacity:1.0;stroke:rgb(40%,76.1%,64.7%);stroke-opacity:1.0\" transform=\"translate(166.12731484169615, 185.48235735735736)\"><circle r=\"0.0\"></circle></g><g class=\"toyplot-Datum\" style=\"fill:rgb(40%,76.1%,64.7%);fill-opacity:1.0;opacity:1.0;stroke:rgb(40%,76.1%,64.7%);stroke-opacity:1.0\" transform=\"translate(166.12731484169615, 174.92492492492491)\"><circle r=\"0.0\"></circle></g><g class=\"toyplot-Datum\" style=\"fill:rgb(40%,76.1%,64.7%);fill-opacity:1.0;opacity:1.0;stroke:rgb(40%,76.1%,64.7%);stroke-opacity:1.0\" transform=\"translate(219.72453707632511, 174.92492492492491)\"><circle r=\"0.0\"></circle></g><g class=\"toyplot-Datum\" style=\"fill:rgb(40%,76.1%,64.7%);fill-opacity:1.0;opacity:1.0;stroke:rgb(40%,76.1%,64.7%);stroke-opacity:1.0\" transform=\"translate(166.12731484169615, 196.03978978978978)\"><circle r=\"0.0\"></circle></g><g class=\"toyplot-Datum\" style=\"fill:rgb(40%,76.1%,64.7%);fill-opacity:1.0;opacity:1.0;stroke:rgb(40%,76.1%,64.7%);stroke-opacity:1.0\" transform=\"translate(175.06018521413429, 196.03978978978978)\"><circle r=\"0.0\"></circle></g><g class=\"toyplot-Datum\" style=\"fill:rgb(40%,76.1%,64.7%);fill-opacity:1.0;opacity:1.0;stroke:rgb(40%,76.1%,64.7%);stroke-opacity:1.0\" transform=\"translate(157.19444446925797, 378.61633955383957)\"><circle r=\"0.0\"></circle></g><g class=\"toyplot-Datum\" style=\"fill:rgb(40%,76.1%,64.7%);fill-opacity:1.0;opacity:1.0;stroke:rgb(40%,76.1%,64.7%);stroke-opacity:1.0\" transform=\"translate(157.19444446925797, 367.975117975118)\"><circle r=\"0.0\"></circle></g><g class=\"toyplot-Datum\" style=\"fill:rgb(40%,76.1%,64.7%);fill-opacity:1.0;opacity:1.0;stroke:rgb(40%,76.1%,64.7%);stroke-opacity:1.0\" transform=\"translate(219.72453707632511, 367.975117975118)\"><circle r=\"0.0\"></circle></g><g class=\"toyplot-Datum\" style=\"fill:rgb(40%,76.1%,64.7%);fill-opacity:1.0;opacity:1.0;stroke:rgb(40%,76.1%,64.7%);stroke-opacity:1.0\" transform=\"translate(157.19444446925797, 389.25756113256114)\"><circle r=\"0.0\"></circle></g><g class=\"toyplot-Datum\" style=\"fill:rgb(40%,76.1%,64.7%);fill-opacity:1.0;opacity:1.0;stroke:rgb(40%,76.1%,64.7%);stroke-opacity:1.0\" transform=\"translate(166.12731484169615, 389.25756113256114)\"><circle r=\"0.0\"></circle></g><g class=\"toyplot-Datum\" style=\"fill:rgb(40%,76.1%,64.7%);fill-opacity:1.0;opacity:1.0;stroke:rgb(40%,76.1%,64.7%);stroke-opacity:1.0\" transform=\"translate(175.06018521413429, 196.03978978978978)\"><circle r=\"0.0\"></circle></g><g class=\"toyplot-Datum\" style=\"fill:rgb(40%,76.1%,64.7%);fill-opacity:1.0;opacity:1.0;stroke:rgb(40%,76.1%,64.7%);stroke-opacity:1.0\" transform=\"translate(175.06018521413429, 185.64993564993566)\"><circle r=\"0.0\"></circle></g><g class=\"toyplot-Datum\" style=\"fill:rgb(40%,76.1%,64.7%);fill-opacity:1.0;opacity:1.0;stroke:rgb(40%,76.1%,64.7%);stroke-opacity:1.0\" transform=\"translate(219.72453707632511, 185.64993564993566)\"><circle r=\"0.0\"></circle></g><g class=\"toyplot-Datum\" style=\"fill:rgb(40%,76.1%,64.7%);fill-opacity:1.0;opacity:1.0;stroke:rgb(40%,76.1%,64.7%);stroke-opacity:1.0\" transform=\"translate(175.06018521413429, 206.42964392964393)\"><circle r=\"0.0\"></circle></g><g class=\"toyplot-Datum\" style=\"fill:rgb(40%,76.1%,64.7%);fill-opacity:1.0;opacity:1.0;stroke:rgb(40%,76.1%,64.7%);stroke-opacity:1.0\" transform=\"translate(183.99305558657247, 206.42964392964393)\"><circle r=\"0.0\"></circle></g><g class=\"toyplot-Datum\" style=\"fill:rgb(40%,76.1%,64.7%);fill-opacity:1.0;opacity:1.0;stroke:rgb(40%,76.1%,64.7%);stroke-opacity:1.0\" transform=\"translate(166.12731484169615, 389.25756113256114)\"><circle r=\"0.0\"></circle></g><g class=\"toyplot-Datum\" style=\"fill:rgb(40%,76.1%,64.7%);fill-opacity:1.0;opacity:1.0;stroke:rgb(40%,76.1%,64.7%);stroke-opacity:1.0\" transform=\"translate(166.12731484169615, 378.70012870012874)\"><circle r=\"0.0\"></circle></g><g class=\"toyplot-Datum\" style=\"fill:rgb(40%,76.1%,64.7%);fill-opacity:1.0;opacity:1.0;stroke:rgb(40%,76.1%,64.7%);stroke-opacity:1.0\" transform=\"translate(219.72453707632511, 378.70012870012874)\"><circle r=\"0.0\"></circle></g><g class=\"toyplot-Datum\" style=\"fill:rgb(40%,76.1%,64.7%);fill-opacity:1.0;opacity:1.0;stroke:rgb(40%,76.1%,64.7%);stroke-opacity:1.0\" transform=\"translate(166.12731484169615, 399.81499356499359)\"><circle r=\"0.0\"></circle></g><g class=\"toyplot-Datum\" style=\"fill:rgb(40%,76.1%,64.7%);fill-opacity:1.0;opacity:1.0;stroke:rgb(40%,76.1%,64.7%);stroke-opacity:1.0\" transform=\"translate(175.06018521413429, 399.81499356499359)\"><circle r=\"0.0\"></circle></g><g class=\"toyplot-Datum\" style=\"fill:rgb(40%,76.1%,64.7%);fill-opacity:1.0;opacity:1.0;stroke:rgb(40%,76.1%,64.7%);stroke-opacity:1.0\" transform=\"translate(183.99305558657247, 206.42964392964393)\"><circle r=\"0.0\"></circle></g><g class=\"toyplot-Datum\" style=\"fill:rgb(40%,76.1%,64.7%);fill-opacity:1.0;opacity:1.0;stroke:rgb(40%,76.1%,64.7%);stroke-opacity:1.0\" transform=\"translate(183.99305558657247, 196.37494637494638)\"><circle r=\"0.0\"></circle></g><g class=\"toyplot-Datum\" style=\"fill:rgb(40%,76.1%,64.7%);fill-opacity:1.0;opacity:1.0;stroke:rgb(40%,76.1%,64.7%);stroke-opacity:1.0\" transform=\"translate(219.72453707632511, 196.37494637494638)\"><circle r=\"0.0\"></circle></g><g class=\"toyplot-Datum\" style=\"fill:rgb(40%,76.1%,64.7%);fill-opacity:1.0;opacity:1.0;stroke:rgb(40%,76.1%,64.7%);stroke-opacity:1.0\" transform=\"translate(183.99305558657247, 216.48434148434151)\"><circle r=\"0.0\"></circle></g><g class=\"toyplot-Datum\" style=\"fill:rgb(40%,76.1%,64.7%);fill-opacity:1.0;opacity:1.0;stroke:rgb(40%,76.1%,64.7%);stroke-opacity:1.0\" transform=\"translate(192.92592595901061, 216.48434148434151)\"><circle r=\"0.0\"></circle></g><g class=\"toyplot-Datum\" style=\"fill:rgb(40%,76.1%,64.7%);fill-opacity:1.0;opacity:1.0;stroke:rgb(40%,76.1%,64.7%);stroke-opacity:1.0\" transform=\"translate(175.06018521413429, 399.81499356499359)\"><circle r=\"0.0\"></circle></g><g class=\"toyplot-Datum\" style=\"fill:rgb(40%,76.1%,64.7%);fill-opacity:1.0;opacity:1.0;stroke:rgb(40%,76.1%,64.7%);stroke-opacity:1.0\" transform=\"translate(175.06018521413429, 389.42513942513943)\"><circle r=\"0.0\"></circle></g><g class=\"toyplot-Datum\" style=\"fill:rgb(40%,76.1%,64.7%);fill-opacity:1.0;opacity:1.0;stroke:rgb(40%,76.1%,64.7%);stroke-opacity:1.0\" transform=\"translate(219.72453707632511, 389.42513942513943)\"><circle r=\"0.0\"></circle></g><g class=\"toyplot-Datum\" style=\"fill:rgb(40%,76.1%,64.7%);fill-opacity:1.0;opacity:1.0;stroke:rgb(40%,76.1%,64.7%);stroke-opacity:1.0\" transform=\"translate(175.06018521413429, 410.20484770484768)\"><circle r=\"0.0\"></circle></g><g class=\"toyplot-Datum\" style=\"fill:rgb(40%,76.1%,64.7%);fill-opacity:1.0;opacity:1.0;stroke:rgb(40%,76.1%,64.7%);stroke-opacity:1.0\" transform=\"translate(183.99305558657247, 410.20484770484768)\"><circle r=\"0.0\"></circle></g><g class=\"toyplot-Datum\" style=\"fill:rgb(40%,76.1%,64.7%);fill-opacity:1.0;opacity:1.0;stroke:rgb(40%,76.1%,64.7%);stroke-opacity:1.0\" transform=\"translate(192.92592595901061, 216.48434148434151)\"><circle r=\"0.0\"></circle></g><g class=\"toyplot-Datum\" style=\"fill:rgb(40%,76.1%,64.7%);fill-opacity:1.0;opacity:1.0;stroke:rgb(40%,76.1%,64.7%);stroke-opacity:1.0\" transform=\"translate(192.92592595901061, 207.09995709995709)\"><circle r=\"0.0\"></circle></g><g class=\"toyplot-Datum\" style=\"fill:rgb(40%,76.1%,64.7%);fill-opacity:1.0;opacity:1.0;stroke:rgb(40%,76.1%,64.7%);stroke-opacity:1.0\" transform=\"translate(219.72453707632511, 207.09995709995709)\"><circle r=\"0.0\"></circle></g><g class=\"toyplot-Datum\" style=\"fill:rgb(40%,76.1%,64.7%);fill-opacity:1.0;opacity:1.0;stroke:rgb(40%,76.1%,64.7%);stroke-opacity:1.0\" transform=\"translate(192.92592595901061, 225.86872586872587)\"><circle r=\"0.0\"></circle></g><g class=\"toyplot-Datum\" style=\"fill:rgb(40%,76.1%,64.7%);fill-opacity:1.0;opacity:1.0;stroke:rgb(40%,76.1%,64.7%);stroke-opacity:1.0\" transform=\"translate(201.85879633144879, 225.86872586872587)\"><circle r=\"0.0\"></circle></g><g class=\"toyplot-Datum\" style=\"fill:rgb(40%,76.1%,64.7%);fill-opacity:1.0;opacity:1.0;stroke:rgb(40%,76.1%,64.7%);stroke-opacity:1.0\" transform=\"translate(183.99305558657247, 410.20484770484768)\"><circle r=\"0.0\"></circle></g><g class=\"toyplot-Datum\" style=\"fill:rgb(40%,76.1%,64.7%);fill-opacity:1.0;opacity:1.0;stroke:rgb(40%,76.1%,64.7%);stroke-opacity:1.0\" transform=\"translate(183.99305558657247, 400.15015015015018)\"><circle r=\"0.0\"></circle></g><g class=\"toyplot-Datum\" style=\"fill:rgb(40%,76.1%,64.7%);fill-opacity:1.0;opacity:1.0;stroke:rgb(40%,76.1%,64.7%);stroke-opacity:1.0\" transform=\"translate(219.72453707632511, 400.15015015015018)\"><circle r=\"0.0\"></circle></g><g class=\"toyplot-Datum\" style=\"fill:rgb(40%,76.1%,64.7%);fill-opacity:1.0;opacity:1.0;stroke:rgb(40%,76.1%,64.7%);stroke-opacity:1.0\" transform=\"translate(183.99305558657247, 420.25954525954529)\"><circle r=\"0.0\"></circle></g><g class=\"toyplot-Datum\" style=\"fill:rgb(40%,76.1%,64.7%);fill-opacity:1.0;opacity:1.0;stroke:rgb(40%,76.1%,64.7%);stroke-opacity:1.0\" transform=\"translate(192.92592595901061, 420.25954525954529)\"><circle r=\"0.0\"></circle></g><g class=\"toyplot-Datum\" style=\"fill:rgb(40%,76.1%,64.7%);fill-opacity:1.0;opacity:1.0;stroke:rgb(40%,76.1%,64.7%);stroke-opacity:1.0\" transform=\"translate(201.85879633144879, 225.86872586872587)\"><circle r=\"0.0\"></circle></g><g class=\"toyplot-Datum\" style=\"fill:rgb(40%,76.1%,64.7%);fill-opacity:1.0;opacity:1.0;stroke:rgb(40%,76.1%,64.7%);stroke-opacity:1.0\" transform=\"translate(201.85879633144879, 217.82496782496781)\"><circle r=\"0.0\"></circle></g><g class=\"toyplot-Datum\" style=\"fill:rgb(40%,76.1%,64.7%);fill-opacity:1.0;opacity:1.0;stroke:rgb(40%,76.1%,64.7%);stroke-opacity:1.0\" transform=\"translate(219.72453707632511, 217.82496782496781)\"><circle r=\"0.0\"></circle></g><g class=\"toyplot-Datum\" style=\"fill:rgb(40%,76.1%,64.7%);fill-opacity:1.0;opacity:1.0;stroke:rgb(40%,76.1%,64.7%);stroke-opacity:1.0\" transform=\"translate(201.85879633144879, 233.91248391248391)\"><circle r=\"0.0\"></circle></g><g class=\"toyplot-Datum\" style=\"fill:rgb(40%,76.1%,64.7%);fill-opacity:1.0;opacity:1.0;stroke:rgb(40%,76.1%,64.7%);stroke-opacity:1.0\" transform=\"translate(210.79166670388693, 233.91248391248391)\"><circle r=\"0.0\"></circle></g><g class=\"toyplot-Datum\" style=\"fill:rgb(40%,76.1%,64.7%);fill-opacity:1.0;opacity:1.0;stroke:rgb(40%,76.1%,64.7%);stroke-opacity:1.0\" transform=\"translate(192.92592595901061, 420.25954525954529)\"><circle r=\"0.0\"></circle></g><g class=\"toyplot-Datum\" style=\"fill:rgb(40%,76.1%,64.7%);fill-opacity:1.0;opacity:1.0;stroke:rgb(40%,76.1%,64.7%);stroke-opacity:1.0\" transform=\"translate(192.92592595901061, 410.87516087516087)\"><circle r=\"0.0\"></circle></g><g class=\"toyplot-Datum\" style=\"fill:rgb(40%,76.1%,64.7%);fill-opacity:1.0;opacity:1.0;stroke:rgb(40%,76.1%,64.7%);stroke-opacity:1.0\" transform=\"translate(219.72453707632511, 410.87516087516087)\"><circle r=\"0.0\"></circle></g><g class=\"toyplot-Datum\" style=\"fill:rgb(40%,76.1%,64.7%);fill-opacity:1.0;opacity:1.0;stroke:rgb(40%,76.1%,64.7%);stroke-opacity:1.0\" transform=\"translate(192.92592595901061, 429.64392964392965)\"><circle r=\"0.0\"></circle></g><g class=\"toyplot-Datum\" style=\"fill:rgb(40%,76.1%,64.7%);fill-opacity:1.0;opacity:1.0;stroke:rgb(40%,76.1%,64.7%);stroke-opacity:1.0\" transform=\"translate(201.85879633144879, 429.64392964392965)\"><circle r=\"0.0\"></circle></g><g class=\"toyplot-Datum\" style=\"fill:rgb(40%,76.1%,64.7%);fill-opacity:1.0;opacity:1.0;stroke:rgb(40%,76.1%,64.7%);stroke-opacity:1.0\" transform=\"translate(210.79166670388693, 233.91248391248391)\"><circle r=\"0.0\"></circle></g><g class=\"toyplot-Datum\" style=\"fill:rgb(40%,76.1%,64.7%);fill-opacity:1.0;opacity:1.0;stroke:rgb(40%,76.1%,64.7%);stroke-opacity:1.0\" transform=\"translate(210.79166670388693, 228.54997854997853)\"><circle r=\"0.0\"></circle></g><g class=\"toyplot-Datum\" style=\"fill:rgb(40%,76.1%,64.7%);fill-opacity:1.0;opacity:1.0;stroke:rgb(40%,76.1%,64.7%);stroke-opacity:1.0\" transform=\"translate(219.72453707632511, 228.54997854997853)\"><circle r=\"0.0\"></circle></g><g class=\"toyplot-Datum\" style=\"fill:rgb(40%,76.1%,64.7%);fill-opacity:1.0;opacity:1.0;stroke:rgb(40%,76.1%,64.7%);stroke-opacity:1.0\" transform=\"translate(210.79166670388693, 239.27498927498928)\"><circle r=\"0.0\"></circle></g><g class=\"toyplot-Datum\" style=\"fill:rgb(40%,76.1%,64.7%);fill-opacity:1.0;opacity:1.0;stroke:rgb(40%,76.1%,64.7%);stroke-opacity:1.0\" transform=\"translate(219.72453707632511, 239.27498927498928)\"><circle r=\"0.0\"></circle></g><g class=\"toyplot-Datum\" style=\"fill:rgb(40%,76.1%,64.7%);fill-opacity:1.0;opacity:1.0;stroke:rgb(40%,76.1%,64.7%);stroke-opacity:1.0\" transform=\"translate(201.85879633144879, 429.64392964392965)\"><circle r=\"0.0\"></circle></g><g class=\"toyplot-Datum\" style=\"fill:rgb(40%,76.1%,64.7%);fill-opacity:1.0;opacity:1.0;stroke:rgb(40%,76.1%,64.7%);stroke-opacity:1.0\" transform=\"translate(201.85879633144879, 421.60017160017162)\"><circle r=\"0.0\"></circle></g><g class=\"toyplot-Datum\" style=\"fill:rgb(40%,76.1%,64.7%);fill-opacity:1.0;opacity:1.0;stroke:rgb(40%,76.1%,64.7%);stroke-opacity:1.0\" transform=\"translate(219.72453707632511, 421.60017160017162)\"><circle r=\"0.0\"></circle></g><g class=\"toyplot-Datum\" style=\"fill:rgb(40%,76.1%,64.7%);fill-opacity:1.0;opacity:1.0;stroke:rgb(40%,76.1%,64.7%);stroke-opacity:1.0\" transform=\"translate(201.85879633144879, 437.68768768768768)\"><circle r=\"0.0\"></circle></g><g class=\"toyplot-Datum\" style=\"fill:rgb(40%,76.1%,64.7%);fill-opacity:1.0;opacity:1.0;stroke:rgb(40%,76.1%,64.7%);stroke-opacity:1.0\" transform=\"translate(210.79166670388693, 437.68768768768768)\"><circle r=\"0.0\"></circle></g><g class=\"toyplot-Datum\" style=\"fill:rgb(40%,76.1%,64.7%);fill-opacity:1.0;opacity:1.0;stroke:rgb(40%,76.1%,64.7%);stroke-opacity:1.0\" transform=\"translate(210.79166670388693, 437.68768768768768)\"><circle r=\"0.0\"></circle></g><g class=\"toyplot-Datum\" style=\"fill:rgb(40%,76.1%,64.7%);fill-opacity:1.0;opacity:1.0;stroke:rgb(40%,76.1%,64.7%);stroke-opacity:1.0\" transform=\"translate(210.79166670388693, 432.32518232518237)\"><circle r=\"0.0\"></circle></g><g class=\"toyplot-Datum\" style=\"fill:rgb(40%,76.1%,64.7%);fill-opacity:1.0;opacity:1.0;stroke:rgb(40%,76.1%,64.7%);stroke-opacity:1.0\" transform=\"translate(219.72453707632511, 432.32518232518237)\"><circle r=\"0.0\"></circle></g><g class=\"toyplot-Datum\" style=\"fill:rgb(40%,76.1%,64.7%);fill-opacity:1.0;opacity:1.0;stroke:rgb(40%,76.1%,64.7%);stroke-opacity:1.0\" transform=\"translate(210.79166670388693, 443.05019305019306)\"><circle r=\"0.0\"></circle></g><g class=\"toyplot-Datum\" style=\"fill:rgb(40%,76.1%,64.7%);fill-opacity:1.0;opacity:1.0;stroke:rgb(40%,76.1%,64.7%);stroke-opacity:1.0\" transform=\"translate(219.72453707632511, 443.05019305019306)\"><circle r=\"0.0\"></circle></g></g></g></g></g></svg><div class=\"toyplot-behavior\"><script>(function()\n",
       "{\n",
       "var modules={};\n",
       "modules[\"toyplot/tables\"] = (function()\n",
       "    {\n",
       "        var tables = [];\n",
       "\n",
       "        var module = {};\n",
       "\n",
       "        module.set = function(owner, key, names, columns)\n",
       "        {\n",
       "            tables.push({owner: owner, key: key, names: names, columns: columns});\n",
       "        }\n",
       "\n",
       "        module.get = function(owner, key)\n",
       "        {\n",
       "            for(var i = 0; i != tables.length; ++i)\n",
       "            {\n",
       "                var table = tables[i];\n",
       "                if(table.owner != owner)\n",
       "                    continue;\n",
       "                if(table.key != key)\n",
       "                    continue;\n",
       "                return {names: table.names, columns: table.columns};\n",
       "            }\n",
       "        }\n",
       "\n",
       "        module.get_csv = function(owner, key)\n",
       "        {\n",
       "            var table = module.get(owner, key);\n",
       "            if(table != undefined)\n",
       "            {\n",
       "                var csv = \"\";\n",
       "                csv += table.names.join(\",\") + \"\\n\";\n",
       "                for(var i = 0; i != table.columns[0].length; ++i)\n",
       "                {\n",
       "                  for(var j = 0; j != table.columns.length; ++j)\n",
       "                  {\n",
       "                    if(j)\n",
       "                      csv += \",\";\n",
       "                    csv += table.columns[j][i];\n",
       "                  }\n",
       "                  csv += \"\\n\";\n",
       "                }\n",
       "                return csv;\n",
       "            }\n",
       "        }\n",
       "\n",
       "        return module;\n",
       "    })();\n",
       "modules[\"toyplot/root/id\"] = \"t816ed7fa9939458594f19e8fa87e59db\";\n",
       "modules[\"toyplot/root\"] = (function(root_id)\n",
       "    {\n",
       "        return document.querySelector(\"#\" + root_id);\n",
       "    })(modules[\"toyplot/root/id\"]);\n",
       "modules[\"toyplot/canvas/id\"] = \"t9f6903a5ad2c4bf1aa57b2486b07f3bd\";\n",
       "modules[\"toyplot/canvas\"] = (function(canvas_id)\n",
       "    {\n",
       "        return document.querySelector(\"#\" + canvas_id);\n",
       "    })(modules[\"toyplot/canvas/id\"]);\n",
       "modules[\"toyplot/menus/context\"] = (function(root, canvas)\n",
       "    {\n",
       "        var wrapper = document.createElement(\"div\");\n",
       "        wrapper.innerHTML = \"<ul class='toyplot-context-menu' style='background:#eee; border:1px solid #b8b8b8; border-radius:5px; box-shadow: 0px 0px 8px rgba(0%,0%,0%,0.25); margin:0; padding:3px 0; position:fixed; visibility:hidden;'></ul>\"\n",
       "        var menu = wrapper.firstChild;\n",
       "\n",
       "        root.appendChild(menu);\n",
       "\n",
       "        var items = [];\n",
       "\n",
       "        var ignore_mouseup = null;\n",
       "        function open_menu(e)\n",
       "        {\n",
       "            var show_menu = false;\n",
       "            for(var index=0; index != items.length; ++index)\n",
       "            {\n",
       "                var item = items[index];\n",
       "                if(item.show(e))\n",
       "                {\n",
       "                    item.item.style.display = \"block\";\n",
       "                    show_menu = true;\n",
       "                }\n",
       "                else\n",
       "                {\n",
       "                    item.item.style.display = \"none\";\n",
       "                }\n",
       "            }\n",
       "\n",
       "            if(show_menu)\n",
       "            {\n",
       "                ignore_mouseup = true;\n",
       "                menu.style.left = (e.clientX + 1) + \"px\";\n",
       "                menu.style.top = (e.clientY - 5) + \"px\";\n",
       "                menu.style.visibility = \"visible\";\n",
       "                e.stopPropagation();\n",
       "                e.preventDefault();\n",
       "            }\n",
       "        }\n",
       "\n",
       "        function close_menu()\n",
       "        {\n",
       "            menu.style.visibility = \"hidden\";\n",
       "        }\n",
       "\n",
       "        function contextmenu(e)\n",
       "        {\n",
       "            open_menu(e);\n",
       "        }\n",
       "\n",
       "        function mousemove(e)\n",
       "        {\n",
       "            ignore_mouseup = false;\n",
       "        }\n",
       "\n",
       "        function mouseup(e)\n",
       "        {\n",
       "            if(ignore_mouseup)\n",
       "            {\n",
       "                ignore_mouseup = false;\n",
       "                return;\n",
       "            }\n",
       "            close_menu();\n",
       "        }\n",
       "\n",
       "        function keydown(e)\n",
       "        {\n",
       "            if(e.key == \"Escape\" || e.key == \"Esc\" || e.keyCode == 27)\n",
       "            {\n",
       "                close_menu();\n",
       "            }\n",
       "        }\n",
       "\n",
       "        canvas.addEventListener(\"contextmenu\", contextmenu);\n",
       "        canvas.addEventListener(\"mousemove\", mousemove);\n",
       "        document.addEventListener(\"mouseup\", mouseup);\n",
       "        document.addEventListener(\"keydown\", keydown);\n",
       "\n",
       "        var module = {};\n",
       "        module.add_item = function(label, show, activate)\n",
       "        {\n",
       "            var wrapper = document.createElement(\"div\");\n",
       "            wrapper.innerHTML = \"<li class='toyplot-context-menu-item' style='background:#eee; color:#333; padding:2px 20px; list-style:none; margin:0; text-align:left;'>\" + label + \"</li>\"\n",
       "            var item = wrapper.firstChild;\n",
       "\n",
       "            items.push({item: item, show: show});\n",
       "\n",
       "            function mouseover()\n",
       "            {\n",
       "                this.style.background = \"steelblue\";\n",
       "                this.style.color = \"white\";\n",
       "            }\n",
       "\n",
       "            function mouseout()\n",
       "            {\n",
       "                this.style.background = \"#eee\";\n",
       "                this.style.color = \"#333\";\n",
       "            }\n",
       "\n",
       "            function choose_item(e)\n",
       "            {\n",
       "                close_menu();\n",
       "                activate();\n",
       "\n",
       "                e.stopPropagation();\n",
       "                e.preventDefault();\n",
       "            }\n",
       "\n",
       "            item.addEventListener(\"mouseover\", mouseover);\n",
       "            item.addEventListener(\"mouseout\", mouseout);\n",
       "            item.addEventListener(\"mouseup\", choose_item);\n",
       "            item.addEventListener(\"contextmenu\", choose_item);\n",
       "\n",
       "            menu.appendChild(item);\n",
       "        };\n",
       "        return module;\n",
       "    })(modules[\"toyplot/root\"],modules[\"toyplot/canvas\"]);\n",
       "modules[\"toyplot/io\"] = (function()\n",
       "    {\n",
       "        var module = {};\n",
       "        module.save_file = function(mime_type, charset, data, filename)\n",
       "        {\n",
       "            var uri = \"data:\" + mime_type + \";charset=\" + charset + \",\" + data;\n",
       "            uri = encodeURI(uri);\n",
       "\n",
       "            var link = document.createElement(\"a\");\n",
       "            if(typeof link.download != \"undefined\")\n",
       "            {\n",
       "              link.href = uri;\n",
       "              link.style = \"visibility:hidden\";\n",
       "              link.download = filename;\n",
       "\n",
       "              document.body.appendChild(link);\n",
       "              link.click();\n",
       "              document.body.removeChild(link);\n",
       "            }\n",
       "            else\n",
       "            {\n",
       "              window.open(uri);\n",
       "            }\n",
       "        };\n",
       "        return module;\n",
       "    })();\n",
       "(function(tables, context_menu, io, owner_id, key, label, names, columns, filename)\n",
       "        {\n",
       "            tables.set(owner_id, key, names, columns);\n",
       "\n",
       "            var owner = document.querySelector(\"#\" + owner_id);\n",
       "            function show_item(e)\n",
       "            {\n",
       "                return owner.contains(e.target);\n",
       "            }\n",
       "\n",
       "            function choose_item()\n",
       "            {\n",
       "                io.save_file(\"text/csv\", \"utf-8\", tables.get_csv(owner_id, key), filename + \".csv\");\n",
       "            }\n",
       "\n",
       "            context_menu.add_item(\"Save \" + label + \" as CSV\", show_item, choose_item);\n",
       "        })(modules[\"toyplot/tables\"],modules[\"toyplot/menus/context\"],modules[\"toyplot/io\"],\"tb2fd61d7dfc440539c1ebaf6eb364769\",\"vertex_data\",\"graph vertex data\",[\"x\", \"y\"],[[-19.0, -19.0, -17.0, -19.0, -18.0, -17.0, -17.0, 0.0, -17.0, -16.0, -18.0, -18.0, 0.0, -18.0, -17.0, -16.0, -16.0, 0.0, -16.0, -15.0, -17.0, -17.0, 0.0, -17.0, -16.0, -15.0, -15.0, 0.0, -15.0, -14.0, -16.0, -16.0, 0.0, -16.0, -15.0, -14.0, -14.0, 0.0, -14.0, -13.0, -15.0, -15.0, 0.0, -15.0, -14.0, -13.0, -13.0, 0.0, -13.0, -12.0, -14.0, -14.0, 0.0, -14.0, -13.0, -12.0, -12.0, 0.0, -12.0, -11.0, -13.0, -13.0, 0.0, -13.0, -12.0, -11.0, -11.0, 0.0, -11.0, -10.0, -12.0, -12.0, 0.0, -12.0, -11.0, -10.0, -10.0, 0.0, -10.0, -9.0, -11.0, -11.0, 0.0, -11.0, -10.0, -9.0, -9.0, 0.0, -9.0, -8.0, -10.0, -10.0, 0.0, -10.0, -9.0, -8.0, -8.0, 0.0, -8.0, -7.0, -9.0, -9.0, 0.0, -9.0, -8.0, -7.0, -7.0, 0.0, -7.0, -6.0, -8.0, -8.0, 0.0, -8.0, -7.0, -6.0, -6.0, 0.0, -6.0, -5.0, -7.0, -7.0, 0.0, -7.0, -6.0, -5.0, -5.0, 0.0, -5.0, -4.0, -6.0, -6.0, 0.0, -6.0, -5.0, -4.0, -4.0, 0.0, -4.0, -3.0, -5.0, -5.0, 0.0, -5.0, -4.0, -3.0, -3.0, 0.0, -3.0, -2.0, -4.0, -4.0, 0.0, -4.0, -3.0, -2.0, -2.0, 0.0, -2.0, -1.0, -3.0, -3.0, 0.0, -3.0, -2.0, -1.0, -1.0, 0.0, -1.0, 0.0, -2.0, -2.0, 0.0, -2.0, -1.0, -1.0, -1.0, 0.0, -1.0, 0.0], [26.0000057220459, 35.00000762939453, 35.00000762939453, 17.000003814697266, 17.000003814697266, 35.00000762939453, 36.0, 36.0, 34.00001525878906, 34.00001525878906, 17.000003814697266, 18.0, 18.0, 16.00000762939453, 16.00000762939453, 34.00001525878906, 35.0, 35.0, 33.000030517578125, 33.000030517578125, 16.00000762939453, 17.0, 17.0, 15.000015258789062, 15.000015258789062, 33.000030517578125, 34.0, 34.0, 32.00006103515625, 32.00006103515625, 15.000015258789062, 16.0, 16.0, 14.000030517578125, 14.000030517578125, 32.00006103515625, 33.0, 33.0, 31.0001220703125, 31.0001220703125, 14.000030517578125, 15.0, 15.0, 13.00006103515625, 13.00006103515625, 31.0001220703125, 32.0, 32.0, 30.000244140625, 30.000244140625, 13.00006103515625, 14.0, 14.0, 12.0001220703125, 12.0001220703125, 30.000244140625, 31.0, 31.0, 29.00048828125, 29.00048828125, 12.0001220703125, 13.0, 13.0, 11.000244140625, 11.000244140625, 29.00048828125, 30.0, 30.0, 28.0009765625, 28.0009765625, 11.000244140625, 12.0, 12.0, 10.00048828125, 10.00048828125, 28.0009765625, 29.0, 29.0, 27.001953125, 27.001953125, 10.00048828125, 11.0, 11.0, 9.0009765625, 9.0009765625, 27.001953125, 28.0, 28.0, 26.00390625, 26.00390625, 9.0009765625, 10.0, 10.0, 8.001953125, 8.001953125, 26.00390625, 27.0, 27.0, 25.0078125, 25.0078125, 8.001953125, 9.0, 9.0, 7.00390625, 7.00390625, 25.0078125, 26.0, 26.0, 24.015625, 24.015625, 7.00390625, 8.0, 8.0, 6.0078125, 6.0078125, 24.015625, 25.0, 25.0, 23.03125, 23.03125, 6.0078125, 7.0, 7.0, 5.015625, 5.015625, 23.03125, 24.0, 24.0, 22.0625, 22.0625, 5.015625, 6.0, 6.0, 4.03125, 4.03125, 22.0625, 23.0, 23.0, 21.125, 21.125, 4.03125, 5.0, 5.0, 3.0625, 3.0625, 21.125, 22.0, 22.0, 20.25, 20.25, 3.0625, 4.0, 4.0, 2.125, 2.125, 20.25, 21.0, 21.0, 19.5, 19.5, 2.125, 3.0, 3.0, 1.25, 1.25, 19.5, 20.0, 20.0, 19.0, 19.0, 1.25, 2.0, 2.0, 0.5, 0.5, 0.5, 1.0, 1.0, 0.0, 0.0]],\"toyplot\");\n",
       "(function(tables, context_menu, io, owner_id, key, label, names, columns, filename)\n",
       "        {\n",
       "            tables.set(owner_id, key, names, columns);\n",
       "\n",
       "            var owner = document.querySelector(\"#\" + owner_id);\n",
       "            function show_item(e)\n",
       "            {\n",
       "                return owner.contains(e.target);\n",
       "            }\n",
       "\n",
       "            function choose_item()\n",
       "            {\n",
       "                io.save_file(\"text/csv\", \"utf-8\", tables.get_csv(owner_id, key), filename + \".csv\");\n",
       "            }\n",
       "\n",
       "            context_menu.add_item(\"Save \" + label + \" as CSV\", show_item, choose_item);\n",
       "        })(modules[\"toyplot/tables\"],modules[\"toyplot/menus/context\"],modules[\"toyplot/io\"],\"tb2fd61d7dfc440539c1ebaf6eb364769\",\"edge_data\",\"graph edge data\",[\"source\", \"target\"],[[0, 1, 0, 3, 5, 6, 5, 8, 10, 11, 10, 13, 15, 16, 15, 18, 20, 21, 20, 23, 25, 26, 25, 28, 30, 31, 30, 33, 35, 36, 35, 38, 40, 41, 40, 43, 45, 46, 45, 48, 50, 51, 50, 53, 55, 56, 55, 58, 60, 61, 60, 63, 65, 66, 65, 68, 70, 71, 70, 73, 75, 76, 75, 78, 80, 81, 80, 83, 85, 86, 85, 88, 90, 91, 90, 93, 95, 96, 95, 98, 100, 101, 100, 103, 105, 106, 105, 108, 110, 111, 110, 113, 115, 116, 115, 118, 120, 121, 120, 123, 125, 126, 125, 128, 130, 131, 130, 133, 135, 136, 135, 138, 140, 141, 140, 143, 145, 146, 145, 148, 150, 151, 150, 153, 155, 156, 155, 158, 160, 161, 160, 163, 165, 166, 165, 168, 170, 171, 170, 173, 175, 176, 175, 178], [1, 2, 3, 4, 6, 7, 8, 9, 11, 12, 13, 14, 16, 17, 18, 19, 21, 22, 23, 24, 26, 27, 28, 29, 31, 32, 33, 34, 36, 37, 38, 39, 41, 42, 43, 44, 46, 47, 48, 49, 51, 52, 53, 54, 56, 57, 58, 59, 61, 62, 63, 64, 66, 67, 68, 69, 71, 72, 73, 74, 76, 77, 78, 79, 81, 82, 83, 84, 86, 87, 88, 89, 91, 92, 93, 94, 96, 97, 98, 99, 101, 102, 103, 104, 106, 107, 108, 109, 111, 112, 113, 114, 116, 117, 118, 119, 121, 122, 123, 124, 126, 127, 128, 129, 131, 132, 133, 134, 136, 137, 138, 139, 141, 142, 143, 144, 146, 147, 148, 149, 151, 152, 153, 154, 156, 157, 158, 159, 161, 162, 163, 164, 166, 167, 168, 169, 171, 172, 173, 174, 176, 177, 178, 179]],\"toyplot\");\n",
       "})();</script></div></div>"
      ]
     },
     "metadata": {},
     "output_type": "display_data"
    }
   ],
   "source": [
    "tre = qmc.run()\n",
    "tre.draw(height=500, width=300);"
   ]
  },
  {
   "cell_type": "code",
   "execution_count": 113,
   "metadata": {},
   "outputs": [
    {
     "name": "stdout",
     "output_type": "stream",
     "text": [
      "inferred tree matches input tree = True\n"
     ]
    }
   ],
   "source": [
    "## does this tree match the input tree?\n",
    "matches = tre.tree.robinson_foulds(qmc.tree, unrooted_trees=True)[0] == 0\n",
    "print \"inferred tree matches input tree = {}\".format(matches)"
   ]
  }
 ],
 "metadata": {
  "kernelspec": {
   "display_name": "Python 2",
   "language": "python",
   "name": "python2"
  },
  "language_info": {
   "codemirror_mode": {
    "name": "ipython",
    "version": 2
   },
   "file_extension": ".py",
   "mimetype": "text/x-python",
   "name": "python",
   "nbconvert_exporter": "python",
   "pygments_lexer": "ipython2",
   "version": "2.7.13"
  }
 },
 "nbformat": 4,
 "nbformat_minor": 2
}

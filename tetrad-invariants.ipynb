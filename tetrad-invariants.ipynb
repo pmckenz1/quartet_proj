{
 "cells": [
  {
   "cell_type": "markdown",
   "metadata": {},
   "source": [
    "### Example of the new tetrad\n"
   ]
  },
  {
   "cell_type": "code",
   "execution_count": 1,
   "metadata": {
    "collapsed": true
   },
   "outputs": [],
   "source": [
    "## conda install ipyrad -c ipyrad\n",
    "## conda install toytree -c eaton-lab"
   ]
  },
  {
   "cell_type": "code",
   "execution_count": 2,
   "metadata": {
    "collapsed": true
   },
   "outputs": [],
   "source": [
    "import ipyrad as ip\n",
    "import ipyrad.analysis as ipa\n",
    "import toytree \n",
    "import h5py\n",
    "import ipyparallel as ipp"
   ]
  },
  {
   "cell_type": "code",
   "execution_count": 3,
   "metadata": {},
   "outputs": [
    {
     "name": "stdout",
     "output_type": "stream",
     "text": [
      "ip 0.7.13\n",
      "toytree 0.1.4\n"
     ]
    }
   ],
   "source": [
    "## up-to-date versions \n",
    "print 'ip', ipa.__version__\n",
    "print 'toytree', toytree.__version__"
   ]
  },
  {
   "cell_type": "code",
   "execution_count": 5,
   "metadata": {},
   "outputs": [
    {
     "name": "stdout",
     "output_type": "stream",
     "text": [
      "loading Assembly: cli\n",
      "from saved path: ~/local/src/ipyrad/tests/cli/cli.json\n"
     ]
    }
   ],
   "source": [
    "## load finished ipyrad assembly\n",
    "data = ip.load_json(\"/home/deren/local/src/ipyrad/tests/cli/cli.json\")"
   ]
  },
  {
   "cell_type": "code",
   "execution_count": 6,
   "metadata": {},
   "outputs": [
    {
     "name": "stdout",
     "output_type": "stream",
     "text": [
      "loading seq array [12 taxa x 4325 bp]\n",
      "max unlinked SNPs per quartet (nloci): 984\n"
     ]
    }
   ],
   "source": [
    "## init a tetrad analysis object\n",
    "tet = ipa.tetrad(\n",
    "    name=data.name,\n",
    "    data=data.outfiles.snpsphy,\n",
    "    mapfile=data.outfiles.snpsmap,\n",
    "    nboots=10,\n",
    "    save_invariants=True   ## <- new option to save the arrays\n",
    "    )"
   ]
  },
  {
   "cell_type": "code",
   "execution_count": 7,
   "metadata": {},
   "outputs": [
    {
     "data": {
      "text/plain": [
       "method            all                 \n",
       "nboots            10                  \n",
       "nquartets         495                 \n",
       "resolve_ambigs    True                \n",
       "save_invariants   True                "
      ]
     },
     "execution_count": 7,
     "metadata": {},
     "output_type": "execute_result"
    }
   ],
   "source": [
    "## show params\n",
    "tet.params"
   ]
  },
  {
   "cell_type": "code",
   "execution_count": 8,
   "metadata": {},
   "outputs": [
    {
     "name": "stdout",
     "output_type": "stream",
     "text": [
      "inferring 495 quartet tree sets\n",
      "host compute node: [40 cores] on sacra\n",
      "[####################] 100% generating q-sets | 0:00:00 |  \n",
      "[####################] 100% initial tree      | 0:00:00 |  \n",
      "[####################] 100% bootstrap trees   | 0:00:03 |  \n",
      "[####################] 100% calculating stats | 0:00:00 |  \n"
     ]
    }
   ],
   "source": [
    "## run inference\n",
    "tet.run(force=True)"
   ]
  },
  {
   "cell_type": "code",
   "execution_count": 7,
   "metadata": {},
   "outputs": [
    {
     "data": {
      "text/plain": [
       "boots   ~/scratch/quartet_proj/analysis-tetrad/cli.boots\n",
       "cons    ~/scratch/quartet_proj/analysis-tetrad/cli.cons\n",
       "nhx     ~/scratch/quartet_proj/analysis-tetrad/cli.nhx\n",
       "tree    ~/scratch/quartet_proj/analysis-tetrad/cli.tree"
      ]
     },
     "execution_count": 7,
     "metadata": {},
     "output_type": "execute_result"
    }
   ],
   "source": [
    "## show tree results\n",
    "tet.trees"
   ]
  },
  {
   "cell_type": "code",
   "execution_count": 9,
   "metadata": {},
   "outputs": [
    {
     "name": "stdout",
     "output_type": "stream",
     "text": [
      "keys in the database: [u'invariants', u'quartets']\n",
      "keys in the invariants db: [u'boot0', u'boot1', u'boot10', u'boot2', u'boot3']\n",
      "example invariant array: <HDF5 dataset \"boot1\": shape (495, 16, 16), type \"<u2\">\n",
      "example quartets array: <HDF5 dataset \"quartets\": shape (495, 4), type \"<u2\">\n"
     ]
    }
   ],
   "source": [
    "## explore database\n",
    "with h5py.File(tet.database.output, 'r') as db:\n",
    "    print 'keys in the database:', db.keys()\n",
    "    print 'keys in the invariants db:', db['invariants'].keys()[:5]\n",
    "    print 'example invariant array:', db['invariants']['boot1']\n",
    "    print 'example quartets array:', db['quartets']    "
   ]
  },
  {
   "cell_type": "code",
   "execution_count": 9,
   "metadata": {},
   "outputs": [
    {
     "name": "stdout",
     "output_type": "stream",
     "text": [
      "inferred quartet: [0 3 7 9]\n",
      "matrix for ordered set:\n",
      "[[ 0 21 24 27  7  4  0  0 26  0  3  0 17  0  0  0]\n",
      " [12  0  0  0  0 19  0  0  0  0  0  0  0  0  0  0]\n",
      " [16  0  0  0  0  0  0  0  0  0 10  0  0  0  0  0]\n",
      " [13  0  0  1  1  0  0  0  0  0  0  0  0  0  0 17]\n",
      " [16  0  0  0  0 10  0  0  0  0  0  0  0  0  0  0]\n",
      " [ 5 23  0  0 13  0 20 20  0 13  4  0  0 17  0  2]\n",
      " [ 0  0  0  0  0 11  1  0  0  0 10  0  0  0  0  0]\n",
      " [ 0  0  0  0  0 15  0  1  0  0  0  0  0  0  0 13]\n",
      " [11  0  2  0  0  0  0  0  0  0  8  0  0  0  0  0]\n",
      " [ 0  0  0  0  0 15  0  0  0  1 11  0  0  0  0  0]\n",
      " [ 5  0 17  0  0  4 18  0 24 21  0 20  0  0 15  3]\n",
      " [ 0  0  0  0  0  0  0  0  0  0 14  2  0  0  0 14]\n",
      " [ 9  0  0  1  0  0  0  0  0  0  0  0  0  0  0 13]\n",
      " [ 0  0  0  0  0 14  0  0  0  0  0  0  0  0  0  7]\n",
      " [ 0  0  0  0  0  0  0  0  0  0  9  0  0  0  0 10]\n",
      " [ 1  1  0 15  0  5  0 20  0  0  6 14 23 26 19  0]]\n"
     ]
    }
   ],
   "source": [
    "## a 16x16 matrix for one quartet\n",
    "with h5py.File(tet.database.output) as db:\n",
    "    idx = 100\n",
    "    qrt = db['quartets'][idx]\n",
    "    arr = db['invariants/boot0']\n",
    "    print 'inferred quartet:', qrt\n",
    "    print 'matrix for ordered set:\\n', arr[idx, :, :]"
   ]
  }
 ],
 "metadata": {
  "kernelspec": {
   "display_name": "Python 2",
   "language": "python",
   "name": "python2"
  },
  "language_info": {
   "codemirror_mode": {
    "name": "ipython",
    "version": 2
   },
   "file_extension": ".py",
   "mimetype": "text/x-python",
   "name": "python",
   "nbconvert_exporter": "python",
   "pygments_lexer": "ipython2",
   "version": "2.7.13"
  }
 },
 "nbformat": 4,
 "nbformat_minor": 2
}

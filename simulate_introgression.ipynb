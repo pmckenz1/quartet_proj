{
 "cells": [
  {
   "cell_type": "markdown",
   "metadata": {},
   "source": [
    "## Simulate introgression using msprime and seq gen"
   ]
  },
  {
   "cell_type": "code",
   "execution_count": 152,
   "metadata": {
    "collapsed": true
   },
   "outputs": [],
   "source": [
    "import dendropy\n",
    "from dendropy.interop import seqgen\n",
    "import subprocess\n",
    "import toytree\n",
    "import ete3"
   ]
  },
  {
   "cell_type": "code",
   "execution_count": null,
   "metadata": {
    "collapsed": true
   },
   "outputs": [],
   "source": [
    "# seq-gen -mHKY -l 40 -s .2 <treefile >seqfile"
   ]
  },
  {
   "cell_type": "code",
   "execution_count": 120,
   "metadata": {
    "collapsed": true
   },
   "outputs": [],
   "source": [
    "p = subprocess.Popen([\"ms\",\"5\", \"10\", \"-T\"], stdout=subprocess.PIPE,stderr=subprocess.PIPE)\n",
    "ms_results = p.communicate()[0]\n",
    "gentrees = [s.strip() for s in ms_results.splitlines()][4:]\n",
    "gentrees = [q for q in gentrees if len(q)] # remove first four lines\n",
    "gentrees = [q for q in gentrees if q != '//'] # remove the // lines"
   ]
  },
  {
   "cell_type": "code",
   "execution_count": 121,
   "metadata": {},
   "outputs": [
    {
     "name": "stdout",
     "output_type": "stream",
     "text": [
      "5 40\n",
      "4  ATCAAGGCACTCAAAATTACTTGTGTTAAGCCCACGCAAC\n",
      "1  CTCTATAACATCAGTTCTATTTGTCTCAAACAGAAACAAC\n",
      "2  CTCTATAACATCAGTTCTATTTGTCTCAAAAAGAAACAAC\n",
      "3  CTCTATAACATCAGTTCTATTTGTCTCAAACAGAAACAAC\n",
      "5  CTCTATAACATCAGTTCTATTTGTCTCAAACAGAAACAAC\n",
      "5 40\n",
      "4  GAGGCCAGAAATATAGTAGAGGGCCCTTTTACAGTCGGCC\n",
      "1  GAAGCCAGAAATATAGTAGAGGGCCCTTTTACAGTAGGCC\n",
      "2  GAAGCCAGGAACATAGTAGGGGGCCCTTTTACTGTCGGCC\n",
      "3  GAAGCCAGGAACATAGTAGGGGGCCCTTTTACTGTCGGCC\n",
      "5  GAAGCCAGAAATATAGTACAGGGCCCTTTTACAGTCGGCC\n",
      "5 40\n",
      "4  GGGCTAAGGGGGTCAGAGGGTGTATTAGCAGTATCTACAA\n",
      "1  GGGCTAAGCGCGTCAGGGGGTGTATTAGCACTATCTACAA\n",
      "2  GCGGTAAGTACATCAGCGGGTGTATTAGCACTATCTACAG\n",
      "3  CCGGTAAGTACATCAGCGGGTGTATTAGCACTATCTACAG\n",
      "5  GGGCTAAGCGCGTCAGGGGGTGTATTAGCACTATCTACAA\n",
      "5 40\n",
      "4  GGATCTGCCGGTTTTAGGGGAAGTGCGTCCATTGGAACAT\n",
      "1  GGATCTGCCGGTCTTAGGGGAAGTGCGTCCATTGGAACAT\n",
      "2  GGATCTGCCGGTTTTAGGGGAAGTGCGTCCATTGGAACAT\n",
      "3  CGATCTGCCGGTTTTACGGGAAGTGCGTCCATTGGAACAT\n",
      "5  GGATCTGCCGGTGTTAGGGGAAGTGCGTCCATTGGAACAT\n",
      "5 40\n",
      "4  GGATTATGTTGGCCGGGCAGCGTTCCCTGGCCGAGCTTGA\n",
      "1  GGATTATGTTAGCCGGGCAGCGGGCGCTGGCCGGGCTTAA\n",
      "2  GGATTATGTTAGCCGGGCAGCGTTCCCTGGCCGAGCTTGA\n",
      "3  GGATTATGTTAGCCGGGCAGCGGGCGCTGGCCGGGCTTAA\n",
      "5  GGATTATGTTAGCCGGGCAGCGTTCCCTGGCCGAGCTTGA\n",
      "5 40\n",
      "4  GCGCTCGAATAGACCTAGAGTCACTTGGTCGAGGAGCCTT\n",
      "1  ACGCTCTAGTAGACCTTACGACAATCGGTCGAGCGCATTC\n",
      "2  ACGGTCTAGTAGACCTAACGAAAATCGGTCGAGCGCATTC\n",
      "3  GCGCTCGAATAGACCTAGAGTCACTTGGTCGAGGAGCCTT\n",
      "5  GCGCTCGAATAGACCTAGAGTCACTTGGTCGAGGAGCCTT\n",
      "5 40\n",
      "4  GGTTCTTTAAAACGTCCCAATTGGTTTCGCGACAGTGGCG\n",
      "1  GGTCCTTTAGCACGTCACAATCGAACAGAACACACGTCCG\n",
      "2  GGTCCTTTAGCACGTCACAATCGAACAGAACACACGTCCG\n",
      "3  GGTCCTTTAGCACGTCACAATCGAACAGAACACACGTCCG\n",
      "5  GGTTCTTTAAAACGTCCCAATTGGTTTCGCGACAGTGGCG\n",
      "5 40\n",
      "4  GTCCGGGCTTAACGATGAGGACGAGTGGCTTATTCCTACA\n",
      "1  GTCCGTGCTTAACGGTGAGGACGAGTGGCTTATTCCTATA\n",
      "2  GTCCGTGCTTAACGGTGAGGACGAGTGGCTTATTCCTATA\n",
      "3  GTCCGGGCTTAACGATGAGGACGAGTGGCTTATTCCTACA\n",
      "5  GTCCGTGGTTAACCATCAGGACGAGTGCGTTATTCGTATC\n",
      "5 40\n",
      "4  AGCATGTTCTCGCGAGTTCGGAAGATATAAATACATTCTT\n",
      "1  AGCATGTCCTCGCGATTACGGAAGATATAAACCCAGTCTT\n",
      "2  AGCATGTCCTGGCGAGTTGGGAAGATATAAACCCAGTCTT\n",
      "3  AGCATGTCCTCGCGATTACGGAAGATATAAACCCAGTCTT\n",
      "5  AACATGTCCCCGCGAGTCCGGCAGATATGAATCCAGTCTT\n",
      "5 40\n",
      "4  CAAATTACAAAACAGCGGAGTGCAACCAATCATGTTCTAC\n",
      "1  AGAATGAAAAACCTGCGCATTGTACCCAATCATTTGCCAC\n",
      "2  AGAATGAAAAACCTGCGCAGGGTAACCAATCATTTGCCAC\n",
      "3  CGAATTAAAAACCTGCAGAGTGCAACCAATCATGTTCTCC\n",
      "5  GGAATTAAAAACATGCAGAGTGCTACCAATCATGTTCTAC\n",
      "\n"
     ]
    }
   ],
   "source": [
    "trees = dendropy.TreeList.get(data = \"\".join(gentrees), schema='newick')\n",
    "s = seqgen.SeqGen()\n",
    "s.scale_branch_lens = 0.2\n",
    "s.seq_len = 40\n",
    "s.char_model = s.GTR\n",
    "sequences = s.generate(trees)\n",
    "outseqs = \"\".join([sequences.char_matrices[i].as_string(\"phylip\") for i in range(len(sequences.char_matrices))])\n",
    "print(outseqs)"
   ]
  },
  {
   "cell_type": "code",
   "execution_count": 128,
   "metadata": {},
   "outputs": [],
   "source": [
    "test = toytree.tree(trees[0].as_string(schema = \"newick\", suppress_internal_node_labels = False))"
   ]
  },
  {
   "cell_type": "code",
   "execution_count": 129,
   "metadata": {
    "collapsed": true
   },
   "outputs": [],
   "source": [
    "test1 = toytree.tree(trees[1].as_string(schema = \"newick\", suppress_internal_node_labels = False))"
   ]
  },
  {
   "cell_type": "code",
   "execution_count": 145,
   "metadata": {},
   "outputs": [
    {
     "name": "stdout",
     "output_type": "stream",
     "text": [
      "/---------------------------------------------------------------------------- 4\n",
      "+                                                                              \n",
      "|                  /--------------------------------------------------------- 1\n",
      "\\------------------+                                                           \n",
      "                   |                  /-------------------------------------- 2\n",
      "                   \\------------------+                                        \n",
      "                                      |                  /------------------- 3\n",
      "                                      \\------------------+                     \n",
      "                                                         \\------------------- 5\n",
      "                                                                               \n",
      "                                                                               \n",
      "                                                   /------------------------- 2\n",
      "/--------------------------------------------------+                           \n",
      "|                                                  \\------------------------- 3\n",
      "+                                                                              \n",
      "|                        /--------------------------------------------------- 4\n",
      "\\------------------------+                                                     \n",
      "                         |                         /------------------------- 1\n",
      "                         \\-------------------------+                           \n",
      "                                                   \\------------------------- 5\n",
      "                                                                               \n",
      "                                                                               \n",
      "                                                   /------------------------- 2\n",
      "/--------------------------------------------------+                           \n",
      "|                                                  \\------------------------- 3\n",
      "+                                                                              \n",
      "|                        /--------------------------------------------------- 4\n",
      "\\------------------------+                                                     \n",
      "                         |                         /------------------------- 1\n",
      "                         \\-------------------------+                           \n",
      "                                                   \\------------------------- 5\n",
      "                                                                               \n",
      "                                                                               \n",
      "/---------------------------------------------------------------------------- 3\n",
      "+                                                                              \n",
      "|                  /--------------------------------------------------------- 5\n",
      "\\------------------+                                                           \n",
      "                   |                  /-------------------------------------- 4\n",
      "                   \\------------------+                                        \n",
      "                                      |                  /------------------- 1\n",
      "                                      \\------------------+                     \n",
      "                                                         \\------------------- 2\n",
      "                                                                               \n",
      "                                                                               \n",
      "                                                   /------------------------- 1\n",
      "/--------------------------------------------------+                           \n",
      "|                                                  \\------------------------- 3\n",
      "+                                                                              \n",
      "|                        /--------------------------------------------------- 5\n",
      "\\------------------------+                                                     \n",
      "                         |                         /------------------------- 2\n",
      "                         \\-------------------------+                           \n",
      "                                                   \\------------------------- 4\n",
      "                                                                               \n",
      "                                                                               \n",
      "                         /--------------------------------------------------- 5\n",
      "/------------------------+                                                     \n",
      "|                        |                         /------------------------- 3\n",
      "|                        \\-------------------------+                           \n",
      "+                                                  \\------------------------- 4\n",
      "|                                                                              \n",
      "|                                                  /------------------------- 1\n",
      "\\--------------------------------------------------+                           \n",
      "                                                   \\------------------------- 2\n",
      "                                                                               \n",
      "                                                                               \n",
      "                                                   /------------------------- 4\n",
      "/--------------------------------------------------+                           \n",
      "|                                                  \\------------------------- 5\n",
      "+                                                                              \n",
      "|                        /--------------------------------------------------- 1\n",
      "\\------------------------+                                                     \n",
      "                         |                         /------------------------- 2\n",
      "                         \\-------------------------+                           \n",
      "                                                   \\------------------------- 3\n",
      "                                                                               \n",
      "                                                                               \n",
      "/---------------------------------------------------------------------------- 5\n",
      "|                                                                              \n",
      "+                                                  /------------------------- 3\n",
      "|                        /-------------------------+                           \n",
      "|                        |                         \\------------------------- 4\n",
      "\\------------------------+                                                     \n",
      "                         |                         /------------------------- 1\n",
      "                         \\-------------------------+                           \n",
      "                                                   \\------------------------- 2\n",
      "                                                                               \n",
      "                                                                               \n",
      "/---------------------------------------------------------------------------- 5\n",
      "+                                                                              \n",
      "|                  /--------------------------------------------------------- 4\n",
      "\\------------------+                                                           \n",
      "                   |                  /-------------------------------------- 2\n",
      "                   \\------------------+                                        \n",
      "                                      |                  /------------------- 1\n",
      "                                      \\------------------+                     \n",
      "                                                         \\------------------- 3\n",
      "                                                                               \n",
      "                                                                               \n",
      "                                                   /------------------------- 1\n",
      "/--------------------------------------------------+                           \n",
      "|                                                  \\------------------------- 2\n",
      "+                                                                              \n",
      "|                        /--------------------------------------------------- 4\n",
      "\\------------------------+                                                     \n",
      "                         |                         /------------------------- 3\n",
      "                         \\-------------------------+                           \n",
      "                                                   \\------------------------- 5\n",
      "                                                                               \n",
      "                                                                               \n"
     ]
    },
    {
     "data": {
      "text/plain": [
       "[None, None, None, None, None, None, None, None, None, None]"
      ]
     },
     "execution_count": 145,
     "metadata": {},
     "output_type": "execute_result"
    }
   ],
   "source": [
    "[trees[i].print_plot() for i in range(len(trees))]"
   ]
  },
  {
   "cell_type": "code",
   "execution_count": 132,
   "metadata": {},
   "outputs": [],
   "source": [
    "testtxt = trees.as_string(schema = \"newick\", suppress_internal_node_labels = False)"
   ]
  },
  {
   "cell_type": "code",
   "execution_count": 157,
   "metadata": {},
   "outputs": [
    {
     "ename": "AttributeError",
     "evalue": "'TreeList' object has no attribute 'startswith'",
     "output_type": "error",
     "traceback": [
      "\u001b[0;31m---------------------------------------------------------------------------\u001b[0m",
      "\u001b[0;31mAttributeError\u001b[0m                            Traceback (most recent call last)",
      "\u001b[0;32m<ipython-input-157-81b5dd1e0eaa>\u001b[0m in \u001b[0;36m<module>\u001b[0;34m()\u001b[0m\n\u001b[0;32m----> 1\u001b[0;31m \u001b[0mtoytree\u001b[0m\u001b[0;34m.\u001b[0m\u001b[0mmultitree\u001b[0m\u001b[0;34m(\u001b[0m\u001b[0mnewick\u001b[0m\u001b[0;34m=\u001b[0m\u001b[0mtrees\u001b[0m\u001b[0;34m)\u001b[0m\u001b[0;34m\u001b[0m\u001b[0m\n\u001b[0m",
      "\u001b[0;32m/Users/pmckenz1/miniconda2/lib/python2.7/site-packages/toytree-0.1.4-py2.7.egg/toytree/multitree.pyc\u001b[0m in \u001b[0;36m__init__\u001b[0;34m(self, newick, format, treeslice, skip, fixed_order, orient, use_edge_lengths)\u001b[0m\n\u001b[1;32m     45\u001b[0m \u001b[0;34m\u001b[0m\u001b[0m\n\u001b[1;32m     46\u001b[0m         \u001b[0;31m## setting attributes\u001b[0m\u001b[0;34m\u001b[0m\u001b[0;34m\u001b[0m\u001b[0m\n\u001b[0;32m---> 47\u001b[0;31m         \u001b[0mself\u001b[0m\u001b[0;34m.\u001b[0m\u001b[0mnewick\u001b[0m \u001b[0;34m=\u001b[0m \u001b[0mos\u001b[0m\u001b[0;34m.\u001b[0m\u001b[0mpath\u001b[0m\u001b[0;34m.\u001b[0m\u001b[0mabspath\u001b[0m\u001b[0;34m(\u001b[0m\u001b[0mos\u001b[0m\u001b[0;34m.\u001b[0m\u001b[0mpath\u001b[0m\u001b[0;34m.\u001b[0m\u001b[0mexpanduser\u001b[0m\u001b[0;34m(\u001b[0m\u001b[0mnewick\u001b[0m\u001b[0;34m)\u001b[0m\u001b[0;34m)\u001b[0m\u001b[0;34m\u001b[0m\u001b[0m\n\u001b[0m\u001b[1;32m     48\u001b[0m         \u001b[0mself\u001b[0m\u001b[0;34m.\u001b[0m\u001b[0mcolors\u001b[0m \u001b[0;34m=\u001b[0m \u001b[0mCOLORS\u001b[0m\u001b[0;34m\u001b[0m\u001b[0m\n\u001b[1;32m     49\u001b[0m         \u001b[0mself\u001b[0m\u001b[0;34m.\u001b[0m\u001b[0m_tformat\u001b[0m \u001b[0;34m=\u001b[0m \u001b[0mformat\u001b[0m\u001b[0;34m\u001b[0m\u001b[0m\n",
      "\u001b[0;32m/Users/pmckenz1/miniconda2/lib/python2.7/posixpath.pyc\u001b[0m in \u001b[0;36mexpanduser\u001b[0;34m(path)\u001b[0m\n\u001b[1;32m    252\u001b[0m     \"\"\"Expand ~ and ~user constructions.  If user or $HOME is unknown,\n\u001b[1;32m    253\u001b[0m     do nothing.\"\"\"\n\u001b[0;32m--> 254\u001b[0;31m     \u001b[0;32mif\u001b[0m \u001b[0;32mnot\u001b[0m \u001b[0mpath\u001b[0m\u001b[0;34m.\u001b[0m\u001b[0mstartswith\u001b[0m\u001b[0;34m(\u001b[0m\u001b[0;34m'~'\u001b[0m\u001b[0;34m)\u001b[0m\u001b[0;34m:\u001b[0m\u001b[0;34m\u001b[0m\u001b[0m\n\u001b[0m\u001b[1;32m    255\u001b[0m         \u001b[0;32mreturn\u001b[0m \u001b[0mpath\u001b[0m\u001b[0;34m\u001b[0m\u001b[0m\n\u001b[1;32m    256\u001b[0m     \u001b[0mi\u001b[0m \u001b[0;34m=\u001b[0m \u001b[0mpath\u001b[0m\u001b[0;34m.\u001b[0m\u001b[0mfind\u001b[0m\u001b[0;34m(\u001b[0m\u001b[0;34m'/'\u001b[0m\u001b[0;34m,\u001b[0m \u001b[0;36m1\u001b[0m\u001b[0;34m)\u001b[0m\u001b[0;34m\u001b[0m\u001b[0m\n",
      "\u001b[0;31mAttributeError\u001b[0m: 'TreeList' object has no attribute 'startswith'"
     ]
    }
   ],
   "source": [
    "toytree.multitree(=trees)"
   ]
  },
  {
   "cell_type": "code",
   "execution_count": 125,
   "metadata": {},
   "outputs": [
    {
     "ename": "AttributeError",
     "evalue": "'Toytree' object has no attribute 'draw_cloudtree'",
     "output_type": "error",
     "traceback": [
      "\u001b[0;31m---------------------------------------------------------------------------\u001b[0m",
      "\u001b[0;31mAttributeError\u001b[0m                            Traceback (most recent call last)",
      "\u001b[0;32m<ipython-input-125-4283a85db527>\u001b[0m in \u001b[0;36m<module>\u001b[0;34m()\u001b[0m\n\u001b[0;32m----> 1\u001b[0;31m test.draw_cloudtree(\n\u001b[0m\u001b[1;32m      2\u001b[0m     \u001b[0mwidth\u001b[0m\u001b[0;34m=\u001b[0m\u001b[0;36m200\u001b[0m\u001b[0;34m,\u001b[0m\u001b[0;34m\u001b[0m\u001b[0m\n\u001b[1;32m      3\u001b[0m     \u001b[0morient\u001b[0m\u001b[0;34m=\u001b[0m\u001b[0;34m'right'\u001b[0m\u001b[0;34m,\u001b[0m\u001b[0;34m\u001b[0m\u001b[0m\n\u001b[1;32m      4\u001b[0m     \u001b[0muse_edge_lengths\u001b[0m\u001b[0;34m=\u001b[0m\u001b[0mTrue\u001b[0m\u001b[0;34m,\u001b[0m\u001b[0;34m\u001b[0m\u001b[0m\n\u001b[1;32m      5\u001b[0m     \u001b[0medge_style\u001b[0m\u001b[0;34m=\u001b[0m\u001b[0;34m{\u001b[0m\u001b[0;34m\"opacity\"\u001b[0m\u001b[0;34m:\u001b[0m \u001b[0;36m0.3\u001b[0m\u001b[0;34m}\u001b[0m\u001b[0;34m\u001b[0m\u001b[0m\n",
      "\u001b[0;31mAttributeError\u001b[0m: 'Toytree' object has no attribute 'draw_cloudtree'"
     ]
    }
   ],
   "source": [
    "test.draw_cloudtree(\n",
    "    width=200,\n",
    "    orient='right',\n",
    "    use_edge_lengths=True,\n",
    "    edge_style={\"opacity\": 0.3}\n",
    "    );"
   ]
  }
 ],
 "metadata": {
  "kernelspec": {
   "display_name": "Python 2",
   "language": "python",
   "name": "python2"
  },
  "language_info": {
   "codemirror_mode": {
    "name": "ipython",
    "version": 2
   },
   "file_extension": ".py",
   "mimetype": "text/x-python",
   "name": "python",
   "nbconvert_exporter": "python",
   "pygments_lexer": "ipython2",
   "version": "2.7.13"
  }
 },
 "nbformat": 4,
 "nbformat_minor": 2
}

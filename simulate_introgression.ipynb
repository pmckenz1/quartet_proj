{
 "cells": [
  {
   "cell_type": "markdown",
   "metadata": {},
   "source": [
    "## Simulate introgression using msprime and seq gen"
   ]
  },
  {
   "cell_type": "code",
   "execution_count": 152,
   "metadata": {
    "collapsed": true
   },
   "outputs": [],
   "source": [
    "import dendropy\n",
    "from dendropy.interop import seqgen\n",
    "import subprocess\n",
    "import toytree\n",
    "import ete3"
   ]
  },
  {
   "cell_type": "code",
   "execution_count": null,
   "metadata": {
    "collapsed": true
   },
   "outputs": [],
   "source": [
    "# seq-gen -mHKY -l 40 -s .2 <treefile >seqfile"
   ]
  },
  {
   "cell_type": "code",
   "execution_count": 120,
   "metadata": {
    "collapsed": true
   },
   "outputs": [],
   "source": [
    "p = subprocess.Popen([\"ms\",\"5\", \"10\", \"-T\"], stdout=subprocess.PIPE,stderr=subprocess.PIPE)\n",
    "ms_results = p.communicate()[0]\n",
    "gentrees = [s.strip() for s in ms_results.splitlines()][4:]\n",
    "gentrees = [q for q in gentrees if len(q)] # remove first four lines\n",
    "gentrees = [q for q in gentrees if q != '//'] # remove the // lines"
   ]
  },
  {
   "cell_type": "code",
   "execution_count": 121,
   "metadata": {},
   "outputs": [
    {
     "name": "stdout",
     "output_type": "stream",
     "text": [
      "5 40\n",
      "4  ATCAAGGCACTCAAAATTACTTGTGTTAAGCCCACGCAAC\n",
      "1  CTCTATAACATCAGTTCTATTTGTCTCAAACAGAAACAAC\n",
      "2  CTCTATAACATCAGTTCTATTTGTCTCAAAAAGAAACAAC\n",
      "3  CTCTATAACATCAGTTCTATTTGTCTCAAACAGAAACAAC\n",
      "5  CTCTATAACATCAGTTCTATTTGTCTCAAACAGAAACAAC\n",
      "5 40\n",
      "4  GAGGCCAGAAATATAGTAGAGGGCCCTTTTACAGTCGGCC\n",
      "1  GAAGCCAGAAATATAGTAGAGGGCCCTTTTACAGTAGGCC\n",
      "2  GAAGCCAGGAACATAGTAGGGGGCCCTTTTACTGTCGGCC\n",
      "3  GAAGCCAGGAACATAGTAGGGGGCCCTTTTACTGTCGGCC\n",
      "5  GAAGCCAGAAATATAGTACAGGGCCCTTTTACAGTCGGCC\n",
      "5 40\n",
      "4  GGGCTAAGGGGGTCAGAGGGTGTATTAGCAGTATCTACAA\n",
      "1  GGGCTAAGCGCGTCAGGGGGTGTATTAGCACTATCTACAA\n",
      "2  GCGGTAAGTACATCAGCGGGTGTATTAGCACTATCTACAG\n",
      "3  CCGGTAAGTACATCAGCGGGTGTATTAGCACTATCTACAG\n",
      "5  GGGCTAAGCGCGTCAGGGGGTGTATTAGCACTATCTACAA\n",
      "5 40\n",
      "4  GGATCTGCCGGTTTTAGGGGAAGTGCGTCCATTGGAACAT\n",
      "1  GGATCTGCCGGTCTTAGGGGAAGTGCGTCCATTGGAACAT\n",
      "2  GGATCTGCCGGTTTTAGGGGAAGTGCGTCCATTGGAACAT\n",
      "3  CGATCTGCCGGTTTTACGGGAAGTGCGTCCATTGGAACAT\n",
      "5  GGATCTGCCGGTGTTAGGGGAAGTGCGTCCATTGGAACAT\n",
      "5 40\n",
      "4  GGATTATGTTGGCCGGGCAGCGTTCCCTGGCCGAGCTTGA\n",
      "1  GGATTATGTTAGCCGGGCAGCGGGCGCTGGCCGGGCTTAA\n",
      "2  GGATTATGTTAGCCGGGCAGCGTTCCCTGGCCGAGCTTGA\n",
      "3  GGATTATGTTAGCCGGGCAGCGGGCGCTGGCCGGGCTTAA\n",
      "5  GGATTATGTTAGCCGGGCAGCGTTCCCTGGCCGAGCTTGA\n",
      "5 40\n",
      "4  GCGCTCGAATAGACCTAGAGTCACTTGGTCGAGGAGCCTT\n",
      "1  ACGCTCTAGTAGACCTTACGACAATCGGTCGAGCGCATTC\n",
      "2  ACGGTCTAGTAGACCTAACGAAAATCGGTCGAGCGCATTC\n",
      "3  GCGCTCGAATAGACCTAGAGTCACTTGGTCGAGGAGCCTT\n",
      "5  GCGCTCGAATAGACCTAGAGTCACTTGGTCGAGGAGCCTT\n",
      "5 40\n",
      "4  GGTTCTTTAAAACGTCCCAATTGGTTTCGCGACAGTGGCG\n",
      "1  GGTCCTTTAGCACGTCACAATCGAACAGAACACACGTCCG\n",
      "2  GGTCCTTTAGCACGTCACAATCGAACAGAACACACGTCCG\n",
      "3  GGTCCTTTAGCACGTCACAATCGAACAGAACACACGTCCG\n",
      "5  GGTTCTTTAAAACGTCCCAATTGGTTTCGCGACAGTGGCG\n",
      "5 40\n",
      "4  GTCCGGGCTTAACGATGAGGACGAGTGGCTTATTCCTACA\n",
      "1  GTCCGTGCTTAACGGTGAGGACGAGTGGCTTATTCCTATA\n",
      "2  GTCCGTGCTTAACGGTGAGGACGAGTGGCTTATTCCTATA\n",
      "3  GTCCGGGCTTAACGATGAGGACGAGTGGCTTATTCCTACA\n",
      "5  GTCCGTGGTTAACCATCAGGACGAGTGCGTTATTCGTATC\n",
      "5 40\n",
      "4  AGCATGTTCTCGCGAGTTCGGAAGATATAAATACATTCTT\n",
      "1  AGCATGTCCTCGCGATTACGGAAGATATAAACCCAGTCTT\n",
      "2  AGCATGTCCTGGCGAGTTGGGAAGATATAAACCCAGTCTT\n",
      "3  AGCATGTCCTCGCGATTACGGAAGATATAAACCCAGTCTT\n",
      "5  AACATGTCCCCGCGAGTCCGGCAGATATGAATCCAGTCTT\n",
      "5 40\n",
      "4  CAAATTACAAAACAGCGGAGTGCAACCAATCATGTTCTAC\n",
      "1  AGAATGAAAAACCTGCGCATTGTACCCAATCATTTGCCAC\n",
      "2  AGAATGAAAAACCTGCGCAGGGTAACCAATCATTTGCCAC\n",
      "3  CGAATTAAAAACCTGCAGAGTGCAACCAATCATGTTCTCC\n",
      "5  GGAATTAAAAACATGCAGAGTGCTACCAATCATGTTCTAC\n",
      "\n"
     ]
    }
   ],
   "source": [
    "trees = dendropy.TreeList.get(data = \"\".join(gentrees), schema='newick')\n",
    "s = seqgen.SeqGen()\n",
    "s.scale_branch_lens = 0.2\n",
    "s.seq_len = 40\n",
    "s.char_model = s.GTR\n",
    "sequences = s.generate(trees)\n",
    "outseqs = \"\".join([sequences.char_matrices[i].as_string(\"phylip\") for i in range(len(sequences.char_matrices))])\n",
    "print(outseqs)"
   ]
  },
  {
   "cell_type": "code",
   "execution_count": 128,
   "metadata": {
    "collapsed": true
   },
   "outputs": [],
   "source": [
    "test = toytree.tree(trees[0].as_string(schema = \"newick\", suppress_internal_node_labels = False))"
   ]
  },
  {
   "cell_type": "code",
   "execution_count": 129,
   "metadata": {
    "collapsed": true
   },
   "outputs": [],
   "source": [
    "test1 = toytree.tree(trees[1].as_string(schema = \"newick\", suppress_internal_node_labels = False))"
   ]
  },
  {
   "cell_type": "code",
   "execution_count": 145,
   "metadata": {},
   "outputs": [
    {
     "name": "stdout",
     "output_type": "stream",
     "text": [
      "/---------------------------------------------------------------------------- 4\n",
      "+                                                                              \n",
      "|                  /--------------------------------------------------------- 1\n",
      "\\------------------+                                                           \n",
      "                   |                  /-------------------------------------- 2\n",
      "                   \\------------------+                                        \n",
      "                                      |                  /------------------- 3\n",
      "                                      \\------------------+                     \n",
      "                                                         \\------------------- 5\n",
      "                                                                               \n",
      "                                                                               \n",
      "                                                   /------------------------- 2\n",
      "/--------------------------------------------------+                           \n",
      "|                                                  \\------------------------- 3\n",
      "+                                                                              \n",
      "|                        /--------------------------------------------------- 4\n",
      "\\------------------------+                                                     \n",
      "                         |                         /------------------------- 1\n",
      "                         \\-------------------------+                           \n",
      "                                                   \\------------------------- 5\n",
      "                                                                               \n",
      "                                                                               \n",
      "                                                   /------------------------- 2\n",
      "/--------------------------------------------------+                           \n",
      "|                                                  \\------------------------- 3\n",
      "+                                                                              \n",
      "|                        /--------------------------------------------------- 4\n",
      "\\------------------------+                                                     \n",
      "                         |                         /------------------------- 1\n",
      "                         \\-------------------------+                           \n",
      "                                                   \\------------------------- 5\n",
      "                                                                               \n",
      "                                                                               \n",
      "/---------------------------------------------------------------------------- 3\n",
      "+                                                                              \n",
      "|                  /--------------------------------------------------------- 5\n",
      "\\------------------+                                                           \n",
      "                   |                  /-------------------------------------- 4\n",
      "                   \\------------------+                                        \n",
      "                                      |                  /------------------- 1\n",
      "                                      \\------------------+                     \n",
      "                                                         \\------------------- 2\n",
      "                                                                               \n",
      "                                                                               \n",
      "                                                   /------------------------- 1\n",
      "/--------------------------------------------------+                           \n",
      "|                                                  \\------------------------- 3\n",
      "+                                                                              \n",
      "|                        /--------------------------------------------------- 5\n",
      "\\------------------------+                                                     \n",
      "                         |                         /------------------------- 2\n",
      "                         \\-------------------------+                           \n",
      "                                                   \\------------------------- 4\n",
      "                                                                               \n",
      "                                                                               \n",
      "                         /--------------------------------------------------- 5\n",
      "/------------------------+                                                     \n",
      "|                        |                         /------------------------- 3\n",
      "|                        \\-------------------------+                           \n",
      "+                                                  \\------------------------- 4\n",
      "|                                                                              \n",
      "|                                                  /------------------------- 1\n",
      "\\--------------------------------------------------+                           \n",
      "                                                   \\------------------------- 2\n",
      "                                                                               \n",
      "                                                                               \n",
      "                                                   /------------------------- 4\n",
      "/--------------------------------------------------+                           \n",
      "|                                                  \\------------------------- 5\n",
      "+                                                                              \n",
      "|                        /--------------------------------------------------- 1\n",
      "\\------------------------+                                                     \n",
      "                         |                         /------------------------- 2\n",
      "                         \\-------------------------+                           \n",
      "                                                   \\------------------------- 3\n",
      "                                                                               \n",
      "                                                                               \n",
      "/---------------------------------------------------------------------------- 5\n",
      "|                                                                              \n",
      "+                                                  /------------------------- 3\n",
      "|                        /-------------------------+                           \n",
      "|                        |                         \\------------------------- 4\n",
      "\\------------------------+                                                     \n",
      "                         |                         /------------------------- 1\n",
      "                         \\-------------------------+                           \n",
      "                                                   \\------------------------- 2\n",
      "                                                                               \n",
      "                                                                               \n",
      "/---------------------------------------------------------------------------- 5\n",
      "+                                                                              \n",
      "|                  /--------------------------------------------------------- 4\n",
      "\\------------------+                                                           \n",
      "                   |                  /-------------------------------------- 2\n",
      "                   \\------------------+                                        \n",
      "                                      |                  /------------------- 1\n",
      "                                      \\------------------+                     \n",
      "                                                         \\------------------- 3\n",
      "                                                                               \n",
      "                                                                               \n",
      "                                                   /------------------------- 1\n",
      "/--------------------------------------------------+                           \n",
      "|                                                  \\------------------------- 2\n",
      "+                                                                              \n",
      "|                        /--------------------------------------------------- 4\n",
      "\\------------------------+                                                     \n",
      "                         |                         /------------------------- 3\n",
      "                         \\-------------------------+                           \n",
      "                                                   \\------------------------- 5\n",
      "                                                                               \n",
      "                                                                               \n"
     ]
    },
    {
     "data": {
      "text/plain": [
       "[None, None, None, None, None, None, None, None, None, None]"
      ]
     },
     "execution_count": 145,
     "metadata": {},
     "output_type": "execute_result"
    }
   ],
   "source": [
    "[trees[i].print_plot() for i in range(len(trees))]"
   ]
  },
  {
   "cell_type": "code",
   "execution_count": 132,
   "metadata": {
    "collapsed": true
   },
   "outputs": [],
   "source": [
    "testtxt = trees.as_string(schema = \"newick\", suppress_internal_node_labels = False)"
   ]
  },
  {
   "cell_type": "code",
   "execution_count": 157,
   "metadata": {},
   "outputs": [
    {
     "ename": "AttributeError",
     "evalue": "'TreeList' object has no attribute 'startswith'",
     "output_type": "error",
     "traceback": [
      "\u001b[0;31m---------------------------------------------------------------------------\u001b[0m",
      "\u001b[0;31mAttributeError\u001b[0m                            Traceback (most recent call last)",
      "\u001b[0;32m<ipython-input-157-81b5dd1e0eaa>\u001b[0m in \u001b[0;36m<module>\u001b[0;34m()\u001b[0m\n\u001b[0;32m----> 1\u001b[0;31m \u001b[0mtoytree\u001b[0m\u001b[0;34m.\u001b[0m\u001b[0mmultitree\u001b[0m\u001b[0;34m(\u001b[0m\u001b[0mnewick\u001b[0m\u001b[0;34m=\u001b[0m\u001b[0mtrees\u001b[0m\u001b[0;34m)\u001b[0m\u001b[0;34m\u001b[0m\u001b[0m\n\u001b[0m",
      "\u001b[0;32m/Users/pmckenz1/miniconda2/lib/python2.7/site-packages/toytree-0.1.4-py2.7.egg/toytree/multitree.pyc\u001b[0m in \u001b[0;36m__init__\u001b[0;34m(self, newick, format, treeslice, skip, fixed_order, orient, use_edge_lengths)\u001b[0m\n\u001b[1;32m     45\u001b[0m \u001b[0;34m\u001b[0m\u001b[0m\n\u001b[1;32m     46\u001b[0m         \u001b[0;31m## setting attributes\u001b[0m\u001b[0;34m\u001b[0m\u001b[0;34m\u001b[0m\u001b[0m\n\u001b[0;32m---> 47\u001b[0;31m         \u001b[0mself\u001b[0m\u001b[0;34m.\u001b[0m\u001b[0mnewick\u001b[0m \u001b[0;34m=\u001b[0m \u001b[0mos\u001b[0m\u001b[0;34m.\u001b[0m\u001b[0mpath\u001b[0m\u001b[0;34m.\u001b[0m\u001b[0mabspath\u001b[0m\u001b[0;34m(\u001b[0m\u001b[0mos\u001b[0m\u001b[0;34m.\u001b[0m\u001b[0mpath\u001b[0m\u001b[0;34m.\u001b[0m\u001b[0mexpanduser\u001b[0m\u001b[0;34m(\u001b[0m\u001b[0mnewick\u001b[0m\u001b[0;34m)\u001b[0m\u001b[0;34m)\u001b[0m\u001b[0;34m\u001b[0m\u001b[0m\n\u001b[0m\u001b[1;32m     48\u001b[0m         \u001b[0mself\u001b[0m\u001b[0;34m.\u001b[0m\u001b[0mcolors\u001b[0m \u001b[0;34m=\u001b[0m \u001b[0mCOLORS\u001b[0m\u001b[0;34m\u001b[0m\u001b[0m\n\u001b[1;32m     49\u001b[0m         \u001b[0mself\u001b[0m\u001b[0;34m.\u001b[0m\u001b[0m_tformat\u001b[0m \u001b[0;34m=\u001b[0m \u001b[0mformat\u001b[0m\u001b[0;34m\u001b[0m\u001b[0m\n",
      "\u001b[0;32m/Users/pmckenz1/miniconda2/lib/python2.7/posixpath.pyc\u001b[0m in \u001b[0;36mexpanduser\u001b[0;34m(path)\u001b[0m\n\u001b[1;32m    252\u001b[0m     \"\"\"Expand ~ and ~user constructions.  If user or $HOME is unknown,\n\u001b[1;32m    253\u001b[0m     do nothing.\"\"\"\n\u001b[0;32m--> 254\u001b[0;31m     \u001b[0;32mif\u001b[0m \u001b[0;32mnot\u001b[0m \u001b[0mpath\u001b[0m\u001b[0;34m.\u001b[0m\u001b[0mstartswith\u001b[0m\u001b[0;34m(\u001b[0m\u001b[0;34m'~'\u001b[0m\u001b[0;34m)\u001b[0m\u001b[0;34m:\u001b[0m\u001b[0;34m\u001b[0m\u001b[0m\n\u001b[0m\u001b[1;32m    255\u001b[0m         \u001b[0;32mreturn\u001b[0m \u001b[0mpath\u001b[0m\u001b[0;34m\u001b[0m\u001b[0m\n\u001b[1;32m    256\u001b[0m     \u001b[0mi\u001b[0m \u001b[0;34m=\u001b[0m \u001b[0mpath\u001b[0m\u001b[0;34m.\u001b[0m\u001b[0mfind\u001b[0m\u001b[0;34m(\u001b[0m\u001b[0;34m'/'\u001b[0m\u001b[0;34m,\u001b[0m \u001b[0;36m1\u001b[0m\u001b[0;34m)\u001b[0m\u001b[0;34m\u001b[0m\u001b[0m\n",
      "\u001b[0;31mAttributeError\u001b[0m: 'TreeList' object has no attribute 'startswith'"
     ]
    }
   ],
   "source": [
    "toytree.multitree(=trees)"
   ]
  },
  {
   "cell_type": "code",
   "execution_count": 125,
   "metadata": {},
   "outputs": [
    {
     "ename": "AttributeError",
     "evalue": "'Toytree' object has no attribute 'draw_cloudtree'",
     "output_type": "error",
     "traceback": [
      "\u001b[0;31m---------------------------------------------------------------------------\u001b[0m",
      "\u001b[0;31mAttributeError\u001b[0m                            Traceback (most recent call last)",
      "\u001b[0;32m<ipython-input-125-4283a85db527>\u001b[0m in \u001b[0;36m<module>\u001b[0;34m()\u001b[0m\n\u001b[0;32m----> 1\u001b[0;31m test.draw_cloudtree(\n\u001b[0m\u001b[1;32m      2\u001b[0m     \u001b[0mwidth\u001b[0m\u001b[0;34m=\u001b[0m\u001b[0;36m200\u001b[0m\u001b[0;34m,\u001b[0m\u001b[0;34m\u001b[0m\u001b[0m\n\u001b[1;32m      3\u001b[0m     \u001b[0morient\u001b[0m\u001b[0;34m=\u001b[0m\u001b[0;34m'right'\u001b[0m\u001b[0;34m,\u001b[0m\u001b[0;34m\u001b[0m\u001b[0m\n\u001b[1;32m      4\u001b[0m     \u001b[0muse_edge_lengths\u001b[0m\u001b[0;34m=\u001b[0m\u001b[0mTrue\u001b[0m\u001b[0;34m,\u001b[0m\u001b[0;34m\u001b[0m\u001b[0m\n\u001b[1;32m      5\u001b[0m     \u001b[0medge_style\u001b[0m\u001b[0;34m=\u001b[0m\u001b[0;34m{\u001b[0m\u001b[0;34m\"opacity\"\u001b[0m\u001b[0;34m:\u001b[0m \u001b[0;36m0.3\u001b[0m\u001b[0;34m}\u001b[0m\u001b[0;34m\u001b[0m\u001b[0m\n",
      "\u001b[0;31mAttributeError\u001b[0m: 'Toytree' object has no attribute 'draw_cloudtree'"
     ]
    }
   ],
   "source": [
    "test.draw_cloudtree(\n",
    "    width=200,\n",
    "    orient='right',\n",
    "    use_edge_lengths=True,\n",
    "    edge_style={\"opacity\": 0.3}\n",
    "    );"
   ]
  },
  {
   "cell_type": "code",
   "execution_count": 20,
   "metadata": {
    "collapsed": true
   },
   "outputs": [],
   "source": [
    "import msprime\n",
    "import math"
   ]
  },
  {
   "cell_type": "code",
   "execution_count": 21,
   "metadata": {
    "collapsed": true
   },
   "outputs": [],
   "source": [
    "def out_of_africa():\n",
    "    # First we set out the maximum likelihood values of the various parameters\n",
    "    # given in Table 1.\n",
    "    N_A = 7300\n",
    "    N_B = 2100\n",
    "    N_AF = 12300\n",
    "    N_EU0 = 1000\n",
    "    N_AS0 = 510\n",
    "    # Times are provided in years, so we convert into generations.\n",
    "    generation_time = 25\n",
    "    T_AF = 220e3 / generation_time\n",
    "    T_B = 140e3 / generation_time\n",
    "    T_EU_AS = 21.2e3 / generation_time\n",
    "    # We need to work out the starting (diploid) population sizes based on\n",
    "    # the growth rates provided for these two populations\n",
    "    r_EU = 0.004\n",
    "    r_AS = 0.0055\n",
    "    N_EU = N_EU0 / math.exp(-r_EU * T_EU_AS)\n",
    "    N_AS = N_AS0 / math.exp(-r_AS * T_EU_AS)\n",
    "    # Migration rates during the various epochs.\n",
    "    m_AF_B = 25e-5\n",
    "    m_AF_EU = 3e-5\n",
    "    m_AF_AS = 1.9e-5\n",
    "    m_EU_AS = 9.6e-5\n",
    "    # Population IDs correspond to their indexes in the population\n",
    "    # configuration array. Therefore, we have 0=YRI, 1=CEU and 2=CHB\n",
    "    # initially.\n",
    "    population_configurations = [\n",
    "        msprime.PopulationConfiguration(\n",
    "            sample_size=0, initial_size=N_AF),\n",
    "        msprime.PopulationConfiguration(\n",
    "            sample_size=1, initial_size=N_EU, growth_rate=r_EU),\n",
    "        msprime.PopulationConfiguration(\n",
    "            sample_size=1, initial_size=N_AS, growth_rate=r_AS)\n",
    "    ]\n",
    "    migration_matrix = [\n",
    "        [      0, m_AF_EU, m_AF_AS],\n",
    "        [m_AF_EU,       0, m_EU_AS],\n",
    "        [m_AF_AS, m_EU_AS,       0],\n",
    "    ]\n",
    "    demographic_events = [\n",
    "        # CEU and CHB merge into B with rate changes at T_EU_AS\n",
    "        msprime.MassMigration(\n",
    "            time=T_EU_AS, source=2, destination=1, proportion=1.0),\n",
    "        msprime.MigrationRateChange(time=T_EU_AS, rate=0),\n",
    "        msprime.MigrationRateChange(\n",
    "            time=T_EU_AS, rate=m_AF_B, matrix_index=(0, 1)),\n",
    "        msprime.MigrationRateChange(\n",
    "            time=T_EU_AS, rate=m_AF_B, matrix_index=(1, 0)),\n",
    "        msprime.PopulationParametersChange(\n",
    "            time=T_EU_AS, initial_size=N_B, growth_rate=0, population_id=1),\n",
    "        # Population B merges into YRI at T_B\n",
    "        msprime.MassMigration(\n",
    "            time=T_B, source=1, destination=0, proportion=1.0),\n",
    "        # Size changes to N_A at T_AF\n",
    "        msprime.PopulationParametersChange(\n",
    "            time=T_AF, initial_size=N_A, population_id=0)\n",
    "    ]\n",
    "    # Use the demography debugger to print out the demographic history\n",
    "    # that we have just described.\n",
    "    dp = msprime.DemographyDebugger(\n",
    "        Ne=N_A,\n",
    "        population_configurations=population_configurations,\n",
    "        migration_matrix=migration_matrix,\n",
    "        demographic_events=demographic_events)\n",
    "    dp.print_history()"
   ]
  },
  {
   "cell_type": "code",
   "execution_count": 66,
   "metadata": {
    "collapsed": true
   },
   "outputs": [],
   "source": [
    "import msprime\n",
    "import numpy as np\n",
    "\n",
    "# M is the overall symmetric migration rate, and d is the number\n",
    "# of demes.\n",
    "M = 0.2\n",
    "d = 3\n",
    "# We rescale m into per-generation values for msprime.\n",
    "m = M / (4 * (d - 1))\n",
    "# Allocate the initial sample. Because we are interested in the\n",
    "# between deme coalescence times, we choose one sample each\n",
    "# from the first two demes.\n",
    "population_configurations = [\n",
    "    msprime.PopulationConfiguration(sample_size=1),\n",
    "    msprime.PopulationConfiguration(sample_size=1),\n",
    "    msprime.PopulationConfiguration(sample_size=0)]\n",
    "# Now we set up the migration matrix. Since this is a symmetric\n",
    "# island model, we have the same rate of migration between all\n",
    "# pairs of demes. Diagonal elements must be zero.\n",
    "migration_matrix = [\n",
    "    [0, m, m],\n",
    "    [m, 0, m],\n",
    "    [m, m, 0]]\n",
    "# We pass these values to the simulate function, and ask it\n",
    "# to run the required number of replicates.\n",
    "num_replicates = 1e6\n",
    "replicates = msprime.simulate(\n",
    "    population_configurations=population_configurations,\n",
    "    migration_matrix=migration_matrix,\n",
    "    num_replicates=num_replicates)\n"
   ]
  },
  {
   "cell_type": "code",
   "execution_count": 56,
   "metadata": {},
   "outputs": [
    {
     "name": "stdout",
     "output_type": "stream",
     "text": [
      "('Observed  =', 6.4977975820738996)\n",
      "('Predicted =', 6.0)\n"
     ]
    }
   ],
   "source": [
    "# And then iterate over these replicates\n",
    "T = np.zeros(int(num_replicates))\n",
    "for i, tree_sequence in enumerate(replicates):\n",
    "    tree = next(tree_sequence.trees())\n",
    "    # Convert the TMRCA to coalecent units.\n",
    "    T[i] = tree.get_time(tree.get_root()) / 4\n",
    "# Finally, calculate the analytical expectation and print\n",
    "# out the results\n",
    "analytical = d / 2 + (d - 1) / (2 * M)\n",
    "print(\"Observed  =\", np.mean(T))\n",
    "print(\"Predicted =\", analytical)"
   ]
  },
  {
   "cell_type": "code",
   "execution_count": 86,
   "metadata": {},
   "outputs": [
    {
     "data": {
      "text/plain": [
       "45.17541007990667"
      ]
     },
     "execution_count": 86,
     "metadata": {},
     "output_type": "execute_result"
    }
   ],
   "source": [
    "tmptree = replicates.next()\n",
    "tmptree= next(tmptree.trees())\n",
    "tmptree.get_time(tmptree.get_root())"
   ]
  },
  {
   "cell_type": "code",
   "execution_count": 226,
   "metadata": {},
   "outputs": [],
   "source": [
    "tree=msprime.simulate(sample_size=8,\n",
    "                Ne = 1000,\n",
    "                length = 10000,\n",
    "                recombination_rate = .0000001,\n",
    "                num_replicates = 100)\n"
   ]
  },
  {
   "cell_type": "code",
   "execution_count": 235,
   "metadata": {},
   "outputs": [
    {
     "data": {
      "text/plain": [
       "u'<svg baseProfile=\"full\" height=\"200\" version=\"1.1\" width=\"200\" xmlns=\"http://www.w3.org/2000/svg\" xmlns:ev=\"http://www.w3.org/2001/xml-events\" xmlns:xlink=\"http://www.w3.org/1999/xlink\"><defs /><g id=\"lines\" stroke=\"black\"><line x1=\"62.5\" x2=\"62.5\" y1=\"125.283537821\" y2=\"20.0\" /><line x1=\"62.5\" x2=\"98.75\" y1=\"20.0\" y2=\"20.0\" /><line x1=\"35.0\" x2=\"35.0\" y1=\"157.310965643\" y2=\"125.283537821\" /><line x1=\"35.0\" x2=\"62.5\" y1=\"125.283537821\" y2=\"125.283537821\" /><line x1=\"20.0\" x2=\"20.0\" y1=\"180.0\" y2=\"157.310965643\" /><line x1=\"20.0\" x2=\"35.0\" y1=\"157.310965643\" y2=\"157.310965643\" /><line x1=\"50.0\" x2=\"50.0\" y1=\"165.854041976\" y2=\"157.310965643\" /><line x1=\"50.0\" x2=\"35.0\" y1=\"157.310965643\" y2=\"157.310965643\" /><line x1=\"40.0\" x2=\"40.0\" y1=\"180.0\" y2=\"165.854041976\" /><line x1=\"40.0\" x2=\"50.0\" y1=\"165.854041976\" y2=\"165.854041976\" /><line x1=\"60.0\" x2=\"60.0\" y1=\"180.0\" y2=\"165.854041976\" /><line x1=\"60.0\" x2=\"50.0\" y1=\"165.854041976\" y2=\"165.854041976\" /><line x1=\"90.0\" x2=\"90.0\" y1=\"138.197389826\" y2=\"125.283537821\" /><line x1=\"90.0\" x2=\"62.5\" y1=\"125.283537821\" y2=\"125.283537821\" /><line x1=\"80.0\" x2=\"80.0\" y1=\"180.0\" y2=\"138.197389826\" /><line x1=\"80.0\" x2=\"90.0\" y1=\"138.197389826\" y2=\"138.197389826\" /><line x1=\"100.0\" x2=\"100.0\" y1=\"180.0\" y2=\"138.197389826\" /><line x1=\"100.0\" x2=\"90.0\" y1=\"138.197389826\" y2=\"138.197389826\" /><line x1=\"135.0\" x2=\"135.0\" y1=\"103.542974522\" y2=\"20.0\" /><line x1=\"135.0\" x2=\"98.75\" y1=\"20.0\" y2=\"20.0\" /><line x1=\"120.0\" x2=\"120.0\" y1=\"180.0\" y2=\"103.542974522\" /><line x1=\"120.0\" x2=\"135.0\" y1=\"103.542974522\" y2=\"103.542974522\" /><line x1=\"150.0\" x2=\"150.0\" y1=\"169.139864883\" y2=\"103.542974522\" /><line x1=\"150.0\" x2=\"135.0\" y1=\"103.542974522\" y2=\"103.542974522\" /><line x1=\"140.0\" x2=\"140.0\" y1=\"180.0\" y2=\"169.139864883\" /><line x1=\"140.0\" x2=\"150.0\" y1=\"169.139864883\" y2=\"169.139864883\" /><line x1=\"160.0\" x2=\"160.0\" y1=\"180.0\" y2=\"169.139864883\" /><line x1=\"160.0\" x2=\"150.0\" y1=\"169.139864883\" y2=\"169.139864883\" /></g><g font-size=\"14\" text-anchor=\"middle\"><text dx=\"0\" dy=\"-5\" x=\"98.75\" y=\"20.0\">16</text><text dx=\"-10\" dy=\"-5\" x=\"62.5\" y=\"125.283537821\">12</text><text dx=\"-10\" dy=\"-5\" x=\"35.0\" y=\"157.310965643\">10</text><text dx=\"0\" dy=\"20\" x=\"20.0\" y=\"180.0\">2</text><text dx=\"-10\" dy=\"-5\" x=\"50.0\" y=\"165.854041976\">9</text><text dx=\"0\" dy=\"20\" x=\"40.0\" y=\"180.0\">6</text><text dx=\"0\" dy=\"20\" x=\"60.0\" y=\"180.0\">7</text><text dx=\"-10\" dy=\"-5\" x=\"90.0\" y=\"138.197389826\">11</text><text dx=\"0\" dy=\"20\" x=\"80.0\" y=\"180.0\">1</text><text dx=\"0\" dy=\"20\" x=\"100.0\" y=\"180.0\">5</text><text dx=\"-10\" dy=\"-5\" x=\"135.0\" y=\"103.542974522\">14</text><text dx=\"0\" dy=\"20\" x=\"120.0\" y=\"180.0\">4</text><text dx=\"-10\" dy=\"-5\" x=\"150.0\" y=\"169.139864883\">8</text><text dx=\"0\" dy=\"20\" x=\"140.0\" y=\"180.0\">0</text><text dx=\"0\" dy=\"20\" x=\"160.0\" y=\"180.0\">3</text></g><circle cx=\"98.75\" cy=\"20.0\" r=\"3\" /><circle cx=\"62.5\" cy=\"125.283537821\" r=\"3\" /><circle cx=\"35.0\" cy=\"157.310965643\" r=\"3\" /><circle cx=\"20.0\" cy=\"180.0\" r=\"3\" /><circle cx=\"50.0\" cy=\"165.854041976\" r=\"3\" /><circle cx=\"40.0\" cy=\"180.0\" r=\"3\" /><circle cx=\"60.0\" cy=\"180.0\" r=\"3\" /><circle cx=\"90.0\" cy=\"138.197389826\" r=\"3\" /><circle cx=\"80.0\" cy=\"180.0\" r=\"3\" /><circle cx=\"100.0\" cy=\"180.0\" r=\"3\" /><circle cx=\"135.0\" cy=\"103.542974522\" r=\"3\" /><circle cx=\"120.0\" cy=\"180.0\" r=\"3\" /><circle cx=\"150.0\" cy=\"169.139864883\" r=\"3\" /><circle cx=\"140.0\" cy=\"180.0\" r=\"3\" /><circle cx=\"160.0\" cy=\"180.0\" r=\"3\" /></svg>'"
      ]
     },
     "execution_count": 235,
     "metadata": {},
     "output_type": "execute_result"
    }
   ],
   "source": [
    "treeseq=next(tree)\n",
    "replicant_tree =treeseq.trees()\n",
    "replicant_tree = next(replicant_tree)\n",
    "replicant_tree.draw(\"testdraw.svg\")"
   ]
  },
  {
   "cell_type": "code",
   "execution_count": 236,
   "metadata": {},
   "outputs": [
    {
     "data": {
      "text/plain": [
       "[0,\n",
       " 2495.661820866089,\n",
       " 3321.0120101741077,\n",
       " 6277.639431943567,\n",
       " 6390.290515588198,\n",
       " 6788.425172397035,\n",
       " 7250.833571248416,\n",
       " 10000.0]"
      ]
     },
     "execution_count": 236,
     "metadata": {},
     "output_type": "execute_result"
    }
   ],
   "source": [
    "list(treeseq.breakpoints())"
   ]
  },
  {
   "cell_type": "code",
   "execution_count": 199,
   "metadata": {},
   "outputs": [
    {
     "ename": "TypeError",
     "evalue": "TreeSequence object is not an iterator",
     "output_type": "error",
     "traceback": [
      "\u001b[0;31m---------------------------------------------------------------------------\u001b[0m",
      "\u001b[0;31mTypeError\u001b[0m                                 Traceback (most recent call last)",
      "\u001b[0;32m<ipython-input-199-bd7ef8880e38>\u001b[0m in \u001b[0;36m<module>\u001b[0;34m()\u001b[0m\n\u001b[0;32m----> 1\u001b[0;31m \u001b[0mtree\u001b[0m\u001b[0;34m=\u001b[0m\u001b[0mnext\u001b[0m\u001b[0;34m(\u001b[0m\u001b[0mtree\u001b[0m\u001b[0;34m)\u001b[0m\u001b[0;34m\u001b[0m\u001b[0m\n\u001b[0m",
      "\u001b[0;31mTypeError\u001b[0m: TreeSequence object is not an iterator"
     ]
    }
   ],
   "source": [
    "treeseq=next(tree)"
   ]
  },
  {
   "cell_type": "code",
   "execution_count": 196,
   "metadata": {},
   "outputs": [],
   "source": [
    "replicant_tree =treeseq.trees()"
   ]
  },
  {
   "cell_type": "code",
   "execution_count": 197,
   "metadata": {},
   "outputs": [],
   "source": [
    "replicant_tree = next(replicant_tree)"
   ]
  },
  {
   "cell_type": "code",
   "execution_count": 198,
   "metadata": {},
   "outputs": [
    {
     "data": {
      "text/plain": [
       "u'<svg baseProfile=\"full\" height=\"200\" version=\"1.1\" width=\"200\" xmlns=\"http://www.w3.org/2000/svg\" xmlns:ev=\"http://www.w3.org/2001/xml-events\" xmlns:xlink=\"http://www.w3.org/1999/xlink\"><defs /><g id=\"lines\" stroke=\"black\"><line x1=\"35.0\" x2=\"35.0\" y1=\"154.711846988\" y2=\"20.0\" /><line x1=\"35.0\" x2=\"66.875\" y1=\"20.0\" y2=\"20.0\" /><line x1=\"20.0\" x2=\"20.0\" y1=\"180.0\" y2=\"154.711846988\" /><line x1=\"20.0\" x2=\"35.0\" y1=\"154.711846988\" y2=\"154.711846988\" /><line x1=\"50.0\" x2=\"50.0\" y1=\"176.044043536\" y2=\"154.711846988\" /><line x1=\"50.0\" x2=\"35.0\" y1=\"154.711846988\" y2=\"154.711846988\" /><line x1=\"40.0\" x2=\"40.0\" y1=\"180.0\" y2=\"176.044043536\" /><line x1=\"40.0\" x2=\"50.0\" y1=\"176.044043536\" y2=\"176.044043536\" /><line x1=\"60.0\" x2=\"60.0\" y1=\"180.0\" y2=\"176.044043536\" /><line x1=\"60.0\" x2=\"50.0\" y1=\"176.044043536\" y2=\"176.044043536\" /><line x1=\"98.75\" x2=\"98.75\" y1=\"117.184638762\" y2=\"20.0\" /><line x1=\"98.75\" x2=\"66.875\" y1=\"20.0\" y2=\"20.0\" /><line x1=\"80.0\" x2=\"80.0\" y1=\"180.0\" y2=\"117.184638762\" /><line x1=\"80.0\" x2=\"98.75\" y1=\"117.184638762\" y2=\"117.184638762\" /><line x1=\"117.5\" x2=\"117.5\" y1=\"155.085275048\" y2=\"117.184638762\" /><line x1=\"117.5\" x2=\"98.75\" y1=\"117.184638762\" y2=\"117.184638762\" /><line x1=\"100.0\" x2=\"100.0\" y1=\"180.0\" y2=\"155.085275048\" /><line x1=\"100.0\" x2=\"117.5\" y1=\"155.085275048\" y2=\"155.085275048\" /><line x1=\"135.0\" x2=\"135.0\" y1=\"167.207187867\" y2=\"155.085275048\" /><line x1=\"135.0\" x2=\"117.5\" y1=\"155.085275048\" y2=\"155.085275048\" /><line x1=\"120.0\" x2=\"120.0\" y1=\"180.0\" y2=\"167.207187867\" /><line x1=\"120.0\" x2=\"135.0\" y1=\"167.207187867\" y2=\"167.207187867\" /><line x1=\"150.0\" x2=\"150.0\" y1=\"177.297655776\" y2=\"167.207187867\" /><line x1=\"150.0\" x2=\"135.0\" y1=\"167.207187867\" y2=\"167.207187867\" /><line x1=\"140.0\" x2=\"140.0\" y1=\"180.0\" y2=\"177.297655776\" /><line x1=\"140.0\" x2=\"150.0\" y1=\"177.297655776\" y2=\"177.297655776\" /><line x1=\"160.0\" x2=\"160.0\" y1=\"180.0\" y2=\"177.297655776\" /><line x1=\"160.0\" x2=\"150.0\" y1=\"177.297655776\" y2=\"177.297655776\" /></g><g font-size=\"14\" text-anchor=\"middle\"><text dx=\"0\" dy=\"-5\" x=\"66.875\" y=\"20.0\">14</text><text dx=\"-10\" dy=\"-5\" x=\"35.0\" y=\"154.711846988\">12</text><text dx=\"0\" dy=\"20\" x=\"20.0\" y=\"180.0\">0</text><text dx=\"-10\" dy=\"-5\" x=\"50.0\" y=\"176.044043536\">9</text><text dx=\"0\" dy=\"20\" x=\"40.0\" y=\"180.0\">3</text><text dx=\"0\" dy=\"20\" x=\"60.0\" y=\"180.0\">7</text><text dx=\"-10\" dy=\"-5\" x=\"98.75\" y=\"117.184638762\">13</text><text dx=\"0\" dy=\"20\" x=\"80.0\" y=\"180.0\">1</text><text dx=\"-10\" dy=\"-5\" x=\"117.5\" y=\"155.085275048\">11</text><text dx=\"0\" dy=\"20\" x=\"100.0\" y=\"180.0\">2</text><text dx=\"-10\" dy=\"-5\" x=\"135.0\" y=\"167.207187867\">10</text><text dx=\"0\" dy=\"20\" x=\"120.0\" y=\"180.0\">6</text><text dx=\"-10\" dy=\"-5\" x=\"150.0\" y=\"177.297655776\">8</text><text dx=\"0\" dy=\"20\" x=\"140.0\" y=\"180.0\">4</text><text dx=\"0\" dy=\"20\" x=\"160.0\" y=\"180.0\">5</text></g><circle cx=\"66.875\" cy=\"20.0\" r=\"3\" /><circle cx=\"35.0\" cy=\"154.711846988\" r=\"3\" /><circle cx=\"20.0\" cy=\"180.0\" r=\"3\" /><circle cx=\"50.0\" cy=\"176.044043536\" r=\"3\" /><circle cx=\"40.0\" cy=\"180.0\" r=\"3\" /><circle cx=\"60.0\" cy=\"180.0\" r=\"3\" /><circle cx=\"98.75\" cy=\"117.184638762\" r=\"3\" /><circle cx=\"80.0\" cy=\"180.0\" r=\"3\" /><circle cx=\"117.5\" cy=\"155.085275048\" r=\"3\" /><circle cx=\"100.0\" cy=\"180.0\" r=\"3\" /><circle cx=\"135.0\" cy=\"167.207187867\" r=\"3\" /><circle cx=\"120.0\" cy=\"180.0\" r=\"3\" /><circle cx=\"150.0\" cy=\"177.297655776\" r=\"3\" /><circle cx=\"140.0\" cy=\"180.0\" r=\"3\" /><circle cx=\"160.0\" cy=\"180.0\" r=\"3\" /></svg>'"
      ]
     },
     "execution_count": 198,
     "metadata": {},
     "output_type": "execute_result"
    }
   ],
   "source": [
    "replicant_tree.draw(\"testdraw.svg\")"
   ]
  },
  {
   "cell_type": "code",
   "execution_count": 118,
   "metadata": {
    "collapsed": true
   },
   "outputs": [],
   "source": [
    "import matplotlib"
   ]
  },
  {
   "cell_type": "code",
   "execution_count": 120,
   "metadata": {},
   "outputs": [
    {
     "data": {
      "text/plain": [
       "u'<svg baseProfile=\"full\" height=\"200\" version=\"1.1\" width=\"200\" xmlns=\"http://www.w3.org/2000/svg\" xmlns:ev=\"http://www.w3.org/2001/xml-events\" xmlns:xlink=\"http://www.w3.org/1999/xlink\"><defs /><g id=\"lines\" stroke=\"black\"><line x1=\"40.0\" x2=\"40.0\" y1=\"180.0\" y2=\"20.0\" /><line x1=\"40.0\" x2=\"70.0\" y1=\"20.0\" y2=\"20.0\" /><line x1=\"100.0\" x2=\"100.0\" y1=\"167.751163507\" y2=\"20.0\" /><line x1=\"100.0\" x2=\"70.0\" y1=\"20.0\" y2=\"20.0\" /><line x1=\"80.0\" x2=\"80.0\" y1=\"180.0\" y2=\"167.751163507\" /><line x1=\"80.0\" x2=\"100.0\" y1=\"167.751163507\" y2=\"167.751163507\" /><line x1=\"120.0\" x2=\"120.0\" y1=\"180.0\" y2=\"167.751163507\" /><line x1=\"120.0\" x2=\"100.0\" y1=\"167.751163507\" y2=\"167.751163507\" /></g><g font-size=\"14\" text-anchor=\"middle\"><text dx=\"0\" dy=\"-5\" x=\"70.0\" y=\"20.0\">4</text><text dx=\"0\" dy=\"20\" x=\"40.0\" y=\"180.0\">0</text><text dx=\"-10\" dy=\"-5\" x=\"100.0\" y=\"167.751163507\">3</text><text dx=\"0\" dy=\"20\" x=\"80.0\" y=\"180.0\">1</text><text dx=\"0\" dy=\"20\" x=\"120.0\" y=\"180.0\">2</text></g><circle cx=\"70.0\" cy=\"20.0\" r=\"3\" /><circle cx=\"40.0\" cy=\"180.0\" r=\"3\" /><circle cx=\"100.0\" cy=\"167.751163507\" r=\"3\" /><circle cx=\"80.0\" cy=\"180.0\" r=\"3\" /><circle cx=\"120.0\" cy=\"180.0\" r=\"3\" /></svg>'"
      ]
     },
     "execution_count": 120,
     "metadata": {},
     "output_type": "execute_result"
    }
   ],
   "source": [
    "drawn"
   ]
  },
  {
   "cell_type": "code",
   "execution_count": 26,
   "metadata": {},
   "outputs": [
    {
     "ename": "TypeError",
     "evalue": "'float' object cannot be interpreted as an index",
     "output_type": "error",
     "traceback": [
      "\u001b[0;31m---------------------------------------------------------------------------\u001b[0m",
      "\u001b[0;31mTypeError\u001b[0m                                 Traceback (most recent call last)",
      "\u001b[0;32m<ipython-input-26-2294ac7a334c>\u001b[0m in \u001b[0;36m<module>\u001b[0;34m()\u001b[0m\n\u001b[0;32m----> 1\u001b[0;31m \u001b[0mmigration_example\u001b[0m\u001b[0;34m(\u001b[0m\u001b[0;34m)\u001b[0m\u001b[0;34m\u001b[0m\u001b[0m\n\u001b[0m",
      "\u001b[0;32m<ipython-input-25-f9386b65cf65>\u001b[0m in \u001b[0;36mmigration_example\u001b[0;34m()\u001b[0m\n\u001b[1;32m     31\u001b[0m         num_replicates=num_replicates)\n\u001b[1;32m     32\u001b[0m     \u001b[0;31m# And then iterate over these replicates\u001b[0m\u001b[0;34m\u001b[0m\u001b[0;34m\u001b[0m\u001b[0m\n\u001b[0;32m---> 33\u001b[0;31m     \u001b[0mT\u001b[0m \u001b[0;34m=\u001b[0m \u001b[0mnp\u001b[0m\u001b[0;34m.\u001b[0m\u001b[0mzeros\u001b[0m\u001b[0;34m(\u001b[0m\u001b[0mnum_replicates\u001b[0m\u001b[0;34m)\u001b[0m\u001b[0;34m\u001b[0m\u001b[0m\n\u001b[0m\u001b[1;32m     34\u001b[0m     \u001b[0;32mfor\u001b[0m \u001b[0mi\u001b[0m\u001b[0;34m,\u001b[0m \u001b[0mtree_sequence\u001b[0m \u001b[0;32min\u001b[0m \u001b[0menumerate\u001b[0m\u001b[0;34m(\u001b[0m\u001b[0mreplicates\u001b[0m\u001b[0;34m)\u001b[0m\u001b[0;34m:\u001b[0m\u001b[0;34m\u001b[0m\u001b[0m\n\u001b[1;32m     35\u001b[0m         \u001b[0mtree\u001b[0m \u001b[0;34m=\u001b[0m \u001b[0mnext\u001b[0m\u001b[0;34m(\u001b[0m\u001b[0mtree_sequence\u001b[0m\u001b[0;34m.\u001b[0m\u001b[0mtrees\u001b[0m\u001b[0;34m(\u001b[0m\u001b[0;34m)\u001b[0m\u001b[0;34m)\u001b[0m\u001b[0;34m\u001b[0m\u001b[0m\n",
      "\u001b[0;31mTypeError\u001b[0m: 'float' object cannot be interpreted as an index"
     ]
    }
   ],
   "source": [
    "migration_example()"
   ]
  },
  {
   "cell_type": "code",
   "execution_count": 22,
   "metadata": {},
   "outputs": [
    {
     "name": "stdout",
     "output_type": "stream",
     "text": [
      "\n",
      "=============================\n",
      "Epoch: 0 -- 848.0 generations\n",
      "=============================\n",
      "     start     end      growth_rate |     0        1        2    \n",
      "   -------- --------       -------- | -------- -------- -------- \n",
      "0 |1.23e+04 1.23e+04              0 |     0      3e-05   1.9e-05 \n",
      "1 |2.97e+04   1e+03           0.004 |   3e-05      0     9.6e-05 \n",
      "2 |5.41e+04    510           0.0055 |  1.9e-05  9.6e-05     0    \n",
      "\n",
      "Events @ generation 848.0\n",
      "   - Mass migration: lineages move from 2 to 1 with probability 1.0\n",
      "   - Migration rate change to 0 everywhere\n",
      "   - Migration rate change for (0, 1) to 0.00025\n",
      "   - Migration rate change for (1, 0) to 0.00025\n",
      "   - Population parameter change for 1: initial_size -> 2100 growth_rate -> 0 \n",
      "\n",
      "==================================\n",
      "Epoch: 848.0 -- 5600.0 generations\n",
      "==================================\n",
      "     start     end      growth_rate |     0        1        2    \n",
      "   -------- --------       -------- | -------- -------- -------- \n",
      "0 |1.23e+04 1.23e+04              0 |     0     0.00025     0    \n",
      "1 | 2.1e+03  2.1e+03              0 |  0.00025     0        0    \n",
      "2 |5.41e+04 2.41e-07         0.0055 |     0        0        0    \n",
      "\n",
      "Events @ generation 5600.0\n",
      "   - Mass migration: lineages move from 1 to 0 with probability 1.0\n",
      "\n",
      "===================================\n",
      "Epoch: 5600.0 -- 8800.0 generations\n",
      "===================================\n",
      "     start     end      growth_rate |     0        1        2    \n",
      "   -------- --------       -------- | -------- -------- -------- \n",
      "0 |1.23e+04 1.23e+04              0 |     0     0.00025     0    \n",
      "1 | 2.1e+03  2.1e+03              0 |  0.00025     0        0    \n",
      "2 |5.41e+04  0.00123         0.0055 |     0        0        0    \n",
      "\n",
      "Events @ generation 8800.0\n",
      "   - Population parameter change for 0: initial_size -> 7300 \n",
      "\n",
      "================================\n",
      "Epoch: 8800.0 -- inf generations\n",
      "================================\n",
      "     start     end      growth_rate |     0        1        2    \n",
      "   -------- --------       -------- | -------- -------- -------- \n",
      "0 | 7.3e+03  7.3e+03              0 |     0     0.00025     0    \n",
      "1 | 2.1e+03  2.1e+03              0 |  0.00025     0        0    \n",
      "2 |5.41e+04     0            0.0055 |     0        0        0    \n",
      "\n"
     ]
    }
   ],
   "source": [
    "out_of_africa()"
   ]
  }
 ],
 "metadata": {
  "kernelspec": {
   "display_name": "Python 2",
   "language": "python",
   "name": "python2"
  },
  "language_info": {
   "codemirror_mode": {
    "name": "ipython",
    "version": 2
   },
   "file_extension": ".py",
   "mimetype": "text/x-python",
   "name": "python",
   "nbconvert_exporter": "python",
   "pygments_lexer": "ipython2",
   "version": "2.7.13"
  }
 },
 "nbformat": 4,
 "nbformat_minor": 2
}
